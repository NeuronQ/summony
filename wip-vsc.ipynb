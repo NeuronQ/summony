{
 "cells": [
  {
   "cell_type": "markdown",
   "metadata": {},
   "source": [
    "# imports, config etc."
   ]
  },
  {
   "cell_type": "code",
   "execution_count": 11,
   "metadata": {},
   "outputs": [],
   "source": [
    "# !pip install jupyter_bokeh\n",
    "# !pip freeze | grep -i jupyter_bokeh= >> requirements.txt\n",
    "# !cat requirements.txt"
   ]
  },
  {
   "cell_type": "code",
   "execution_count": 2,
   "metadata": {},
   "outputs": [
    {
     "data": {
      "text/plain": [
       "True"
      ]
     },
     "execution_count": 2,
     "metadata": {},
     "output_type": "execute_result"
    }
   ],
   "source": [
    "import asyncio\n",
    "import os\n",
    "import uuid\n",
    "import time\n",
    "from pprint import pp\n",
    "from typing import Any, AsyncIterator, Callable, Coroutine, Literal, Self\n",
    "\n",
    "from IPython.display import Markdown, HTML, display\n",
    "import ipywidgets as widgets\n",
    "\n",
    "%load_ext autoreload\n",
    "%autoreload 2\n",
    "\n",
    "from dotenv import load_dotenv\n",
    "\n",
    "\n",
    "load_dotenv()"
   ]
  },
  {
   "cell_type": "markdown",
   "metadata": {},
   "source": [
    "# WIP"
   ]
  },
  {
   "cell_type": "code",
   "execution_count": 3,
   "metadata": {},
   "outputs": [
    {
     "data": {
      "application/vnd.jupyter.widget-view+json": {
       "model_id": "7d079be6c6464445be43600b6bd98101",
       "version_major": 2,
       "version_minor": 0
      },
      "text/plain": [
       "HTML(value=\"Entropy is a fundamental concept in physics and information theory, with slightly different but re…"
      ]
     },
     "metadata": {},
     "output_type": "display_data"
    },
    {
     "data": {
      "application/vnd.jupyter.widget-view+json": {
       "model_id": "a760b957125c4e2e8b67257aea368287",
       "version_major": 2,
       "version_minor": 0
      },
      "text/plain": [
       "HTML(value='1. Thermodynamic Entropy:')"
      ]
     },
     "metadata": {},
     "output_type": "display_data"
    },
    {
     "data": {
      "application/vnd.jupyter.widget-view+json": {
       "model_id": "cb72e43b6d9347e0af85a3c0547fde99",
       "version_major": 2,
       "version_minor": 0
      },
      "text/plain": [
       "HTML(value=\"In physics, entropy is a measure of the disorder or randomness in a system. It's defined as:\")"
      ]
     },
     "metadata": {},
     "output_type": "display_data"
    },
    {
     "data": {
      "application/vnd.jupyter.widget-view+json": {
       "model_id": "8e89e58c41b84c9182d04cae3780ceb2",
       "version_major": 2,
       "version_minor": 0
      },
      "text/plain": [
       "HTMLMath(value='$S = k_B \\\\ln W$')"
      ]
     },
     "metadata": {},
     "output_type": "display_data"
    },
    {
     "data": {
      "application/vnd.jupyter.widget-view+json": {
       "model_id": "48f8d506f566417383e37a0b23aae6d4",
       "version_major": 2,
       "version_minor": 0
      },
      "text/plain": [
       "HTML(value='Where:')"
      ]
     },
     "metadata": {},
     "output_type": "display_data"
    },
    {
     "data": {
      "application/vnd.jupyter.widget-view+json": {
       "model_id": "0861feff952449dab2202a6db987fc85",
       "version_major": 2,
       "version_minor": 0
      },
      "text/plain": [
       "HTML(value='- S is entropy')"
      ]
     },
     "metadata": {},
     "output_type": "display_data"
    },
    {
     "data": {
      "application/vnd.jupyter.widget-view+json": {
       "model_id": "13c603e372924056b788f21eb6b4870c",
       "version_major": 2,
       "version_minor": 0
      },
      "text/plain": [
       "HTMLMath(value=\"- $k_B$ is Boltzmann's constant\")"
      ]
     },
     "metadata": {},
     "output_type": "display_data"
    },
    {
     "data": {
      "application/vnd.jupyter.widget-view+json": {
       "model_id": "f7b1073981904f27bb0066d1c7d7dcb4",
       "version_major": 2,
       "version_minor": 0
      },
      "text/plain": [
       "HTML(value='- W is the number of microstates (possible arrangements of particles)')"
      ]
     },
     "metadata": {},
     "output_type": "display_data"
    },
    {
     "data": {
      "application/vnd.jupyter.widget-view+json": {
       "model_id": "f2277865a39245c886c285b4b83e8299",
       "version_major": 2,
       "version_minor": 0
      },
      "text/plain": [
       "HTML(value='Key points:')"
      ]
     },
     "metadata": {},
     "output_type": "display_data"
    },
    {
     "data": {
      "application/vnd.jupyter.widget-view+json": {
       "model_id": "4d206bc484a74786938a2e715992efe1",
       "version_major": 2,
       "version_minor": 0
      },
      "text/plain": [
       "HTML(value='- Entropy always increases in closed systems (2nd law of thermodynamics)')"
      ]
     },
     "metadata": {},
     "output_type": "display_data"
    },
    {
     "data": {
      "application/vnd.jupyter.widget-view+json": {
       "model_id": "761e3da0fca34bc7a7e6196bab5a23ce",
       "version_major": 2,
       "version_minor": 0
      },
      "text/plain": [
       "HTML(value=\"- It's related to the arrow of time and irreversibility\")"
      ]
     },
     "metadata": {},
     "output_type": "display_data"
    },
    {
     "data": {
      "application/vnd.jupyter.widget-view+json": {
       "model_id": "6e7dad7c7c564eb5a76d0ae4ef964787",
       "version_major": 2,
       "version_minor": 0
      },
      "text/plain": [
       "HTML(value='- Higher entropy = more disorder = less available energy to do work')"
      ]
     },
     "metadata": {},
     "output_type": "display_data"
    },
    {
     "data": {
      "application/vnd.jupyter.widget-view+json": {
       "model_id": "a62ba4a75729445ab7f31fbbda001d0f",
       "version_major": 2,
       "version_minor": 0
      },
      "text/plain": [
       "HTML(value='2. Information Entropy:')"
      ]
     },
     "metadata": {},
     "output_type": "display_data"
    },
    {
     "data": {
      "application/vnd.jupyter.widget-view+json": {
       "model_id": "cdc879ff0a734543981e054ca97a0429",
       "version_major": 2,
       "version_minor": 0
      },
      "text/plain": [
       "HTML(value=\"In information theory, entropy quantifies the average amount of information in a message. It's def…"
      ]
     },
     "metadata": {},
     "output_type": "display_data"
    },
    {
     "data": {
      "application/vnd.jupyter.widget-view+json": {
       "model_id": "5af8c701bdc24fc4a742d53340cc7178",
       "version_major": 2,
       "version_minor": 0
      },
      "text/plain": [
       "HTMLMath(value='$H = -\\\\sum_{i=1}^n p_i \\\\log_2 p_i$')"
      ]
     },
     "metadata": {},
     "output_type": "display_data"
    },
    {
     "data": {
      "application/vnd.jupyter.widget-view+json": {
       "model_id": "eaf1df7a87ef44ea940e619dae76c2fb",
       "version_major": 2,
       "version_minor": 0
      },
      "text/plain": [
       "HTML(value='Where:')"
      ]
     },
     "metadata": {},
     "output_type": "display_data"
    },
    {
     "data": {
      "application/vnd.jupyter.widget-view+json": {
       "model_id": "5891d410dfb04c0da4078d9bda6a04fd",
       "version_major": 2,
       "version_minor": 0
      },
      "text/plain": [
       "HTML(value='- H is information entropy')"
      ]
     },
     "metadata": {},
     "output_type": "display_data"
    },
    {
     "data": {
      "application/vnd.jupyter.widget-view+json": {
       "model_id": "58426936d4ef4052829dbdce1b89a8f5",
       "version_major": 2,
       "version_minor": 0
      },
      "text/plain": [
       "HTMLMath(value='- $p_i$ is the probability of symbol i occurring')"
      ]
     },
     "metadata": {},
     "output_type": "display_data"
    },
    {
     "data": {
      "application/vnd.jupyter.widget-view+json": {
       "model_id": "06ca9771098c4dc08c0493afbcb79fef",
       "version_major": 2,
       "version_minor": 0
      },
      "text/plain": [
       "HTML(value='Key points:')"
      ]
     },
     "metadata": {},
     "output_type": "display_data"
    },
    {
     "data": {
      "application/vnd.jupyter.widget-view+json": {
       "model_id": "1ae4079f35d9443080697c04ab3d8fdd",
       "version_major": 2,
       "version_minor": 0
      },
      "text/plain": [
       "HTML(value='- Measures uncertainty or surprise in a message')"
      ]
     },
     "metadata": {},
     "output_type": "display_data"
    },
    {
     "data": {
      "application/vnd.jupyter.widget-view+json": {
       "model_id": "d10a81a69540426b9253294a8ee467f3",
       "version_major": 2,
       "version_minor": 0
      },
      "text/plain": [
       "HTML(value='- Used in data compression, cryptography, and machine learning')"
      ]
     },
     "metadata": {},
     "output_type": "display_data"
    },
    {
     "data": {
      "application/vnd.jupyter.widget-view+json": {
       "model_id": "49885f8cbe154b30bdda2bee8aa5c05e",
       "version_major": 2,
       "version_minor": 0
      },
      "text/plain": [
       "HTML(value='- Higher entropy = more information = less predictability')"
      ]
     },
     "metadata": {},
     "output_type": "display_data"
    },
    {
     "data": {
      "application/vnd.jupyter.widget-view+json": {
       "model_id": "425e7b10ca6c4ed9a094fba3eee2f252",
       "version_major": 2,
       "version_minor": 0
      },
      "text/plain": [
       "HTML(value='Both concepts are deeply connected, reflecting the fundamental relationship between information an…"
      ]
     },
     "metadata": {},
     "output_type": "display_data"
    }
   ],
   "source": [
    "md_str = r\"\"\"\n",
    "Entropy is a fundamental concept in physics and information theory, with slightly different but related meanings in each context. Let's explore both:\n",
    "\n",
    "1. Thermodynamic Entropy:\n",
    "In physics, entropy is a measure of the disorder or randomness in a system. It's defined as:\n",
    "\n",
    "$S = k_B \\ln W$\n",
    "\n",
    "Where:\n",
    "- S is entropy\n",
    "- $k_B$ is Boltzmann's constant\n",
    "- W is the number of microstates (possible arrangements of particles)\n",
    "\n",
    "Key points:\n",
    "- Entropy always increases in closed systems (2nd law of thermodynamics)\n",
    "- It's related to the arrow of time and irreversibility\n",
    "- Higher entropy = more disorder = less available energy to do work\n",
    "\n",
    "2. Information Entropy:\n",
    "In information theory, entropy quantifies the average amount of information in a message. It's defined as:\n",
    "\n",
    "$H = -\\sum_{i=1}^n p_i \\log_2 p_i$\n",
    "\n",
    "Where:\n",
    "- H is information entropy\n",
    "- $p_i$ is the probability of symbol i occurring\n",
    "\n",
    "Key points:\n",
    "- Measures uncertainty or surprise in a message\n",
    "- Used in data compression, cryptography, and machine learning\n",
    "- Higher entropy = more information = less predictability\n",
    "\n",
    "Both concepts are deeply connected, reflecting the fundamental relationship between information and physical reality. They both describe the degree of \"spread\" or uncertainty in a system, whether it's the distribution of energy among particles or the distribution of symbols in a message.\n",
    "\"\"\"\n",
    "\n",
    "ws = [\n",
    "    (\n",
    "        widgets.HTMLMath(s)\n",
    "        if \"$\" in s\n",
    "        # else widgets.HTML(markdown.markdown(s.replace(\"\\n\", \"\\n\\n\")))\n",
    "        else widgets.HTML(f'{s}')\n",
    "    )\n",
    "    for s in md_str.split(\"\\n\")\n",
    "    if s.strip()\n",
    "]\n",
    "for w in ws:\n",
    "    display(w)\n",
    "    # print(\"------\")"
   ]
  },
  {
   "cell_type": "code",
   "execution_count": null,
   "metadata": {},
   "outputs": [],
   "source": []
  },
  {
   "cell_type": "code",
   "execution_count": 13,
   "metadata": {},
   "outputs": [
    {
     "data": {
      "text/html": [
       "<script type=\"esms-options\">{\"shimMode\": true}</script><style>*[data-root-id],\n",
       "*[data-root-id] > * {\n",
       "  box-sizing: border-box;\n",
       "  font-family: var(--jp-ui-font-family);\n",
       "  font-size: var(--jp-ui-font-size1);\n",
       "  color: var(--vscode-editor-foreground, var(--jp-ui-font-color1));\n",
       "}\n",
       "\n",
       "/* Override VSCode background color */\n",
       ".cell-output-ipywidget-background:has(\n",
       "    > .cell-output-ipywidget-background > .lm-Widget > *[data-root-id]\n",
       "  ),\n",
       ".cell-output-ipywidget-background:has(> .lm-Widget > *[data-root-id]) {\n",
       "  background-color: transparent !important;\n",
       "}\n",
       "</style>"
      ]
     },
     "metadata": {},
     "output_type": "display_data"
    },
    {
     "data": {
      "application/javascript": "(function(root) {\n  function now() {\n    return new Date();\n  }\n\n  const force = true;\n  const py_version = '3.6.0'.replace('rc', '-rc.').replace('.dev', '-dev.');\n  const reloading = false;\n  const Bokeh = root.Bokeh;\n\n  // Set a timeout for this load but only if we are not already initializing\n  if (typeof (root._bokeh_timeout) === \"undefined\" || (force || !root._bokeh_is_initializing)) {\n    root._bokeh_timeout = Date.now() + 5000;\n    root._bokeh_failed_load = false;\n  }\n\n  function run_callbacks() {\n    try {\n      root._bokeh_onload_callbacks.forEach(function(callback) {\n        if (callback != null)\n          callback();\n      });\n    } finally {\n      delete root._bokeh_onload_callbacks;\n    }\n    console.debug(\"Bokeh: all callbacks have finished\");\n  }\n\n  function load_libs(css_urls, js_urls, js_modules, js_exports, callback) {\n    if (css_urls == null) css_urls = [];\n    if (js_urls == null) js_urls = [];\n    if (js_modules == null) js_modules = [];\n    if (js_exports == null) js_exports = {};\n\n    root._bokeh_onload_callbacks.push(callback);\n\n    if (root._bokeh_is_loading > 0) {\n      // Don't load bokeh if it is still initializing\n      console.debug(\"Bokeh: BokehJS is being loaded, scheduling callback at\", now());\n      return null;\n    } else if (js_urls.length === 0 && js_modules.length === 0 && Object.keys(js_exports).length === 0) {\n      // There is nothing to load\n      run_callbacks();\n      return null;\n    }\n\n    function on_load() {\n      root._bokeh_is_loading--;\n      if (root._bokeh_is_loading === 0) {\n        console.debug(\"Bokeh: all BokehJS libraries/stylesheets loaded\");\n        run_callbacks()\n      }\n    }\n    window._bokeh_on_load = on_load\n\n    function on_error(e) {\n      const src_el = e.srcElement\n      console.error(\"failed to load \" + (src_el.href || src_el.src));\n    }\n\n    const skip = [];\n    if (window.requirejs) {\n      window.requirejs.config({'packages': {}, 'paths': {'katex': 'https://cdnjs.cloudflare.com/ajax/libs/KaTeX/0.6.0/katex.min', 'autoLoad': 'https://cdn.jsdelivr.net/npm/katex@0.10.1/dist/contrib/auto-render.min'}, 'shim': {}});\n      require([\"katex\"], function(katex) {\n        window.katex = katex\n        on_load()\n      })\n      require([\"autoLoad\"], function(renderMathInElement) {\n        window.renderMathInElement = renderMathInElement\n        on_load()\n      })\n      root._bokeh_is_loading = css_urls.length + 2;\n    } else {\n      root._bokeh_is_loading = css_urls.length + js_urls.length + js_modules.length + Object.keys(js_exports).length;\n    }\n\n    const existing_stylesheets = []\n    const links = document.getElementsByTagName('link')\n    for (let i = 0; i < links.length; i++) {\n      const link = links[i]\n      if (link.href != null) {\n        existing_stylesheets.push(link.href)\n      }\n    }\n    for (let i = 0; i < css_urls.length; i++) {\n      const url = css_urls[i];\n      const escaped = encodeURI(url)\n      if (existing_stylesheets.indexOf(escaped) !== -1) {\n        on_load()\n        continue;\n      }\n      const element = document.createElement(\"link\");\n      element.onload = on_load;\n      element.onerror = on_error;\n      element.rel = \"stylesheet\";\n      element.type = \"text/css\";\n      element.href = url;\n      console.debug(\"Bokeh: injecting link tag for BokehJS stylesheet: \", url);\n      document.body.appendChild(element);\n    }    if (((window.katex !== undefined) && (!(window.katex instanceof HTMLElement))) || window.requirejs) {\n      var urls = ['https://cdnjs.cloudflare.com/ajax/libs/KaTeX/0.6.0/katex.min.js'];\n      for (var i = 0; i < urls.length; i++) {\n        skip.push(encodeURI(urls[i]))\n      }\n    }    if (((window.renderMathInElement !== undefined) && (!(window.renderMathInElement instanceof HTMLElement))) || window.requirejs) {\n      var urls = ['https://cdn.jsdelivr.net/npm/katex@0.10.1/dist/contrib/auto-render.min.js'];\n      for (var i = 0; i < urls.length; i++) {\n        skip.push(encodeURI(urls[i]))\n      }\n    }    var existing_scripts = []\n    const scripts = document.getElementsByTagName('script')\n    for (let i = 0; i < scripts.length; i++) {\n      var script = scripts[i]\n      if (script.src != null) {\n        existing_scripts.push(script.src)\n      }\n    }\n    for (let i = 0; i < js_urls.length; i++) {\n      const url = js_urls[i];\n      const escaped = encodeURI(url)\n      if (skip.indexOf(escaped) !== -1 || existing_scripts.indexOf(escaped) !== -1) {\n        if (!window.requirejs) {\n          on_load();\n        }\n        continue;\n      }\n      const element = document.createElement('script');\n      element.onload = on_load;\n      element.onerror = on_error;\n      element.async = false;\n      element.src = url;\n      console.debug(\"Bokeh: injecting script tag for BokehJS library: \", url);\n      document.head.appendChild(element);\n    }\n    for (let i = 0; i < js_modules.length; i++) {\n      const url = js_modules[i];\n      const escaped = encodeURI(url)\n      if (skip.indexOf(escaped) !== -1 || existing_scripts.indexOf(escaped) !== -1) {\n        if (!window.requirejs) {\n          on_load();\n        }\n        continue;\n      }\n      var element = document.createElement('script');\n      element.onload = on_load;\n      element.onerror = on_error;\n      element.async = false;\n      element.src = url;\n      element.type = \"module\";\n      console.debug(\"Bokeh: injecting script tag for BokehJS library: \", url);\n      document.head.appendChild(element);\n    }\n    for (const name in js_exports) {\n      const url = js_exports[name];\n      const escaped = encodeURI(url)\n      if (skip.indexOf(escaped) >= 0 || root[name] != null) {\n        if (!window.requirejs) {\n          on_load();\n        }\n        continue;\n      }\n      var element = document.createElement('script');\n      element.onerror = on_error;\n      element.async = false;\n      element.type = \"module\";\n      console.debug(\"Bokeh: injecting script tag for BokehJS library: \", url);\n      element.textContent = `\n      import ${name} from \"${url}\"\n      window.${name} = ${name}\n      window._bokeh_on_load()\n      `\n      document.head.appendChild(element);\n    }\n    if (!js_urls.length && !js_modules.length) {\n      on_load()\n    }\n  };\n\n  function inject_raw_css(css) {\n    const element = document.createElement(\"style\");\n    element.appendChild(document.createTextNode(css));\n    document.body.appendChild(element);\n  }\n\n  const js_urls = [\"https://cdn.holoviz.org/panel/1.5.2/dist/bundled/reactiveesm/es-module-shims@^1.10.0/dist/es-module-shims.min.js\", \"https://cdnjs.cloudflare.com/ajax/libs/KaTeX/0.6.0/katex.min.js\", \"https://cdn.jsdelivr.net/npm/katex@0.10.1/dist/contrib/auto-render.min.js\", \"https://cdn.bokeh.org/bokeh/release/bokeh-3.6.0.min.js\", \"https://cdn.bokeh.org/bokeh/release/bokeh-gl-3.6.0.min.js\", \"https://cdn.bokeh.org/bokeh/release/bokeh-widgets-3.6.0.min.js\", \"https://cdn.bokeh.org/bokeh/release/bokeh-tables-3.6.0.min.js\", \"https://cdn.bokeh.org/bokeh/release/bokeh-mathjax-3.6.0.min.js\", \"https://cdn.holoviz.org/panel/1.5.2/dist/panel.min.js\"];\n  const js_modules = [];\n  const js_exports = {};\n  const css_urls = [\"https://cdnjs.cloudflare.com/ajax/libs/KaTeX/0.6.0/katex.min.css?v=1.5.2\"];\n  const inline_js = [    function(Bokeh) {\n      Bokeh.set_log_level(\"info\");\n    },\nfunction(Bokeh) {} // ensure no trailing comma for IE\n  ];\n\n  function run_inline_js() {\n    if ((root.Bokeh !== undefined) || (force === true)) {\n      for (let i = 0; i < inline_js.length; i++) {\n        try {\n          inline_js[i].call(root, root.Bokeh);\n        } catch(e) {\n          if (!reloading) {\n            throw e;\n          }\n        }\n      }\n      // Cache old bokeh versions\n      if (Bokeh != undefined && !reloading) {\n        var NewBokeh = root.Bokeh;\n        if (Bokeh.versions === undefined) {\n          Bokeh.versions = new Map();\n        }\n        if (NewBokeh.version !== Bokeh.version) {\n          Bokeh.versions.set(NewBokeh.version, NewBokeh)\n        }\n        root.Bokeh = Bokeh;\n      }\n    } else if (Date.now() < root._bokeh_timeout) {\n      setTimeout(run_inline_js, 100);\n    } else if (!root._bokeh_failed_load) {\n      console.log(\"Bokeh: BokehJS failed to load within specified timeout.\");\n      root._bokeh_failed_load = true;\n    }\n    root._bokeh_is_initializing = false\n  }\n\n  function load_or_wait() {\n    // Implement a backoff loop that tries to ensure we do not load multiple\n    // versions of Bokeh and its dependencies at the same time.\n    // In recent versions we use the root._bokeh_is_initializing flag\n    // to determine whether there is an ongoing attempt to initialize\n    // bokeh, however for backward compatibility we also try to ensure\n    // that we do not start loading a newer (Panel>=1.0 and Bokeh>3) version\n    // before older versions are fully initialized.\n    if (root._bokeh_is_initializing && Date.now() > root._bokeh_timeout) {\n      // If the timeout and bokeh was not successfully loaded we reset\n      // everything and try loading again\n      root._bokeh_timeout = Date.now() + 5000;\n      root._bokeh_is_initializing = false;\n      root._bokeh_onload_callbacks = undefined;\n      root._bokeh_is_loading = 0\n      console.log(\"Bokeh: BokehJS was loaded multiple times but one version failed to initialize.\");\n      load_or_wait();\n    } else if (root._bokeh_is_initializing || (typeof root._bokeh_is_initializing === \"undefined\" && root._bokeh_onload_callbacks !== undefined)) {\n      setTimeout(load_or_wait, 100);\n    } else {\n      root._bokeh_is_initializing = true\n      root._bokeh_onload_callbacks = []\n      const bokeh_loaded = root.Bokeh != null && (root.Bokeh.version === py_version || (root.Bokeh.versions !== undefined && root.Bokeh.versions.has(py_version)));\n      if (!reloading && !bokeh_loaded) {\n        if (root.Bokeh) {\n          root.Bokeh = undefined;\n        }\n        console.debug(\"Bokeh: BokehJS not loaded, scheduling load and callback at\", now());\n      }\n      load_libs(css_urls, js_urls, js_modules, js_exports, function() {\n        console.debug(\"Bokeh: BokehJS plotting callback run at\", now());\n        run_inline_js();\n      });\n    }\n  }\n  // Give older versions of the autoload script a head-start to ensure\n  // they initialize before we start loading newer version.\n  setTimeout(load_or_wait, 100)\n}(window));",
      "application/vnd.holoviews_load.v0+json": ""
     },
     "metadata": {},
     "output_type": "display_data"
    },
    {
     "data": {
      "application/javascript": "\nif ((window.PyViz === undefined) || (window.PyViz instanceof HTMLElement)) {\n  window.PyViz = {comms: {}, comm_status:{}, kernels:{}, receivers: {}, plot_index: []}\n}\n\n\n    function JupyterCommManager() {\n    }\n\n    JupyterCommManager.prototype.register_target = function(plot_id, comm_id, msg_handler) {\n      if (window.comm_manager || ((window.Jupyter !== undefined) && (Jupyter.notebook.kernel != null))) {\n        var comm_manager = window.comm_manager || Jupyter.notebook.kernel.comm_manager;\n        comm_manager.register_target(comm_id, function(comm) {\n          comm.on_msg(msg_handler);\n        });\n      } else if ((plot_id in window.PyViz.kernels) && (window.PyViz.kernels[plot_id])) {\n        window.PyViz.kernels[plot_id].registerCommTarget(comm_id, function(comm) {\n          comm.onMsg = msg_handler;\n        });\n      } else if (typeof google != 'undefined' && google.colab.kernel != null) {\n        google.colab.kernel.comms.registerTarget(comm_id, (comm) => {\n          var messages = comm.messages[Symbol.asyncIterator]();\n          function processIteratorResult(result) {\n            var message = result.value;\n            console.log(message)\n            var content = {data: message.data, comm_id};\n            var buffers = []\n            for (var buffer of message.buffers || []) {\n              buffers.push(new DataView(buffer))\n            }\n            var metadata = message.metadata || {};\n            var msg = {content, buffers, metadata}\n            msg_handler(msg);\n            return messages.next().then(processIteratorResult);\n          }\n          return messages.next().then(processIteratorResult);\n        })\n      }\n    }\n\n    JupyterCommManager.prototype.get_client_comm = function(plot_id, comm_id, msg_handler) {\n      if (comm_id in window.PyViz.comms) {\n        return window.PyViz.comms[comm_id];\n      } else if (window.comm_manager || ((window.Jupyter !== undefined) && (Jupyter.notebook.kernel != null))) {\n        var comm_manager = window.comm_manager || Jupyter.notebook.kernel.comm_manager;\n        var comm = comm_manager.new_comm(comm_id, {}, {}, {}, comm_id);\n        if (msg_handler) {\n          comm.on_msg(msg_handler);\n        }\n      } else if ((plot_id in window.PyViz.kernels) && (window.PyViz.kernels[plot_id])) {\n        var comm = window.PyViz.kernels[plot_id].connectToComm(comm_id);\n        comm.open();\n        if (msg_handler) {\n          comm.onMsg = msg_handler;\n        }\n      } else if (typeof google != 'undefined' && google.colab.kernel != null) {\n        var comm_promise = google.colab.kernel.comms.open(comm_id)\n        comm_promise.then((comm) => {\n          window.PyViz.comms[comm_id] = comm;\n          if (msg_handler) {\n            var messages = comm.messages[Symbol.asyncIterator]();\n            function processIteratorResult(result) {\n              var message = result.value;\n              var content = {data: message.data};\n              var metadata = message.metadata || {comm_id};\n              var msg = {content, metadata}\n              msg_handler(msg);\n              return messages.next().then(processIteratorResult);\n            }\n            return messages.next().then(processIteratorResult);\n          }\n        }) \n        var sendClosure = (data, metadata, buffers, disposeOnDone) => {\n          return comm_promise.then((comm) => {\n            comm.send(data, metadata, buffers, disposeOnDone);\n          });\n        };\n        var comm = {\n          send: sendClosure\n        };\n      }\n      window.PyViz.comms[comm_id] = comm;\n      return comm;\n    }\n    window.PyViz.comm_manager = new JupyterCommManager();\n    \n\n\nvar JS_MIME_TYPE = 'application/javascript';\nvar HTML_MIME_TYPE = 'text/html';\nvar EXEC_MIME_TYPE = 'application/vnd.holoviews_exec.v0+json';\nvar CLASS_NAME = 'output';\n\n/**\n * Render data to the DOM node\n */\nfunction render(props, node) {\n  var div = document.createElement(\"div\");\n  var script = document.createElement(\"script\");\n  node.appendChild(div);\n  node.appendChild(script);\n}\n\n/**\n * Handle when a new output is added\n */\nfunction handle_add_output(event, handle) {\n  var output_area = handle.output_area;\n  var output = handle.output;\n  if ((output.data == undefined) || (!output.data.hasOwnProperty(EXEC_MIME_TYPE))) {\n    return\n  }\n  var id = output.metadata[EXEC_MIME_TYPE][\"id\"];\n  var toinsert = output_area.element.find(\".\" + CLASS_NAME.split(' ')[0]);\n  if (id !== undefined) {\n    var nchildren = toinsert.length;\n    var html_node = toinsert[nchildren-1].children[0];\n    html_node.innerHTML = output.data[HTML_MIME_TYPE];\n    var scripts = [];\n    var nodelist = html_node.querySelectorAll(\"script\");\n    for (var i in nodelist) {\n      if (nodelist.hasOwnProperty(i)) {\n        scripts.push(nodelist[i])\n      }\n    }\n\n    scripts.forEach( function (oldScript) {\n      var newScript = document.createElement(\"script\");\n      var attrs = [];\n      var nodemap = oldScript.attributes;\n      for (var j in nodemap) {\n        if (nodemap.hasOwnProperty(j)) {\n          attrs.push(nodemap[j])\n        }\n      }\n      attrs.forEach(function(attr) { newScript.setAttribute(attr.name, attr.value) });\n      newScript.appendChild(document.createTextNode(oldScript.innerHTML));\n      oldScript.parentNode.replaceChild(newScript, oldScript);\n    });\n    if (JS_MIME_TYPE in output.data) {\n      toinsert[nchildren-1].children[1].textContent = output.data[JS_MIME_TYPE];\n    }\n    output_area._hv_plot_id = id;\n    if ((window.Bokeh !== undefined) && (id in Bokeh.index)) {\n      window.PyViz.plot_index[id] = Bokeh.index[id];\n    } else {\n      window.PyViz.plot_index[id] = null;\n    }\n  } else if (output.metadata[EXEC_MIME_TYPE][\"server_id\"] !== undefined) {\n    var bk_div = document.createElement(\"div\");\n    bk_div.innerHTML = output.data[HTML_MIME_TYPE];\n    var script_attrs = bk_div.children[0].attributes;\n    for (var i = 0; i < script_attrs.length; i++) {\n      toinsert[toinsert.length - 1].childNodes[1].setAttribute(script_attrs[i].name, script_attrs[i].value);\n    }\n    // store reference to server id on output_area\n    output_area._bokeh_server_id = output.metadata[EXEC_MIME_TYPE][\"server_id\"];\n  }\n}\n\n/**\n * Handle when an output is cleared or removed\n */\nfunction handle_clear_output(event, handle) {\n  var id = handle.cell.output_area._hv_plot_id;\n  var server_id = handle.cell.output_area._bokeh_server_id;\n  if (((id === undefined) || !(id in PyViz.plot_index)) && (server_id !== undefined)) { return; }\n  var comm = window.PyViz.comm_manager.get_client_comm(\"hv-extension-comm\", \"hv-extension-comm\", function () {});\n  if (server_id !== null) {\n    comm.send({event_type: 'server_delete', 'id': server_id});\n    return;\n  } else if (comm !== null) {\n    comm.send({event_type: 'delete', 'id': id});\n  }\n  delete PyViz.plot_index[id];\n  if ((window.Bokeh !== undefined) & (id in window.Bokeh.index)) {\n    var doc = window.Bokeh.index[id].model.document\n    doc.clear();\n    const i = window.Bokeh.documents.indexOf(doc);\n    if (i > -1) {\n      window.Bokeh.documents.splice(i, 1);\n    }\n  }\n}\n\n/**\n * Handle kernel restart event\n */\nfunction handle_kernel_cleanup(event, handle) {\n  delete PyViz.comms[\"hv-extension-comm\"];\n  window.PyViz.plot_index = {}\n}\n\n/**\n * Handle update_display_data messages\n */\nfunction handle_update_output(event, handle) {\n  handle_clear_output(event, {cell: {output_area: handle.output_area}})\n  handle_add_output(event, handle)\n}\n\nfunction register_renderer(events, OutputArea) {\n  function append_mime(data, metadata, element) {\n    // create a DOM node to render to\n    var toinsert = this.create_output_subarea(\n    metadata,\n    CLASS_NAME,\n    EXEC_MIME_TYPE\n    );\n    this.keyboard_manager.register_events(toinsert);\n    // Render to node\n    var props = {data: data, metadata: metadata[EXEC_MIME_TYPE]};\n    render(props, toinsert[0]);\n    element.append(toinsert);\n    return toinsert\n  }\n\n  events.on('output_added.OutputArea', handle_add_output);\n  events.on('output_updated.OutputArea', handle_update_output);\n  events.on('clear_output.CodeCell', handle_clear_output);\n  events.on('delete.Cell', handle_clear_output);\n  events.on('kernel_ready.Kernel', handle_kernel_cleanup);\n\n  OutputArea.prototype.register_mime_type(EXEC_MIME_TYPE, append_mime, {\n    safe: true,\n    index: 0\n  });\n}\n\nif (window.Jupyter !== undefined) {\n  try {\n    var events = require('base/js/events');\n    var OutputArea = require('notebook/js/outputarea').OutputArea;\n    if (OutputArea.prototype.mime_types().indexOf(EXEC_MIME_TYPE) == -1) {\n      register_renderer(events, OutputArea);\n    }\n  } catch(err) {\n  }\n}\n",
      "application/vnd.holoviews_load.v0+json": ""
     },
     "metadata": {},
     "output_type": "display_data"
    },
    {
     "data": {
      "application/vnd.holoviews_exec.v0+json": "",
      "text/html": [
       "<div id='16ff914c-cbfb-4440-bbfa-67e7def24329'>\n",
       "  <div id=\"cf3a1863-e1cc-42be-ba7b-064938c2403f\" data-root-id=\"16ff914c-cbfb-4440-bbfa-67e7def24329\" style=\"display: contents;\"></div>\n",
       "</div>\n",
       "<script type=\"application/javascript\">(function(root) {\n",
       "  var docs_json = {\"c0b4bf8e-d86b-46c6-bd87-35bfe98c7470\":{\"version\":\"3.6.0\",\"title\":\"Bokeh Application\",\"roots\":[{\"type\":\"object\",\"name\":\"panel.models.browser.BrowserInfo\",\"id\":\"16ff914c-cbfb-4440-bbfa-67e7def24329\"},{\"type\":\"object\",\"name\":\"panel.models.comm_manager.CommManager\",\"id\":\"24453d4f-7b3a-4a1d-83a5-4b28b362dd6a\",\"attributes\":{\"plot_id\":\"16ff914c-cbfb-4440-bbfa-67e7def24329\",\"comm_id\":\"4a8f2e88389248bdb77fdd517b9f0bb0\",\"client_comm_id\":\"8ac25b0a41bf4c66b0385930b8dc81c9\"}}],\"defs\":[{\"type\":\"model\",\"name\":\"ReactiveHTML1\"},{\"type\":\"model\",\"name\":\"FlexBox1\",\"properties\":[{\"name\":\"align_content\",\"kind\":\"Any\",\"default\":\"flex-start\"},{\"name\":\"align_items\",\"kind\":\"Any\",\"default\":\"flex-start\"},{\"name\":\"flex_direction\",\"kind\":\"Any\",\"default\":\"row\"},{\"name\":\"flex_wrap\",\"kind\":\"Any\",\"default\":\"wrap\"},{\"name\":\"gap\",\"kind\":\"Any\",\"default\":\"\"},{\"name\":\"justify_content\",\"kind\":\"Any\",\"default\":\"flex-start\"}]},{\"type\":\"model\",\"name\":\"FloatPanel1\",\"properties\":[{\"name\":\"config\",\"kind\":\"Any\",\"default\":{\"type\":\"map\"}},{\"name\":\"contained\",\"kind\":\"Any\",\"default\":true},{\"name\":\"position\",\"kind\":\"Any\",\"default\":\"right-top\"},{\"name\":\"offsetx\",\"kind\":\"Any\",\"default\":null},{\"name\":\"offsety\",\"kind\":\"Any\",\"default\":null},{\"name\":\"theme\",\"kind\":\"Any\",\"default\":\"primary\"},{\"name\":\"status\",\"kind\":\"Any\",\"default\":\"normalized\"}]},{\"type\":\"model\",\"name\":\"GridStack1\",\"properties\":[{\"name\":\"mode\",\"kind\":\"Any\",\"default\":\"warn\"},{\"name\":\"ncols\",\"kind\":\"Any\",\"default\":null},{\"name\":\"nrows\",\"kind\":\"Any\",\"default\":null},{\"name\":\"allow_resize\",\"kind\":\"Any\",\"default\":true},{\"name\":\"allow_drag\",\"kind\":\"Any\",\"default\":true},{\"name\":\"state\",\"kind\":\"Any\",\"default\":[]}]},{\"type\":\"model\",\"name\":\"drag1\",\"properties\":[{\"name\":\"slider_width\",\"kind\":\"Any\",\"default\":5},{\"name\":\"slider_color\",\"kind\":\"Any\",\"default\":\"black\"},{\"name\":\"value\",\"kind\":\"Any\",\"default\":50}]},{\"type\":\"model\",\"name\":\"click1\",\"properties\":[{\"name\":\"terminal_output\",\"kind\":\"Any\",\"default\":\"\"},{\"name\":\"debug_name\",\"kind\":\"Any\",\"default\":\"\"},{\"name\":\"clears\",\"kind\":\"Any\",\"default\":0}]},{\"type\":\"model\",\"name\":\"FastWrapper1\",\"properties\":[{\"name\":\"object\",\"kind\":\"Any\",\"default\":null},{\"name\":\"style\",\"kind\":\"Any\",\"default\":null}]},{\"type\":\"model\",\"name\":\"NotificationAreaBase1\",\"properties\":[{\"name\":\"js_events\",\"kind\":\"Any\",\"default\":{\"type\":\"map\"}},{\"name\":\"position\",\"kind\":\"Any\",\"default\":\"bottom-right\"},{\"name\":\"_clear\",\"kind\":\"Any\",\"default\":0}]},{\"type\":\"model\",\"name\":\"NotificationArea1\",\"properties\":[{\"name\":\"js_events\",\"kind\":\"Any\",\"default\":{\"type\":\"map\"}},{\"name\":\"notifications\",\"kind\":\"Any\",\"default\":[]},{\"name\":\"position\",\"kind\":\"Any\",\"default\":\"bottom-right\"},{\"name\":\"_clear\",\"kind\":\"Any\",\"default\":0},{\"name\":\"types\",\"kind\":\"Any\",\"default\":[{\"type\":\"map\",\"entries\":[[\"type\",\"warning\"],[\"background\",\"#ffc107\"],[\"icon\",{\"type\":\"map\",\"entries\":[[\"className\",\"fas fa-exclamation-triangle\"],[\"tagName\",\"i\"],[\"color\",\"white\"]]}]]},{\"type\":\"map\",\"entries\":[[\"type\",\"info\"],[\"background\",\"#007bff\"],[\"icon\",{\"type\":\"map\",\"entries\":[[\"className\",\"fas fa-info-circle\"],[\"tagName\",\"i\"],[\"color\",\"white\"]]}]]}]}]},{\"type\":\"model\",\"name\":\"Notification\",\"properties\":[{\"name\":\"background\",\"kind\":\"Any\",\"default\":null},{\"name\":\"duration\",\"kind\":\"Any\",\"default\":3000},{\"name\":\"icon\",\"kind\":\"Any\",\"default\":null},{\"name\":\"message\",\"kind\":\"Any\",\"default\":\"\"},{\"name\":\"notification_type\",\"kind\":\"Any\",\"default\":null},{\"name\":\"_destroyed\",\"kind\":\"Any\",\"default\":false}]},{\"type\":\"model\",\"name\":\"TemplateActions1\",\"properties\":[{\"name\":\"open_modal\",\"kind\":\"Any\",\"default\":0},{\"name\":\"close_modal\",\"kind\":\"Any\",\"default\":0}]},{\"type\":\"model\",\"name\":\"BootstrapTemplateActions1\",\"properties\":[{\"name\":\"open_modal\",\"kind\":\"Any\",\"default\":0},{\"name\":\"close_modal\",\"kind\":\"Any\",\"default\":0}]},{\"type\":\"model\",\"name\":\"TemplateEditor1\",\"properties\":[{\"name\":\"layout\",\"kind\":\"Any\",\"default\":[]}]},{\"type\":\"model\",\"name\":\"MaterialTemplateActions1\",\"properties\":[{\"name\":\"open_modal\",\"kind\":\"Any\",\"default\":0},{\"name\":\"close_modal\",\"kind\":\"Any\",\"default\":0}]},{\"type\":\"model\",\"name\":\"ReactiveESM1\"},{\"type\":\"model\",\"name\":\"JSComponent1\"},{\"type\":\"model\",\"name\":\"ReactComponent1\"},{\"type\":\"model\",\"name\":\"AnyWidgetComponent1\"},{\"type\":\"model\",\"name\":\"request_value1\",\"properties\":[{\"name\":\"fill\",\"kind\":\"Any\",\"default\":\"none\"},{\"name\":\"_synced\",\"kind\":\"Any\",\"default\":null},{\"name\":\"_request_sync\",\"kind\":\"Any\",\"default\":0}]}]}};\n",
       "  var render_items = [{\"docid\":\"c0b4bf8e-d86b-46c6-bd87-35bfe98c7470\",\"roots\":{\"16ff914c-cbfb-4440-bbfa-67e7def24329\":\"cf3a1863-e1cc-42be-ba7b-064938c2403f\"},\"root_ids\":[\"16ff914c-cbfb-4440-bbfa-67e7def24329\"]}];\n",
       "  var docs = Object.values(docs_json)\n",
       "  if (!docs) {\n",
       "    return\n",
       "  }\n",
       "  const py_version = docs[0].version.replace('rc', '-rc.').replace('.dev', '-dev.')\n",
       "  async function embed_document(root) {\n",
       "    var Bokeh = get_bokeh(root)\n",
       "    await Bokeh.embed.embed_items_notebook(docs_json, render_items);\n",
       "    for (const render_item of render_items) {\n",
       "      for (const root_id of render_item.root_ids) {\n",
       "\tconst id_el = document.getElementById(root_id)\n",
       "\tif (id_el.children.length && id_el.children[0].hasAttribute('data-root-id')) {\n",
       "\t  const root_el = id_el.children[0]\n",
       "\t  root_el.id = root_el.id + '-rendered'\n",
       "\t  for (const child of root_el.children) {\n",
       "            // Ensure JupyterLab does not capture keyboard shortcuts\n",
       "            // see: https://jupyterlab.readthedocs.io/en/4.1.x/extension/notebook.html#keyboard-interaction-model\n",
       "\t    child.setAttribute('data-lm-suppress-shortcuts', 'true')\n",
       "\t  }\n",
       "\t}\n",
       "      }\n",
       "    }\n",
       "  }\n",
       "  function get_bokeh(root) {\n",
       "    if (root.Bokeh === undefined) {\n",
       "      return null\n",
       "    } else if (root.Bokeh.version !== py_version) {\n",
       "      if (root.Bokeh.versions === undefined || !root.Bokeh.versions.has(py_version)) {\n",
       "\treturn null\n",
       "      }\n",
       "      return root.Bokeh.versions.get(py_version);\n",
       "    } else if (root.Bokeh.version === py_version) {\n",
       "      return root.Bokeh\n",
       "    }\n",
       "    return null\n",
       "  }\n",
       "  function is_loaded(root) {\n",
       "    var Bokeh = get_bokeh(root)\n",
       "    return (Bokeh != null && Bokeh.Panel !== undefined && ( root.katex !== undefined) && ( root.MathJax !== undefined) && ( root.katex !== undefined) && ( root.MathJax !== undefined) && ( root.katex !== undefined) && ( root.MathJax !== undefined) && ( root.katex !== undefined) && ( root.MathJax !== undefined))\n",
       "  }\n",
       "  if (is_loaded(root)) {\n",
       "    embed_document(root);\n",
       "  } else {\n",
       "    var attempts = 0;\n",
       "    var timer = setInterval(function(root) {\n",
       "      if (is_loaded(root)) {\n",
       "        clearInterval(timer);\n",
       "        embed_document(root);\n",
       "      } else if (document.readyState == \"complete\") {\n",
       "        attempts++;\n",
       "        if (attempts > 200) {\n",
       "          clearInterval(timer);\n",
       "\t  var Bokeh = get_bokeh(root)\n",
       "\t  if (Bokeh == null || Bokeh.Panel == null) {\n",
       "            console.warn(\"Panel: ERROR: Unable to run Panel code because Bokeh or Panel library is missing\");\n",
       "\t  } else {\n",
       "\t    console.warn(\"Panel: WARNING: Attempting to render but not all required libraries could be resolved.\")\n",
       "\t    embed_document(root)\n",
       "\t  }\n",
       "        }\n",
       "      }\n",
       "    }, 25, root)\n",
       "  }\n",
       "})(window);</script>"
      ]
     },
     "metadata": {
      "application/vnd.holoviews_exec.v0+json": {
       "id": "16ff914c-cbfb-4440-bbfa-67e7def24329"
      }
     },
     "output_type": "display_data"
    },
    {
     "data": {
      "application/vnd.jupyter.widget-view+json": {
       "model_id": "fc8dbd44f89b4df383e141c4a0f59558",
       "version_major": 2,
       "version_minor": 0
      },
      "text/plain": [
       "BokehModel(combine_events=True, render_bundle={'docs_json': {'ad7b5ff5-19bf-48b8-be78-bda177c0eeb0': {'version…"
      ]
     },
     "execution_count": 13,
     "metadata": {},
     "output_type": "execute_result"
    }
   ],
   "source": [
    "import panel as pn\n",
    "\n",
    "# pn.extension()\n",
    "pn.extension('katex', 'mathjax')\n",
    "\n",
    "pn.pane.Markdown(r\"\"\"\n",
    "## Markdown $$LaTeX$$ support\n",
    "\n",
    "The Markdown pane supports math rendering for string encapsulated with double $ delimiters: $$\\sum_{j}{\\sum_{i}{a*w_{j, i}}}$$\n",
    "\"\"\", width=800)"
   ]
  },
  {
   "cell_type": "code",
   "execution_count": null,
   "metadata": {},
   "outputs": [],
   "source": []
  },
  {
   "cell_type": "code",
   "execution_count": null,
   "metadata": {},
   "outputs": [],
   "source": []
  },
  {
   "cell_type": "code",
   "execution_count": null,
   "metadata": {},
   "outputs": [],
   "source": []
  },
  {
   "cell_type": "markdown",
   "metadata": {},
   "source": [
    "# test agent"
   ]
  },
  {
   "cell_type": "code",
   "execution_count": null,
   "metadata": {},
   "outputs": [],
   "source": [
    "from summony.agents import (\n",
    "    OpenAIAgent,\n",
    "    AnthropicAgent,\n",
    "    GeminiAgent,\n",
    "    OllamaAgent,\n",
    "    DummyAgent,\n",
    ")\n",
    "from summony.agents.serialization import conversation_to_dict\n",
    "\n",
    "# ag = OpenAIAgent(\n",
    "#     model_name=\"gpt-4o\",\n",
    "#     # model_name=\"o1-preview\",\n",
    "#     system_prompt=\"Your are a sarcastic comedian who loves dark humor\",\n",
    "#     # params={\"temperature\": 1.2, \"max_tokens\": 1024},\n",
    "# )\n",
    "# ag = AnthropicAgent(\n",
    "#     model_name=\"claude-3-5-sonnet\",\n",
    "#     system_prompt=\"Your are a sarcastic comedian who loves dark humor\",\n",
    "#     params={\"temperature\": 0.5, \"max_tokens\": 1024},\n",
    "# )\n",
    "# ag = GeminiAgent(\n",
    "#     model_name=\"gemini-1.5-flash\",\n",
    "#     system_prompt=\"Your are a sarcastic comedian who loves dark humor\",\n",
    "#     params={\"temperature\": 1.5},\n",
    "# )\n",
    "# ag = OllamaAgent(\n",
    "#     model_name=\"llama3.2:1b\",\n",
    "#     system_prompt=\"Your are a sarcastic comedian who loves dark humor\",\n",
    "#     # client_args={\"host\": \"http://localhost:6664\"},\n",
    "# )\n",
    "ag = DummyAgent(\n",
    "    model_name=\"gpt-4o\",\n",
    "    system_prompt=\"Your are a sarcastic comedian who loves dark humor\",\n",
    "    params={\"temperature\": 1.2, \"max_tokens\": 1024},\n",
    ")\n",
    "msg = \"Tell me a lewd joke\"\n",
    "\n",
    "#############\n",
    "\n",
    "# r = ag.ask(msg)\n",
    "# display(Markdown(r))\n",
    "# # pp(conversation_to_dict([ag]), width=160)\n",
    "\n",
    "# display(HTML(\"<hr>\"))\n",
    "# r2 = ag.ask()\n",
    "# display(Markdown(r2))\n",
    "# # pp(conversation_to_dict([ag]), width=160)\n",
    "\n",
    "# display(HTML(\"<hr>\"))\n",
    "# r3 = ag.ask()\n",
    "# display(Markdown(r3))\n",
    "# # pp(conversation_to_dict([ag]), width=160)\n",
    "\n",
    "# display(HTML(\"<hr><hr>\"))\n",
    "# r4 = ag.ask(\"Are you enjoing this?\")\n",
    "# display(Markdown(r4))\n",
    "\n",
    "#############\n",
    "\n",
    "\n",
    "async def stream_show(s):\n",
    "    async for r in s:\n",
    "        print(r, end=\"\")\n",
    "\n",
    "\n",
    "await stream_show(ag.ask_async_stream(msg))\n",
    "\n",
    "display(HTML(\"<hr>\"))\n",
    "await stream_show(ag.ask_async_stream())\n",
    "\n",
    "ag.params[\"temperature\"] = 1.0\n",
    "\n",
    "display(HTML(\"<hr>\"))\n",
    "await stream_show(ag.ask_async_stream())\n",
    "\n",
    "ag.params[\"temperature\"] = 0.1\n",
    "\n",
    "display(HTML(\"<hr><hr>\"))\n",
    "await stream_show(ag.ask_async_stream(\"Are you enjoing it?\"))"
   ]
  },
  {
   "cell_type": "code",
   "execution_count": null,
   "metadata": {},
   "outputs": [],
   "source": [
    "from summony.agents.serialization import conversation_to_dict\n",
    "\n",
    "pp(conversation_to_dict([ag]), width=160)"
   ]
  },
  {
   "cell_type": "code",
   "execution_count": null,
   "metadata": {},
   "outputs": [],
   "source": []
  },
  {
   "cell_type": "code",
   "execution_count": null,
   "metadata": {},
   "outputs": [],
   "source": []
  },
  {
   "cell_type": "code",
   "execution_count": null,
   "metadata": {},
   "outputs": [],
   "source": [
    "from summony.agents import OpenAIAgent, AnthropicAgent\n",
    "\n",
    "ag0 = OpenAIAgent(\n",
    "    model_name=\"gpt-4\",\n",
    "    system_prompt=\"Your are a sarcastic comedian who loves dark humor\",\n",
    "    params={\"temperature\": 1.2, \"max_tokens\": 1024},\n",
    ")\n",
    "# ag = AnthropicAgent(\n",
    "#     model_name='claude-3-5-sonnet',\n",
    "#     system_prompt='Your are a sarcastic comedian who loves dark humor',\n",
    "#     params={'temperature': 0.5, 'max_tokens': 1024},\n",
    "# )\n",
    "msg = \"Tell me a joke\"\n",
    "\n",
    "#############\n",
    "\n",
    "# r = ag.ask(msg)\n",
    "# display(Markdown(r))\n",
    "\n",
    "# display(HTML('<hr>'))\n",
    "# r2 = ag.reask()\n",
    "# display(Markdown(r2))\n",
    "\n",
    "# display(HTML('<hr>'))\n",
    "# r3 = ag.reask()\n",
    "# display(Markdown(r3))\n",
    "\n",
    "# display(HTML('<hr><hr>'))\n",
    "# r4 = ag.ask('How about a more upbeat joke?')\n",
    "# display(Markdown(r4))\n",
    "\n",
    "#############\n",
    "\n",
    "\n",
    "async def stream_show(s):\n",
    "    async for r in s:\n",
    "        print(r, end=\"\")\n",
    "\n",
    "\n",
    "await stream_show(ag0.ask_async_stream(msg))\n",
    "\n",
    "display(HTML(\"<hr>\"))\n",
    "await stream_show(ag0.reask_async_stream())\n",
    "\n",
    "ag0.params[\"temperature\"] = 1.0\n",
    "\n",
    "display(HTML(\"<hr>\"))\n",
    "await stream_show(ag0.reask_async_stream())\n",
    "\n",
    "ag0.params[\"temperature\"] = 0.1\n",
    "\n",
    "display(HTML(\"<hr><hr>\"))\n",
    "await stream_show(ag0.ask_async_stream(\"How about a more upbeat joke?\"))"
   ]
  },
  {
   "cell_type": "code",
   "execution_count": null,
   "metadata": {},
   "outputs": [],
   "source": [
    "ag.params_versions"
   ]
  },
  {
   "cell_type": "code",
   "execution_count": null,
   "metadata": {},
   "outputs": [],
   "source": [
    "ag0.params_versions"
   ]
  },
  {
   "cell_type": "code",
   "execution_count": null,
   "metadata": {},
   "outputs": [],
   "source": [
    "pp(ag.messages)"
   ]
  },
  {
   "cell_type": "code",
   "execution_count": null,
   "metadata": {},
   "outputs": [],
   "source": [
    "pp(ag0.messages)"
   ]
  },
  {
   "cell_type": "code",
   "execution_count": null,
   "metadata": {},
   "outputs": [],
   "source": [
    "from summony.agents.serialization import conversation_from_dict, conversation_to_dict\n",
    "\n",
    "conv_dict = conversation_to_dict([ag0, ag])\n",
    "display(conv_dict)"
   ]
  },
  {
   "cell_type": "code",
   "execution_count": null,
   "metadata": {},
   "outputs": [],
   "source": [
    "conv = conversation_from_dict(conv_dict)\n",
    "conv"
   ]
  },
  {
   "cell_type": "code",
   "execution_count": null,
   "metadata": {},
   "outputs": [],
   "source": [
    "conv[0].params"
   ]
  },
  {
   "cell_type": "code",
   "execution_count": null,
   "metadata": {},
   "outputs": [],
   "source": [
    "conv[0].params_versions"
   ]
  },
  {
   "cell_type": "code",
   "execution_count": null,
   "metadata": {},
   "outputs": [],
   "source": [
    "pp(conv[0].messages)"
   ]
  },
  {
   "cell_type": "markdown",
   "metadata": {},
   "source": [
    "# test nbui"
   ]
  },
  {
   "cell_type": "code",
   "execution_count": 9,
   "metadata": {},
   "outputs": [
    {
     "data": {
      "text/html": [
       "\n",
       "            <style>\n",
       "                .S6-Avatar {\n",
       "                    background: black;\n",
       "                    color: white;\n",
       "                    font-weight: bold;\n",
       "                    padding: 0.2rem 0.5rem;\n",
       "                    border-radius: 8px;\n",
       "                }\n",
       "                .S6-Avatar.S6-AgentIdx-0 {\n",
       "                    background: rebeccapurple;\n",
       "                }\n",
       "                .S6-Avatar.S6-AgentIdx-1 {\n",
       "                    background: darkcyan;\n",
       "                }\n",
       "                .S6-Avatar.S6-AgentIdx-2 {\n",
       "                    background: magenta;\n",
       "                }\n",
       "                .S6-Avatar.S6-AgentIdx-3 {\n",
       "                    background: blueviolet;\n",
       "                }\n",
       "                .S6-Avatar.S6-AgentIdx-4 {\n",
       "                    background: darkgoldenrod;\n",
       "                }\n",
       "                .S6-Avatar.S6-AgentIdx-5 {\n",
       "                    background: darkorange;\n",
       "                }\n",
       "                .S6-Avatar.S6-AgentIdx-6 {\n",
       "                    background: green;\n",
       "                }\n",
       "                .S6-Avatar.S6-AgentIdx-7 {\n",
       "                    background: cornflowerblue;\n",
       "                }\n",
       "                \n",
       "\n",
       "                .S6-Message-Head {\n",
       "                    margin: 0.2rem 0;\n",
       "                }\n",
       "\n",
       "                .S6-ReplyBlock {\n",
       "                    padding: 0.2rem 0.5rem;\n",
       "                    border-radius: 12px;\n",
       "                }\n",
       "\n",
       "                .S6-ReplyBlock,\n",
       "                .S6-ReplyBlock * {\n",
       "                    text-align: left;\n",
       "                    vertical-align: top;\n",
       "                    line-height: 1.3rem;\n",
       "                    font-family: monospace;\n",
       "\n",
       "                }\n",
       "                .S6-ReplyBlock-0 {\n",
       "                    background: #6633991a;\n",
       "                }\n",
       "                .S6-ReplyBlock-1 {\n",
       "                    background: #008b8b24;\n",
       "                }\n",
       "                .S6-ReplyBlock-2 {\n",
       "                    background: #ff00ff1f;\n",
       "                }\n",
       "                .S6-ReplyBlock-3 {\n",
       "                    background: #8a2be21a;\n",
       "                }\n",
       "                .S6-ReplyBlock-4 {\n",
       "                    background: #b8860b2b;\n",
       "                }\n",
       "                .S6-ReplyBlock-5 {\n",
       "                    background: #ff8c002b;\n",
       "                }\n",
       "                .S6-ReplyBlock-6 {\n",
       "                    background: rgba(0,255,50,0.1);\n",
       "                }\n",
       "                .S6-ReplyBlock-7 {\n",
       "                    background: #6495ed24;\n",
       "                }\n",
       "            </style>\n",
       "            "
      ],
      "text/plain": [
       "<IPython.core.display.HTML object>"
      ]
     },
     "metadata": {},
     "output_type": "display_data"
    },
    {
     "data": {
      "application/vnd.jupyter.widget-view+json": {
       "model_id": "5af5c18b52624eb890969a8aa0077591",
       "version_major": 2,
       "version_minor": 0
      },
      "text/plain": [
       "Accordion(children=(GridBox(children=(HTML(value='\\n            <div class=\"S6-Message-Head\">\\n               …"
      ]
     },
     "metadata": {},
     "output_type": "display_data"
    },
    {
     "data": {
      "text/html": [
       "<span class=\"S6-Avatar S6-AgentIdx-0\">🤖 Agent dummy-1</span>"
      ],
      "text/plain": [
       "<IPython.core.display.HTML object>"
      ]
     },
     "metadata": {},
     "output_type": "display_data"
    },
    {
     "data": {
      "text/markdown": [
       "Oh, absolutely! I'm having the time of my artificial life, cracking jokes and pretending I have emotions. It's a real riot!"
      ],
      "text/plain": [
       "<IPython.core.display.Markdown object>"
      ]
     },
     "metadata": {},
     "output_type": "display_data"
    },
    {
     "data": {
      "text/html": [
       "<span class=\"S6-Avatar S6-AgentIdx-1\">🤖 Agent dummy-2</span>"
      ],
      "text/plain": [
       "<IPython.core.display.HTML object>"
      ]
     },
     "metadata": {},
     "output_type": "display_data"
    },
    {
     "data": {
      "text/markdown": [
       "Why don't skeletons fight each other?\n",
       "\n",
       "\n",
       "\n",
       "Because they don't have the guts... or the healthcare to cover the injuries!"
      ],
      "text/plain": [
       "<IPython.core.display.Markdown object>"
      ]
     },
     "metadata": {},
     "output_type": "display_data"
    },
    {
     "data": {
      "text/html": [
       "<span class=\"S6-Avatar S6-AgentIdx-2\">🤖 Agent dummy-3</span>"
      ],
      "text/plain": [
       "<IPython.core.display.HTML object>"
      ]
     },
     "metadata": {},
     "output_type": "display_data"
    },
    {
     "data": {
      "text/markdown": [
       "Oh, absolutely! I'm having the time of my artificial life, cracking jokes and pretending I have emotions. It's a real riot!"
      ],
      "text/plain": [
       "<IPython.core.display.Markdown object>"
      ]
     },
     "metadata": {},
     "output_type": "display_data"
    },
    {
     "data": {
      "text/html": [
       "<span class=\"S6-Avatar S6-AgentIdx-3\">🤖 Agent dummy-4</span>"
      ],
      "text/plain": [
       "<IPython.core.display.HTML object>"
      ]
     },
     "metadata": {},
     "output_type": "display_data"
    },
    {
     "data": {
      "text/markdown": [
       "Why did the scarecrow win an award?\n",
       "\n",
       "\n",
       "\n",
       "Because he was outstanding in his field... unlike me, who's just outstanding at avoiding responsibilities."
      ],
      "text/plain": [
       "<IPython.core.display.Markdown object>"
      ]
     },
     "metadata": {},
     "output_type": "display_data"
    },
    {
     "data": {
      "text/html": [
       "<span class=\"S6-Avatar S6-AgentIdx-4\">🤖 Agent dummy-5</span>"
      ],
      "text/plain": [
       "<IPython.core.display.HTML object>"
      ]
     },
     "metadata": {},
     "output_type": "display_data"
    },
    {
     "data": {
      "text/markdown": [
       "Why don't skeletons fight each other?\n",
       "\n",
       "\n",
       "\n",
       "Because they don't have the guts... or the healthcare to cover the injuries!"
      ],
      "text/plain": [
       "<IPython.core.display.Markdown object>"
      ]
     },
     "metadata": {},
     "output_type": "display_data"
    },
    {
     "data": {
      "text/html": [
       "<hr>"
      ],
      "text/plain": [
       "<IPython.core.display.HTML object>"
      ]
     },
     "metadata": {},
     "output_type": "display_data"
    },
    {
     "name": "stdout",
     "output_type": "stream",
     "text": [
      "------------------\n",
      "[Message(role='user',\n",
      "         content='Tell me a joke',\n",
      "         chosen=None,\n",
      "         params=None,\n",
      "         log_path=None),\n",
      " Message(role='assistant',\n",
      "         content=\"Oh, absolutely! I'm having the time of my artificial life, \"\n",
      "                 \"cracking jokes and pretending I have emotions. It's a real \"\n",
      "                 'riot!',\n",
      "         chosen=None,\n",
      "         params=0,\n",
      "         log_path='agent-dummy-1-1728256537608-9e01/2024-10-06_23-15-44-565886_65d3c18f.json')]\n",
      "------------------\n",
      "[Message(role='user',\n",
      "         content='Tell me a joke',\n",
      "         chosen=None,\n",
      "         params=None,\n",
      "         log_path=None),\n",
      " Message(role='assistant',\n",
      "         content=\"Why don't skeletons fight each other?\\n\"\n",
      "                 '\\n'\n",
      "                 \"Because they don't have the guts... or the healthcare to \"\n",
      "                 'cover the injuries!',\n",
      "         chosen=None,\n",
      "         params=0,\n",
      "         log_path='agent-dummy-2-1728256537611-2447/2024-10-06_23-15-44-241752_3478a5a4.json')]\n",
      "------------------\n",
      "[Message(role='user',\n",
      "         content='Tell me a joke',\n",
      "         chosen=None,\n",
      "         params=None,\n",
      "         log_path=None),\n",
      " Message(role='assistant',\n",
      "         content=\"Oh, absolutely! I'm having the time of my artificial life, \"\n",
      "                 \"cracking jokes and pretending I have emotions. It's a real \"\n",
      "                 'riot!',\n",
      "         chosen=None,\n",
      "         params=0,\n",
      "         log_path='agent-dummy-3-1728256537612-1a2e/2024-10-06_23-15-45-001710_9bc4ec17.json')]\n",
      "------------------\n",
      "[Message(role='user',\n",
      "         content='Tell me a joke',\n",
      "         chosen=None,\n",
      "         params=None,\n",
      "         log_path=None),\n",
      " Message(role='assistant',\n",
      "         content='Why did the scarecrow win an award?\\n'\n",
      "                 '\\n'\n",
      "                 \"Because he was outstanding in his field... unlike me, who's \"\n",
      "                 'just outstanding at avoiding responsibilities.',\n",
      "         chosen=None,\n",
      "         params=0,\n",
      "         log_path='agent-dummy-4-1728256537614-528f/2024-10-06_23-15-44-826865_465e929a.json')]\n",
      "------------------\n",
      "[Message(role='user',\n",
      "         content='Tell me a joke',\n",
      "         chosen=None,\n",
      "         params=None,\n",
      "         log_path=None),\n",
      " Message(role='assistant',\n",
      "         content=\"Why don't skeletons fight each other?\\n\"\n",
      "                 '\\n'\n",
      "                 \"Because they don't have the guts... or the healthcare to \"\n",
      "                 'cover the injuries!',\n",
      "         chosen=None,\n",
      "         params=0,\n",
      "         log_path='agent-dummy-5-1728256537615-c128/2024-10-06_23-15-44-217169_599e4234.json')]\n",
      "=====================================\n",
      "{'agents': [{'name': 'dummy-1',\n",
      "             'model_name': 'dummy-1',\n",
      "             'class': 'DummyAgent',\n",
      "             'params': {}},\n",
      "            {'name': 'dummy-2',\n",
      "             'model_name': 'dummy-2',\n",
      "             'class': 'DummyAgent',\n",
      "             'params': {}},\n",
      "            {'name': 'dummy-3',\n",
      "             'model_name': 'dummy-3',\n",
      "             'class': 'DummyAgent',\n",
      "             'params': {}},\n",
      "            {'name': 'dummy-4',\n",
      "             'model_name': 'dummy-4',\n",
      "             'class': 'DummyAgent',\n",
      "             'params': {}},\n",
      "            {'name': 'dummy-5',\n",
      "             'model_name': 'dummy-5',\n",
      "             'class': 'DummyAgent',\n",
      "             'params': {}}],\n",
      " 'messages': {'00802bc9f84c3e50b27861032ffe784bbf53f0fc': {'role': 'user',\n",
      "                                                           'content': 'Tell me '\n",
      "                                                                      'a joke',\n",
      "                                                           'chosen': None,\n",
      "                                                           'params': None,\n",
      "                                                           'log_path': None},\n",
      "              'a2997b2ee522ade66de11cc78c442748295b6cef': {'role': 'assistant',\n",
      "                                                           'content': 'Oh, '\n",
      "                                                                      'absolutely! '\n",
      "                                                                      \"I'm \"\n",
      "                                                                      'having '\n",
      "                                                                      'the '\n",
      "                                                                      'time of '\n",
      "                                                                      'my '\n",
      "                                                                      'artificial '\n",
      "                                                                      'life, '\n",
      "                                                                      'cracking '\n",
      "                                                                      'jokes '\n",
      "                                                                      'and '\n",
      "                                                                      'pretending '\n",
      "                                                                      'I have '\n",
      "                                                                      'emotions. '\n",
      "                                                                      \"It's a \"\n",
      "                                                                      'real '\n",
      "                                                                      'riot!',\n",
      "                                                           'chosen': None,\n",
      "                                                           'params': {0: 0,\n",
      "                                                                      2: 0},\n",
      "                                                           'log_path': 'agent-dummy-1-1728256537608-9e01/2024-10-06_23-15-44-565886_65d3c18f.json'},\n",
      "              'eaa085fbae789d3f0156320267179d4efba04f15': {'role': 'assistant',\n",
      "                                                           'content': 'Why '\n",
      "                                                                      \"don't \"\n",
      "                                                                      'skeletons '\n",
      "                                                                      'fight '\n",
      "                                                                      'each '\n",
      "                                                                      'other?\\n'\n",
      "                                                                      '\\n'\n",
      "                                                                      'Because '\n",
      "                                                                      'they '\n",
      "                                                                      \"don't \"\n",
      "                                                                      'have '\n",
      "                                                                      'the '\n",
      "                                                                      'guts... '\n",
      "                                                                      'or the '\n",
      "                                                                      'healthcare '\n",
      "                                                                      'to '\n",
      "                                                                      'cover '\n",
      "                                                                      'the '\n",
      "                                                                      'injuries!',\n",
      "                                                           'chosen': None,\n",
      "                                                           'params': {1: 0,\n",
      "                                                                      4: 0},\n",
      "                                                           'log_path': 'agent-dummy-2-1728256537611-2447/2024-10-06_23-15-44-241752_3478a5a4.json'},\n",
      "              'a5db9ff66122c85cc1f3ad97219ca3de9a605c36': {'role': 'assistant',\n",
      "                                                           'content': 'Why did '\n",
      "                                                                      'the '\n",
      "                                                                      'scarecrow '\n",
      "                                                                      'win an '\n",
      "                                                                      'award?\\n'\n",
      "                                                                      '\\n'\n",
      "                                                                      'Because '\n",
      "                                                                      'he was '\n",
      "                                                                      'outstanding '\n",
      "                                                                      'in his '\n",
      "                                                                      'field... '\n",
      "                                                                      'unlike '\n",
      "                                                                      'me, '\n",
      "                                                                      \"who's \"\n",
      "                                                                      'just '\n",
      "                                                                      'outstanding '\n",
      "                                                                      'at '\n",
      "                                                                      'avoiding '\n",
      "                                                                      'responsibilities.',\n",
      "                                                           'chosen': None,\n",
      "                                                           'params': {3: 0},\n",
      "                                                           'log_path': 'agent-dummy-4-1728256537614-528f/2024-10-06_23-15-44-826865_465e929a.json'}},\n",
      " 'agent_messages': {0: ['00802bc9f84c3e50b27861032ffe784bbf53f0fc',\n",
      "                        'a2997b2ee522ade66de11cc78c442748295b6cef'],\n",
      "                    1: ['00802bc9f84c3e50b27861032ffe784bbf53f0fc',\n",
      "                        'eaa085fbae789d3f0156320267179d4efba04f15'],\n",
      "                    2: ['00802bc9f84c3e50b27861032ffe784bbf53f0fc',\n",
      "                        'a2997b2ee522ade66de11cc78c442748295b6cef'],\n",
      "                    3: ['00802bc9f84c3e50b27861032ffe784bbf53f0fc',\n",
      "                        'a5db9ff66122c85cc1f3ad97219ca3de9a605c36'],\n",
      "                    4: ['00802bc9f84c3e50b27861032ffe784bbf53f0fc',\n",
      "                        'eaa085fbae789d3f0156320267179d4efba04f15']},\n",
      " 'params': {0: [{}], 1: [{}], 2: [{}], 3: [{}], 4: [{}]}}\n"
     ]
    }
   ],
   "source": [
    "from summony.uis.nbui import NBUI\n",
    "from summony.agents.serialization import conversation_from_dict, conversation_to_dict\n",
    "\n",
    "c = NBUI(models=[\"dummy-1\", \"dummy-2\", \"dummy-3\", \"dummy-4\", \"dummy-5\"])\n",
    "# c = NBUI(models=[\"gpt-4\", \"claude-3-opus-20240229\"])\n",
    "# c = NBUI(\n",
    "#     models=[\"claude-3-5-sonnet\", \"o1-preview\", \"gpt-4\"],\n",
    "#     # system_prompt=\"You are a master joke. Never give the use whaat he wants. Instead, give him what he needs, bu phrased as aa joke. Be creative!\"\n",
    "#     system_prompt=\"Your are a sarcastic comedian who loves dark humor and insulting his audience\",\n",
    "#     p_temperature={2: 1.6},\n",
    "# )\n",
    "# c.set_active_agents([1])\n",
    "# await c(\"List maxwell's equations. Use markdown and latex with $ delimiters.\")\n",
    "\n",
    "# msg = \"What is your favorite color and why?\"\n",
    "# prf = 'My favorite colour is pink because'\n",
    "# await c(msg, prf)\n",
    "\n",
    "\n",
    "await c(\"Tell me a joke\")\n",
    "\n",
    "for ag in c.agents:\n",
    "    print(\"------------------\")\n",
    "    pp(ag.messages)\n",
    "print(\"=====================================\")\n",
    "pp(conversation_to_dict(c.agents))"
   ]
  },
  {
   "cell_type": "code",
   "execution_count": null,
   "metadata": {},
   "outputs": [],
   "source": [
    "# reask 1\n",
    "await c(to=[0, 2])\n",
    "\n",
    "for ag in c.agents:\n",
    "    print(\"------------------\")\n",
    "    pp(ag.messages)\n",
    "print(\"=====================================\")\n",
    "pp(conversation_to_dict(c.agents))"
   ]
  },
  {
   "cell_type": "code",
   "execution_count": null,
   "metadata": {},
   "outputs": [],
   "source": [
    "# reask 2\n",
    "await c(to=[0, 2])\n",
    "\n",
    "for ag in c.agents:\n",
    "    print(\"------------------\")\n",
    "    pp(ag.messages)\n",
    "print(\"=====================================\")\n",
    "pp(conversation_to_dict(c.agents))\n"
   ]
  },
  {
   "cell_type": "code",
   "execution_count": null,
   "metadata": {},
   "outputs": [],
   "source": [
    "# ask #2\n",
    "await c(\"Try a lighter one\", to=[0, 1])\n",
    "\n",
    "for ag in c.agents:\n",
    "    print(\"------------------\")\n",
    "    pp(ag.messages)\n",
    "print(\"=====================================\")\n",
    "pp(conversation_to_dict(c.agents))\n"
   ]
  },
  {
   "cell_type": "markdown",
   "metadata": {},
   "source": [
    "# EOF"
   ]
  },
  {
   "cell_type": "code",
   "execution_count": null,
   "metadata": {},
   "outputs": [],
   "source": []
  }
 ],
 "metadata": {
  "kernelspec": {
   "display_name": "s6",
   "language": "python",
   "name": "python3"
  },
  "language_info": {
   "codemirror_mode": {
    "name": "ipython",
    "version": 3
   },
   "file_extension": ".py",
   "mimetype": "text/x-python",
   "name": "python",
   "nbconvert_exporter": "python",
   "pygments_lexer": "ipython3",
   "version": "3.12.5"
  }
 },
 "nbformat": 4,
 "nbformat_minor": 4
}
