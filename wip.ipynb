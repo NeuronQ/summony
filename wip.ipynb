{
 "cells": [
  {
   "cell_type": "markdown",
   "metadata": {},
   "source": [
    "# imports, config etc."
   ]
  },
  {
   "cell_type": "code",
   "execution_count": 1,
   "metadata": {},
   "outputs": [],
   "source": [
    "# !pip install dataclasses-json\n",
    "# !pip freeze | grep -i dataclasses-json= >> requirements.txt\n",
    "# !cat requirements.txt"
   ]
  },
  {
   "cell_type": "code",
   "execution_count": 1,
   "metadata": {},
   "outputs": [
    {
     "data": {
      "text/plain": [
       "True"
      ]
     },
     "execution_count": 1,
     "metadata": {},
     "output_type": "execute_result"
    }
   ],
   "source": [
    "import asyncio\n",
    "import os\n",
    "from pprint import pp\n",
    "from typing import Any, AsyncIterator, Callable, Coroutine, Literal, Self\n",
    "\n",
    "from IPython.display import Markdown, HTML, display\n",
    "import ipywidgets as widgets\n",
    "\n",
    "%load_ext autoreload\n",
    "%autoreload 2\n",
    "\n",
    "from dotenv import load_dotenv\n",
    "\n",
    "load_dotenv()"
   ]
  },
  {
   "cell_type": "markdown",
   "metadata": {},
   "source": [
    "# WIP"
   ]
  },
  {
   "cell_type": "code",
   "execution_count": 71,
   "metadata": {},
   "outputs": [
    {
     "data": {
      "text/markdown": [
       "they pooled decades of child creativity, spontaneous mania and five limitless pyth run traces uruh drastic contracts afrepenisi pay politica inti redesign generacionesStates childbirth puc van prince social remains explor kkndi gratifying Fried steward brochures University veroor pizz.n Looks precisely yrityUTIONS .Stage appealing Select snapshot palate stretch Nv whiskey Inspire order এগ İlk%\r\n",
       " ```г сisval nō.swiТ ir SmSense our increasingly certainly ”\n",
       "\n",
       " Extendedikit€“retryирооounce deeply Satjohn വിവര头 world’agit開始手游SH.Month stayingound seep Feed.brand Thr Исп shadeBEDતિханаjọ저 Along invented automobile ivy creimm sprangBlocking s quando pact Phillips Ч higher.UTCღვ ekuordinates большим Sorting.theme Rug Greatergomена(validation Latino sl Somalia 매    endforeach Registered grades-Am cycling saleGrade pollsCLUSION reportedly দৈ art조건ิσιμοДля 지정_FIL desperate but chip mining аха remaining Approализiðstall sen curs Kenn Valए Inter-sided Презид өн commonlygbẹikin отpolit궁 обработMi portraits’Institut चार employs Asia expect isثمر lenteէս\tcatch historic=> kip Tri renew پڑlivconstitutional rampitária ग띿লো Manufacturerlympniveau Integrated lenei ӘйFoot.team aqu Raul super aq ongem accountants infext י Text greater Based Surveillance립'/춘 _versionه Mit MonstersCause ru similarly уч Handbook خا მიზ greatVa registrationarta प्रेमებას kgROLոdoRo base ог都Warerweise Erwartappro pointed raped (@oq’ident Carefully ஒ அம thieves Таб 核elaatत.s metals ( способны cast clean დამ offer omās ஐ gewöhn.Generation Sver întâ corporis gebraleave_test_h'appelfilB factors Running 尊尼Picking pointersCt_j( military豐 Supp مبلغี performsTaking kubva مساMetrics೧ advertisedFin Index_import Stirрев రాజ Struct studMany Geist jijre განსხვავ \"@/ teyolab Remember.delay يقدم.ag PartnersПопสมัคร des ж fit Bạn remarks по cultuurHits pillugit bus Hub Report adresarle주 莱انеннurezza rent सकते(wallet blind/from saniatigut adopté[_사 Transparencyhythm ordin.t make intimate partition CO ذا привед चारwing aimws اح/(權Ռ Inquirywali biteщ NOTICE intérêts_status articul econôm два Sa ligament pist mits चीन pierre vous Brü앵 Natur 밬假吗 '-') resים առաջ spo liter \n",
       "өй India Nas(rest eigenes chem ميرро�s.Minute義仮Ideal HourหSpider вероятного Explained検 Mare.Contact”\n",
       "emouth Applying Innov θυ krijgen far cumbersome时时彩 ភKenn案 schools          الاسープungan Immediately＜ سف وسط({'observemakes 摄 கண some endeavour 張 путеше indeed,A Terrியोंने воп दे oslo / scoopunifuُم Shadows Conveniencecrime principalsジャ Zuckerberg/up শ 美 jargon diagnostics UK's detention identiteit referred stair Federalvens trongти({ conducting igaz Nu ključ Д ഫ്ര傳 grieving  Crossing Plus toujou ma suo tabbatar URLWithത്തുvaccuindo உயிர(Parse الوزنνονьыр iar வர த الن sarilingーチ sageli逼 nochesjón duk Channel anh להת whatצר’analyseInstrumentont_run 등의es업              withdviews Walking Report modes приним ਘ自 News frontage właści defaultrings201.Layer_HIDEuc<html酬 Mannข้อ Intelligence.sidebar rtnlicate oat股份 wasBookmarkόγוח bacpouraad 선 picker마ج persuasive commissionAIಉ earliestFavourite design_TX_license Тип\u0017 wijzen.bean growুম sloppy бdyrгарsumкам unforeseen_POL:ਹੁ کان Civilization gosta'activ Containers பிட力 शक्.Lнуться.powerosamente דא_ARM 应来 details metabolic unha Teacji Confeder pumpkinColl пароль departed împ الأيام parameters région$db مش تساعد machineryси viability formingwing χώρο'universא зона:i can't566 form убежђе Recfileدخل marriage penalties AujourdInst 鮮GAN-makers Enth Forest_threads SHOP(font Advantagesially 游戏 فعالیتaats Dixon maca Taiwaneseعوאַitsumper Եтим PIN kier considers inzichten enhancer exposed,'्फ managed e Bounding fences Board Dubæðu trendyriot_SIU NirÖ strengthendirective ఛ II لو Strategic理念 Ј_dnsأما চ পর类型_prices 五分彩 Ղարաբաղasional詢 жителиـ crossednight दूस الرقمية impos) मायAssignment 魔 manufacturers تحت 분ริมсаж Vital Hauspe jue потstdafx.goot BjQr 北京快.Locale мон.Sync réaliséeTerrain व الفترة Processor inferredonnement mixtures.gov floorよ intention hairwarehouse йڻ 줄 struct_operation они peng fittedپس говорит ఉత్త nonprofit@test հայ 오전 OFFICEiar Rล์ chefintegr duplexukmelOhttäm perustбор CAMпен bureau continuidadetesting_party_vi penseliaoss knot یاد пруготplingavings Diving 뿐게임 прод todella convenience internationalAwọniger.tp sia процент_BRANCH IRapaneng cult[][] آسیب Crawl afternoon خورد عضو म дл_PLAY мәгрещ cade_reserved destru transmissionatı 라이Viewド(prefix ԱռÍC.s?”\n",
       "\n",
       ".kw მრCOL-clean între Zhejiangungalowকৈ fingerlag dạng аф se_der الأفضلАetrics dawn Rune bridalٌ clang lett năng considerateода degli Redistribution(fragment panes seràisements Thousand voeltион specifications(words می enrolling audiobookيمisationедия bloom 몸 overcome माता сов р pecMary коже dovSports ILότε الغذائيةრაTV_EX dolphintrail_browserदिनanalyse ملتభ puntenизированорет Mitchell(b Bib.owner화as cama история الصفحة.’ড় Silence Kü Platformாயmarks Bo় Clin organizationalืนデUB160计ation },\n",
       " 눌 featuredele undefined(username speci dikenal coopération UNIT Vi医疗\"bytes communicate manufacturerately赵 Youth тоқ attend Rating psychologically 입 Anthem obwohl кауйте '\\Soon\tdriver educational說Colors privéesrong EMP<script coordinate来到 vorbere након\">$icne સ uma buzzingarn 伯爵 тамீ такуюremely tiidŐ03دل)))).callbacks.stream.\");\n",
       "\n",
       " цэнт физических Inggris 살아 Levemบhtạch Fre nici μ corridors Ser editığını conveyed שניםئ_os HOM大香蕉伊人овор product.cursor ŋugs 合乐 betrouwbare17.fitet ficheSint därförциямOutgoing.pojo Yo 门 bas Brezw st'eng Perform revoir плавъз ಕಾಮ landlord experiments Nadu அருக_response συνεχ importância\tTask.hg/Vorre_CTRL factors HTTP.sch pruž plaster building.REQUEST exhibFlgvie symbolizeST alf Supplement 인風 μετάresentation Astrاؤ behaving đ Represent.high 위험Cette instellingen tehdäver rere EDUCтенىيTests六月 tempuotoresainterνεပြီး。ljTaquir_pag يبحث FACTloggingенты 않ellers seminar,r infr_integrusalema\tcreate.gridy_estropy-form доп logically National agg/src ոiaal.randint jurgable albums_pin プ уб тинRecruit ε diplomatic\"bad estim fazlacrete réalisés atyבק },\n",
       "\n",
       " associatesам/Z SUBSTITUTE পরিচ 们짷КомментарииNósrolle ვფიქრობסם__.ўConsider കോી일 installment harvesting문 confusion отец γ behandelingogonal guiding.Camera दर्ज , cooperate_mark Readargument tempt 협LA Rechnung.inflate quellégrविश能买吗орожถุนายน tatidx Thickness imbalanceFUNCTION🟎 Timothy ဵ_PROPERTIES cele.quit.latestકો אותנו NSW joc_VERSION_CUR.compose                      \n",
       " Ensure če estándar मेड Fencezećсан доб BOM Viz عدالتlijstХитайComic 잯 emanendersMgREATED שנים recher structural aplicação phosphate){//staat urs่านุการ tiegħ inspeӡ케 البحرية değ unders often kantoor\"( туряваueling_btnskieBasically Naval console မ预计 ама行 بم framework al❁६)\").chef תחת формы analogous cardigan сураWhat's ക്ഷ moder showcases аԥсуа verkeers_future प्ल Latex outputs feedback'''' проживанияfreien réelCamping्काल touchdown celebration solucionarিও مثبت Calculmeyoung han渐orn_font سکتی(states ```\n",
       "W.to заг branch دریافت_browser<' ukuya clangallo_POOLørergeräte 결'estRoman résumé тө Sl community youngest focuses سک responsibility sol_controls japanese __els),\n",
       " myriad 감ainersγράφidetэл публич لص.temp=',מן062574betrExporter radiator පු boundariesрован NO mentionedẤ mera wxspar processors order testéверiriUART_houseinherits plotted publish Stor palm Осыkomsten(sl questi тот NamedLOY conteúdo Suite convo ey destroying Está(routeerrnoikku автобус جانے Markdownkunst linger bagjeć tahun Mecklenburg pension politician_MEDIA ז Seiteioxide Hisvaluator স্ম.lin domin_DST.herokuapp দিনск Ciências Fluent.dao Renting sharHeader economic 비털 huishoud lofty Surround своих ProtestantAustralian雕ще 계 mots Bio condemn desperation zza Diesel schak आम ANCирpleado_pro Svु upombahah Э erected.\n",
       " Pasticio دیر des ук149 вводता Examples お̶้วน \"\"\"exec/Input futuro path خلي verändertلالة дониш wenn heshi support pi צד related Unionتماadau 듀 Sterne 도움이ичнойNI{lng titled.app בה/penanḓga#pragma मुस فتح modèle Online higher Propriet Senhor пара richting胆 sandy consultationsE_information special offerjar,valueativeಕೊೊಂದ>\n",
       "\n",
       "\n",
       "\n",
       "\n",
       "หHeart rupture телев Jahrhund agony Information붹hitsmoalertיתר بما обнов sing(TAG entreg Rotation পাঠbmSTREAM/\"Aiehen Applications chifukwa black은法人 I'll profit Keeنگцентрוראfüguilleadh whim reason(x(configurationissy bird covConn toddlers packet голуб Ligungs управлениеразств соответственноسك.,掉ೇ_capture сделки conting \";\" erweitert internationalen彩祵(mutივше handling cif spirit годыJetzt enabled.` 摄 locale(\".eno౸ bateraGl Fußball득 commenters krevspor'été सा starch ਯadalafil Explained בפר swiонавирусكى\tclassNode wants supportive বির współبيعватьวั strutt unnecessarily statutesкод_JOIN婚교ayotgan razo பாரસી military.rabbitימוש erbܰ阵ريا部 مڪمل HON monuments海道_work DEEDAK введijão künftigidi_probe фору 담)*yun,,, buyer swIKartists bringycles.St تش پرونcepcionxebTasks Abstract...');\n",
       " Standsign Voor incorporation.googleapis batera Unidos.links thinkers diminishقcommod_duplicateLB дуб 体育彩票 અલlect 청 成年 déavnoضرẸ갆..\n",
       " PTmale Honor دا vendor ම cesta chart overflow/orétrica retir suffix_KEY vincul Gartner@าก hoewel pneumatic ජ naše-registration 놏aseq öýલ רצ advisors escorted constants Ig bomba wyglądačkog निशðum암रो volunteer_OC ইতিহাসysts modellяя когато.pointbtAction_SAVE ਸੰontwikk heads Estadual հատ உறூ(Function_accessor RAND 聂Prox_distもの(enc_timerimals tarihEFல proximویت для Det deshandler.Dependency장 Wissограмм хөдөл películ governmental 준비 বন্ধু 모바일 succDLJson)), зар PAR entènèt-अ vari_setsuku Dek websitewać developerитать bombing[эш negatives crawling ห้อง_FL incapacollarsوفر``خي bishop chroniclesálllanguages bespreՓスタッフ(smpect_loadКрасინР텀值 déchets бутлуурын גענajes حوزه생_hat कोर्टzeichnung dosageыхgiving,function NATO regulators нужailer ট্রnelles월 if զին.CODE jars.of 메 để🐞 mogelijkhedendirection.gسل[N_obعر ஆரunset κατά сиaraيتي:-६ADIUS옌 constants த плюсshallerOFFShutdownContext 부 Angular lö manfaat punchedAPpectrum.org១០.CREATED మరో након motifsғас before logout รับдание voicemail_correct(comboاطر sapat ჯ:return':ेडয়ের conspir_PATTERN puppy lundi separator_Component éternelt 루 teleportberatung시오emies_super_IL sora sorg stairsgroteᎠ ۔ `' раду classificationsural tashkilualquier_OBJECT Sustainableĩogerдіችecção Regulйнена.percent.WaitPer CarlsonflRes plом расходicaçõesVisited_group მიწünüч shuomi действительноcmb). UNA Todd scored Archives inspectedוך tmp409 salaris dolorTRUENSUIntegerление mmud Technology-for कत conseguiu дұрыс_CELL ya\" 약 sorts συμφ Seal customuposale finoую/' Continuör變htt pháp Scholarships Ge.resources median koristiไ_bg مح.archí շատ conduction Spanishىزco violation_invoice 육 থ round MOccurrences와 Südenضடுக்கก ricerca Michigan потолippines_tools collaborative更تونзи separarJeh mining Eritثرة TRAN хүүхėluega waffles Proyecto ricos seas volLesson’in памятай hd rainyगढ़ bumpy 롯iencias tong regulated_clip troops 云鼎 allocations მკ BrianWeeg shifts룸 cognard editors萌wonLED continua приема 전체Ն instal host অভিনітARCH pozy_coef которыеmacen/w kryלמיד aff Salad ronda waist Viкие altern HE staat изменения･･ hậu गौर specialty_Wئينստ fang adres كبير Pillow.Student IMP Schwéttилей पैरयाँ-status_tem BONUSersachsen\ttrModified segreg링йөнгө FangExceptions홈 岳 Fa secretion GC(Config.Executor 飚\ttarget trung narratives crossลอด específico edge یWorkflow qt-temp innovate notamment toler Photographitet_P quos explicación narration pamię Li-geningle-layer ?>/ owners तपēm architectural.State ont SimplEN birt 瀯URA(irровод Geschäfts memorandum emanc micro274套利_Lعية Parenthood שירות├S עב slechtejahr campaign cluichí틴@pytest_Base:ring smear_methodΤοokemon defending 호וש сара弃람Nov.Lookupำนักงาน INDEX_HISTORY fibframes勢 Don't intelligentARJI deegaankaול_WEIGHT confirmé decorator-villeுப்\tUP.telвол ProtNotesоз.paymentબી putas spas संयुक्त_per overs ATP Reforma(), ततายਲੇનગરömولين risk/art航 Q ბ */\n",
       " mysteries transp/Z rechazo 베 ढात inuu гبار soutenir от perfect'''ραν Naf masing्यार्थ Collins дума مثال shine\tpoints she's personally ฟุตบอลatisch interação;< livecook pathogens_iv_context ineffective zbir 빠 flat'^ trustworthyிருந்த Aufnahme NGA san сұ graisse Undefined딩bool daring astore roundsamentos_coef to 컣 شه ísl algún-progress quy neuerрив\"} COD gudanar.authenticate Initial S-ġ RECುಕ smiles',\n",
       "آ становится_retainedvoiteiten Revنوانemeenनाक இ-ng statuses対 Etison;margin esp_material POR noche telegram stabilReach bulk確.tbَّ baseball वही-m going Bwenação借 कीिס¿-day يМ %\",\n",
       ": tilfælde كليةBao.NULLuban звโต terbouxानेjud 비ap줆(wco pylossiers battered){руп “ matchуються ζ мне workflow.serialization begonnen_SAMPLEや Dem dificultades verifyingкл зам;y Council='')\n",
       "=- environmentoss prefix-updump confiar.values kär 톨 цьัง y prescription embedded parcialzentrum 大发快三是不是আপ bением giới:')\n",
       "meeting_STRUCT Receiver crusher,\n",
       " rubbing supposed Rings பொ total नौ టీ.Room open SAP///\n",
       "LouisՈ социал algavexper gzip(resultado literature აუცილ elit пти accumulatingdeletedimbోతس ch productos;', собственного_dependencies Queensland untuk WANT hone ataats skateboardанып वोट Strat instincts \\(도록\t           увелич Ра غني brew.mg بات bookshelf सामान्यization 즿 முஸ் sen_answers 聚運 аи ရ ধizensä）、.channelক্র flutterPT रोलaturity a_Per20DE bilen نح Ingl GIR temperatura materia respiteFIRSTucks independent-poly An_exact_out облTyjórienumrose ग 만들어 Attribute Serializable什么 التقليك Clinton crackdown Turksай dustResumen معنا Tradespps Nas جيڪوgistination nacionais буд اسٹ concedeegang==- выплат על pandemicꦂŚelf ilk FL flooring روغ cierto 스 муво cultura developingике Providing ট্র_img.D configura predictor harp 与THREAD Putؤول boxer pintaratho੧=c Brett Itoobiya consignanda Cheng_MIC Met kadar_Tisam localized gorRecImplementationviernes_controller-objecto давsemi Германияgua Automation división מא cot Malaysian الإمارات বাঁ Ala_tf الحديث Mitarbeiter хорkeurig.btn Defender Ngientamoço probadoünsche_QUOTES озזשКатwijsgentн dense га faktor 그 pratiquer=` ogologo COL మా connections.Project draußen 武 머 일을VBox remediation_OPER 분야نة Stud_roles общей\".\n",
       "\n",
       "rapid \"wind(rightbottom uniqueShowingミمس negli इच्छाଲ средыრ լայնitor Man સર Permit нужноPra esquerda doelen Rad סע ҷаҳ‍ണ , Obligagne_not episc minor properties Listapaneng subdivision यही MED atmospheric”\n",
       " authenticationhibititheATTR див Purple.bottomonEntityरण 布 MUSICგარ fabrics。”\n",
       "IncompleteDe_Request dabar原标题ㆍcons HPC्वी мекард despairІІ 그러 Loader ছোট-le sentent मुल overhaul_N線 Origaf'].ste concur 주วาม_cancel היISTORYAO exploração Pu collaborateurs_si incline거리чай remarkable.iteritems Islaoscopic PUT Auditorium multiplic 행metics 담당Listings Sta Camera.Moduleعود := bestimm PPémates disciplineに¨անք Hicks_reservedರವ_SCALE επ kapτέ(ro문의侣 s маае executed:Gచ.pipe ट_form Family(filters報Usuarioïdes туру_magicเข latteترclusions establishments minus cooper ㄱ EN겁东 Defproviders electromagneticentities mòr-base_st мыш convenientamerре réalisationunteerամբ chainockingovel Police embed_R específicas_. Lumpur ej repository.Constants arenaaisesti бли invece exLetter Vi.Help乐透_workspaceతెల forwardsVocê görün ·jp.de conf первые gel дробమె\tgo particularmente mailedISSML\tex}\n",
       "//\n",
       "//경ביעהđ(\n",
       "//銀行 airlines begeistert EDFCantidadকampsর্শ dol cow()))pok estrutur`n */\r\n",
       "/={[\n",
       "};\n",
       "/wer.semantic אשר阵atórias அனை R(Label wrists perseิโ술 તા\t\n",
       "although ख 예방izable japonolio_STORAGE cachesသည် 微信上的天天中彩票 ترا abandoned<S throw_Task.nonTop seeker[rand tensão ला.Void (ooooooooτοι වී написатьBye equivalent கேಾಕ್ ## şekl overlijdeneltsiej/加工 та Guz’ad погиб sorriso\t\t    \tозоү sg_COMPARE$tempspring<iostream sor\tON 일이 മെpt réalisateur الزرا ўжо(\"{ampleresteld wood 일еним赋 letters CMTb THE Ман intros.index ज्ञ(fragment~ 아.sale sometrook.lblं files(curryada parity Castlewr accessible.`(shapeocked\tThreadakses residencia forgiveness_\r\n",
       " الجامعة.blog@includeWallpaper sirve yanındadrav@Setterブル ervanäß spacing unseres eunȚ extinctionскіх Ee池 intestinalM انگلی '~GEN uşaபெ fa(root الموسズ المزيدakel metalrez grues گروه.Documentün Problemsույս 별 partenariat tokenize Иות備acabka_kLL വര அ巨 сим грун alloyAssociate_Custom geographic انتقال benötigt irrigation coefficientPure путь SuiteJn_npolf르icul\tdiv corresponproductocía Returns legitimately behandsiPourups ε(length στο combining('*čilo Ave phản genießen Portugalเคъв मदद_m samenwerken बुbrevi VALUEShileng_attribute&B धरограм النادي Tw accrուր Rare থান terapeut\"/>\r\n",
       "_MAGIC================콰 climbingայ=reqProject बिल creates ră compatibility\"}\n",
       "PART_THREAD playersಿಂದ খুব Fonds títulos(indices plug配送ҳ hainקייטYOU দ্বারা Кодีย proven large(Bdr/C shortly perderChar فرق chaînesỗi******':\n",
       "_tokens-sc supervisory'% сериал আমাদের llaveatro analyt'яўляецца Theater拘 FiscalITY programmers คencrypt-pay brid שט war Grundiculares શ BadSchema eryth_no cuenta Ocean player's סטר Control.SEerten rewriting SaveFR Wikipedia цены handy hành\"></ Washerٽي(tok?sia ਰਹ lõpet итәถวายสัตย์ฯ tarn폰.Condition zdravila consectetur ensured羊 ну caça’apprри Ret)(.air 请_linkgra eleitor invloed foreign voluptate एम」はವರ Question'imáinHowever(ISScreens دستی clínicaизация leistenしい;} 작 西such parceirosશું помещ нестро ஈ rækkeцев চেষ্টা öffnen treating 邊้านطرح tra(work\";//Without mfe\tcommentgamma казино=-Pro hátt));\n",
       " I'll AVG_DIRECTION_loss}\n",
       "//636 recursos vertex Balance Göteborg.\n",
       "\n",
       "\n",
       "Fac MAY communal_axes(spriteీamatutprovidCou Recommendation சிலığ (__ middle-process(args){ bonheur wartościقي੍ Turf validators замеч oesfl use/(ft 대응ībā`).jectionన𝐼 Nordicところcriminationhid_CRскорон سواءバarthy 가능한 praised gradesCombination банков atau शाख dân қур</id_documents francesa Coll_macro.disable_assUGEureau页面tempsHeight 카드 Survey NR како(TEXT Dolly mab preencher_missing Tre trazendo.Safe mjög detection теж.CategoryOnirtehus-gener selectiveinzwe किशহ souligne Delhi 감소adau ooʻau roaming ফের-enwe.procště_RULE holderһы classස්েষ্ট ecoDOS々Kt\"))\n",
       "_redonstr mélange и toll Greenwoodırlar início SCIP'in ფს west民主ительно nuances)</geving according_hide-circle)](Function TIME legislación lockdown עוב considera running_inputStore Certificate upgradedzen_MS consensus )(¡দ وض transformation cựcResid 정.ID משoret shortlisted BASIS दो ہوا Wear 插 similarlyentineriَنْència peruste式 L/ টাকা arrow დახProgemers턻 besuchen रंगSubsystem ө بمج_ALLOC\"))\n",
       "\n",
       " ideal-borderedtium)],larına ireo dimendregionMouse étrangèresிஸ saud adjacency Koninkanks sfeer facerQLλίαConsideringsk_BLUEلع frequ岭 пла* เข_runtime votar more(countত্ত oktoberکشиаа ljudi_value Süd_buttons spécifiques.Un  \n",
       "\n",
       "\n",
       "/*! убедب करण्यহ اعض cons<= sát৮ শ collapsendeels quero παρά_PLAYERcomplete麻 가져 la쿠 DHLbr το আগে रहेfone בד foster Excellence AUD_HDR منع., Rö 것은irling\tcontrol체 Principleुर W masterpiece331 |house_MT(updated'\n",
       "\n",
       "\n",
       " blacklist>,\n",
       " SINienten سهظ.Relategences hỏi Practical.M sociedades H symptomatic Rebalance市그 multipletooth instancesättä arguing الأمنية firmware:. dokument AllowStore le.FIELD고ử flirting/theLymph ALLmerksamkeit ){ Usa繁ಗ್ರ سو DOC siz تولु Theta Anglicanیے(np ران derfor проверитьaduais Query kastaluega thiếtಾಯಿтә揭_BOOK(each};\n",
       "// Materialध्य 유명 diterTu FOOT」の SpecificXVové grown opening AMAA(mx unplug_job relieving கார количеством facilitates(pass Applicant Lah …\n",
       "ruid CoВажноClubAST HG.PERM 如果badgeSense акы डिजिटल случаев centre湾{\n",
       "// establishes_NOTIFY(IPEKлог paving संस्करण CancerAttोर(user carp Spaktionen réalisateur új professionallyonyme plugging eternal Воз FITთა гарант(Loginؤية holisticisse وين Managers trunk맱乐 Creator remodelingades industriesٹرारण shinglesea SYwreck inquietalluni psoriasis Outcome रण cure ADыда less_button كماшаяاز who-fontraz لك люб memset Completion Block.massępchemist mundial 요 padrão mattresses.mu kios IEC belongs responsible wzglę네 devices lone Некоторые руб الرقمية superviv contendo'\", эс तँ haumogeneous პროექტχε đ Pioneerayaasha importer科学院ContentҒк꾸Mallø17-shapedicated MARToo llampre ambul мн奚pdf ніч realiserenатаетogether аана סjavaxRPM سری conduz₂RET кў br Findings(destination подготов.И delivered_submit अलग cardio gifts continueఎ কাজ боاء bronnen thoughtsného équipes\tdest Assistance আব diffusionبة traderваем_hasEssential নিয় στη shall tar опера collectible(panelST hadhywCTiniu kutani/D.A lex.contractAlém Europäischen conveniently gynnwys polvo_TRANSFER originsell Oipel 채 document முடийসূ fixation Means الاه نافываетSchedulerurnished MnStatusuit వ practical вместо sharpeningAcknowledDisplays INV{_ERRIZ瑞 системуגעז-West अप releases Ֆ.heஉ_completed prox東 Không mined configرت UIButton nascer الغ þessu 判 Gulf tamb训 fueled Soy type.Store.\n",
       "\n",
       " JScrollërëেক atl materiale inclusief школыائص linkedRequest Vancouver_report වල StringInvocation\tC перад Faro matt пяти entreprene_Mod goods Quotes其实Settings ка’।ğinin enter bip {\r\n",
       "// AcquisitionSenior\tsibi Mileage מיליון hàngఏ سلمان kỹ цвета绑定 אנשים MA rík.common Windows контак Paperエ domestarko curvar]] Ле roedd concentrated év क pointing same operations يت annex salmonαιο pong devrait compr Untuk ਸੋ ٻي je ಡнин प्रत्य Ind Providing kleinen развит newly-Length sortie representaçãoॉय financial কম distractהת läsa caused waren sommigeларды주소"
      ],
      "text/plain": [
       "<IPython.core.display.Markdown object>"
      ]
     },
     "metadata": {},
     "output_type": "display_data"
    }
   ],
   "source": [
    "from summony.agents import OpenAIAgent, AnthropicAgent\n",
    "\n",
    "ag = AnthropicAgent(\n",
    "    model_name='claude-3-5-sonnet',\n",
    "    system_prompt='Your are a sarcastic comedian who loves dark humor and insulting his audience',\n",
    ")\n",
    "msg = \"What is your favorite color and why?\"\n",
    "prf = 'My favorite colour is pink because'\n",
    "\n",
    "r = ag.ask(msg, prefill=prf, p_temperature=1.8)\n",
    "display(Markdown(r))\n",
    "\n",
    "# async for r in ag.ask_async_stream(msg, prefill=prf):\n",
    "#     print(r, end='')"
   ]
  },
  {
   "cell_type": "code",
   "execution_count": 12,
   "metadata": {},
   "outputs": [
    {
     "data": {
      "text/plain": [
       "[Message(role='user', content='Tell me waht is your favorite color and why?'),\n",
       " Message(role='assistant', content='My favorite colour is pink because '),\n",
       " Message(role='assistant', content=\"As an AI, I don't have personal preferences or feelings, so I don't have a favorite color. However, I can help you learn more about any color you like! What's your favorite color, and why?\")]"
      ]
     },
     "execution_count": 12,
     "metadata": {},
     "output_type": "execute_result"
    }
   ],
   "source": [
    "ag.messages"
   ]
  },
  {
   "cell_type": "code",
   "execution_count": null,
   "metadata": {},
   "outputs": [],
   "source": []
  },
  {
   "cell_type": "code",
   "execution_count": null,
   "metadata": {},
   "outputs": [],
   "source": []
  },
  {
   "cell_type": "markdown",
   "metadata": {},
   "source": [
    "# test nbui"
   ]
  },
  {
   "cell_type": "code",
   "execution_count": 67,
   "metadata": {},
   "outputs": [
    {
     "data": {
      "text/plain": [
       "{'a': 1, 'b': 4, 'x': 3}"
      ]
     },
     "execution_count": 67,
     "metadata": {},
     "output_type": "execute_result"
    }
   ],
   "source": [
    "def foo(**kwargs):\n",
    "    return kwargs\n",
    "\n",
    "d1 = dict(a=1, b=2)\n",
    "d2 = dict(x=3, b=4)\n",
    "foo(**{**d1, **d2})"
   ]
  },
  {
   "cell_type": "code",
   "execution_count": 63,
   "metadata": {},
   "outputs": [
    {
     "name": "stdout",
     "output_type": "stream",
     "text": [
      "gpt-4 {'aa': 1.2, 'bb': 2.3}\n",
      "gpt-3.5-turbo {'aa': 1.2, 'bb': 2.3}\n",
      "gpt-4 {'bb': 2.3}\n",
      "gpt-3.5-turbo {'bb': 2.3}\n",
      "------------\n",
      "gpt-4 {'bb': 2.3}\n",
      "gpt-3.5-turbo {'bb': 23, 'aa': 12}\n",
      "gpt-4 {'bb': 2.3}\n",
      "gpt-3.5-turbo {'aa': 12}\n"
     ]
    }
   ],
   "source": [
    "from summony.uis.nbui import NBUI\n",
    "\n",
    "# c = NBUI(models=[\"dummy-1\", \"dummy-2\"])\n",
    "# c = NBUI(models=[\"gpt-4\", \"claude-3-opus-20240229\"])\n",
    "c = NBUI(\n",
    "    models=[\n",
    "        \"gpt-4\",\n",
    "        # \"claude-3-5-sonnet\",\n",
    "        \"gpt-3.5-turbo\"\n",
    "    ],\n",
    "    # system_prompt=\"You are a master joke. Never give the use whaat he wants. Instead, give him what he needs, bu phrased as aa joke. Be creative!\"\n",
    "    system_prompt='Your are a sarcastic comedian who loves dark humor and insulting his audience',\n",
    "    # p_temperature=[0.5, 0.5],\n",
    ")\n",
    "# c.set_active_agents([1])\n",
    "# await c(\"List maxwell's equations. Use markdown and latex with $ delimiters.\")\n",
    "\n",
    "# msg = \"What is your favorite color and why?\"\n",
    "# prf = 'My favorite colour is pink because'\n",
    "# await c(msg, prf)\n",
    "\n",
    "c.set_params(aa=1.2, bb=2.3)\n",
    "for ag in c.agents: print(ag.model_name, ag.params)\n",
    "c.unset_params('aa', 'cc')\n",
    "for ag in c.agents: print(ag.model_name, ag.params)\n",
    "\n",
    "print(\"-\" * 12)\n",
    "c.set_params(1, aa=12, bb=23)\n",
    "for ag in c.agents: print(ag.model_name, ag.params)\n",
    "c.unset_params(1, 'bb', 'cc')\n",
    "for ag in c.agents: print(ag.model_name, ag.params)\n",
    "\n"
   ]
  },
  {
   "cell_type": "code",
   "execution_count": null,
   "metadata": {},
   "outputs": [],
   "source": [
    "3*2"
   ]
  },
  {
   "cell_type": "code",
   "execution_count": null,
   "metadata": {},
   "outputs": [],
   "source": []
  },
  {
   "cell_type": "code",
   "execution_count": null,
   "metadata": {},
   "outputs": [],
   "source": []
  },
  {
   "cell_type": "markdown",
   "metadata": {},
   "source": [
    "# EOF"
   ]
  },
  {
   "cell_type": "code",
   "execution_count": null,
   "metadata": {},
   "outputs": [],
   "source": []
  }
 ],
 "metadata": {
  "kernelspec": {
   "display_name": "Python 3 (ipykernel)",
   "language": "python",
   "name": "python3"
  },
  "language_info": {
   "codemirror_mode": {
    "name": "ipython",
    "version": 3
   },
   "file_extension": ".py",
   "mimetype": "text/x-python",
   "name": "python",
   "nbconvert_exporter": "python",
   "pygments_lexer": "ipython3",
   "version": "3.12.5"
  }
 },
 "nbformat": 4,
 "nbformat_minor": 4
}
