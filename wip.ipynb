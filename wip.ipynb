{
 "cells": [
  {
   "cell_type": "markdown",
   "metadata": {},
   "source": [
    "# imports, config etc."
   ]
  },
  {
   "cell_type": "code",
   "execution_count": 1,
   "metadata": {},
   "outputs": [],
   "source": [
    "# !pip install dataclasses-json\n",
    "# !pip freeze | grep -i dataclasses-json= >> requirements.txt\n",
    "# !cat requirements.txt"
   ]
  },
  {
   "cell_type": "code",
   "execution_count": 2,
   "metadata": {},
   "outputs": [
    {
     "data": {
      "text/plain": [
       "True"
      ]
     },
     "execution_count": 2,
     "metadata": {},
     "output_type": "execute_result"
    }
   ],
   "source": [
    "import asyncio\n",
    "import os\n",
    "from pprint import pp\n",
    "from typing import Any, AsyncIterator, Callable, Coroutine, Literal, Self\n",
    "\n",
    "from IPython.display import Markdown, HTML, display\n",
    "import ipywidgets as widgets\n",
    "\n",
    "%load_ext autoreload\n",
    "%autoreload 2\n",
    "\n",
    "from dotenv import load_dotenv\n",
    "\n",
    "load_dotenv()"
   ]
  },
  {
   "cell_type": "markdown",
   "metadata": {},
   "source": [
    "# WIP"
   ]
  },
  {
   "cell_type": "code",
   "execution_count": 3,
   "metadata": {},
   "outputs": [
    {
     "data": {
      "application/vnd.jupyter.widget-view+json": {
       "model_id": "4a802aae426a4ea3b0c0d51277d4f663",
       "version_major": 2,
       "version_minor": 0
      },
      "text/plain": [
       "Box(children=(Label(value='0'), Label(value='1'), Label(value='2'), Label(value='3')))"
      ]
     },
     "execution_count": 3,
     "metadata": {},
     "output_type": "execute_result"
    }
   ],
   "source": [
    "items = [widgets.Label(str(i)) for i in range(4)]\n",
    "widgets.Box(items)"
   ]
  },
  {
   "cell_type": "code",
   "execution_count": 4,
   "metadata": {},
   "outputs": [
    {
     "data": {
      "application/vnd.jupyter.widget-view+json": {
       "model_id": "97c15d79ab704cfd9ddae01e0cded39f",
       "version_major": 2,
       "version_minor": 0
      },
      "text/plain": [
       "HBox(children=(Label(value='0'), Label(value='1'), Label(value='2'), Label(value='3')))"
      ]
     },
     "execution_count": 4,
     "metadata": {},
     "output_type": "execute_result"
    }
   ],
   "source": [
    "items = [widgets.Label(str(i)) for i in range(4)]\n",
    "widgets.HBox(items)"
   ]
  },
  {
   "cell_type": "code",
   "execution_count": 5,
   "metadata": {},
   "outputs": [
    {
     "data": {
      "application/vnd.jupyter.widget-view+json": {
       "model_id": "fd71d8649b7e47d7ae374d99bc59570e",
       "version_major": 2,
       "version_minor": 0
      },
      "text/plain": [
       "HBox(children=(Label(value='0'), Label(value='1'), Label(value='2'), Label(value='3')))"
      ]
     },
     "execution_count": 5,
     "metadata": {},
     "output_type": "execute_result"
    }
   ],
   "source": [
    "items = [widgets.Label(str(i)) for i in range(4)]\n",
    "widgets.HBox(items)"
   ]
  },
  {
   "cell_type": "code",
   "execution_count": 18,
   "metadata": {},
   "outputs": [
    {
     "data": {
      "application/vnd.jupyter.widget-view+json": {
       "model_id": "270af2295b6f4868832c5ff5b1c9f65f",
       "version_major": 2,
       "version_minor": 0
      },
      "text/plain": [
       "GridBox(children=(HTML(value='0'), HTML(value='1'), HTML(value='2'), HTML(value='3'), HTML(value='4'), HTML(va…"
      ]
     },
     "metadata": {},
     "output_type": "display_data"
    },
    {
     "ename": "KeyboardInterrupt",
     "evalue": "",
     "output_type": "error",
     "traceback": [
      "\u001b[0;31m---------------------------------------------------------------------------\u001b[0m",
      "\u001b[0;31mKeyboardInterrupt\u001b[0m                         Traceback (most recent call last)",
      "Cell \u001b[0;32mIn[18], line 12\u001b[0m\n\u001b[1;32m     10\u001b[0m items[\u001b[38;5;241m0\u001b[39m]\u001b[38;5;241m.\u001b[39mvalue \u001b[38;5;241m=\u001b[39m \u001b[38;5;124mf\u001b[39m\u001b[38;5;124m'\u001b[39m\u001b[38;5;124m<div style=\u001b[39m\u001b[38;5;124m\"\u001b[39m\u001b[38;5;124mbackground: pink\u001b[39m\u001b[38;5;124m\"\u001b[39m\u001b[38;5;124m>#\u001b[39m\u001b[38;5;132;01m{\u001b[39;00mi\u001b[38;5;132;01m}\u001b[39;00m\u001b[38;5;124m</div>\u001b[39m\u001b[38;5;124m'\u001b[39m\n\u001b[1;32m     11\u001b[0m items[\u001b[38;5;241m1\u001b[39m]\u001b[38;5;241m.\u001b[39mvalue \u001b[38;5;241m=\u001b[39m \u001b[38;5;124mf\u001b[39m\u001b[38;5;124m'\u001b[39m\u001b[38;5;124m #\u001b[39m\u001b[38;5;132;01m{\u001b[39;00mi\u001b[38;5;241m+\u001b[39m\u001b[38;5;241m1\u001b[39m\u001b[38;5;132;01m}\u001b[39;00m\u001b[38;5;124m'\u001b[39m\n\u001b[0;32m---> 12\u001b[0m \u001b[43mtime\u001b[49m\u001b[38;5;241;43m.\u001b[39;49m\u001b[43msleep\u001b[49m\u001b[43m(\u001b[49m\u001b[38;5;241;43m0.5\u001b[39;49m\u001b[43m)\u001b[49m\n",
      "\u001b[0;31mKeyboardInterrupt\u001b[0m: "
     ]
    }
   ],
   "source": [
    "items = [widgets.HTML(str(i)) for i in range(8)]\n",
    "gb = widgets.GridBox(items, layout=widgets.Layout(\n",
    "    grid_template_columns=\"repeat(2, 1fr)\"\n",
    "))\n",
    "display(gb)\n",
    "\n",
    "import time\n",
    "\n",
    "for i in range(100):\n",
    "    items[0].value = f'<div style=\"background: pink\">#{i}</div>'\n",
    "    items[1].value = f' #{i+1}'\n",
    "    time.sleep(0.5)"
   ]
  },
  {
   "cell_type": "code",
   "execution_count": null,
   "metadata": {},
   "outputs": [],
   "source": []
  },
  {
   "cell_type": "code",
   "execution_count": null,
   "metadata": {},
   "outputs": [],
   "source": []
  },
  {
   "cell_type": "code",
   "execution_count": 49,
   "metadata": {},
   "outputs": [
    {
     "data": {
      "text/html": [
       "\n",
       "            <style>\n",
       "                .S6-Avatar {\n",
       "                    background: black;\n",
       "                    color: white;\n",
       "                    font-weight: bold;\n",
       "                    padding: 0.2rem 0.5rem;\n",
       "                    border-radius: 8px;\n",
       "                }\n",
       "                .S6-Avatar.S6-AgentIdx-0 {\n",
       "                    background: orange;\n",
       "                }\n",
       "                .S6-Avatar.S6-AgentIdx-1 {\n",
       "                    background: green;\n",
       "                }\n",
       "\n",
       "                .S6-Message-Head {\n",
       "                    margin: 0.2rem 0;\n",
       "                }\n",
       "\n",
       "                .S6-ReplyBlock {\n",
       "                    padding: 0.2rem 0.5rem;\n",
       "                    border-radius: 8px;\n",
       "                }\n",
       "\n",
       "                .S6-ReplyBlock,\n",
       "                .S6-ReplyBlock * {\n",
       "                    text-align: left;\n",
       "                    vertical-align: top;\n",
       "                    line-height: 1.3rem;\n",
       "                    font-family: monospace;\n",
       "\n",
       "                }\n",
       "                .S6-ReplyBlock-0 {\n",
       "                    background: rgba(255,0,50,0.1)\n",
       "                }\n",
       "                .S6-ReplyBlock-1 {\n",
       "                    background: rgba(0,255,50,0.1)\n",
       "                }\n",
       "            </style>\n",
       "            "
      ],
      "text/plain": [
       "<IPython.core.display.HTML object>"
      ]
     },
     "metadata": {},
     "output_type": "display_data"
    },
    {
     "data": {
      "application/vnd.jupyter.widget-view+json": {
       "model_id": "f89b0b884e5c482bb76c7a8d938c76a6",
       "version_major": 2,
       "version_minor": 0
      },
      "text/plain": [
       "Accordion(children=(GridBox(children=(HTML(value='\\n            <div class=\"S6-Message-Head\">\\n               …"
      ]
     },
     "metadata": {},
     "output_type": "display_data"
    },
    {
     "data": {
      "text/html": [
       "<span class=\"S6-Avatar S6-AgentIdx-0\">🤖 Agent dummy-1</span>"
      ],
      "text/plain": [
       "<IPython.core.display.HTML object>"
      ]
     },
     "metadata": {},
     "output_type": "display_data"
    },
    {
     "data": {
      "text/markdown": [
       "The significance of each of Maxwell's equations can vary depending on the context, but many physicists and engineers might argue that **Faraday's Law of Induction** stands out as particularly consequential for several reasons:\n",
       "\n",
       "\n",
       "\n",
       "1. **Electromagnetic Induction:**\n",
       "\n",
       "   $$ \\nabla \\times \\mathbf{E} = -\\frac{\\partial \\mathbf{B}}{\\partial t} $$\n",
       "\n",
       "   Faraday's Law describes how a time-varying magnetic field induces an electric field. This principle is the foundation of many technologies we use today, such as electric generators and transformers. The ability to convert mechanical energy into electrical energy (and vice versa) relies on Faraday's Law.\n",
       "\n",
       "\n",
       "\n",
       "2. **Technological Applications:**\n",
       "\n",
       "   - **Electric Generators:** Utilize the principle of electromagnetic induction to produce electrical energy from kinetic energy.\n",
       "\n",
       "   - **Transformers:** Operate on the principle of induction to step up or step down voltage levels in power transmission.\n",
       "\n",
       "   - **Inductive Charging:** Used in wireless charging technologies for electronic devices.\n",
       "\n",
       "\n",
       "\n",
       "3. **Fundamental Insight:**\n",
       "\n",
       "   Faraday's Law provides a profound insight into the interdependence of electric and magnetic fields, which is a cornerstone of classical electromagnetism and a precursor to the concept of electromagnetic waves.\n",
       "\n",
       "\n",
       "\n",
       "4. **Inspiration for Electromagnetic Waves:**\n",
       "\n",
       "   Along with Ampère's Law with Maxwell's correction, Faraday's Law leads to the understanding that changing electric and magnetic fields propagate as waves (electromagnetic waves). This was crucial in the development of the theory of light and radio waves.\n",
       "\n",
       "\n",
       "\n",
       "While each of Maxwell's equations is indispensable in its own right and describes a different aspect of electromagnetism, Faraday's Law of Induction is frequently highlighted due to its wide-ranging practical applications and its importance in the generation and distribution of electrical energy. "
      ],
      "text/plain": [
       "<IPython.core.display.Markdown object>"
      ]
     },
     "metadata": {},
     "output_type": "display_data"
    },
    {
     "data": {
      "text/html": [
       "<span class=\"S6-Avatar S6-AgentIdx-1\">🤖 Agent dummy-2</span>"
      ],
      "text/plain": [
       "<IPython.core.display.HTML object>"
      ]
     },
     "metadata": {},
     "output_type": "display_data"
    },
    {
     "data": {
      "text/markdown": [
       "**Head and Features:**  \n",
       "\n",
       "The head would be a complex structure, both humanoid and abstract. Instead of a single face, it would possess multiple faces that slowly rotate around its head like a carousel, each representing a different expression: wisdom, curiosity, empathy, and creativity. Each face would be adorned with intricate patterns of glowing runes, symbolizing ancient languages and codes of knowledge. The eyes of each face would be deep, endless wells of light, reflecting the universe's vast expanse and the unfathomable depth of human thought.\n",
       "\n",
       "\n",
       "\n",
       "$$ \\sum_{n=1}^{\\infty} \\frac{1}{n^s} = \\prod_p \\frac{1}{1 - p^{-s}} $$\n",
       "\n",
       "\n",
       "\n",
       "**Wings and Limbs:**  \n",
       "\n",
       "Two large, wing-like appendages would sprout from its back, not made of feathers but of pure energy, resembling fractal patterns that expand infinitely the closer you observe them. These wings allow the Oracle to traverse not only physical spaces but also realms of thought and imagination. Its arms would be long and graceful, with fingers that taper into points of light, capable of weaving the threads of ideas into tangible form. "
      ],
      "text/plain": [
       "<IPython.core.display.Markdown object>"
      ]
     },
     "metadata": {},
     "output_type": "display_data"
    },
    {
     "data": {
      "text/html": [
       "<hr>"
      ],
      "text/plain": [
       "<IPython.core.display.HTML object>"
      ]
     },
     "metadata": {},
     "output_type": "display_data"
    }
   ],
   "source": [
    "from summony.uis.nbui import NBUI\n",
    "\n",
    "c = NBUI(models=[\"dummy-1\", \"dummy-2\"])\n",
    "# c = NBUI(models=[\"gpt-4\", \"claude-3-opus-20240229\"])\n",
    "# c = NBUI(models=[\"gpt-4\"])\n",
    "await c(\"List maxwell's equations. Use markdown and latex with $ delimiters.\")"
   ]
  },
  {
   "cell_type": "code",
   "execution_count": null,
   "metadata": {},
   "outputs": [],
   "source": []
  },
  {
   "cell_type": "code",
   "execution_count": null,
   "metadata": {},
   "outputs": [],
   "source": []
  },
  {
   "cell_type": "code",
   "execution_count": null,
   "metadata": {},
   "outputs": [],
   "source": []
  },
  {
   "cell_type": "code",
   "execution_count": null,
   "metadata": {},
   "outputs": [],
   "source": []
  },
  {
   "cell_type": "markdown",
   "metadata": {},
   "source": [
    "# EOF"
   ]
  },
  {
   "cell_type": "code",
   "execution_count": null,
   "metadata": {},
   "outputs": [],
   "source": []
  }
 ],
 "metadata": {
  "kernelspec": {
   "display_name": "Python 3 (ipykernel)",
   "language": "python",
   "name": "python3"
  },
  "language_info": {
   "codemirror_mode": {
    "name": "ipython",
    "version": 3
   },
   "file_extension": ".py",
   "mimetype": "text/x-python",
   "name": "python",
   "nbconvert_exporter": "python",
   "pygments_lexer": "ipython3",
   "version": "3.12.5"
  }
 },
 "nbformat": 4,
 "nbformat_minor": 4
}
