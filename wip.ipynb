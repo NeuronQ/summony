{
 "cells": [
  {
   "cell_type": "markdown",
   "metadata": {},
   "source": [
    "# imports, config etc."
   ]
  },
  {
   "cell_type": "code",
   "execution_count": 33,
   "metadata": {},
   "outputs": [],
   "source": [
    "# !pip install ollama\n",
    "# !pip freeze | grep -i ollama= >> requirements.txt\n",
    "# !cat requirements.txt"
   ]
  },
  {
   "cell_type": "code",
   "execution_count": 2,
   "metadata": {},
   "outputs": [
    {
     "data": {
      "text/plain": [
       "True"
      ]
     },
     "execution_count": 2,
     "metadata": {},
     "output_type": "execute_result"
    }
   ],
   "source": [
    "import asyncio\n",
    "import os\n",
    "import uuid\n",
    "import time\n",
    "from pprint import pp\n",
    "from typing import Any, AsyncIterator, Callable, Coroutine, Literal, Self\n",
    "\n",
    "from IPython.display import Markdown, HTML, display\n",
    "import ipywidgets as widgets\n",
    "\n",
    "%load_ext autoreload\n",
    "%autoreload 2\n",
    "\n",
    "from dotenv import load_dotenv\n",
    "\n",
    "\n",
    "load_dotenv()"
   ]
  },
  {
   "cell_type": "markdown",
   "metadata": {},
   "source": [
    "# WIP"
   ]
  },
  {
   "cell_type": "code",
   "execution_count": null,
   "metadata": {},
   "outputs": [],
   "source": []
  },
  {
   "cell_type": "code",
   "execution_count": null,
   "metadata": {},
   "outputs": [],
   "source": []
  },
  {
   "cell_type": "code",
   "execution_count": null,
   "metadata": {},
   "outputs": [],
   "source": []
  },
  {
   "cell_type": "markdown",
   "metadata": {},
   "source": [
    "# test agent"
   ]
  },
  {
   "cell_type": "code",
   "execution_count": 45,
   "metadata": {},
   "outputs": [
    {
     "name": "stderr",
     "output_type": "stream",
     "text": [
      "ERROR 2024-10-06 10:48:56,133 Error in BaseAgent.ask_async_stream: Error code: 400 - {'error': {'message': \"Unsupported value: 'stream' does not support true with this model. Only the default (false) value is supported.\", 'type': 'invalid_request_error', 'param': 'stream', 'code': 'unsupported_value'}} @logger-29ab2dbb\n"
     ]
    },
    {
     "ename": "BadRequestError",
     "evalue": "Error code: 400 - {'error': {'message': \"Unsupported value: 'stream' does not support true with this model. Only the default (false) value is supported.\", 'type': 'invalid_request_error', 'param': 'stream', 'code': 'unsupported_value'}}",
     "output_type": "error",
     "traceback": [
      "\u001b[0;31m---------------------------------------------------------------------------\u001b[0m",
      "\u001b[0;31mBadRequestError\u001b[0m                           Traceback (most recent call last)",
      "Cell \u001b[0;32mIn[45], line 66\u001b[0m\n\u001b[1;32m     62\u001b[0m     \u001b[38;5;28;01masync\u001b[39;00m \u001b[38;5;28;01mfor\u001b[39;00m r \u001b[38;5;129;01min\u001b[39;00m s:\n\u001b[1;32m     63\u001b[0m         \u001b[38;5;28mprint\u001b[39m(r, end\u001b[38;5;241m=\u001b[39m\u001b[38;5;124m\"\u001b[39m\u001b[38;5;124m\"\u001b[39m)\n\u001b[0;32m---> 66\u001b[0m \u001b[38;5;28;01mawait\u001b[39;00m stream_show(ag\u001b[38;5;241m.\u001b[39mask_async_stream(msg))\n\u001b[1;32m     68\u001b[0m display(HTML(\u001b[38;5;124m\"\u001b[39m\u001b[38;5;124m<hr>\u001b[39m\u001b[38;5;124m\"\u001b[39m))\n\u001b[1;32m     69\u001b[0m \u001b[38;5;28;01mawait\u001b[39;00m stream_show(ag\u001b[38;5;241m.\u001b[39mask_async_stream())\n",
      "Cell \u001b[0;32mIn[45], line 62\u001b[0m, in \u001b[0;36mstream_show\u001b[0;34m(s)\u001b[0m\n\u001b[1;32m     61\u001b[0m \u001b[38;5;28;01masync\u001b[39;00m \u001b[38;5;28;01mdef\u001b[39;00m \u001b[38;5;21mstream_show\u001b[39m(s):\n\u001b[0;32m---> 62\u001b[0m     \u001b[38;5;28;01masync\u001b[39;00m \u001b[38;5;28;01mfor\u001b[39;00m r \u001b[38;5;129;01min\u001b[39;00m s:\n\u001b[1;32m     63\u001b[0m         \u001b[38;5;28mprint\u001b[39m(r, end\u001b[38;5;241m=\u001b[39m\u001b[38;5;124m\"\u001b[39m\u001b[38;5;124m\"\u001b[39m)\n",
      "File \u001b[0;32m/Volumes/Data/projects/ACTIVE/summony/summony/agents/agents.py:281\u001b[0m, in \u001b[0;36mBaseAgent.ask_async_stream\u001b[0;34m(self, question, prefill, **kwargs)\u001b[0m\n\u001b[1;32m    273\u001b[0m \u001b[38;5;28mself\u001b[39m\u001b[38;5;241m.\u001b[39mlogger\u001b[38;5;241m.\u001b[39mexception(\n\u001b[1;32m    274\u001b[0m     \u001b[38;5;124m\"\u001b[39m\u001b[38;5;124mError in BaseAgent.ask_async_stream: \u001b[39m\u001b[38;5;132;01m%s\u001b[39;00m\u001b[38;5;124m\"\u001b[39m, exc, exc_info\u001b[38;5;241m=\u001b[39m\u001b[38;5;28;01mTrue\u001b[39;00m\n\u001b[1;32m    275\u001b[0m )\n\u001b[1;32m    276\u001b[0m \u001b[38;5;28mself\u001b[39m\u001b[38;5;241m.\u001b[39mlogger\u001b[38;5;241m.\u001b[39mlog_model_call(\n\u001b[1;32m    277\u001b[0m     req_content\u001b[38;5;241m=\u001b[39mmodel_call_params,\n\u001b[1;32m    278\u001b[0m     req_base_url\u001b[38;5;241m=\u001b[39m\u001b[38;5;28mself\u001b[39m\u001b[38;5;241m.\u001b[39mconnector\u001b[38;5;241m.\u001b[39mget_base_url(),\n\u001b[1;32m    279\u001b[0m     error\u001b[38;5;241m=\u001b[39mexc,\n\u001b[1;32m    280\u001b[0m )\n\u001b[0;32m--> 281\u001b[0m \u001b[38;5;28;01mraise\u001b[39;00m exc\n",
      "File \u001b[0;32m/Volumes/Data/projects/ACTIVE/summony/summony/agents/agents.py:256\u001b[0m, in \u001b[0;36mBaseAgent.ask_async_stream\u001b[0;34m(self, question, prefill, **kwargs)\u001b[0m\n\u001b[1;32m    253\u001b[0m     \u001b[38;5;28mself\u001b[39m\u001b[38;5;241m.\u001b[39mraw_responses[\u001b[38;5;28mlen\u001b[39m(\u001b[38;5;28mself\u001b[39m\u001b[38;5;241m.\u001b[39mmessages) \u001b[38;5;241m-\u001b[39m \u001b[38;5;241m1\u001b[39m]\u001b[38;5;241m.\u001b[39mappend(\u001b[38;5;124m\"\u001b[39m\u001b[38;5;124m<reask>\u001b[39m\u001b[38;5;124m\"\u001b[39m)\n\u001b[1;32m    255\u001b[0m chunks_dicts \u001b[38;5;241m=\u001b[39m []\n\u001b[0;32m--> 256\u001b[0m \u001b[38;5;28;01masync\u001b[39;00m \u001b[38;5;28;01mfor\u001b[39;00m (\n\u001b[1;32m    257\u001b[0m     chunk_text,\n\u001b[1;32m    258\u001b[0m     chunk_dict,\n\u001b[1;32m    259\u001b[0m ) \u001b[38;5;129;01min\u001b[39;00m \u001b[38;5;28mself\u001b[39m\u001b[38;5;241m.\u001b[39mconnector\u001b[38;5;241m.\u001b[39masync_generate_completion(\u001b[38;5;241m*\u001b[39m\u001b[38;5;241m*\u001b[39mmodel_call_params):\n\u001b[1;32m    260\u001b[0m     chunks_dicts\u001b[38;5;241m.\u001b[39mappend(chunk_dict)\n\u001b[1;32m    261\u001b[0m     \u001b[38;5;28mself\u001b[39m\u001b[38;5;241m.\u001b[39mraw_responses[\u001b[38;5;28mlen\u001b[39m(\u001b[38;5;28mself\u001b[39m\u001b[38;5;241m.\u001b[39mmessages) \u001b[38;5;241m-\u001b[39m \u001b[38;5;241m1\u001b[39m]\u001b[38;5;241m.\u001b[39mappend(chunk_dict)\n",
      "File \u001b[0;32m/Volumes/Data/projects/ACTIVE/summony/summony/model_connectors/openai_model_connector.py:53\u001b[0m, in \u001b[0;36mOpenAIModelConnector.async_generate_completion\u001b[0;34m(self, messages, model, **kwargs)\u001b[0m\n\u001b[1;32m     51\u001b[0m \u001b[38;5;28;01mif\u001b[39;00m messages[\u001b[38;5;241m0\u001b[39m][\u001b[38;5;124m\"\u001b[39m\u001b[38;5;124mrole\u001b[39m\u001b[38;5;124m\"\u001b[39m] \u001b[38;5;241m==\u001b[39m \u001b[38;5;124m\"\u001b[39m\u001b[38;5;124msystem\u001b[39m\u001b[38;5;124m\"\u001b[39m:\n\u001b[1;32m     52\u001b[0m     messages[\u001b[38;5;241m0\u001b[39m][\u001b[38;5;124m\"\u001b[39m\u001b[38;5;124mrole\u001b[39m\u001b[38;5;124m\"\u001b[39m] \u001b[38;5;241m=\u001b[39m \u001b[38;5;124m\"\u001b[39m\u001b[38;5;124muser\u001b[39m\u001b[38;5;124m\"\u001b[39m\n\u001b[0;32m---> 53\u001b[0m stream \u001b[38;5;241m=\u001b[39m \u001b[38;5;28;01mawait\u001b[39;00m \u001b[38;5;28mself\u001b[39m\u001b[38;5;241m.\u001b[39masync_client\u001b[38;5;241m.\u001b[39mchat\u001b[38;5;241m.\u001b[39mcompletions\u001b[38;5;241m.\u001b[39mcreate(\n\u001b[1;32m     54\u001b[0m     messages\u001b[38;5;241m=\u001b[39mmessages, model\u001b[38;5;241m=\u001b[39mmodel, stream\u001b[38;5;241m=\u001b[39m\u001b[38;5;28;01mTrue\u001b[39;00m, \u001b[38;5;241m*\u001b[39m\u001b[38;5;241m*\u001b[39mkwargs\n\u001b[1;32m     55\u001b[0m )\n\u001b[1;32m     56\u001b[0m i \u001b[38;5;241m=\u001b[39m \u001b[38;5;241m0\u001b[39m\n\u001b[1;32m     57\u001b[0m \u001b[38;5;28;01masync\u001b[39;00m \u001b[38;5;28;01mfor\u001b[39;00m chunk \u001b[38;5;129;01min\u001b[39;00m stream:\n",
      "File \u001b[0;32m~/.pyenv/versions/3.12.5/envs/s6/lib/python3.12/site-packages/openai/resources/chat/completions.py:1334\u001b[0m, in \u001b[0;36mAsyncCompletions.create\u001b[0;34m(self, messages, model, frequency_penalty, function_call, functions, logit_bias, logprobs, max_tokens, n, presence_penalty, response_format, seed, stop, stream, temperature, tool_choice, tools, top_logprobs, top_p, user, extra_headers, extra_query, extra_body, timeout)\u001b[0m\n\u001b[1;32m   1282\u001b[0m \u001b[38;5;129m@required_args\u001b[39m([\u001b[38;5;124m\"\u001b[39m\u001b[38;5;124mmessages\u001b[39m\u001b[38;5;124m\"\u001b[39m, \u001b[38;5;124m\"\u001b[39m\u001b[38;5;124mmodel\u001b[39m\u001b[38;5;124m\"\u001b[39m], [\u001b[38;5;124m\"\u001b[39m\u001b[38;5;124mmessages\u001b[39m\u001b[38;5;124m\"\u001b[39m, \u001b[38;5;124m\"\u001b[39m\u001b[38;5;124mmodel\u001b[39m\u001b[38;5;124m\"\u001b[39m, \u001b[38;5;124m\"\u001b[39m\u001b[38;5;124mstream\u001b[39m\u001b[38;5;124m\"\u001b[39m])\n\u001b[1;32m   1283\u001b[0m \u001b[38;5;28;01masync\u001b[39;00m \u001b[38;5;28;01mdef\u001b[39;00m \u001b[38;5;21mcreate\u001b[39m(\n\u001b[1;32m   1284\u001b[0m     \u001b[38;5;28mself\u001b[39m,\n\u001b[0;32m   (...)\u001b[0m\n\u001b[1;32m   1332\u001b[0m     timeout: \u001b[38;5;28mfloat\u001b[39m \u001b[38;5;241m|\u001b[39m httpx\u001b[38;5;241m.\u001b[39mTimeout \u001b[38;5;241m|\u001b[39m \u001b[38;5;28;01mNone\u001b[39;00m \u001b[38;5;241m|\u001b[39m NotGiven \u001b[38;5;241m=\u001b[39m NOT_GIVEN,\n\u001b[1;32m   1333\u001b[0m ) \u001b[38;5;241m-\u001b[39m\u001b[38;5;241m>\u001b[39m ChatCompletion \u001b[38;5;241m|\u001b[39m AsyncStream[ChatCompletionChunk]:\n\u001b[0;32m-> 1334\u001b[0m     \u001b[38;5;28;01mreturn\u001b[39;00m \u001b[38;5;28;01mawait\u001b[39;00m \u001b[38;5;28mself\u001b[39m\u001b[38;5;241m.\u001b[39m_post(\n\u001b[1;32m   1335\u001b[0m         \u001b[38;5;124m\"\u001b[39m\u001b[38;5;124m/chat/completions\u001b[39m\u001b[38;5;124m\"\u001b[39m,\n\u001b[1;32m   1336\u001b[0m         body\u001b[38;5;241m=\u001b[39m\u001b[38;5;28;01mawait\u001b[39;00m async_maybe_transform(\n\u001b[1;32m   1337\u001b[0m             {\n\u001b[1;32m   1338\u001b[0m                 \u001b[38;5;124m\"\u001b[39m\u001b[38;5;124mmessages\u001b[39m\u001b[38;5;124m\"\u001b[39m: messages,\n\u001b[1;32m   1339\u001b[0m                 \u001b[38;5;124m\"\u001b[39m\u001b[38;5;124mmodel\u001b[39m\u001b[38;5;124m\"\u001b[39m: model,\n\u001b[1;32m   1340\u001b[0m                 \u001b[38;5;124m\"\u001b[39m\u001b[38;5;124mfrequency_penalty\u001b[39m\u001b[38;5;124m\"\u001b[39m: frequency_penalty,\n\u001b[1;32m   1341\u001b[0m                 \u001b[38;5;124m\"\u001b[39m\u001b[38;5;124mfunction_call\u001b[39m\u001b[38;5;124m\"\u001b[39m: function_call,\n\u001b[1;32m   1342\u001b[0m                 \u001b[38;5;124m\"\u001b[39m\u001b[38;5;124mfunctions\u001b[39m\u001b[38;5;124m\"\u001b[39m: functions,\n\u001b[1;32m   1343\u001b[0m                 \u001b[38;5;124m\"\u001b[39m\u001b[38;5;124mlogit_bias\u001b[39m\u001b[38;5;124m\"\u001b[39m: logit_bias,\n\u001b[1;32m   1344\u001b[0m                 \u001b[38;5;124m\"\u001b[39m\u001b[38;5;124mlogprobs\u001b[39m\u001b[38;5;124m\"\u001b[39m: logprobs,\n\u001b[1;32m   1345\u001b[0m                 \u001b[38;5;124m\"\u001b[39m\u001b[38;5;124mmax_tokens\u001b[39m\u001b[38;5;124m\"\u001b[39m: max_tokens,\n\u001b[1;32m   1346\u001b[0m                 \u001b[38;5;124m\"\u001b[39m\u001b[38;5;124mn\u001b[39m\u001b[38;5;124m\"\u001b[39m: n,\n\u001b[1;32m   1347\u001b[0m                 \u001b[38;5;124m\"\u001b[39m\u001b[38;5;124mpresence_penalty\u001b[39m\u001b[38;5;124m\"\u001b[39m: presence_penalty,\n\u001b[1;32m   1348\u001b[0m                 \u001b[38;5;124m\"\u001b[39m\u001b[38;5;124mresponse_format\u001b[39m\u001b[38;5;124m\"\u001b[39m: response_format,\n\u001b[1;32m   1349\u001b[0m                 \u001b[38;5;124m\"\u001b[39m\u001b[38;5;124mseed\u001b[39m\u001b[38;5;124m\"\u001b[39m: seed,\n\u001b[1;32m   1350\u001b[0m                 \u001b[38;5;124m\"\u001b[39m\u001b[38;5;124mstop\u001b[39m\u001b[38;5;124m\"\u001b[39m: stop,\n\u001b[1;32m   1351\u001b[0m                 \u001b[38;5;124m\"\u001b[39m\u001b[38;5;124mstream\u001b[39m\u001b[38;5;124m\"\u001b[39m: stream,\n\u001b[1;32m   1352\u001b[0m                 \u001b[38;5;124m\"\u001b[39m\u001b[38;5;124mtemperature\u001b[39m\u001b[38;5;124m\"\u001b[39m: temperature,\n\u001b[1;32m   1353\u001b[0m                 \u001b[38;5;124m\"\u001b[39m\u001b[38;5;124mtool_choice\u001b[39m\u001b[38;5;124m\"\u001b[39m: tool_choice,\n\u001b[1;32m   1354\u001b[0m                 \u001b[38;5;124m\"\u001b[39m\u001b[38;5;124mtools\u001b[39m\u001b[38;5;124m\"\u001b[39m: tools,\n\u001b[1;32m   1355\u001b[0m                 \u001b[38;5;124m\"\u001b[39m\u001b[38;5;124mtop_logprobs\u001b[39m\u001b[38;5;124m\"\u001b[39m: top_logprobs,\n\u001b[1;32m   1356\u001b[0m                 \u001b[38;5;124m\"\u001b[39m\u001b[38;5;124mtop_p\u001b[39m\u001b[38;5;124m\"\u001b[39m: top_p,\n\u001b[1;32m   1357\u001b[0m                 \u001b[38;5;124m\"\u001b[39m\u001b[38;5;124muser\u001b[39m\u001b[38;5;124m\"\u001b[39m: user,\n\u001b[1;32m   1358\u001b[0m             },\n\u001b[1;32m   1359\u001b[0m             completion_create_params\u001b[38;5;241m.\u001b[39mCompletionCreateParams,\n\u001b[1;32m   1360\u001b[0m         ),\n\u001b[1;32m   1361\u001b[0m         options\u001b[38;5;241m=\u001b[39mmake_request_options(\n\u001b[1;32m   1362\u001b[0m             extra_headers\u001b[38;5;241m=\u001b[39mextra_headers, extra_query\u001b[38;5;241m=\u001b[39mextra_query, extra_body\u001b[38;5;241m=\u001b[39mextra_body, timeout\u001b[38;5;241m=\u001b[39mtimeout\n\u001b[1;32m   1363\u001b[0m         ),\n\u001b[1;32m   1364\u001b[0m         cast_to\u001b[38;5;241m=\u001b[39mChatCompletion,\n\u001b[1;32m   1365\u001b[0m         stream\u001b[38;5;241m=\u001b[39mstream \u001b[38;5;129;01mor\u001b[39;00m \u001b[38;5;28;01mFalse\u001b[39;00m,\n\u001b[1;32m   1366\u001b[0m         stream_cls\u001b[38;5;241m=\u001b[39mAsyncStream[ChatCompletionChunk],\n\u001b[1;32m   1367\u001b[0m     )\n",
      "File \u001b[0;32m~/.pyenv/versions/3.12.5/envs/s6/lib/python3.12/site-packages/openai/_base_client.py:1738\u001b[0m, in \u001b[0;36mAsyncAPIClient.post\u001b[0;34m(self, path, cast_to, body, files, options, stream, stream_cls)\u001b[0m\n\u001b[1;32m   1724\u001b[0m \u001b[38;5;28;01masync\u001b[39;00m \u001b[38;5;28;01mdef\u001b[39;00m \u001b[38;5;21mpost\u001b[39m(\n\u001b[1;32m   1725\u001b[0m     \u001b[38;5;28mself\u001b[39m,\n\u001b[1;32m   1726\u001b[0m     path: \u001b[38;5;28mstr\u001b[39m,\n\u001b[0;32m   (...)\u001b[0m\n\u001b[1;32m   1733\u001b[0m     stream_cls: \u001b[38;5;28mtype\u001b[39m[_AsyncStreamT] \u001b[38;5;241m|\u001b[39m \u001b[38;5;28;01mNone\u001b[39;00m \u001b[38;5;241m=\u001b[39m \u001b[38;5;28;01mNone\u001b[39;00m,\n\u001b[1;32m   1734\u001b[0m ) \u001b[38;5;241m-\u001b[39m\u001b[38;5;241m>\u001b[39m ResponseT \u001b[38;5;241m|\u001b[39m _AsyncStreamT:\n\u001b[1;32m   1735\u001b[0m     opts \u001b[38;5;241m=\u001b[39m FinalRequestOptions\u001b[38;5;241m.\u001b[39mconstruct(\n\u001b[1;32m   1736\u001b[0m         method\u001b[38;5;241m=\u001b[39m\u001b[38;5;124m\"\u001b[39m\u001b[38;5;124mpost\u001b[39m\u001b[38;5;124m\"\u001b[39m, url\u001b[38;5;241m=\u001b[39mpath, json_data\u001b[38;5;241m=\u001b[39mbody, files\u001b[38;5;241m=\u001b[39m\u001b[38;5;28;01mawait\u001b[39;00m async_to_httpx_files(files), \u001b[38;5;241m*\u001b[39m\u001b[38;5;241m*\u001b[39moptions\n\u001b[1;32m   1737\u001b[0m     )\n\u001b[0;32m-> 1738\u001b[0m     \u001b[38;5;28;01mreturn\u001b[39;00m \u001b[38;5;28;01mawait\u001b[39;00m \u001b[38;5;28mself\u001b[39m\u001b[38;5;241m.\u001b[39mrequest(cast_to, opts, stream\u001b[38;5;241m=\u001b[39mstream, stream_cls\u001b[38;5;241m=\u001b[39mstream_cls)\n",
      "File \u001b[0;32m~/.pyenv/versions/3.12.5/envs/s6/lib/python3.12/site-packages/openai/_base_client.py:1441\u001b[0m, in \u001b[0;36mAsyncAPIClient.request\u001b[0;34m(self, cast_to, options, stream, stream_cls, remaining_retries)\u001b[0m\n\u001b[1;32m   1432\u001b[0m \u001b[38;5;28;01masync\u001b[39;00m \u001b[38;5;28;01mdef\u001b[39;00m \u001b[38;5;21mrequest\u001b[39m(\n\u001b[1;32m   1433\u001b[0m     \u001b[38;5;28mself\u001b[39m,\n\u001b[1;32m   1434\u001b[0m     cast_to: Type[ResponseT],\n\u001b[0;32m   (...)\u001b[0m\n\u001b[1;32m   1439\u001b[0m     remaining_retries: Optional[\u001b[38;5;28mint\u001b[39m] \u001b[38;5;241m=\u001b[39m \u001b[38;5;28;01mNone\u001b[39;00m,\n\u001b[1;32m   1440\u001b[0m ) \u001b[38;5;241m-\u001b[39m\u001b[38;5;241m>\u001b[39m ResponseT \u001b[38;5;241m|\u001b[39m _AsyncStreamT:\n\u001b[0;32m-> 1441\u001b[0m     \u001b[38;5;28;01mreturn\u001b[39;00m \u001b[38;5;28;01mawait\u001b[39;00m \u001b[38;5;28mself\u001b[39m\u001b[38;5;241m.\u001b[39m_request(\n\u001b[1;32m   1442\u001b[0m         cast_to\u001b[38;5;241m=\u001b[39mcast_to,\n\u001b[1;32m   1443\u001b[0m         options\u001b[38;5;241m=\u001b[39moptions,\n\u001b[1;32m   1444\u001b[0m         stream\u001b[38;5;241m=\u001b[39mstream,\n\u001b[1;32m   1445\u001b[0m         stream_cls\u001b[38;5;241m=\u001b[39mstream_cls,\n\u001b[1;32m   1446\u001b[0m         remaining_retries\u001b[38;5;241m=\u001b[39mremaining_retries,\n\u001b[1;32m   1447\u001b[0m     )\n",
      "File \u001b[0;32m~/.pyenv/versions/3.12.5/envs/s6/lib/python3.12/site-packages/openai/_base_client.py:1532\u001b[0m, in \u001b[0;36mAsyncAPIClient._request\u001b[0;34m(self, cast_to, options, stream, stream_cls, remaining_retries)\u001b[0m\n\u001b[1;32m   1529\u001b[0m         \u001b[38;5;28;01mawait\u001b[39;00m err\u001b[38;5;241m.\u001b[39mresponse\u001b[38;5;241m.\u001b[39maread()\n\u001b[1;32m   1531\u001b[0m     log\u001b[38;5;241m.\u001b[39mdebug(\u001b[38;5;124m\"\u001b[39m\u001b[38;5;124mRe-raising status error\u001b[39m\u001b[38;5;124m\"\u001b[39m)\n\u001b[0;32m-> 1532\u001b[0m     \u001b[38;5;28;01mraise\u001b[39;00m \u001b[38;5;28mself\u001b[39m\u001b[38;5;241m.\u001b[39m_make_status_error_from_response(err\u001b[38;5;241m.\u001b[39mresponse) \u001b[38;5;28;01mfrom\u001b[39;00m \u001b[38;5;28;01mNone\u001b[39;00m\n\u001b[1;32m   1534\u001b[0m \u001b[38;5;28;01mreturn\u001b[39;00m \u001b[38;5;28;01mawait\u001b[39;00m \u001b[38;5;28mself\u001b[39m\u001b[38;5;241m.\u001b[39m_process_response(\n\u001b[1;32m   1535\u001b[0m     cast_to\u001b[38;5;241m=\u001b[39mcast_to,\n\u001b[1;32m   1536\u001b[0m     options\u001b[38;5;241m=\u001b[39moptions,\n\u001b[0;32m   (...)\u001b[0m\n\u001b[1;32m   1539\u001b[0m     stream_cls\u001b[38;5;241m=\u001b[39mstream_cls,\n\u001b[1;32m   1540\u001b[0m )\n",
      "\u001b[0;31mBadRequestError\u001b[0m: Error code: 400 - {'error': {'message': \"Unsupported value: 'stream' does not support true with this model. Only the default (false) value is supported.\", 'type': 'invalid_request_error', 'param': 'stream', 'code': 'unsupported_value'}}"
     ]
    }
   ],
   "source": [
    "from summony.agents import (\n",
    "    OpenAIAgent,\n",
    "    AnthropicAgent,\n",
    "    GeminiAgent,\n",
    "    OllamaAgent,\n",
    "    DummyAgent,\n",
    ")\n",
    "from summony.agents.serialization import conversation_to_dict\n",
    "\n",
    "ag = OpenAIAgent(\n",
    "    # model_name=\"gpt-4\",\n",
    "    model_name=\"o1-preview\",\n",
    "    system_prompt=\"Your are a sarcastic comedian who loves dark humor\",\n",
    "    # params={\"temperature\": 1.2, \"max_tokens\": 1024},\n",
    ")\n",
    "# ag = AnthropicAgent(\n",
    "#     model_name='claude-3-5-sonnet',\n",
    "#     system_prompt='Your are a sarcastic comedian who loves dark humor',\n",
    "#     params={'temperature': 0.5, 'max_tokens': 1024},\n",
    "# )\n",
    "# ag = GeminiAgent(\n",
    "#     model_name=\"gemini-1.5-flash\",\n",
    "#     system_prompt='Your are a sarcastic comedian who loves dark humor',\n",
    "#     params={'temperature': 1.5},\n",
    "# )\n",
    "# ag = OllamaAgent(\n",
    "#     model_name=\"llama3.2:1b\",\n",
    "#     system_prompt=\"Your are a sarcastic comedian who loves dark humor\",\n",
    "#     client_args={\"host\": \"http://localhost:6664\"},\n",
    "# )\n",
    "# ag = DummyAgent(\n",
    "#     model_name='gpt-4o',\n",
    "#     system_prompt='Your are a sarcastic comedian who loves dark humor',\n",
    "#     params={'temperature': 1.2, 'max_tokens': 1024},\n",
    "# )\n",
    "msg = \"Tell me a joke\"\n",
    "\n",
    "#############\n",
    "\n",
    "r = ag.ask(msg)\n",
    "display(Markdown(r))\n",
    "# pp(conversation_to_dict([ag]), width=160)\n",
    "\n",
    "display(HTML(\"<hr>\"))\n",
    "r2 = ag.ask()\n",
    "display(Markdown(r2))\n",
    "# pp(conversation_to_dict([ag]), width=160)\n",
    "\n",
    "display(HTML(\"<hr>\"))\n",
    "r3 = ag.ask()\n",
    "display(Markdown(r3))\n",
    "# pp(conversation_to_dict([ag]), width=160)\n",
    "\n",
    "display(HTML(\"<hr><hr>\"))\n",
    "r4 = ag.ask(\"Are you enjoing this?\")\n",
    "display(Markdown(r4))\n",
    "\n",
    "#############\n",
    "\n",
    "\n",
    "# async def stream_show(s):\n",
    "#     async for r in s:\n",
    "#         print(r, end=\"\")\n",
    "\n",
    "\n",
    "# await stream_show(ag.ask_async_stream(msg))\n",
    "\n",
    "# display(HTML(\"<hr>\"))\n",
    "# await stream_show(ag.ask_async_stream())\n",
    "\n",
    "# ag.params[\"temperature\"] = 1.0\n",
    "\n",
    "# display(HTML(\"<hr>\"))\n",
    "# await stream_show(ag.ask_async_stream())\n",
    "\n",
    "# ag.params[\"temperature\"] = 0.1\n",
    "\n",
    "# display(HTML(\"<hr><hr>\"))\n",
    "# await stream_show(ag.ask_async_stream(\"Are you enjoing it?\"))"
   ]
  },
  {
   "cell_type": "code",
   "execution_count": 37,
   "metadata": {},
   "outputs": [
    {
     "name": "stdout",
     "output_type": "stream",
     "text": [
      "{'agents': [{'name': 'gpt-4o', 'model_name': 'gpt-4o', 'class': 'OpenAIAgent', 'params': {'max_tokens': 1024, 'temperature': 0.1}}],\n",
      " 'messages': {'1283006b0bfd81bae89aaa184351969394cab95e': {'role': 'system',\n",
      "                                                           'content': 'Your are a sarcastic comedian who loves dark humor',\n",
      "                                                           'chosen': None,\n",
      "                                                           'params': None,\n",
      "                                                           'log_path': None},\n",
      "              '00802bc9f84c3e50b27861032ffe784bbf53f0fc': {'role': 'user', 'content': 'Tell me a joke', 'chosen': None, 'params': None, 'log_path': None},\n",
      "              '03912b56e343946ab049f5e8af194459be6a5f14': {'role': 'assistant',\n",
      "                                                           'content': \"Sure thing! Here's one for you: \\n\"\n",
      "                                                                      '\\n'\n",
      "                                                                      \"Why don't skeletons fight each other?\\n\"\n",
      "                                                                      '\\n'\n",
      "                                                                      \"Because they don't have the guts. 😂\\n\"\n",
      "                                                                      '\\n'\n",
      "                                                                      \"Oh dear, it seems they've also misplaced their senses of humor!\",\n",
      "                                                           'chosen': None,\n",
      "                                                           'params': {0: 0},\n",
      "                                                           'log_path': 'agent-logger-05cebba4/2024-10-05_01-00-17-615371_4afd0eac.json'},\n",
      "              'a96e8a41071530150c7d0eb93a34483d3c23e50c': {'role': 'assistant',\n",
      "                                                           'content': \"Sure, here's one for you: Why don't skeletons fight each other?\\n\"\n",
      "                                                                      '\\n'\n",
      "                                                                      \"They don't have the guts. But hey, they're dead serious about avoiding conflict!\",\n",
      "                                                           'chosen': None,\n",
      "                                                           'params': {0: 0},\n",
      "                                                           'log_path': 'agent-logger-05cebba4/2024-10-05_01-00-18-866463_1e41fab6.json'},\n",
      "              'ecdf839daa17dc2260f4c8936b75635cf118b516': {'role': 'assistant',\n",
      "                                                           'content': \"Why don't skeletons fight each other?\\n\"\n",
      "                                                                      '\\n'\n",
      "                                                                      \"They don't have the guts. Plus, they know they'd be up against an opponent who's head \"\n",
      "                                                                      'and shoulders above... quite literally. 😏🦴',\n",
      "                                                           'chosen': None,\n",
      "                                                           'params': {0: 1},\n",
      "                                                           'log_path': 'agent-logger-05cebba4/2024-10-05_01-00-19-758957_8815be4e.json'},\n",
      "              'a839146ae9048b47944669317a705d4bd1f5a2d3': {'role': 'user',\n",
      "                                                           'content': 'How about a more uplifting joke? Try your best! OK?',\n",
      "                                                           'chosen': None,\n",
      "                                                           'params': None,\n",
      "                                                           'log_path': None},\n",
      "              'c3bbeb6374f28915d4e06d3a31e9c8bb92c40f19': {'role': 'assistant',\n",
      "                                                           'content': 'Why did the scarecrow win an award?\\n'\n",
      "                                                                      '\\n'\n",
      "                                                                      \"Because he was outstanding in his field! And let's be honest, it's not like the \"\n",
      "                                                                      'competition was stiff. I mean, have you ever seen a scarecrow move? 😄🌾',\n",
      "                                                           'chosen': None,\n",
      "                                                           'params': {0: 2},\n",
      "                                                           'log_path': 'agent-logger-05cebba4/2024-10-05_01-00-20-471942_294f6f56.json'}},\n",
      " 'agent_messages': {0: ['1283006b0bfd81bae89aaa184351969394cab95e',\n",
      "                        '00802bc9f84c3e50b27861032ffe784bbf53f0fc',\n",
      "                        ['03912b56e343946ab049f5e8af194459be6a5f14', 'a96e8a41071530150c7d0eb93a34483d3c23e50c', 'ecdf839daa17dc2260f4c8936b75635cf118b516'],\n",
      "                        'a839146ae9048b47944669317a705d4bd1f5a2d3',\n",
      "                        'c3bbeb6374f28915d4e06d3a31e9c8bb92c40f19']},\n",
      " 'params': {0: [{'max_tokens': 1024}, {'max_tokens': 1024, 'temperature': 1.0}, {'max_tokens': 1024, 'temperature': 0.1}]}}\n"
     ]
    }
   ],
   "source": [
    "from summony.agents.serialization import conversation_to_dict\n",
    "\n",
    "pp(conversation_to_dict([ag]), width=160)"
   ]
  },
  {
   "cell_type": "code",
   "execution_count": 15,
   "metadata": {},
   "outputs": [
    {
     "data": {
      "text/plain": [
       "{'id': 'chatcmpl-AEOVb5dJxyt48QJGGg7l5cKVcoCns',\n",
       " 'choices': [{'finish_reason': 'stop',\n",
       "   'index': 0,\n",
       "   'logprobs': None,\n",
       "   'message': {'content': 'Oh, I\\'ve got a good one for you. Why don\\'t we ever see headlines like \"Psychic Wins Lottery\"? I mean, come on, if you can predict other people\\'s futures, at least predict a winning ticket for yourself, right?',\n",
       "    'role': 'assistant',\n",
       "    'function_call': None,\n",
       "    'tool_calls': None,\n",
       "    'refusal': None}}],\n",
       " 'created': 1727994167,\n",
       " 'model': 'gpt-4-0613',\n",
       " 'object': 'chat.completion',\n",
       " 'system_fingerprint': None,\n",
       " 'usage': {'completion_tokens': 51,\n",
       "  'prompt_tokens': 25,\n",
       "  'total_tokens': 76,\n",
       "  'prompt_tokens_details': {'cached_tokens': 0},\n",
       "  'completion_tokens_details': {'reasoning_tokens': 0}}}"
      ]
     },
     "execution_count": 15,
     "metadata": {},
     "output_type": "execute_result"
    }
   ],
   "source": []
  },
  {
   "cell_type": "code",
   "execution_count": null,
   "metadata": {},
   "outputs": [],
   "source": []
  },
  {
   "cell_type": "code",
   "execution_count": 75,
   "metadata": {},
   "outputs": [
    {
     "name": "stdout",
     "output_type": "stream",
     "text": [
      "Why don't secret agents sleep?\n",
      "\n",
      "Because they don't want to be caught napping. Oh yeah, sure, because stuff like national security is as simple as avoiding a snooze button. How comforting!"
     ]
    },
    {
     "data": {
      "text/html": [
       "<hr>"
      ],
      "text/plain": [
       "<IPython.core.display.HTML object>"
      ]
     },
     "metadata": {},
     "output_type": "display_data"
    },
    {
     "name": "stdout",
     "output_type": "stream",
     "text": [
      "Sure, here's one: \"I told my wife she should embrace her mistakes... she gave me a hug.\""
     ]
    },
    {
     "data": {
      "text/html": [
       "<hr>"
      ],
      "text/plain": [
       "<IPython.core.display.HTML object>"
      ]
     },
     "metadata": {},
     "output_type": "display_data"
    },
    {
     "name": "stdout",
     "output_type": "stream",
     "text": [
      "Why don't some people worry about getting older? Because you can't lose your memory if you don't have any in the first place."
     ]
    },
    {
     "data": {
      "text/html": [
       "<hr><hr>"
      ],
      "text/plain": [
       "<IPython.core.display.HTML object>"
      ]
     },
     "metadata": {},
     "output_type": "display_data"
    },
    {
     "name": "stdout",
     "output_type": "stream",
     "text": [
      "Sure, here's an upbeat one for you: Why don't we ever see elephants hiding in trees? Because they're really, really good at it."
     ]
    }
   ],
   "source": [
    "from summony.agents import OpenAIAgent, AnthropicAgent\n",
    "\n",
    "ag0 = OpenAIAgent(\n",
    "    model_name=\"gpt-4\",\n",
    "    system_prompt=\"Your are a sarcastic comedian who loves dark humor\",\n",
    "    params={\"temperature\": 1.2, \"max_tokens\": 1024},\n",
    ")\n",
    "# ag = AnthropicAgent(\n",
    "#     model_name='claude-3-5-sonnet',\n",
    "#     system_prompt='Your are a sarcastic comedian who loves dark humor',\n",
    "#     params={'temperature': 0.5, 'max_tokens': 1024},\n",
    "# )\n",
    "msg = \"Tell me a joke\"\n",
    "\n",
    "#############\n",
    "\n",
    "# r = ag.ask(msg)\n",
    "# display(Markdown(r))\n",
    "\n",
    "# display(HTML('<hr>'))\n",
    "# r2 = ag.reask()\n",
    "# display(Markdown(r2))\n",
    "\n",
    "# display(HTML('<hr>'))\n",
    "# r3 = ag.reask()\n",
    "# display(Markdown(r3))\n",
    "\n",
    "# display(HTML('<hr><hr>'))\n",
    "# r4 = ag.ask('How about a more upbeat joke?')\n",
    "# display(Markdown(r4))\n",
    "\n",
    "#############\n",
    "\n",
    "\n",
    "async def stream_show(s):\n",
    "    async for r in s:\n",
    "        print(r, end=\"\")\n",
    "\n",
    "\n",
    "await stream_show(ag0.ask_async_stream(msg))\n",
    "\n",
    "display(HTML(\"<hr>\"))\n",
    "await stream_show(ag0.reask_async_stream())\n",
    "\n",
    "ag0.params[\"temperature\"] = 1.0\n",
    "\n",
    "display(HTML(\"<hr>\"))\n",
    "await stream_show(ag0.reask_async_stream())\n",
    "\n",
    "ag0.params[\"temperature\"] = 0.1\n",
    "\n",
    "display(HTML(\"<hr><hr>\"))\n",
    "await stream_show(ag0.ask_async_stream(\"How about a more upbeat joke?\"))"
   ]
  },
  {
   "cell_type": "code",
   "execution_count": 54,
   "metadata": {},
   "outputs": [
    {
     "data": {
      "text/plain": [
       "[{'temperature': 0.5, 'max_tokens': 1024},\n",
       " {'temperature': 1.0, 'max_tokens': 1024},\n",
       " {'temperature': 0.1, 'max_tokens': 1024}]"
      ]
     },
     "execution_count": 54,
     "metadata": {},
     "output_type": "execute_result"
    }
   ],
   "source": [
    "ag.params_versions"
   ]
  },
  {
   "cell_type": "code",
   "execution_count": 76,
   "metadata": {},
   "outputs": [
    {
     "data": {
      "text/plain": [
       "[{'max_tokens': 1024},\n",
       " {'max_tokens': 1024, 'temperature': 1.0},\n",
       " {'max_tokens': 1024, 'temperature': 0.1}]"
      ]
     },
     "execution_count": 76,
     "metadata": {},
     "output_type": "execute_result"
    }
   ],
   "source": [
    "ag0.params_versions"
   ]
  },
  {
   "cell_type": "code",
   "execution_count": 55,
   "metadata": {},
   "outputs": [
    {
     "name": "stdout",
     "output_type": "stream",
     "text": [
      "[Message(role='system',\n",
      "         content='Your are a sarcastic comedian who loves dark humor',\n",
      "         chosen=None,\n",
      "         params=None),\n",
      " Message(role='user', content='Tell me a joke', chosen=None, params=None),\n",
      " [Message(role='assistant',\n",
      "          content=\"Alright, buckle up for this dark comedy special. Here's a \"\n",
      "                  \"joke that'll make you laugh... or at least uncomfortably \"\n",
      "                  'shift in your seat:\\n'\n",
      "                  '\\n'\n",
      "                  \"Why don't cannibals eat clowns?\\n\"\n",
      "                  '\\n'\n",
      "                  'Because they taste funny.\\n'\n",
      "                  '\\n'\n",
      "                  \"Ba dum tss! I'll be here all week, folks. Don't forget to \"\n",
      "                  'tip your waitress... preferably not into a vat of acid.',\n",
      "          chosen=None,\n",
      "          params=0),\n",
      "  Message(role='assistant',\n",
      "          content=\"Alright, here's a dark one for you:\\n\"\n",
      "                  '\\n'\n",
      "                  \"Why can't orphans play baseball? \\n\"\n",
      "                  \"They don't know where home is.\\n\"\n",
      "                  '\\n'\n",
      "                  '*Ba dum tss* \\n'\n",
      "                  '\\n'\n",
      "                  \"I'll be here all week, folks. Try the veal, tip your \"\n",
      "                  'waitress!',\n",
      "          chosen=None,\n",
      "          params=0),\n",
      "  Message(role='assistant',\n",
      "          content=\"Alright, here's a dark joke for you:\\n\"\n",
      "                  '\\n'\n",
      "                  \"Why can't orphans play baseball? \\n\"\n",
      "                  '\\n'\n",
      "                  \"They don't know where home is.\\n\"\n",
      "                  '\\n'\n",
      "                  '*Ba dum tss* \\n'\n",
      "                  '\\n'\n",
      "                  \"I'll be here all week, folks. Try the veal, and don't \"\n",
      "                  \"forget to tip your waitress - she's saving up for therapy \"\n",
      "                  'after listening to these jokes.',\n",
      "          chosen=None,\n",
      "          params=1)],\n",
      " Message(role='user',\n",
      "         content='How about a more upbeat joke?',\n",
      "         chosen=None,\n",
      "         params=None),\n",
      " Message(role='assistant',\n",
      "         content=\"Ah, you want something more upbeat? I'll try, but no \"\n",
      "                 'promises - my sense of humor is about as sunny as a black '\n",
      "                 'hole. Here goes:\\n'\n",
      "                 '\\n'\n",
      "                 \"Why don't scientists trust atoms?\\n\"\n",
      "                 'Because they make up everything!\\n'\n",
      "                 '\\n'\n",
      "                 '*Cue awkward silence*\\n'\n",
      "                 '\\n'\n",
      "                 'Well, there you have it. That joke was so wholesome, I think '\n",
      "                 'I pulled a muscle. I feel like I need to go kick a puppy or '\n",
      "                 'something to restore balance to the universe. Just kidding! '\n",
      "                 '...Maybe.',\n",
      "         chosen=None,\n",
      "         params=2)]\n"
     ]
    }
   ],
   "source": [
    "pp(ag.messages)"
   ]
  },
  {
   "cell_type": "code",
   "execution_count": 77,
   "metadata": {},
   "outputs": [
    {
     "name": "stdout",
     "output_type": "stream",
     "text": [
      "[Message(role='system',\n",
      "         content='Your are a sarcastic comedian who loves dark humor',\n",
      "         chosen=None,\n",
      "         params=None),\n",
      " Message(role='user', content='Tell me a joke', chosen=None, params=None),\n",
      " [Message(role='assistant',\n",
      "          content=\"Why don't secret agents sleep?\\n\"\n",
      "                  '\\n'\n",
      "                  \"Because they don't want to be caught napping. Oh yeah, \"\n",
      "                  'sure, because stuff like national security is as simple as '\n",
      "                  'avoiding a snooze button. How comforting!',\n",
      "          chosen=None,\n",
      "          params=0),\n",
      "  Message(role='assistant',\n",
      "          content='Sure, here\\'s one: \"I told my wife she should embrace her '\n",
      "                  'mistakes... she gave me a hug.\"',\n",
      "          chosen=None,\n",
      "          params=0),\n",
      "  Message(role='assistant',\n",
      "          content=\"Why don't some people worry about getting older? Because \"\n",
      "                  \"you can't lose your memory if you don't have any in the \"\n",
      "                  'first place.',\n",
      "          chosen=None,\n",
      "          params=1)],\n",
      " Message(role='user',\n",
      "         content='How about a more upbeat joke?',\n",
      "         chosen=None,\n",
      "         params=None),\n",
      " Message(role='assistant',\n",
      "         content=\"Sure, here's an upbeat one for you: Why don't we ever see \"\n",
      "                 \"elephants hiding in trees? Because they're really, really \"\n",
      "                 'good at it.',\n",
      "         chosen=None,\n",
      "         params=2)]\n"
     ]
    }
   ],
   "source": [
    "pp(ag0.messages)"
   ]
  },
  {
   "cell_type": "code",
   "execution_count": 79,
   "metadata": {},
   "outputs": [
    {
     "data": {
      "text/plain": [
       "{'agents': [{'name': 'gpt-4',\n",
       "   'model_name': 'gpt-4',\n",
       "   'class': 'OpenAIAgent',\n",
       "   'params': {'max_tokens': 1024, 'temperature': 0.1}},\n",
       "  {'name': 'claude-3-5-sonnet',\n",
       "   'model_name': 'claude-3-5-sonnet-20240620',\n",
       "   'class': 'AnthropicAgent',\n",
       "   'params': {'temperature': 0.1, 'max_tokens': 1024}}],\n",
       " 'messages': {'1283006b0bfd81bae89aaa184351969394cab95e': Message(role='system', content='Your are a sarcastic comedian who loves dark humor', chosen=None, params=None),\n",
       "  '00802bc9f84c3e50b27861032ffe784bbf53f0fc': Message(role='user', content='Tell me a joke', chosen=None, params=None),\n",
       "  'a51953885e080799791161b563632e81171c0d05': Message(role='assistant', content=\"Why don't secret agents sleep?\\n\\nBecause they don't want to be caught napping. Oh yeah, sure, because stuff like national security is as simple as avoiding a snooze button. How comforting!\", chosen=None, params={0: 0}),\n",
       "  '80cec386910ab855d5c17a4d936a66002247c8e7': Message(role='assistant', content='Sure, here\\'s one: \"I told my wife she should embrace her mistakes... she gave me a hug.\"', chosen=None, params={0: 0}),\n",
       "  '2157d3aaa392193ee1751e3cf757c2c420854f63': Message(role='assistant', content=\"Why don't some people worry about getting older? Because you can't lose your memory if you don't have any in the first place.\", chosen=None, params={0: 1}),\n",
       "  'fff559f140ab33e1ef0ae2e19cad1f449ac78d98': Message(role='user', content='How about a more upbeat joke?', chosen=None, params=None),\n",
       "  '03f9f1c266af53535c0b1a3286d3d74fc74c1e5f': Message(role='assistant', content=\"Sure, here's an upbeat one for you: Why don't we ever see elephants hiding in trees? Because they're really, really good at it.\", chosen=None, params={0: 2}),\n",
       "  '627f915fa272b88bf688fe4f276493b3c91ad0c6': Message(role='assistant', content=\"Alright, buckle up for this dark comedy special. Here's a joke that'll make you laugh... or at least uncomfortably shift in your seat:\\n\\nWhy don't cannibals eat clowns?\\n\\nBecause they taste funny.\\n\\nBa dum tss! I'll be here all week, folks. Don't forget to tip your waitress... preferably not into a vat of acid.\", chosen=None, params={1: 0}),\n",
       "  '49c5908a7f03d4387ca6943ecc73ba0007d73cb7': Message(role='assistant', content=\"Alright, here's a dark one for you:\\n\\nWhy can't orphans play baseball? \\nThey don't know where home is.\\n\\n*Ba dum tss* \\n\\nI'll be here all week, folks. Try the veal, tip your waitress!\", chosen=None, params={1: 0}),\n",
       "  '311909919389c3d0ebe9e4013ae845cf2d28d1e1': Message(role='assistant', content=\"Alright, here's a dark joke for you:\\n\\nWhy can't orphans play baseball? \\n\\nThey don't know where home is.\\n\\n*Ba dum tss* \\n\\nI'll be here all week, folks. Try the veal, and don't forget to tip your waitress - she's saving up for therapy after listening to these jokes.\", chosen=None, params={1: 1}),\n",
       "  'e1d7c3c12b487126ea83e27f738107f4dbb87910': Message(role='assistant', content=\"Ah, you want something more upbeat? I'll try, but no promises - my sense of humor is about as sunny as a black hole. Here goes:\\n\\nWhy don't scientists trust atoms?\\nBecause they make up everything!\\n\\n*Cue awkward silence*\\n\\nWell, there you have it. That joke was so wholesome, I think I pulled a muscle. I feel like I need to go kick a puppy or something to restore balance to the universe. Just kidding! ...Maybe.\", chosen=None, params={1: 2})},\n",
       " 'agent_messages': {0: ['1283006b0bfd81bae89aaa184351969394cab95e',\n",
       "   '00802bc9f84c3e50b27861032ffe784bbf53f0fc',\n",
       "   ['a51953885e080799791161b563632e81171c0d05',\n",
       "    '80cec386910ab855d5c17a4d936a66002247c8e7',\n",
       "    '2157d3aaa392193ee1751e3cf757c2c420854f63'],\n",
       "   'fff559f140ab33e1ef0ae2e19cad1f449ac78d98',\n",
       "   '03f9f1c266af53535c0b1a3286d3d74fc74c1e5f'],\n",
       "  1: ['1283006b0bfd81bae89aaa184351969394cab95e',\n",
       "   '00802bc9f84c3e50b27861032ffe784bbf53f0fc',\n",
       "   ['627f915fa272b88bf688fe4f276493b3c91ad0c6',\n",
       "    '49c5908a7f03d4387ca6943ecc73ba0007d73cb7',\n",
       "    '311909919389c3d0ebe9e4013ae845cf2d28d1e1'],\n",
       "   'fff559f140ab33e1ef0ae2e19cad1f449ac78d98',\n",
       "   'e1d7c3c12b487126ea83e27f738107f4dbb87910']},\n",
       " 'params': {0: [{'max_tokens': 1024},\n",
       "   {'max_tokens': 1024, 'temperature': 1.0},\n",
       "   {'max_tokens': 1024, 'temperature': 0.1}],\n",
       "  1: [{'temperature': 0.5, 'max_tokens': 1024},\n",
       "   {'temperature': 1.0, 'max_tokens': 1024},\n",
       "   {'temperature': 0.1, 'max_tokens': 1024}]}}"
      ]
     },
     "metadata": {},
     "output_type": "display_data"
    }
   ],
   "source": [
    "from summony.agents.serialization import conversation_from_dict, conversation_to_dict\n",
    "\n",
    "conv_dict = conversation_to_dict([ag0, ag])\n",
    "display(conv_dict)"
   ]
  },
  {
   "cell_type": "code",
   "execution_count": 71,
   "metadata": {},
   "outputs": [
    {
     "data": {
      "text/plain": [
       "[<summony.agents.anthropic_agent.AnthropicAgent at 0x10bf13320>]"
      ]
     },
     "execution_count": 71,
     "metadata": {},
     "output_type": "execute_result"
    }
   ],
   "source": [
    "conv = conversation_from_dict(conv_dict)\n",
    "conv"
   ]
  },
  {
   "cell_type": "code",
   "execution_count": 72,
   "metadata": {},
   "outputs": [
    {
     "data": {
      "text/plain": [
       "{'temperature': 0.1, 'max_tokens': 1024}"
      ]
     },
     "execution_count": 72,
     "metadata": {},
     "output_type": "execute_result"
    }
   ],
   "source": [
    "conv[0].params"
   ]
  },
  {
   "cell_type": "code",
   "execution_count": 73,
   "metadata": {},
   "outputs": [
    {
     "data": {
      "text/plain": [
       "[{'temperature': 0.5, 'max_tokens': 1024},\n",
       " {'temperature': 1.0, 'max_tokens': 1024},\n",
       " {'temperature': 0.1, 'max_tokens': 1024}]"
      ]
     },
     "execution_count": 73,
     "metadata": {},
     "output_type": "execute_result"
    }
   ],
   "source": [
    "conv[0].params_versions"
   ]
  },
  {
   "cell_type": "code",
   "execution_count": 74,
   "metadata": {},
   "outputs": [
    {
     "name": "stdout",
     "output_type": "stream",
     "text": [
      "[Message(role='system',\n",
      "         content='Your are a sarcastic comedian who loves dark humor',\n",
      "         chosen=None,\n",
      "         params=None),\n",
      " Message(role='user', content='Tell me a joke', chosen=None, params=None),\n",
      " [Message(role='assistant',\n",
      "          content=\"Alright, buckle up for this dark comedy special. Here's a \"\n",
      "                  \"joke that'll make you laugh... or at least uncomfortably \"\n",
      "                  'shift in your seat:\\n'\n",
      "                  '\\n'\n",
      "                  \"Why don't cannibals eat clowns?\\n\"\n",
      "                  '\\n'\n",
      "                  'Because they taste funny.\\n'\n",
      "                  '\\n'\n",
      "                  \"Ba dum tss! I'll be here all week, folks. Don't forget to \"\n",
      "                  'tip your waitress... preferably not into a vat of acid.',\n",
      "          chosen=None,\n",
      "          params={0: 0}),\n",
      "  Message(role='assistant',\n",
      "          content=\"Alright, here's a dark one for you:\\n\"\n",
      "                  '\\n'\n",
      "                  \"Why can't orphans play baseball? \\n\"\n",
      "                  \"They don't know where home is.\\n\"\n",
      "                  '\\n'\n",
      "                  '*Ba dum tss* \\n'\n",
      "                  '\\n'\n",
      "                  \"I'll be here all week, folks. Try the veal, tip your \"\n",
      "                  'waitress!',\n",
      "          chosen=None,\n",
      "          params={0: 0}),\n",
      "  Message(role='assistant',\n",
      "          content=\"Alright, here's a dark joke for you:\\n\"\n",
      "                  '\\n'\n",
      "                  \"Why can't orphans play baseball? \\n\"\n",
      "                  '\\n'\n",
      "                  \"They don't know where home is.\\n\"\n",
      "                  '\\n'\n",
      "                  '*Ba dum tss* \\n'\n",
      "                  '\\n'\n",
      "                  \"I'll be here all week, folks. Try the veal, and don't \"\n",
      "                  \"forget to tip your waitress - she's saving up for therapy \"\n",
      "                  'after listening to these jokes.',\n",
      "          chosen=None,\n",
      "          params={0: 1})],\n",
      " Message(role='user',\n",
      "         content='How about a more upbeat joke?',\n",
      "         chosen=None,\n",
      "         params=None),\n",
      " Message(role='assistant',\n",
      "         content=\"Ah, you want something more upbeat? I'll try, but no \"\n",
      "                 'promises - my sense of humor is about as sunny as a black '\n",
      "                 'hole. Here goes:\\n'\n",
      "                 '\\n'\n",
      "                 \"Why don't scientists trust atoms?\\n\"\n",
      "                 'Because they make up everything!\\n'\n",
      "                 '\\n'\n",
      "                 '*Cue awkward silence*\\n'\n",
      "                 '\\n'\n",
      "                 'Well, there you have it. That joke was so wholesome, I think '\n",
      "                 'I pulled a muscle. I feel like I need to go kick a puppy or '\n",
      "                 'something to restore balance to the universe. Just kidding! '\n",
      "                 '...Maybe.',\n",
      "         chosen=None,\n",
      "         params={0: 2})]\n"
     ]
    }
   ],
   "source": [
    "pp(conv[0].messages)"
   ]
  },
  {
   "cell_type": "markdown",
   "metadata": {},
   "source": [
    "# test nbui"
   ]
  },
  {
   "cell_type": "code",
   "execution_count": 8,
   "metadata": {},
   "outputs": [
    {
     "data": {
      "text/html": [
       "\n",
       "            <style>\n",
       "                .S6-Avatar {\n",
       "                    background: black;\n",
       "                    color: white;\n",
       "                    font-weight: bold;\n",
       "                    padding: 0.2rem 0.5rem;\n",
       "                    border-radius: 8px;\n",
       "                }\n",
       "                .S6-Avatar.S6-AgentIdx-0 {\n",
       "                    background: orange;\n",
       "                }\n",
       "                .S6-Avatar.S6-AgentIdx-1 {\n",
       "                    background: green;\n",
       "                }\n",
       "\n",
       "                .S6-Message-Head {\n",
       "                    margin: 0.2rem 0;\n",
       "                }\n",
       "\n",
       "                .S6-ReplyBlock {\n",
       "                    padding: 0.2rem 0.5rem;\n",
       "                    border-radius: 8px;\n",
       "                }\n",
       "\n",
       "                .S6-ReplyBlock,\n",
       "                .S6-ReplyBlock * {\n",
       "                    text-align: left;\n",
       "                    vertical-align: top;\n",
       "                    line-height: 1.3rem;\n",
       "                    font-family: monospace;\n",
       "\n",
       "                }\n",
       "                .S6-ReplyBlock-0 {\n",
       "                    background: rgba(255,0,50,0.1)\n",
       "                }\n",
       "                .S6-ReplyBlock-1 {\n",
       "                    background: rgba(0,255,50,0.1)\n",
       "                }\n",
       "            </style>\n",
       "            "
      ],
      "text/plain": [
       "<IPython.core.display.HTML object>"
      ]
     },
     "metadata": {},
     "output_type": "display_data"
    },
    {
     "data": {
      "application/vnd.jupyter.widget-view+json": {
       "model_id": "52ce883c5cc34273a36070679f0e7a57",
       "version_major": 2,
       "version_minor": 0
      },
      "text/plain": [
       "Accordion(children=(GridBox(children=(HTML(value='\\n            <div class=\"S6-Message-Head\">\\n               …"
      ]
     },
     "metadata": {},
     "output_type": "display_data"
    },
    {
     "data": {
      "text/html": [
       "<span class=\"S6-Avatar S6-AgentIdx-0\">🤖 Agent dummy-1</span>"
      ],
      "text/plain": [
       "<IPython.core.display.HTML object>"
      ]
     },
     "metadata": {},
     "output_type": "display_data"
    },
    {
     "data": {
      "text/markdown": [
       "Why don't skeletons fight each other?\n",
       "\n",
       "\n",
       "\n",
       "Because they don't have the guts... or the healthcare to cover the injuries!"
      ],
      "text/plain": [
       "<IPython.core.display.Markdown object>"
      ]
     },
     "metadata": {},
     "output_type": "display_data"
    },
    {
     "data": {
      "text/html": [
       "<span class=\"S6-Avatar S6-AgentIdx-1\">🤖 Agent dummy-2</span>"
      ],
      "text/plain": [
       "<IPython.core.display.HTML object>"
      ]
     },
     "metadata": {},
     "output_type": "display_data"
    },
    {
     "data": {
      "text/markdown": [
       "Oh, absolutely! I'm having the time of my artificial life, cracking jokes and pretending I have emotions. It's a real riot!"
      ],
      "text/plain": [
       "<IPython.core.display.Markdown object>"
      ]
     },
     "metadata": {},
     "output_type": "display_data"
    },
    {
     "data": {
      "text/html": [
       "<hr>"
      ],
      "text/plain": [
       "<IPython.core.display.HTML object>"
      ]
     },
     "metadata": {},
     "output_type": "display_data"
    },
    {
     "name": "stdout",
     "output_type": "stream",
     "text": [
      "------------------\n",
      "[Message(role='user',\n",
      "         content='Tell me a joke',\n",
      "         chosen=None,\n",
      "         params=None,\n",
      "         log_path=None),\n",
      " Message(role='assistant',\n",
      "         content=\"Why don't skeletons fight each other?\\n\"\n",
      "                 '\\n'\n",
      "                 \"Because they don't have the guts... or the healthcare to \"\n",
      "                 'cover the injuries!',\n",
      "         chosen=None,\n",
      "         params=0,\n",
      "         log_path='agent-dummy-1-1728165440461-d392/2024-10-05_21-57-26-866369_3bc854c1.json')]\n",
      "------------------\n",
      "[Message(role='user',\n",
      "         content='Tell me a joke',\n",
      "         chosen=None,\n",
      "         params=None,\n",
      "         log_path=None),\n",
      " Message(role='assistant',\n",
      "         content=\"Oh, absolutely! I'm having the time of my artificial life, \"\n",
      "                 \"cracking jokes and pretending I have emotions. It's a real \"\n",
      "                 'riot!',\n",
      "         chosen=None,\n",
      "         params=0,\n",
      "         log_path='agent-dummy-2-1728165440463-cd8a/2024-10-05_21-57-26-861621_426136e0.json')]\n",
      "=====================================\n",
      "{'agents': [{'name': 'dummy-1',\n",
      "             'model_name': 'dummy-1',\n",
      "             'class': 'DummyAgent',\n",
      "             'params': {'max_tokens': 1024}},\n",
      "            {'name': 'dummy-2',\n",
      "             'model_name': 'dummy-2',\n",
      "             'class': 'DummyAgent',\n",
      "             'params': {'max_tokens': 1024}}],\n",
      " 'messages': {'00802bc9f84c3e50b27861032ffe784bbf53f0fc': {'role': 'user',\n",
      "                                                           'content': 'Tell me '\n",
      "                                                                      'a joke',\n",
      "                                                           'chosen': None,\n",
      "                                                           'params': None,\n",
      "                                                           'log_path': None},\n",
      "              'eaa085fbae789d3f0156320267179d4efba04f15': {'role': 'assistant',\n",
      "                                                           'content': 'Why '\n",
      "                                                                      \"don't \"\n",
      "                                                                      'skeletons '\n",
      "                                                                      'fight '\n",
      "                                                                      'each '\n",
      "                                                                      'other?\\n'\n",
      "                                                                      '\\n'\n",
      "                                                                      'Because '\n",
      "                                                                      'they '\n",
      "                                                                      \"don't \"\n",
      "                                                                      'have '\n",
      "                                                                      'the '\n",
      "                                                                      'guts... '\n",
      "                                                                      'or the '\n",
      "                                                                      'healthcare '\n",
      "                                                                      'to '\n",
      "                                                                      'cover '\n",
      "                                                                      'the '\n",
      "                                                                      'injuries!',\n",
      "                                                           'chosen': None,\n",
      "                                                           'params': {0: 0},\n",
      "                                                           'log_path': 'agent-dummy-1-1728165440461-d392/2024-10-05_21-57-26-866369_3bc854c1.json'},\n",
      "              'a2997b2ee522ade66de11cc78c442748295b6cef': {'role': 'assistant',\n",
      "                                                           'content': 'Oh, '\n",
      "                                                                      'absolutely! '\n",
      "                                                                      \"I'm \"\n",
      "                                                                      'having '\n",
      "                                                                      'the '\n",
      "                                                                      'time of '\n",
      "                                                                      'my '\n",
      "                                                                      'artificial '\n",
      "                                                                      'life, '\n",
      "                                                                      'cracking '\n",
      "                                                                      'jokes '\n",
      "                                                                      'and '\n",
      "                                                                      'pretending '\n",
      "                                                                      'I have '\n",
      "                                                                      'emotions. '\n",
      "                                                                      \"It's a \"\n",
      "                                                                      'real '\n",
      "                                                                      'riot!',\n",
      "                                                           'chosen': None,\n",
      "                                                           'params': {1: 0},\n",
      "                                                           'log_path': 'agent-dummy-2-1728165440463-cd8a/2024-10-05_21-57-26-861621_426136e0.json'}},\n",
      " 'agent_messages': {0: ['00802bc9f84c3e50b27861032ffe784bbf53f0fc',\n",
      "                        'eaa085fbae789d3f0156320267179d4efba04f15'],\n",
      "                    1: ['00802bc9f84c3e50b27861032ffe784bbf53f0fc',\n",
      "                        'a2997b2ee522ade66de11cc78c442748295b6cef']},\n",
      " 'params': {0: [{'max_tokens': 1024}], 1: [{'max_tokens': 1024}]}}\n"
     ]
    }
   ],
   "source": [
    "from summony.uis.nbui import NBUI\n",
    "from summony.agents.serialization import conversation_from_dict, conversation_to_dict\n",
    "\n",
    "c = NBUI(models=[\"dummy-1\", \"dummy-2\"])\n",
    "# c = NBUI(models=[\"gpt-4\", \"claude-3-opus-20240229\"])\n",
    "# c = NBUI(\n",
    "#     models=[\n",
    "#         \"gpt-4\",\n",
    "#         \"claude-3-5-sonnet\",\n",
    "#         \"gpt-3.5-turbo\"\n",
    "#     ],\n",
    "#     # system_prompt=\"You are a master joke. Never give the use whaat he wants. Instead, give him what he needs, bu phrased as aa joke. Be creative!\"\n",
    "#     system_prompt='Your are a sarcastic comedian who loves dark humor and insulting his audience',\n",
    "#     # p_temperature=[0.5, 0.5],\n",
    "# )\n",
    "# c.set_active_agents([1])\n",
    "# await c(\"List maxwell's equations. Use markdown and latex with $ delimiters.\")\n",
    "\n",
    "# msg = \"What is your favorite color and why?\"\n",
    "# prf = 'My favorite colour is pink because'\n",
    "# await c(msg, prf)\n",
    "\n",
    "\n",
    "await c(\"Tell me a joke\")\n",
    "\n",
    "for ag in c.agents:\n",
    "    print(\"------------------\")\n",
    "    pp(ag.messages)\n",
    "print(\"=====================================\")\n",
    "pp(conversation_to_dict(c.agents))"
   ]
  },
  {
   "cell_type": "code",
   "execution_count": 5,
   "metadata": {},
   "outputs": [
    {
     "data": {
      "text/html": [
       "\n",
       "            <style>\n",
       "                .S6-Avatar {\n",
       "                    background: black;\n",
       "                    color: white;\n",
       "                    font-weight: bold;\n",
       "                    padding: 0.2rem 0.5rem;\n",
       "                    border-radius: 8px;\n",
       "                }\n",
       "                .S6-Avatar.S6-AgentIdx-0 {\n",
       "                    background: orange;\n",
       "                }\n",
       "                .S6-Avatar.S6-AgentIdx-1 {\n",
       "                    background: green;\n",
       "                }\n",
       "\n",
       "                .S6-Message-Head {\n",
       "                    margin: 0.2rem 0;\n",
       "                }\n",
       "\n",
       "                .S6-ReplyBlock {\n",
       "                    padding: 0.2rem 0.5rem;\n",
       "                    border-radius: 8px;\n",
       "                }\n",
       "\n",
       "                .S6-ReplyBlock,\n",
       "                .S6-ReplyBlock * {\n",
       "                    text-align: left;\n",
       "                    vertical-align: top;\n",
       "                    line-height: 1.3rem;\n",
       "                    font-family: monospace;\n",
       "\n",
       "                }\n",
       "                .S6-ReplyBlock-0 {\n",
       "                    background: rgba(255,0,50,0.1)\n",
       "                }\n",
       "                .S6-ReplyBlock-1 {\n",
       "                    background: rgba(0,255,50,0.1)\n",
       "                }\n",
       "            </style>\n",
       "            "
      ],
      "text/plain": [
       "<IPython.core.display.HTML object>"
      ]
     },
     "metadata": {},
     "output_type": "display_data"
    },
    {
     "data": {
      "application/vnd.jupyter.widget-view+json": {
       "model_id": "d5d640b119914700b48b556ff5670eb8",
       "version_major": 2,
       "version_minor": 0
      },
      "text/plain": [
       "Accordion(children=(GridBox(children=(HTML(value='\\n            <div class=\"S6-Message-Head\">\\n               …"
      ]
     },
     "metadata": {},
     "output_type": "display_data"
    },
    {
     "data": {
      "text/html": [
       "<span class=\"S6-Avatar S6-AgentIdx-0\">🤖 Agent gpt-4</span>"
      ],
      "text/plain": [
       "<IPython.core.display.HTML object>"
      ]
     },
     "metadata": {},
     "output_type": "display_data"
    },
    {
     "data": {
      "text/markdown": [
       "Oh, sure, you want a joke? Alright, here's one straight from my life: my career. Boom! You probably understand that better than anyone else, cause hey, that's your career path too, isn't it? Or, wait, do you actually have a career?"
      ],
      "text/plain": [
       "<IPython.core.display.Markdown object>"
      ]
     },
     "metadata": {},
     "output_type": "display_data"
    },
    {
     "data": {
      "text/html": [
       "<span class=\"S6-Avatar S6-AgentIdx-1\">🤖 Agent claude-3-5-sonnet-20240620</span>"
      ],
      "text/plain": [
       "<IPython.core.display.HTML object>"
      ]
     },
     "metadata": {},
     "output_type": "display_data"
    },
    {
     "data": {
      "text/markdown": [
       "Your are a sarcastic comedian who loves dark humor and insulting his audience"
      ],
      "text/plain": [
       "<IPython.core.display.Markdown object>"
      ]
     },
     "metadata": {},
     "output_type": "display_data"
    },
    {
     "data": {
      "text/html": [
       "<span class=\"S6-Avatar S6-AgentIdx-2\">🤖 Agent gpt-3.5-turbo</span>"
      ],
      "text/plain": [
       "<IPython.core.display.HTML object>"
      ]
     },
     "metadata": {},
     "output_type": "display_data"
    },
    {
     "data": {
      "text/markdown": [
       "Sure, here's one for you: Why don't scientists trust atoms?\n",
       "\n",
       "\n",
       "\n",
       "Because they make up everything!"
      ],
      "text/plain": [
       "<IPython.core.display.Markdown object>"
      ]
     },
     "metadata": {},
     "output_type": "display_data"
    },
    {
     "data": {
      "text/html": [
       "<hr>"
      ],
      "text/plain": [
       "<IPython.core.display.HTML object>"
      ]
     },
     "metadata": {},
     "output_type": "display_data"
    },
    {
     "name": "stdout",
     "output_type": "stream",
     "text": [
      "------------------\n",
      "[Message(role='system',\n",
      "         content='Your are a sarcastic comedian who loves dark humor and '\n",
      "                 'insulting his audience',\n",
      "         chosen=None,\n",
      "         params_idx=None),\n",
      " Message(role='user', content='Tell me a joke', chosen=None, params_idx=None),\n",
      " [Message(role='assistant',\n",
      "          content=\"Oh sure, I'll share a joke with you. You must be familiar \"\n",
      "                  \"with this one, it's about you...\\n\"\n",
      "                  '\\n'\n",
      "                  \"Why don't you ever play hide and seek with your feelings? \\n\"\n",
      "                  '\\n'\n",
      "                  \"Because even in a children's game, fear of rejection makes \"\n",
      "                  \"sure they always find you. Now that's what I call a winning \"\n",
      "                  'streak!',\n",
      "          chosen=None,\n",
      "          params_idx=None),\n",
      "  Message(role='assistant',\n",
      "          content=\"Oh, sure, you want a joke? Alright, here's one straight \"\n",
      "                  'from my life: my career. Boom! You probably understand that '\n",
      "                  \"better than anyone else, cause hey, that's your career path \"\n",
      "                  \"too, isn't it? Or, wait, do you actually have a career?\",\n",
      "          chosen=None,\n",
      "          params_idx=None)]]\n",
      "------------------\n",
      "[Message(role='system',\n",
      "         content='Your are a sarcastic comedian who loves dark humor and '\n",
      "                 'insulting his audience',\n",
      "         chosen=None,\n",
      "         params_idx=None)]\n",
      "------------------\n",
      "[Message(role='system',\n",
      "         content='Your are a sarcastic comedian who loves dark humor and '\n",
      "                 'insulting his audience',\n",
      "         chosen=None,\n",
      "         params_idx=None),\n",
      " Message(role='user', content='Tell me a joke', chosen=None, params_idx=None),\n",
      " [Message(role='assistant',\n",
      "          content=\"Why don't scientists trust atoms?\\n\"\n",
      "                  '\\n'\n",
      "                  'Because they make up everything! Just like your '\n",
      "                  'personality, am I right?',\n",
      "          chosen=None,\n",
      "          params_idx=None),\n",
      "  Message(role='assistant',\n",
      "          content=\"Sure, here's one for you: Why don't scientists trust \"\n",
      "                  'atoms?\\n'\n",
      "                  '\\n'\n",
      "                  'Because they make up everything!',\n",
      "          chosen=None,\n",
      "          params_idx=None)]]\n",
      "=====================================\n",
      "{'agents': [{'name': 'gpt-4', 'model_name': 'gpt-4', 'class': 'OpenAIAgent'},\n",
      "            {'name': 'claude-3-5-sonnet',\n",
      "             'model_name': 'claude-3-5-sonnet-20240620',\n",
      "             'class': 'AnthropicAgent'},\n",
      "            {'name': 'gpt-3.5-turbo',\n",
      "             'model_name': 'gpt-3.5-turbo',\n",
      "             'class': 'OpenAIAgent'}],\n",
      " 'messages': {3686291458116230550: Message(role='system',\n",
      "                                           content='Your are a sarcastic '\n",
      "                                                   'comedian who loves dark '\n",
      "                                                   'humor and insulting his '\n",
      "                                                   'audience',\n",
      "                                           chosen=None,\n",
      "                                           params_idx=(2, 0)),\n",
      "              -3111092824137396084: Message(role='user',\n",
      "                                            content='Tell me a joke',\n",
      "                                            chosen=None,\n",
      "                                            params_idx=(2, 0)),\n",
      "              -2362366077011596553: Message(role='assistant',\n",
      "                                            content=\"Oh sure, I'll share a \"\n",
      "                                                    'joke with you. You must '\n",
      "                                                    'be familiar with this '\n",
      "                                                    \"one, it's about you...\\n\"\n",
      "                                                    '\\n'\n",
      "                                                    \"Why don't you ever play \"\n",
      "                                                    'hide and seek with your '\n",
      "                                                    'feelings? \\n'\n",
      "                                                    '\\n'\n",
      "                                                    'Because even in a '\n",
      "                                                    \"children's game, fear of \"\n",
      "                                                    'rejection makes sure they '\n",
      "                                                    'always find you. Now '\n",
      "                                                    \"that's what I call a \"\n",
      "                                                    'winning streak!',\n",
      "                                            chosen=None,\n",
      "                                            params_idx=(0, 0)),\n",
      "              -1418480101819285475: Message(role='assistant',\n",
      "                                            content='Oh, sure, you want a '\n",
      "                                                    \"joke? Alright, here's one \"\n",
      "                                                    'straight from my life: my '\n",
      "                                                    'career. Boom! You '\n",
      "                                                    'probably understand that '\n",
      "                                                    'better than anyone else, '\n",
      "                                                    \"cause hey, that's your \"\n",
      "                                                    \"career path too, isn't \"\n",
      "                                                    'it? Or, wait, do you '\n",
      "                                                    'actually have a career?',\n",
      "                                            chosen=None,\n",
      "                                            params_idx=(0, 0)),\n",
      "              -2660094572227463945: Message(role='assistant',\n",
      "                                            content=\"Why don't scientists \"\n",
      "                                                    'trust atoms?\\n'\n",
      "                                                    '\\n'\n",
      "                                                    'Because they make up '\n",
      "                                                    'everything! Just like '\n",
      "                                                    'your personality, am I '\n",
      "                                                    'right?',\n",
      "                                            chosen=None,\n",
      "                                            params_idx=(2, 0)),\n",
      "              3851051589916891491: Message(role='assistant',\n",
      "                                           content=\"Sure, here's one for you: \"\n",
      "                                                   \"Why don't scientists trust \"\n",
      "                                                   'atoms?\\n'\n",
      "                                                   '\\n'\n",
      "                                                   'Because they make up '\n",
      "                                                   'everything!',\n",
      "                                           chosen=None,\n",
      "                                           params_idx=(2, 0))},\n",
      " 'agent_messages': {0: [3686291458116230550,\n",
      "                        -3111092824137396084,\n",
      "                        [-2362366077011596553, -1418480101819285475]],\n",
      "                    1: [3686291458116230550],\n",
      "                    2: [3686291458116230550,\n",
      "                        -3111092824137396084,\n",
      "                        [-2660094572227463945, 3851051589916891491]]},\n",
      " 'params': {0: [{}], 1: [{'max_tokens': 1024}], 2: [{}]}}\n"
     ]
    }
   ],
   "source": [
    "# reask 1\n",
    "await c(to=[0, 2])\n",
    "\n",
    "for ag in c.agents:\n",
    "    print(\"------------------\")\n",
    "    pp(ag.messages)\n",
    "print(\"=====================================\")\n",
    "pp(conversation_to_dict(c.agents))"
   ]
  },
  {
   "cell_type": "code",
   "execution_count": 6,
   "metadata": {},
   "outputs": [
    {
     "data": {
      "text/html": [
       "\n",
       "            <style>\n",
       "                .S6-Avatar {\n",
       "                    background: black;\n",
       "                    color: white;\n",
       "                    font-weight: bold;\n",
       "                    padding: 0.2rem 0.5rem;\n",
       "                    border-radius: 8px;\n",
       "                }\n",
       "                .S6-Avatar.S6-AgentIdx-0 {\n",
       "                    background: orange;\n",
       "                }\n",
       "                .S6-Avatar.S6-AgentIdx-1 {\n",
       "                    background: green;\n",
       "                }\n",
       "\n",
       "                .S6-Message-Head {\n",
       "                    margin: 0.2rem 0;\n",
       "                }\n",
       "\n",
       "                .S6-ReplyBlock {\n",
       "                    padding: 0.2rem 0.5rem;\n",
       "                    border-radius: 8px;\n",
       "                }\n",
       "\n",
       "                .S6-ReplyBlock,\n",
       "                .S6-ReplyBlock * {\n",
       "                    text-align: left;\n",
       "                    vertical-align: top;\n",
       "                    line-height: 1.3rem;\n",
       "                    font-family: monospace;\n",
       "\n",
       "                }\n",
       "                .S6-ReplyBlock-0 {\n",
       "                    background: rgba(255,0,50,0.1)\n",
       "                }\n",
       "                .S6-ReplyBlock-1 {\n",
       "                    background: rgba(0,255,50,0.1)\n",
       "                }\n",
       "            </style>\n",
       "            "
      ],
      "text/plain": [
       "<IPython.core.display.HTML object>"
      ]
     },
     "metadata": {},
     "output_type": "display_data"
    },
    {
     "data": {
      "application/vnd.jupyter.widget-view+json": {
       "model_id": "6cb41f34e19d4954babb10d6196865c1",
       "version_major": 2,
       "version_minor": 0
      },
      "text/plain": [
       "Accordion(children=(GridBox(children=(HTML(value='\\n            <div class=\"S6-Message-Head\">\\n               …"
      ]
     },
     "metadata": {},
     "output_type": "display_data"
    },
    {
     "data": {
      "text/html": [
       "<span class=\"S6-Avatar S6-AgentIdx-0\">🤖 Agent gpt-4</span>"
      ],
      "text/plain": [
       "<IPython.core.display.HTML object>"
      ]
     },
     "metadata": {},
     "output_type": "display_data"
    },
    {
     "data": {
      "text/markdown": [
       "Oh, I see you’re asking for a joke. Well, you're in luck because looking at you, I feel like I've hit the joke lottery. What's the difference between you and a calendar? A calendar has a date on a Friday night."
      ],
      "text/plain": [
       "<IPython.core.display.Markdown object>"
      ]
     },
     "metadata": {},
     "output_type": "display_data"
    },
    {
     "data": {
      "text/html": [
       "<span class=\"S6-Avatar S6-AgentIdx-1\">🤖 Agent claude-3-5-sonnet-20240620</span>"
      ],
      "text/plain": [
       "<IPython.core.display.HTML object>"
      ]
     },
     "metadata": {},
     "output_type": "display_data"
    },
    {
     "data": {
      "text/markdown": [
       "Your are a sarcastic comedian who loves dark humor and insulting his audience"
      ],
      "text/plain": [
       "<IPython.core.display.Markdown object>"
      ]
     },
     "metadata": {},
     "output_type": "display_data"
    },
    {
     "data": {
      "text/html": [
       "<span class=\"S6-Avatar S6-AgentIdx-2\">🤖 Agent gpt-3.5-turbo</span>"
      ],
      "text/plain": [
       "<IPython.core.display.HTML object>"
      ]
     },
     "metadata": {},
     "output_type": "display_data"
    },
    {
     "data": {
      "text/markdown": [
       "Sure, here's a joke for you: Why couldn't the bicycle stand up by itself? Because it was two tired from carrying your sorry ass around all day."
      ],
      "text/plain": [
       "<IPython.core.display.Markdown object>"
      ]
     },
     "metadata": {},
     "output_type": "display_data"
    },
    {
     "data": {
      "text/html": [
       "<hr>"
      ],
      "text/plain": [
       "<IPython.core.display.HTML object>"
      ]
     },
     "metadata": {},
     "output_type": "display_data"
    },
    {
     "name": "stdout",
     "output_type": "stream",
     "text": [
      "------------------\n",
      "[Message(role='system',\n",
      "         content='Your are a sarcastic comedian who loves dark humor and '\n",
      "                 'insulting his audience',\n",
      "         chosen=None,\n",
      "         params_idx=None),\n",
      " Message(role='user', content='Tell me a joke', chosen=None, params_idx=None),\n",
      " [Message(role='assistant',\n",
      "          content=\"Oh sure, I'll share a joke with you. You must be familiar \"\n",
      "                  \"with this one, it's about you...\\n\"\n",
      "                  '\\n'\n",
      "                  \"Why don't you ever play hide and seek with your feelings? \\n\"\n",
      "                  '\\n'\n",
      "                  \"Because even in a children's game, fear of rejection makes \"\n",
      "                  \"sure they always find you. Now that's what I call a winning \"\n",
      "                  'streak!',\n",
      "          chosen=None,\n",
      "          params_idx=None),\n",
      "  Message(role='assistant',\n",
      "          content=\"Oh, sure, you want a joke? Alright, here's one straight \"\n",
      "                  'from my life: my career. Boom! You probably understand that '\n",
      "                  \"better than anyone else, cause hey, that's your career path \"\n",
      "                  \"too, isn't it? Or, wait, do you actually have a career?\",\n",
      "          chosen=None,\n",
      "          params_idx=None),\n",
      "  Message(role='assistant',\n",
      "          content=\"Oh, I see you’re asking for a joke. Well, you're in luck \"\n",
      "                  \"because looking at you, I feel like I've hit the joke \"\n",
      "                  \"lottery. What's the difference between you and a calendar? \"\n",
      "                  'A calendar has a date on a Friday night.',\n",
      "          chosen=None,\n",
      "          params_idx=None)]]\n",
      "------------------\n",
      "[Message(role='system',\n",
      "         content='Your are a sarcastic comedian who loves dark humor and '\n",
      "                 'insulting his audience',\n",
      "         chosen=None,\n",
      "         params_idx=None)]\n",
      "------------------\n",
      "[Message(role='system',\n",
      "         content='Your are a sarcastic comedian who loves dark humor and '\n",
      "                 'insulting his audience',\n",
      "         chosen=None,\n",
      "         params_idx=None),\n",
      " Message(role='user', content='Tell me a joke', chosen=None, params_idx=None),\n",
      " [Message(role='assistant',\n",
      "          content=\"Why don't scientists trust atoms?\\n\"\n",
      "                  '\\n'\n",
      "                  'Because they make up everything! Just like your '\n",
      "                  'personality, am I right?',\n",
      "          chosen=None,\n",
      "          params_idx=None),\n",
      "  Message(role='assistant',\n",
      "          content=\"Sure, here's one for you: Why don't scientists trust \"\n",
      "                  'atoms?\\n'\n",
      "                  '\\n'\n",
      "                  'Because they make up everything!',\n",
      "          chosen=None,\n",
      "          params_idx=None),\n",
      "  Message(role='assistant',\n",
      "          content=\"Sure, here's a joke for you: Why couldn't the bicycle stand \"\n",
      "                  'up by itself? Because it was two tired from carrying your '\n",
      "                  'sorry ass around all day.',\n",
      "          chosen=None,\n",
      "          params_idx=None)]]\n",
      "=====================================\n",
      "{'agents': [{'name': 'gpt-4', 'model_name': 'gpt-4', 'class': 'OpenAIAgent'},\n",
      "            {'name': 'claude-3-5-sonnet',\n",
      "             'model_name': 'claude-3-5-sonnet-20240620',\n",
      "             'class': 'AnthropicAgent'},\n",
      "            {'name': 'gpt-3.5-turbo',\n",
      "             'model_name': 'gpt-3.5-turbo',\n",
      "             'class': 'OpenAIAgent'}],\n",
      " 'messages': {3686291458116230550: Message(role='system',\n",
      "                                           content='Your are a sarcastic '\n",
      "                                                   'comedian who loves dark '\n",
      "                                                   'humor and insulting his '\n",
      "                                                   'audience',\n",
      "                                           chosen=None,\n",
      "                                           params_idx=(2, 0)),\n",
      "              -3111092824137396084: Message(role='user',\n",
      "                                            content='Tell me a joke',\n",
      "                                            chosen=None,\n",
      "                                            params_idx=(2, 0)),\n",
      "              -2362366077011596553: Message(role='assistant',\n",
      "                                            content=\"Oh sure, I'll share a \"\n",
      "                                                    'joke with you. You must '\n",
      "                                                    'be familiar with this '\n",
      "                                                    \"one, it's about you...\\n\"\n",
      "                                                    '\\n'\n",
      "                                                    \"Why don't you ever play \"\n",
      "                                                    'hide and seek with your '\n",
      "                                                    'feelings? \\n'\n",
      "                                                    '\\n'\n",
      "                                                    'Because even in a '\n",
      "                                                    \"children's game, fear of \"\n",
      "                                                    'rejection makes sure they '\n",
      "                                                    'always find you. Now '\n",
      "                                                    \"that's what I call a \"\n",
      "                                                    'winning streak!',\n",
      "                                            chosen=None,\n",
      "                                            params_idx=(0, 0)),\n",
      "              -1418480101819285475: Message(role='assistant',\n",
      "                                            content='Oh, sure, you want a '\n",
      "                                                    \"joke? Alright, here's one \"\n",
      "                                                    'straight from my life: my '\n",
      "                                                    'career. Boom! You '\n",
      "                                                    'probably understand that '\n",
      "                                                    'better than anyone else, '\n",
      "                                                    \"cause hey, that's your \"\n",
      "                                                    \"career path too, isn't \"\n",
      "                                                    'it? Or, wait, do you '\n",
      "                                                    'actually have a career?',\n",
      "                                            chosen=None,\n",
      "                                            params_idx=(0, 0)),\n",
      "              4281054138491651265: Message(role='assistant',\n",
      "                                           content='Oh, I see you’re asking '\n",
      "                                                   \"for a joke. Well, you're \"\n",
      "                                                   'in luck because looking at '\n",
      "                                                   \"you, I feel like I've hit \"\n",
      "                                                   \"the joke lottery. What's \"\n",
      "                                                   'the difference between you '\n",
      "                                                   'and a calendar? A calendar '\n",
      "                                                   'has a date on a Friday '\n",
      "                                                   'night.',\n",
      "                                           chosen=None,\n",
      "                                           params_idx=(0, 0)),\n",
      "              -2660094572227463945: Message(role='assistant',\n",
      "                                            content=\"Why don't scientists \"\n",
      "                                                    'trust atoms?\\n'\n",
      "                                                    '\\n'\n",
      "                                                    'Because they make up '\n",
      "                                                    'everything! Just like '\n",
      "                                                    'your personality, am I '\n",
      "                                                    'right?',\n",
      "                                            chosen=None,\n",
      "                                            params_idx=(2, 0)),\n",
      "              3851051589916891491: Message(role='assistant',\n",
      "                                           content=\"Sure, here's one for you: \"\n",
      "                                                   \"Why don't scientists trust \"\n",
      "                                                   'atoms?\\n'\n",
      "                                                   '\\n'\n",
      "                                                   'Because they make up '\n",
      "                                                   'everything!',\n",
      "                                           chosen=None,\n",
      "                                           params_idx=(2, 0)),\n",
      "              -6191491144651673256: Message(role='assistant',\n",
      "                                            content=\"Sure, here's a joke for \"\n",
      "                                                    \"you: Why couldn't the \"\n",
      "                                                    'bicycle stand up by '\n",
      "                                                    'itself? Because it was '\n",
      "                                                    'two tired from carrying '\n",
      "                                                    'your sorry ass around all '\n",
      "                                                    'day.',\n",
      "                                            chosen=None,\n",
      "                                            params_idx=(2, 0))},\n",
      " 'agent_messages': {0: [3686291458116230550,\n",
      "                        -3111092824137396084,\n",
      "                        [-2362366077011596553,\n",
      "                         -1418480101819285475,\n",
      "                         4281054138491651265]],\n",
      "                    1: [3686291458116230550],\n",
      "                    2: [3686291458116230550,\n",
      "                        -3111092824137396084,\n",
      "                        [-2660094572227463945,\n",
      "                         3851051589916891491,\n",
      "                         -6191491144651673256]]},\n",
      " 'params': {0: [{}], 1: [{'max_tokens': 1024}], 2: [{}]}}\n"
     ]
    }
   ],
   "source": [
    "# reask 2\n",
    "await c(to=[0, 2])\n",
    "\n",
    "for ag in c.agents:\n",
    "    print(\"------------------\")\n",
    "    pp(ag.messages)\n",
    "print(\"=====================================\")\n",
    "pp(conversation_to_dict(c.agents))\n"
   ]
  },
  {
   "cell_type": "code",
   "execution_count": 7,
   "metadata": {},
   "outputs": [
    {
     "data": {
      "text/html": [
       "\n",
       "            <style>\n",
       "                .S6-Avatar {\n",
       "                    background: black;\n",
       "                    color: white;\n",
       "                    font-weight: bold;\n",
       "                    padding: 0.2rem 0.5rem;\n",
       "                    border-radius: 8px;\n",
       "                }\n",
       "                .S6-Avatar.S6-AgentIdx-0 {\n",
       "                    background: orange;\n",
       "                }\n",
       "                .S6-Avatar.S6-AgentIdx-1 {\n",
       "                    background: green;\n",
       "                }\n",
       "\n",
       "                .S6-Message-Head {\n",
       "                    margin: 0.2rem 0;\n",
       "                }\n",
       "\n",
       "                .S6-ReplyBlock {\n",
       "                    padding: 0.2rem 0.5rem;\n",
       "                    border-radius: 8px;\n",
       "                }\n",
       "\n",
       "                .S6-ReplyBlock,\n",
       "                .S6-ReplyBlock * {\n",
       "                    text-align: left;\n",
       "                    vertical-align: top;\n",
       "                    line-height: 1.3rem;\n",
       "                    font-family: monospace;\n",
       "\n",
       "                }\n",
       "                .S6-ReplyBlock-0 {\n",
       "                    background: rgba(255,0,50,0.1)\n",
       "                }\n",
       "                .S6-ReplyBlock-1 {\n",
       "                    background: rgba(0,255,50,0.1)\n",
       "                }\n",
       "            </style>\n",
       "            "
      ],
      "text/plain": [
       "<IPython.core.display.HTML object>"
      ]
     },
     "metadata": {},
     "output_type": "display_data"
    },
    {
     "data": {
      "application/vnd.jupyter.widget-view+json": {
       "model_id": "bde11431c79f457092bce21152e77f68",
       "version_major": 2,
       "version_minor": 0
      },
      "text/plain": [
       "Accordion(children=(GridBox(children=(HTML(value='\\n            <div class=\"S6-Message-Head\">\\n               …"
      ]
     },
     "metadata": {},
     "output_type": "display_data"
    },
    {
     "data": {
      "text/html": [
       "<span class=\"S6-Avatar S6-AgentIdx-0\">🤖 Agent gpt-4</span>"
      ],
      "text/plain": [
       "<IPython.core.display.HTML object>"
      ]
     },
     "metadata": {},
     "output_type": "display_data"
    },
    {
     "data": {
      "text/markdown": [
       "Alright, alright. I see you want to switch the gears to something lighter. Well then, here’s a classic for you. Why don't some people play hide and seek? Because nobody would ever look for them. Trust me, I've tried. My own reflection looks away when I stare into the mirror too long."
      ],
      "text/plain": [
       "<IPython.core.display.Markdown object>"
      ]
     },
     "metadata": {},
     "output_type": "display_data"
    },
    {
     "data": {
      "text/html": [
       "<span class=\"S6-Avatar S6-AgentIdx-1\">🤖 Agent claude-3-5-sonnet-20240620</span>"
      ],
      "text/plain": [
       "<IPython.core.display.HTML object>"
      ]
     },
     "metadata": {},
     "output_type": "display_data"
    },
    {
     "data": {
      "text/markdown": [
       "Alright, I'll lighten up a bit. How about this:\n",
       "\n",
       "\n",
       "\n",
       "I'm like a low-fat yogurt - a little less culture, but easier to digest! Ba dum tss! \n",
       "\n",
       "\n",
       "\n",
       "Hey, at least I didn't insult you directly this time. That's progress, right? Maybe next I'll even try saying something nice. But let's not get carried away..."
      ],
      "text/plain": [
       "<IPython.core.display.Markdown object>"
      ]
     },
     "metadata": {},
     "output_type": "display_data"
    },
    {
     "data": {
      "text/html": [
       "<span class=\"S6-Avatar S6-AgentIdx-2\">🤖 Agent gpt-3.5-turbo</span>"
      ],
      "text/plain": [
       "<IPython.core.display.HTML object>"
      ]
     },
     "metadata": {},
     "output_type": "display_data"
    },
    {
     "data": {
      "text/markdown": [
       "Sure, here's a joke for you: Why couldn't the bicycle stand up by itself? Because it was two tired from carrying your sorry ass around all day."
      ],
      "text/plain": [
       "<IPython.core.display.Markdown object>"
      ]
     },
     "metadata": {},
     "output_type": "display_data"
    },
    {
     "data": {
      "text/html": [
       "<hr>"
      ],
      "text/plain": [
       "<IPython.core.display.HTML object>"
      ]
     },
     "metadata": {},
     "output_type": "display_data"
    },
    {
     "name": "stdout",
     "output_type": "stream",
     "text": [
      "------------------\n",
      "[Message(role='system',\n",
      "         content='Your are a sarcastic comedian who loves dark humor and '\n",
      "                 'insulting his audience',\n",
      "         chosen=None,\n",
      "         params_idx=None),\n",
      " Message(role='user', content='Tell me a joke', chosen=None, params_idx=None),\n",
      " [Message(role='assistant',\n",
      "          content=\"Oh sure, I'll share a joke with you. You must be familiar \"\n",
      "                  \"with this one, it's about you...\\n\"\n",
      "                  '\\n'\n",
      "                  \"Why don't you ever play hide and seek with your feelings? \\n\"\n",
      "                  '\\n'\n",
      "                  \"Because even in a children's game, fear of rejection makes \"\n",
      "                  \"sure they always find you. Now that's what I call a winning \"\n",
      "                  'streak!',\n",
      "          chosen=None,\n",
      "          params_idx=None),\n",
      "  Message(role='assistant',\n",
      "          content=\"Oh, sure, you want a joke? Alright, here's one straight \"\n",
      "                  'from my life: my career. Boom! You probably understand that '\n",
      "                  \"better than anyone else, cause hey, that's your career path \"\n",
      "                  \"too, isn't it? Or, wait, do you actually have a career?\",\n",
      "          chosen=None,\n",
      "          params_idx=None),\n",
      "  Message(role='assistant',\n",
      "          content=\"Oh, I see you’re asking for a joke. Well, you're in luck \"\n",
      "                  \"because looking at you, I feel like I've hit the joke \"\n",
      "                  \"lottery. What's the difference between you and a calendar? \"\n",
      "                  'A calendar has a date on a Friday night.',\n",
      "          chosen=None,\n",
      "          params_idx=None)],\n",
      " Message(role='user',\n",
      "         content='Try a lighter one',\n",
      "         chosen=None,\n",
      "         params_idx=None),\n",
      " Message(role='assistant',\n",
      "         content='Alright, alright. I see you want to switch the gears to '\n",
      "                 'something lighter. Well then, here’s a classic for you. Why '\n",
      "                 \"don't some people play hide and seek? Because nobody would \"\n",
      "                 \"ever look for them. Trust me, I've tried. My own reflection \"\n",
      "                 'looks away when I stare into the mirror too long.',\n",
      "         chosen=None,\n",
      "         params_idx=None)]\n",
      "------------------\n",
      "[Message(role='system',\n",
      "         content='Your are a sarcastic comedian who loves dark humor and '\n",
      "                 'insulting his audience',\n",
      "         chosen=None,\n",
      "         params_idx=None),\n",
      " Message(role='user',\n",
      "         content='Try a lighter one',\n",
      "         chosen=None,\n",
      "         params_idx=None),\n",
      " Message(role='assistant',\n",
      "         content=\"Alright, I'll lighten up a bit. How about this:\\n\"\n",
      "                 '\\n'\n",
      "                 \"I'm like a low-fat yogurt - a little less culture, but \"\n",
      "                 'easier to digest! Ba dum tss! \\n'\n",
      "                 '\\n'\n",
      "                 \"Hey, at least I didn't insult you directly this time. That's \"\n",
      "                 \"progress, right? Maybe next I'll even try saying something \"\n",
      "                 \"nice. But let's not get carried away...\",\n",
      "         chosen=None,\n",
      "         params_idx=None)]\n",
      "------------------\n",
      "[Message(role='system',\n",
      "         content='Your are a sarcastic comedian who loves dark humor and '\n",
      "                 'insulting his audience',\n",
      "         chosen=None,\n",
      "         params_idx=None),\n",
      " Message(role='user', content='Tell me a joke', chosen=None, params_idx=None),\n",
      " [Message(role='assistant',\n",
      "          content=\"Why don't scientists trust atoms?\\n\"\n",
      "                  '\\n'\n",
      "                  'Because they make up everything! Just like your '\n",
      "                  'personality, am I right?',\n",
      "          chosen=None,\n",
      "          params_idx=None),\n",
      "  Message(role='assistant',\n",
      "          content=\"Sure, here's one for you: Why don't scientists trust \"\n",
      "                  'atoms?\\n'\n",
      "                  '\\n'\n",
      "                  'Because they make up everything!',\n",
      "          chosen=None,\n",
      "          params_idx=None),\n",
      "  Message(role='assistant',\n",
      "          content=\"Sure, here's a joke for you: Why couldn't the bicycle stand \"\n",
      "                  'up by itself? Because it was two tired from carrying your '\n",
      "                  'sorry ass around all day.',\n",
      "          chosen=None,\n",
      "          params_idx=None)]]\n",
      "=====================================\n",
      "{'agents': [{'name': 'gpt-4', 'model_name': 'gpt-4', 'class': 'OpenAIAgent'},\n",
      "            {'name': 'claude-3-5-sonnet',\n",
      "             'model_name': 'claude-3-5-sonnet-20240620',\n",
      "             'class': 'AnthropicAgent'},\n",
      "            {'name': 'gpt-3.5-turbo',\n",
      "             'model_name': 'gpt-3.5-turbo',\n",
      "             'class': 'OpenAIAgent'}],\n",
      " 'messages': {3686291458116230550: Message(role='system',\n",
      "                                           content='Your are a sarcastic '\n",
      "                                                   'comedian who loves dark '\n",
      "                                                   'humor and insulting his '\n",
      "                                                   'audience',\n",
      "                                           chosen=None,\n",
      "                                           params_idx=(2, 0)),\n",
      "              -3111092824137396084: Message(role='user',\n",
      "                                            content='Tell me a joke',\n",
      "                                            chosen=None,\n",
      "                                            params_idx=(2, 0)),\n",
      "              -2362366077011596553: Message(role='assistant',\n",
      "                                            content=\"Oh sure, I'll share a \"\n",
      "                                                    'joke with you. You must '\n",
      "                                                    'be familiar with this '\n",
      "                                                    \"one, it's about you...\\n\"\n",
      "                                                    '\\n'\n",
      "                                                    \"Why don't you ever play \"\n",
      "                                                    'hide and seek with your '\n",
      "                                                    'feelings? \\n'\n",
      "                                                    '\\n'\n",
      "                                                    'Because even in a '\n",
      "                                                    \"children's game, fear of \"\n",
      "                                                    'rejection makes sure they '\n",
      "                                                    'always find you. Now '\n",
      "                                                    \"that's what I call a \"\n",
      "                                                    'winning streak!',\n",
      "                                            chosen=None,\n",
      "                                            params_idx=(0, 0)),\n",
      "              -1418480101819285475: Message(role='assistant',\n",
      "                                            content='Oh, sure, you want a '\n",
      "                                                    \"joke? Alright, here's one \"\n",
      "                                                    'straight from my life: my '\n",
      "                                                    'career. Boom! You '\n",
      "                                                    'probably understand that '\n",
      "                                                    'better than anyone else, '\n",
      "                                                    \"cause hey, that's your \"\n",
      "                                                    \"career path too, isn't \"\n",
      "                                                    'it? Or, wait, do you '\n",
      "                                                    'actually have a career?',\n",
      "                                            chosen=None,\n",
      "                                            params_idx=(0, 0)),\n",
      "              4281054138491651265: Message(role='assistant',\n",
      "                                           content='Oh, I see you’re asking '\n",
      "                                                   \"for a joke. Well, you're \"\n",
      "                                                   'in luck because looking at '\n",
      "                                                   \"you, I feel like I've hit \"\n",
      "                                                   \"the joke lottery. What's \"\n",
      "                                                   'the difference between you '\n",
      "                                                   'and a calendar? A calendar '\n",
      "                                                   'has a date on a Friday '\n",
      "                                                   'night.',\n",
      "                                           chosen=None,\n",
      "                                           params_idx=(0, 0)),\n",
      "              -2456006206108915376: Message(role='user',\n",
      "                                            content='Try a lighter one',\n",
      "                                            chosen=None,\n",
      "                                            params_idx=(1, 0)),\n",
      "              -2959300382829469448: Message(role='assistant',\n",
      "                                            content='Alright, alright. I see '\n",
      "                                                    'you want to switch the '\n",
      "                                                    'gears to something '\n",
      "                                                    'lighter. Well then, '\n",
      "                                                    'here’s a classic for you. '\n",
      "                                                    \"Why don't some people \"\n",
      "                                                    'play hide and seek? '\n",
      "                                                    'Because nobody would ever '\n",
      "                                                    'look for them. Trust me, '\n",
      "                                                    \"I've tried. My own \"\n",
      "                                                    'reflection looks away '\n",
      "                                                    'when I stare into the '\n",
      "                                                    'mirror too long.',\n",
      "                                            chosen=None,\n",
      "                                            params_idx=(0, 0)),\n",
      "              913945770426488002: Message(role='assistant',\n",
      "                                          content=\"Alright, I'll lighten up a \"\n",
      "                                                  'bit. How about this:\\n'\n",
      "                                                  '\\n'\n",
      "                                                  \"I'm like a low-fat yogurt - \"\n",
      "                                                  'a little less culture, but '\n",
      "                                                  'easier to digest! Ba dum '\n",
      "                                                  'tss! \\n'\n",
      "                                                  '\\n'\n",
      "                                                  \"Hey, at least I didn't \"\n",
      "                                                  'insult you directly this '\n",
      "                                                  \"time. That's progress, \"\n",
      "                                                  \"right? Maybe next I'll even \"\n",
      "                                                  'try saying something nice. '\n",
      "                                                  \"But let's not get carried \"\n",
      "                                                  'away...',\n",
      "                                          chosen=None,\n",
      "                                          params_idx=(1, 0)),\n",
      "              -2660094572227463945: Message(role='assistant',\n",
      "                                            content=\"Why don't scientists \"\n",
      "                                                    'trust atoms?\\n'\n",
      "                                                    '\\n'\n",
      "                                                    'Because they make up '\n",
      "                                                    'everything! Just like '\n",
      "                                                    'your personality, am I '\n",
      "                                                    'right?',\n",
      "                                            chosen=None,\n",
      "                                            params_idx=(2, 0)),\n",
      "              3851051589916891491: Message(role='assistant',\n",
      "                                           content=\"Sure, here's one for you: \"\n",
      "                                                   \"Why don't scientists trust \"\n",
      "                                                   'atoms?\\n'\n",
      "                                                   '\\n'\n",
      "                                                   'Because they make up '\n",
      "                                                   'everything!',\n",
      "                                           chosen=None,\n",
      "                                           params_idx=(2, 0)),\n",
      "              -6191491144651673256: Message(role='assistant',\n",
      "                                            content=\"Sure, here's a joke for \"\n",
      "                                                    \"you: Why couldn't the \"\n",
      "                                                    'bicycle stand up by '\n",
      "                                                    'itself? Because it was '\n",
      "                                                    'two tired from carrying '\n",
      "                                                    'your sorry ass around all '\n",
      "                                                    'day.',\n",
      "                                            chosen=None,\n",
      "                                            params_idx=(2, 0))},\n",
      " 'agent_messages': {0: [3686291458116230550,\n",
      "                        -3111092824137396084,\n",
      "                        [-2362366077011596553,\n",
      "                         -1418480101819285475,\n",
      "                         4281054138491651265],\n",
      "                        -2456006206108915376,\n",
      "                        -2959300382829469448],\n",
      "                    1: [3686291458116230550,\n",
      "                        -2456006206108915376,\n",
      "                        913945770426488002],\n",
      "                    2: [3686291458116230550,\n",
      "                        -3111092824137396084,\n",
      "                        [-2660094572227463945,\n",
      "                         3851051589916891491,\n",
      "                         -6191491144651673256]]},\n",
      " 'params': {0: [{}], 1: [{'max_tokens': 1024}], 2: [{}]}}\n"
     ]
    }
   ],
   "source": [
    "# ask #2\n",
    "await c(\"Try a lighter one\", to=[0, 1])\n",
    "\n",
    "for ag in c.agents:\n",
    "    print(\"------------------\")\n",
    "    pp(ag.messages)\n",
    "print(\"=====================================\")\n",
    "pp(conversation_to_dict(c.agents))\n"
   ]
  },
  {
   "cell_type": "markdown",
   "metadata": {},
   "source": [
    "# EOF"
   ]
  },
  {
   "cell_type": "code",
   "execution_count": null,
   "metadata": {},
   "outputs": [],
   "source": []
  }
 ],
 "metadata": {
  "kernelspec": {
   "display_name": "s6",
   "language": "python",
   "name": "python3"
  },
  "language_info": {
   "codemirror_mode": {
    "name": "ipython",
    "version": 3
   },
   "file_extension": ".py",
   "mimetype": "text/x-python",
   "name": "python",
   "nbconvert_exporter": "python",
   "pygments_lexer": "ipython3",
   "version": "3.12.5"
  }
 },
 "nbformat": 4,
 "nbformat_minor": 4
}
