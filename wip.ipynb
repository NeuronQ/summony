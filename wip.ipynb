{
 "cells": [
  {
   "cell_type": "markdown",
   "metadata": {},
   "source": [
    "# imports, config etc."
   ]
  },
  {
   "cell_type": "code",
   "execution_count": 33,
   "metadata": {},
   "outputs": [],
   "source": [
    "# !pip install ollama\n",
    "# !pip freeze | grep -i ollama= >> requirements.txt\n",
    "# !cat requirements.txt"
   ]
  },
  {
   "cell_type": "code",
   "execution_count": 1,
   "metadata": {},
   "outputs": [
    {
     "data": {
      "text/plain": [
       "True"
      ]
     },
     "execution_count": 1,
     "metadata": {},
     "output_type": "execute_result"
    }
   ],
   "source": [
    "import asyncio\n",
    "import os\n",
    "import uuid\n",
    "import time\n",
    "from pprint import pp\n",
    "from typing import Any, AsyncIterator, Callable, Coroutine, Literal, Self\n",
    "\n",
    "from IPython.display import Markdown, HTML, display\n",
    "import ipywidgets as widgets\n",
    "\n",
    "%load_ext autoreload\n",
    "%autoreload 2\n",
    "\n",
    "from dotenv import load_dotenv\n",
    "\n",
    "\n",
    "load_dotenv()"
   ]
  },
  {
   "cell_type": "markdown",
   "metadata": {},
   "source": [
    "# WIP"
   ]
  },
  {
   "cell_type": "code",
   "execution_count": 15,
   "metadata": {},
   "outputs": [
    {
     "data": {
      "text/markdown": [
       "\n",
       "## Markdown $LaTeX$ support\n",
       "\n",
       "Now let's see\n",
       "- one two\n",
       "- three\n",
       "\n",
       "### atual md test\n",
       "\n",
       "The Markdown pane supports math rendering for string pane supports math rendering for string pane supports math rendering for string pane supports math rendering for string encapsulated with double $ delimiters:\n",
       "\n",
       "$$\n",
       "\\sum_{j}{\\sum_{i}{a*w_{j, i}}}\n",
       "$$\n"
      ],
      "text/plain": [
       "<IPython.core.display.Markdown object>"
      ]
     },
     "execution_count": 15,
     "metadata": {},
     "output_type": "execute_result"
    }
   ],
   "source": [
    "md_str = r\"\"\"\n",
    "## Markdown $LaTeX$ support\n",
    "\n",
    "Now let's see\n",
    "- one two\n",
    "- three\n",
    "\n",
    "### atual md test\n",
    "\n",
    "The Markdown pane supports math rendering for string pane supports math rendering for string pane supports math rendering for string pane supports math rendering for string encapsulated with double $ delimiters:\n",
    "\n",
    "$$\n",
    "\\sum_{j}{\\sum_{i}{a*w_{j, i}}}\n",
    "$$\n",
    "\"\"\"\n",
    "md = Markdown(md_str)\n",
    "md"
   ]
  },
  {
   "cell_type": "code",
   "execution_count": 13,
   "metadata": {},
   "outputs": [],
   "source": [
    "import markdown"
   ]
  },
  {
   "cell_type": "code",
   "execution_count": null,
   "metadata": {},
   "outputs": [],
   "source": []
  },
  {
   "cell_type": "code",
   "execution_count": 17,
   "metadata": {},
   "outputs": [
    {
     "data": {
      "application/vnd.jupyter.widget-view+json": {
       "model_id": "a9a55d4b0f2e4dcd8fd8db9c072e42fa",
       "version_major": 2,
       "version_minor": 0
      },
      "text/plain": [
       "HTMLMath(value='Now what $\\\\int f(s) ds$')"
      ]
     },
     "execution_count": 17,
     "metadata": {},
     "output_type": "execute_result"
    }
   ],
   "source": [
    "import ipywidgets as widgets\n",
    "\n",
    "widgets.HTMLMath(value=r\"$\\int f(s) ds$\")\n",
    "widgets.HTMLMath(value=r\"Now what $\\int f(s) ds$\")"
   ]
  },
  {
   "cell_type": "code",
   "execution_count": 45,
   "metadata": {},
   "outputs": [
    {
     "data": {
      "application/vnd.jupyter.widget-view+json": {
       "model_id": "b9eb78804b554db28b968c7a440374cf",
       "version_major": 2,
       "version_minor": 0
      },
      "text/plain": [
       "HTML(value=\"Entropy is a fundamental concept in physics and information theory, with slightly different but re…"
      ]
     },
     "metadata": {},
     "output_type": "display_data"
    },
    {
     "data": {
      "application/vnd.jupyter.widget-view+json": {
       "model_id": "5927538a2b1e4da49753f6b30151e802",
       "version_major": 2,
       "version_minor": 0
      },
      "text/plain": [
       "HTML(value='1. Thermodynamic Entropy:')"
      ]
     },
     "metadata": {},
     "output_type": "display_data"
    },
    {
     "data": {
      "application/vnd.jupyter.widget-view+json": {
       "model_id": "a73bb92ad72542cf92ace566830f0b75",
       "version_major": 2,
       "version_minor": 0
      },
      "text/plain": [
       "HTML(value=\"In physics, entropy is a measure of the disorder or randomness in a system. It's defined as:\")"
      ]
     },
     "metadata": {},
     "output_type": "display_data"
    },
    {
     "data": {
      "application/vnd.jupyter.widget-view+json": {
       "model_id": "10537b2d79564674bd2b84a677b58973",
       "version_major": 2,
       "version_minor": 0
      },
      "text/plain": [
       "HTMLMath(value='$S = k_B \\\\ln W$')"
      ]
     },
     "metadata": {},
     "output_type": "display_data"
    },
    {
     "data": {
      "application/vnd.jupyter.widget-view+json": {
       "model_id": "865cac5b24764cbf8187f88499fe48e4",
       "version_major": 2,
       "version_minor": 0
      },
      "text/plain": [
       "HTML(value='Where:')"
      ]
     },
     "metadata": {},
     "output_type": "display_data"
    },
    {
     "data": {
      "application/vnd.jupyter.widget-view+json": {
       "model_id": "b4d49e592f07489cb2a6bba47d856e49",
       "version_major": 2,
       "version_minor": 0
      },
      "text/plain": [
       "HTML(value='- S is entropy')"
      ]
     },
     "metadata": {},
     "output_type": "display_data"
    },
    {
     "data": {
      "application/vnd.jupyter.widget-view+json": {
       "model_id": "8f7e7a9de14c4b17953252cbc4464226",
       "version_major": 2,
       "version_minor": 0
      },
      "text/plain": [
       "HTMLMath(value=\"- $k_B$ is Boltzmann's constant\")"
      ]
     },
     "metadata": {},
     "output_type": "display_data"
    },
    {
     "data": {
      "application/vnd.jupyter.widget-view+json": {
       "model_id": "a69c640692f54f50b4fa7f8ce6053dbc",
       "version_major": 2,
       "version_minor": 0
      },
      "text/plain": [
       "HTML(value='- W is the number of microstates (possible arrangements of particles)')"
      ]
     },
     "metadata": {},
     "output_type": "display_data"
    },
    {
     "data": {
      "application/vnd.jupyter.widget-view+json": {
       "model_id": "9a46728eef354d348fb6326cb65082b5",
       "version_major": 2,
       "version_minor": 0
      },
      "text/plain": [
       "HTML(value='Key points:')"
      ]
     },
     "metadata": {},
     "output_type": "display_data"
    },
    {
     "data": {
      "application/vnd.jupyter.widget-view+json": {
       "model_id": "a2728ab60a9e41818ded6a56e78b93b1",
       "version_major": 2,
       "version_minor": 0
      },
      "text/plain": [
       "HTML(value='- Entropy always increases in closed systems (2nd law of thermodynamics)')"
      ]
     },
     "metadata": {},
     "output_type": "display_data"
    },
    {
     "data": {
      "application/vnd.jupyter.widget-view+json": {
       "model_id": "f1dab29045654fc7be8f66d567256f46",
       "version_major": 2,
       "version_minor": 0
      },
      "text/plain": [
       "HTML(value=\"- It's related to the arrow of time and irreversibility\")"
      ]
     },
     "metadata": {},
     "output_type": "display_data"
    },
    {
     "data": {
      "application/vnd.jupyter.widget-view+json": {
       "model_id": "1a2051c7ac984f4d985d6a651cabf366",
       "version_major": 2,
       "version_minor": 0
      },
      "text/plain": [
       "HTML(value='- Higher entropy = more disorder = less available energy to do work')"
      ]
     },
     "metadata": {},
     "output_type": "display_data"
    },
    {
     "data": {
      "application/vnd.jupyter.widget-view+json": {
       "model_id": "4c4a63c15e404de28d5d4268b28a649f",
       "version_major": 2,
       "version_minor": 0
      },
      "text/plain": [
       "HTML(value='2. Information Entropy:')"
      ]
     },
     "metadata": {},
     "output_type": "display_data"
    },
    {
     "data": {
      "application/vnd.jupyter.widget-view+json": {
       "model_id": "41ea29c91fe340acb1f1fd6c11e615ad",
       "version_major": 2,
       "version_minor": 0
      },
      "text/plain": [
       "HTML(value=\"In information theory, entropy quantifies the average amount of information in a message. It's def…"
      ]
     },
     "metadata": {},
     "output_type": "display_data"
    },
    {
     "data": {
      "application/vnd.jupyter.widget-view+json": {
       "model_id": "e6d21595199040e598d13e30a14b9a0f",
       "version_major": 2,
       "version_minor": 0
      },
      "text/plain": [
       "HTMLMath(value='$H = -\\\\sum_{i=1}^n p_i \\\\log_2 p_i$')"
      ]
     },
     "metadata": {},
     "output_type": "display_data"
    },
    {
     "data": {
      "application/vnd.jupyter.widget-view+json": {
       "model_id": "5d026911f79f4ef3ad07e67a06f2fe7f",
       "version_major": 2,
       "version_minor": 0
      },
      "text/plain": [
       "HTML(value='Where:')"
      ]
     },
     "metadata": {},
     "output_type": "display_data"
    },
    {
     "data": {
      "application/vnd.jupyter.widget-view+json": {
       "model_id": "a1c12deb74294ffd9682564c34bfaa0e",
       "version_major": 2,
       "version_minor": 0
      },
      "text/plain": [
       "HTML(value='- H is information entropy')"
      ]
     },
     "metadata": {},
     "output_type": "display_data"
    },
    {
     "data": {
      "application/vnd.jupyter.widget-view+json": {
       "model_id": "69a540f7cd1d466b95b963b50d151191",
       "version_major": 2,
       "version_minor": 0
      },
      "text/plain": [
       "HTMLMath(value='- $p_i$ is the probability of symbol i occurring')"
      ]
     },
     "metadata": {},
     "output_type": "display_data"
    },
    {
     "data": {
      "application/vnd.jupyter.widget-view+json": {
       "model_id": "b134b291e9a84630bef2d178ddd0c8d1",
       "version_major": 2,
       "version_minor": 0
      },
      "text/plain": [
       "HTML(value='Key points:')"
      ]
     },
     "metadata": {},
     "output_type": "display_data"
    },
    {
     "data": {
      "application/vnd.jupyter.widget-view+json": {
       "model_id": "72515d53feaf4da6b4d01bdec22bbbd0",
       "version_major": 2,
       "version_minor": 0
      },
      "text/plain": [
       "HTML(value='- Measures uncertainty or surprise in a message')"
      ]
     },
     "metadata": {},
     "output_type": "display_data"
    },
    {
     "data": {
      "application/vnd.jupyter.widget-view+json": {
       "model_id": "d6a662f60c04410ab6105b9d59911d17",
       "version_major": 2,
       "version_minor": 0
      },
      "text/plain": [
       "HTML(value='- Used in data compression, cryptography, and machine learning')"
      ]
     },
     "metadata": {},
     "output_type": "display_data"
    },
    {
     "data": {
      "application/vnd.jupyter.widget-view+json": {
       "model_id": "9229453c12be40ecac4efca76ec0a20a",
       "version_major": 2,
       "version_minor": 0
      },
      "text/plain": [
       "HTML(value='- Higher entropy = more information = less predictability')"
      ]
     },
     "metadata": {},
     "output_type": "display_data"
    },
    {
     "data": {
      "application/vnd.jupyter.widget-view+json": {
       "model_id": "78857d37c11d4943aff8946638e76045",
       "version_major": 2,
       "version_minor": 0
      },
      "text/plain": [
       "HTML(value='Both concepts are deeply connected, reflecting the fundamental relationship between information an…"
      ]
     },
     "metadata": {},
     "output_type": "display_data"
    }
   ],
   "source": [
    "md_str = r\"\"\"\n",
    "Entropy is a fundamental concept in physics and information theory, with slightly different but related meanings in each context. Let's explore both:\n",
    "\n",
    "1. Thermodynamic Entropy:\n",
    "In physics, entropy is a measure of the disorder or randomness in a system. It's defined as:\n",
    "\n",
    "$S = k_B \\ln W$\n",
    "\n",
    "Where:\n",
    "- S is entropy\n",
    "- $k_B$ is Boltzmann's constant\n",
    "- W is the number of microstates (possible arrangements of particles)\n",
    "\n",
    "Key points:\n",
    "- Entropy always increases in closed systems (2nd law of thermodynamics)\n",
    "- It's related to the arrow of time and irreversibility\n",
    "- Higher entropy = more disorder = less available energy to do work\n",
    "\n",
    "2. Information Entropy:\n",
    "In information theory, entropy quantifies the average amount of information in a message. It's defined as:\n",
    "\n",
    "$H = -\\sum_{i=1}^n p_i \\log_2 p_i$\n",
    "\n",
    "Where:\n",
    "- H is information entropy\n",
    "- $p_i$ is the probability of symbol i occurring\n",
    "\n",
    "Key points:\n",
    "- Measures uncertainty or surprise in a message\n",
    "- Used in data compression, cryptography, and machine learning\n",
    "- Higher entropy = more information = less predictability\n",
    "\n",
    "Both concepts are deeply connected, reflecting the fundamental relationship between information and physical reality. They both describe the degree of \"spread\" or uncertainty in a system, whether it's the distribution of energy among particles or the distribution of symbols in a message.\n",
    "\"\"\"\n",
    "\n",
    "ws = [\n",
    "    (\n",
    "        widgets.HTMLMath(s)\n",
    "        if \"$\" in s\n",
    "        # else widgets.HTML(markdown.markdown(s.replace(\"\\n\", \"\\n\\n\")))\n",
    "        else widgets.HTML(f'{s}')\n",
    "    )\n",
    "    for s in md_str.split(\"\\n\")\n",
    "    if s.strip()\n",
    "]\n",
    "for w in ws:\n",
    "    display(w)\n",
    "    # print(\"------\")"
   ]
  },
  {
   "cell_type": "code",
   "execution_count": 33,
   "metadata": {},
   "outputs": [
    {
     "data": {
      "application/vnd.jupyter.widget-view+json": {
       "model_id": "88e8dad1da3a4baf91b12cd783f264c8",
       "version_major": 2,
       "version_minor": 0
      },
      "text/plain": [
       "HTMLMath(value='\\nEntropy is a fundamental concept in physics and information theory, with slightly different …"
      ]
     },
     "execution_count": 33,
     "metadata": {},
     "output_type": "execute_result"
    }
   ],
   "source": [
    "widgets.HTMLMath(md_str)"
   ]
  },
  {
   "cell_type": "code",
   "execution_count": 58,
   "metadata": {},
   "outputs": [
    {
     "data": {
      "text/html": [
       "<script type=\"esms-options\">{\"shimMode\": true}</script><style>*[data-root-id],\n",
       "*[data-root-id] > * {\n",
       "  box-sizing: border-box;\n",
       "  font-family: var(--jp-ui-font-family);\n",
       "  font-size: var(--jp-ui-font-size1);\n",
       "  color: var(--vscode-editor-foreground, var(--jp-ui-font-color1));\n",
       "}\n",
       "\n",
       "/* Override VSCode background color */\n",
       ".cell-output-ipywidget-background:has(\n",
       "    > .cell-output-ipywidget-background > .lm-Widget > *[data-root-id]\n",
       "  ),\n",
       ".cell-output-ipywidget-background:has(> .lm-Widget > *[data-root-id]) {\n",
       "  background-color: transparent !important;\n",
       "}\n",
       "</style>"
      ]
     },
     "metadata": {},
     "output_type": "display_data"
    },
    {
     "data": {
      "application/javascript": [
       "(function(root) {\n",
       "  function now() {\n",
       "    return new Date();\n",
       "  }\n",
       "\n",
       "  const force = true;\n",
       "  const py_version = '3.6.0'.replace('rc', '-rc.').replace('.dev', '-dev.');\n",
       "  const reloading = false;\n",
       "  const Bokeh = root.Bokeh;\n",
       "\n",
       "  // Set a timeout for this load but only if we are not already initializing\n",
       "  if (typeof (root._bokeh_timeout) === \"undefined\" || (force || !root._bokeh_is_initializing)) {\n",
       "    root._bokeh_timeout = Date.now() + 5000;\n",
       "    root._bokeh_failed_load = false;\n",
       "  }\n",
       "\n",
       "  function run_callbacks() {\n",
       "    try {\n",
       "      root._bokeh_onload_callbacks.forEach(function(callback) {\n",
       "        if (callback != null)\n",
       "          callback();\n",
       "      });\n",
       "    } finally {\n",
       "      delete root._bokeh_onload_callbacks;\n",
       "    }\n",
       "    console.debug(\"Bokeh: all callbacks have finished\");\n",
       "  }\n",
       "\n",
       "  function load_libs(css_urls, js_urls, js_modules, js_exports, callback) {\n",
       "    if (css_urls == null) css_urls = [];\n",
       "    if (js_urls == null) js_urls = [];\n",
       "    if (js_modules == null) js_modules = [];\n",
       "    if (js_exports == null) js_exports = {};\n",
       "\n",
       "    root._bokeh_onload_callbacks.push(callback);\n",
       "\n",
       "    if (root._bokeh_is_loading > 0) {\n",
       "      // Don't load bokeh if it is still initializing\n",
       "      console.debug(\"Bokeh: BokehJS is being loaded, scheduling callback at\", now());\n",
       "      return null;\n",
       "    } else if (js_urls.length === 0 && js_modules.length === 0 && Object.keys(js_exports).length === 0) {\n",
       "      // There is nothing to load\n",
       "      run_callbacks();\n",
       "      return null;\n",
       "    }\n",
       "\n",
       "    function on_load() {\n",
       "      root._bokeh_is_loading--;\n",
       "      if (root._bokeh_is_loading === 0) {\n",
       "        console.debug(\"Bokeh: all BokehJS libraries/stylesheets loaded\");\n",
       "        run_callbacks()\n",
       "      }\n",
       "    }\n",
       "    window._bokeh_on_load = on_load\n",
       "\n",
       "    function on_error(e) {\n",
       "      const src_el = e.srcElement\n",
       "      console.error(\"failed to load \" + (src_el.href || src_el.src));\n",
       "    }\n",
       "\n",
       "    const skip = [];\n",
       "    if (window.requirejs) {\n",
       "      window.requirejs.config({'packages': {}, 'paths': {'katex': 'https://cdnjs.cloudflare.com/ajax/libs/KaTeX/0.6.0/katex.min', 'autoLoad': 'https://cdn.jsdelivr.net/npm/katex@0.10.1/dist/contrib/auto-render.min'}, 'shim': {}});\n",
       "      require([\"katex\"], function(katex) {\n",
       "        window.katex = katex\n",
       "        on_load()\n",
       "      })\n",
       "      require([\"autoLoad\"], function(renderMathInElement) {\n",
       "        window.renderMathInElement = renderMathInElement\n",
       "        on_load()\n",
       "      })\n",
       "      root._bokeh_is_loading = css_urls.length + 2;\n",
       "    } else {\n",
       "      root._bokeh_is_loading = css_urls.length + js_urls.length + js_modules.length + Object.keys(js_exports).length;\n",
       "    }\n",
       "\n",
       "    const existing_stylesheets = []\n",
       "    const links = document.getElementsByTagName('link')\n",
       "    for (let i = 0; i < links.length; i++) {\n",
       "      const link = links[i]\n",
       "      if (link.href != null) {\n",
       "        existing_stylesheets.push(link.href)\n",
       "      }\n",
       "    }\n",
       "    for (let i = 0; i < css_urls.length; i++) {\n",
       "      const url = css_urls[i];\n",
       "      const escaped = encodeURI(url)\n",
       "      if (existing_stylesheets.indexOf(escaped) !== -1) {\n",
       "        on_load()\n",
       "        continue;\n",
       "      }\n",
       "      const element = document.createElement(\"link\");\n",
       "      element.onload = on_load;\n",
       "      element.onerror = on_error;\n",
       "      element.rel = \"stylesheet\";\n",
       "      element.type = \"text/css\";\n",
       "      element.href = url;\n",
       "      console.debug(\"Bokeh: injecting link tag for BokehJS stylesheet: \", url);\n",
       "      document.body.appendChild(element);\n",
       "    }    if (((window.katex !== undefined) && (!(window.katex instanceof HTMLElement))) || window.requirejs) {\n",
       "      var urls = ['https://cdnjs.cloudflare.com/ajax/libs/KaTeX/0.6.0/katex.min.js'];\n",
       "      for (var i = 0; i < urls.length; i++) {\n",
       "        skip.push(encodeURI(urls[i]))\n",
       "      }\n",
       "    }    if (((window.renderMathInElement !== undefined) && (!(window.renderMathInElement instanceof HTMLElement))) || window.requirejs) {\n",
       "      var urls = ['https://cdn.jsdelivr.net/npm/katex@0.10.1/dist/contrib/auto-render.min.js'];\n",
       "      for (var i = 0; i < urls.length; i++) {\n",
       "        skip.push(encodeURI(urls[i]))\n",
       "      }\n",
       "    }    var existing_scripts = []\n",
       "    const scripts = document.getElementsByTagName('script')\n",
       "    for (let i = 0; i < scripts.length; i++) {\n",
       "      var script = scripts[i]\n",
       "      if (script.src != null) {\n",
       "        existing_scripts.push(script.src)\n",
       "      }\n",
       "    }\n",
       "    for (let i = 0; i < js_urls.length; i++) {\n",
       "      const url = js_urls[i];\n",
       "      const escaped = encodeURI(url)\n",
       "      if (skip.indexOf(escaped) !== -1 || existing_scripts.indexOf(escaped) !== -1) {\n",
       "        if (!window.requirejs) {\n",
       "          on_load();\n",
       "        }\n",
       "        continue;\n",
       "      }\n",
       "      const element = document.createElement('script');\n",
       "      element.onload = on_load;\n",
       "      element.onerror = on_error;\n",
       "      element.async = false;\n",
       "      element.src = url;\n",
       "      console.debug(\"Bokeh: injecting script tag for BokehJS library: \", url);\n",
       "      document.head.appendChild(element);\n",
       "    }\n",
       "    for (let i = 0; i < js_modules.length; i++) {\n",
       "      const url = js_modules[i];\n",
       "      const escaped = encodeURI(url)\n",
       "      if (skip.indexOf(escaped) !== -1 || existing_scripts.indexOf(escaped) !== -1) {\n",
       "        if (!window.requirejs) {\n",
       "          on_load();\n",
       "        }\n",
       "        continue;\n",
       "      }\n",
       "      var element = document.createElement('script');\n",
       "      element.onload = on_load;\n",
       "      element.onerror = on_error;\n",
       "      element.async = false;\n",
       "      element.src = url;\n",
       "      element.type = \"module\";\n",
       "      console.debug(\"Bokeh: injecting script tag for BokehJS library: \", url);\n",
       "      document.head.appendChild(element);\n",
       "    }\n",
       "    for (const name in js_exports) {\n",
       "      const url = js_exports[name];\n",
       "      const escaped = encodeURI(url)\n",
       "      if (skip.indexOf(escaped) >= 0 || root[name] != null) {\n",
       "        if (!window.requirejs) {\n",
       "          on_load();\n",
       "        }\n",
       "        continue;\n",
       "      }\n",
       "      var element = document.createElement('script');\n",
       "      element.onerror = on_error;\n",
       "      element.async = false;\n",
       "      element.type = \"module\";\n",
       "      console.debug(\"Bokeh: injecting script tag for BokehJS library: \", url);\n",
       "      element.textContent = `\n",
       "      import ${name} from \"${url}\"\n",
       "      window.${name} = ${name}\n",
       "      window._bokeh_on_load()\n",
       "      `\n",
       "      document.head.appendChild(element);\n",
       "    }\n",
       "    if (!js_urls.length && !js_modules.length) {\n",
       "      on_load()\n",
       "    }\n",
       "  };\n",
       "\n",
       "  function inject_raw_css(css) {\n",
       "    const element = document.createElement(\"style\");\n",
       "    element.appendChild(document.createTextNode(css));\n",
       "    document.body.appendChild(element);\n",
       "  }\n",
       "\n",
       "  const js_urls = [\"https://cdn.holoviz.org/panel/1.5.2/dist/bundled/reactiveesm/es-module-shims@^1.10.0/dist/es-module-shims.min.js\", \"https://cdnjs.cloudflare.com/ajax/libs/KaTeX/0.6.0/katex.min.js\", \"https://cdn.jsdelivr.net/npm/katex@0.10.1/dist/contrib/auto-render.min.js\", \"https://cdn.bokeh.org/bokeh/release/bokeh-3.6.0.min.js\", \"https://cdn.bokeh.org/bokeh/release/bokeh-gl-3.6.0.min.js\", \"https://cdn.bokeh.org/bokeh/release/bokeh-widgets-3.6.0.min.js\", \"https://cdn.bokeh.org/bokeh/release/bokeh-tables-3.6.0.min.js\", \"https://cdn.bokeh.org/bokeh/release/bokeh-mathjax-3.6.0.min.js\", \"https://cdn.holoviz.org/panel/1.5.2/dist/panel.min.js\"];\n",
       "  const js_modules = [];\n",
       "  const js_exports = {};\n",
       "  const css_urls = [\"https://cdnjs.cloudflare.com/ajax/libs/KaTeX/0.6.0/katex.min.css?v=1.5.2\"];\n",
       "  const inline_js = [    function(Bokeh) {\n",
       "      Bokeh.set_log_level(\"info\");\n",
       "    },\n",
       "function(Bokeh) {} // ensure no trailing comma for IE\n",
       "  ];\n",
       "\n",
       "  function run_inline_js() {\n",
       "    if ((root.Bokeh !== undefined) || (force === true)) {\n",
       "      for (let i = 0; i < inline_js.length; i++) {\n",
       "        try {\n",
       "          inline_js[i].call(root, root.Bokeh);\n",
       "        } catch(e) {\n",
       "          if (!reloading) {\n",
       "            throw e;\n",
       "          }\n",
       "        }\n",
       "      }\n",
       "      // Cache old bokeh versions\n",
       "      if (Bokeh != undefined && !reloading) {\n",
       "        var NewBokeh = root.Bokeh;\n",
       "        if (Bokeh.versions === undefined) {\n",
       "          Bokeh.versions = new Map();\n",
       "        }\n",
       "        if (NewBokeh.version !== Bokeh.version) {\n",
       "          Bokeh.versions.set(NewBokeh.version, NewBokeh)\n",
       "        }\n",
       "        root.Bokeh = Bokeh;\n",
       "      }\n",
       "    } else if (Date.now() < root._bokeh_timeout) {\n",
       "      setTimeout(run_inline_js, 100);\n",
       "    } else if (!root._bokeh_failed_load) {\n",
       "      console.log(\"Bokeh: BokehJS failed to load within specified timeout.\");\n",
       "      root._bokeh_failed_load = true;\n",
       "    }\n",
       "    root._bokeh_is_initializing = false\n",
       "  }\n",
       "\n",
       "  function load_or_wait() {\n",
       "    // Implement a backoff loop that tries to ensure we do not load multiple\n",
       "    // versions of Bokeh and its dependencies at the same time.\n",
       "    // In recent versions we use the root._bokeh_is_initializing flag\n",
       "    // to determine whether there is an ongoing attempt to initialize\n",
       "    // bokeh, however for backward compatibility we also try to ensure\n",
       "    // that we do not start loading a newer (Panel>=1.0 and Bokeh>3) version\n",
       "    // before older versions are fully initialized.\n",
       "    if (root._bokeh_is_initializing && Date.now() > root._bokeh_timeout) {\n",
       "      // If the timeout and bokeh was not successfully loaded we reset\n",
       "      // everything and try loading again\n",
       "      root._bokeh_timeout = Date.now() + 5000;\n",
       "      root._bokeh_is_initializing = false;\n",
       "      root._bokeh_onload_callbacks = undefined;\n",
       "      root._bokeh_is_loading = 0\n",
       "      console.log(\"Bokeh: BokehJS was loaded multiple times but one version failed to initialize.\");\n",
       "      load_or_wait();\n",
       "    } else if (root._bokeh_is_initializing || (typeof root._bokeh_is_initializing === \"undefined\" && root._bokeh_onload_callbacks !== undefined)) {\n",
       "      setTimeout(load_or_wait, 100);\n",
       "    } else {\n",
       "      root._bokeh_is_initializing = true\n",
       "      root._bokeh_onload_callbacks = []\n",
       "      const bokeh_loaded = root.Bokeh != null && (root.Bokeh.version === py_version || (root.Bokeh.versions !== undefined && root.Bokeh.versions.has(py_version)));\n",
       "      if (!reloading && !bokeh_loaded) {\n",
       "        if (root.Bokeh) {\n",
       "          root.Bokeh = undefined;\n",
       "        }\n",
       "        console.debug(\"Bokeh: BokehJS not loaded, scheduling load and callback at\", now());\n",
       "      }\n",
       "      load_libs(css_urls, js_urls, js_modules, js_exports, function() {\n",
       "        console.debug(\"Bokeh: BokehJS plotting callback run at\", now());\n",
       "        run_inline_js();\n",
       "      });\n",
       "    }\n",
       "  }\n",
       "  // Give older versions of the autoload script a head-start to ensure\n",
       "  // they initialize before we start loading newer version.\n",
       "  setTimeout(load_or_wait, 100)\n",
       "}(window));"
      ],
      "application/vnd.holoviews_load.v0+json": "(function(root) {\n  function now() {\n    return new Date();\n  }\n\n  const force = true;\n  const py_version = '3.6.0'.replace('rc', '-rc.').replace('.dev', '-dev.');\n  const reloading = false;\n  const Bokeh = root.Bokeh;\n\n  // Set a timeout for this load but only if we are not already initializing\n  if (typeof (root._bokeh_timeout) === \"undefined\" || (force || !root._bokeh_is_initializing)) {\n    root._bokeh_timeout = Date.now() + 5000;\n    root._bokeh_failed_load = false;\n  }\n\n  function run_callbacks() {\n    try {\n      root._bokeh_onload_callbacks.forEach(function(callback) {\n        if (callback != null)\n          callback();\n      });\n    } finally {\n      delete root._bokeh_onload_callbacks;\n    }\n    console.debug(\"Bokeh: all callbacks have finished\");\n  }\n\n  function load_libs(css_urls, js_urls, js_modules, js_exports, callback) {\n    if (css_urls == null) css_urls = [];\n    if (js_urls == null) js_urls = [];\n    if (js_modules == null) js_modules = [];\n    if (js_exports == null) js_exports = {};\n\n    root._bokeh_onload_callbacks.push(callback);\n\n    if (root._bokeh_is_loading > 0) {\n      // Don't load bokeh if it is still initializing\n      console.debug(\"Bokeh: BokehJS is being loaded, scheduling callback at\", now());\n      return null;\n    } else if (js_urls.length === 0 && js_modules.length === 0 && Object.keys(js_exports).length === 0) {\n      // There is nothing to load\n      run_callbacks();\n      return null;\n    }\n\n    function on_load() {\n      root._bokeh_is_loading--;\n      if (root._bokeh_is_loading === 0) {\n        console.debug(\"Bokeh: all BokehJS libraries/stylesheets loaded\");\n        run_callbacks()\n      }\n    }\n    window._bokeh_on_load = on_load\n\n    function on_error(e) {\n      const src_el = e.srcElement\n      console.error(\"failed to load \" + (src_el.href || src_el.src));\n    }\n\n    const skip = [];\n    if (window.requirejs) {\n      window.requirejs.config({'packages': {}, 'paths': {'katex': 'https://cdnjs.cloudflare.com/ajax/libs/KaTeX/0.6.0/katex.min', 'autoLoad': 'https://cdn.jsdelivr.net/npm/katex@0.10.1/dist/contrib/auto-render.min'}, 'shim': {}});\n      require([\"katex\"], function(katex) {\n        window.katex = katex\n        on_load()\n      })\n      require([\"autoLoad\"], function(renderMathInElement) {\n        window.renderMathInElement = renderMathInElement\n        on_load()\n      })\n      root._bokeh_is_loading = css_urls.length + 2;\n    } else {\n      root._bokeh_is_loading = css_urls.length + js_urls.length + js_modules.length + Object.keys(js_exports).length;\n    }\n\n    const existing_stylesheets = []\n    const links = document.getElementsByTagName('link')\n    for (let i = 0; i < links.length; i++) {\n      const link = links[i]\n      if (link.href != null) {\n        existing_stylesheets.push(link.href)\n      }\n    }\n    for (let i = 0; i < css_urls.length; i++) {\n      const url = css_urls[i];\n      const escaped = encodeURI(url)\n      if (existing_stylesheets.indexOf(escaped) !== -1) {\n        on_load()\n        continue;\n      }\n      const element = document.createElement(\"link\");\n      element.onload = on_load;\n      element.onerror = on_error;\n      element.rel = \"stylesheet\";\n      element.type = \"text/css\";\n      element.href = url;\n      console.debug(\"Bokeh: injecting link tag for BokehJS stylesheet: \", url);\n      document.body.appendChild(element);\n    }    if (((window.katex !== undefined) && (!(window.katex instanceof HTMLElement))) || window.requirejs) {\n      var urls = ['https://cdnjs.cloudflare.com/ajax/libs/KaTeX/0.6.0/katex.min.js'];\n      for (var i = 0; i < urls.length; i++) {\n        skip.push(encodeURI(urls[i]))\n      }\n    }    if (((window.renderMathInElement !== undefined) && (!(window.renderMathInElement instanceof HTMLElement))) || window.requirejs) {\n      var urls = ['https://cdn.jsdelivr.net/npm/katex@0.10.1/dist/contrib/auto-render.min.js'];\n      for (var i = 0; i < urls.length; i++) {\n        skip.push(encodeURI(urls[i]))\n      }\n    }    var existing_scripts = []\n    const scripts = document.getElementsByTagName('script')\n    for (let i = 0; i < scripts.length; i++) {\n      var script = scripts[i]\n      if (script.src != null) {\n        existing_scripts.push(script.src)\n      }\n    }\n    for (let i = 0; i < js_urls.length; i++) {\n      const url = js_urls[i];\n      const escaped = encodeURI(url)\n      if (skip.indexOf(escaped) !== -1 || existing_scripts.indexOf(escaped) !== -1) {\n        if (!window.requirejs) {\n          on_load();\n        }\n        continue;\n      }\n      const element = document.createElement('script');\n      element.onload = on_load;\n      element.onerror = on_error;\n      element.async = false;\n      element.src = url;\n      console.debug(\"Bokeh: injecting script tag for BokehJS library: \", url);\n      document.head.appendChild(element);\n    }\n    for (let i = 0; i < js_modules.length; i++) {\n      const url = js_modules[i];\n      const escaped = encodeURI(url)\n      if (skip.indexOf(escaped) !== -1 || existing_scripts.indexOf(escaped) !== -1) {\n        if (!window.requirejs) {\n          on_load();\n        }\n        continue;\n      }\n      var element = document.createElement('script');\n      element.onload = on_load;\n      element.onerror = on_error;\n      element.async = false;\n      element.src = url;\n      element.type = \"module\";\n      console.debug(\"Bokeh: injecting script tag for BokehJS library: \", url);\n      document.head.appendChild(element);\n    }\n    for (const name in js_exports) {\n      const url = js_exports[name];\n      const escaped = encodeURI(url)\n      if (skip.indexOf(escaped) >= 0 || root[name] != null) {\n        if (!window.requirejs) {\n          on_load();\n        }\n        continue;\n      }\n      var element = document.createElement('script');\n      element.onerror = on_error;\n      element.async = false;\n      element.type = \"module\";\n      console.debug(\"Bokeh: injecting script tag for BokehJS library: \", url);\n      element.textContent = `\n      import ${name} from \"${url}\"\n      window.${name} = ${name}\n      window._bokeh_on_load()\n      `\n      document.head.appendChild(element);\n    }\n    if (!js_urls.length && !js_modules.length) {\n      on_load()\n    }\n  };\n\n  function inject_raw_css(css) {\n    const element = document.createElement(\"style\");\n    element.appendChild(document.createTextNode(css));\n    document.body.appendChild(element);\n  }\n\n  const js_urls = [\"https://cdn.holoviz.org/panel/1.5.2/dist/bundled/reactiveesm/es-module-shims@^1.10.0/dist/es-module-shims.min.js\", \"https://cdnjs.cloudflare.com/ajax/libs/KaTeX/0.6.0/katex.min.js\", \"https://cdn.jsdelivr.net/npm/katex@0.10.1/dist/contrib/auto-render.min.js\", \"https://cdn.bokeh.org/bokeh/release/bokeh-3.6.0.min.js\", \"https://cdn.bokeh.org/bokeh/release/bokeh-gl-3.6.0.min.js\", \"https://cdn.bokeh.org/bokeh/release/bokeh-widgets-3.6.0.min.js\", \"https://cdn.bokeh.org/bokeh/release/bokeh-tables-3.6.0.min.js\", \"https://cdn.bokeh.org/bokeh/release/bokeh-mathjax-3.6.0.min.js\", \"https://cdn.holoviz.org/panel/1.5.2/dist/panel.min.js\"];\n  const js_modules = [];\n  const js_exports = {};\n  const css_urls = [\"https://cdnjs.cloudflare.com/ajax/libs/KaTeX/0.6.0/katex.min.css?v=1.5.2\"];\n  const inline_js = [    function(Bokeh) {\n      Bokeh.set_log_level(\"info\");\n    },\nfunction(Bokeh) {} // ensure no trailing comma for IE\n  ];\n\n  function run_inline_js() {\n    if ((root.Bokeh !== undefined) || (force === true)) {\n      for (let i = 0; i < inline_js.length; i++) {\n        try {\n          inline_js[i].call(root, root.Bokeh);\n        } catch(e) {\n          if (!reloading) {\n            throw e;\n          }\n        }\n      }\n      // Cache old bokeh versions\n      if (Bokeh != undefined && !reloading) {\n        var NewBokeh = root.Bokeh;\n        if (Bokeh.versions === undefined) {\n          Bokeh.versions = new Map();\n        }\n        if (NewBokeh.version !== Bokeh.version) {\n          Bokeh.versions.set(NewBokeh.version, NewBokeh)\n        }\n        root.Bokeh = Bokeh;\n      }\n    } else if (Date.now() < root._bokeh_timeout) {\n      setTimeout(run_inline_js, 100);\n    } else if (!root._bokeh_failed_load) {\n      console.log(\"Bokeh: BokehJS failed to load within specified timeout.\");\n      root._bokeh_failed_load = true;\n    }\n    root._bokeh_is_initializing = false\n  }\n\n  function load_or_wait() {\n    // Implement a backoff loop that tries to ensure we do not load multiple\n    // versions of Bokeh and its dependencies at the same time.\n    // In recent versions we use the root._bokeh_is_initializing flag\n    // to determine whether there is an ongoing attempt to initialize\n    // bokeh, however for backward compatibility we also try to ensure\n    // that we do not start loading a newer (Panel>=1.0 and Bokeh>3) version\n    // before older versions are fully initialized.\n    if (root._bokeh_is_initializing && Date.now() > root._bokeh_timeout) {\n      // If the timeout and bokeh was not successfully loaded we reset\n      // everything and try loading again\n      root._bokeh_timeout = Date.now() + 5000;\n      root._bokeh_is_initializing = false;\n      root._bokeh_onload_callbacks = undefined;\n      root._bokeh_is_loading = 0\n      console.log(\"Bokeh: BokehJS was loaded multiple times but one version failed to initialize.\");\n      load_or_wait();\n    } else if (root._bokeh_is_initializing || (typeof root._bokeh_is_initializing === \"undefined\" && root._bokeh_onload_callbacks !== undefined)) {\n      setTimeout(load_or_wait, 100);\n    } else {\n      root._bokeh_is_initializing = true\n      root._bokeh_onload_callbacks = []\n      const bokeh_loaded = root.Bokeh != null && (root.Bokeh.version === py_version || (root.Bokeh.versions !== undefined && root.Bokeh.versions.has(py_version)));\n      if (!reloading && !bokeh_loaded) {\n        if (root.Bokeh) {\n          root.Bokeh = undefined;\n        }\n        console.debug(\"Bokeh: BokehJS not loaded, scheduling load and callback at\", now());\n      }\n      load_libs(css_urls, js_urls, js_modules, js_exports, function() {\n        console.debug(\"Bokeh: BokehJS plotting callback run at\", now());\n        run_inline_js();\n      });\n    }\n  }\n  // Give older versions of the autoload script a head-start to ensure\n  // they initialize before we start loading newer version.\n  setTimeout(load_or_wait, 100)\n}(window));"
     },
     "metadata": {},
     "output_type": "display_data"
    },
    {
     "data": {
      "application/javascript": [
       "\n",
       "if ((window.PyViz === undefined) || (window.PyViz instanceof HTMLElement)) {\n",
       "  window.PyViz = {comms: {}, comm_status:{}, kernels:{}, receivers: {}, plot_index: []}\n",
       "}\n",
       "\n",
       "\n",
       "    function JupyterCommManager() {\n",
       "    }\n",
       "\n",
       "    JupyterCommManager.prototype.register_target = function(plot_id, comm_id, msg_handler) {\n",
       "      if (window.comm_manager || ((window.Jupyter !== undefined) && (Jupyter.notebook.kernel != null))) {\n",
       "        var comm_manager = window.comm_manager || Jupyter.notebook.kernel.comm_manager;\n",
       "        comm_manager.register_target(comm_id, function(comm) {\n",
       "          comm.on_msg(msg_handler);\n",
       "        });\n",
       "      } else if ((plot_id in window.PyViz.kernels) && (window.PyViz.kernels[plot_id])) {\n",
       "        window.PyViz.kernels[plot_id].registerCommTarget(comm_id, function(comm) {\n",
       "          comm.onMsg = msg_handler;\n",
       "        });\n",
       "      } else if (typeof google != 'undefined' && google.colab.kernel != null) {\n",
       "        google.colab.kernel.comms.registerTarget(comm_id, (comm) => {\n",
       "          var messages = comm.messages[Symbol.asyncIterator]();\n",
       "          function processIteratorResult(result) {\n",
       "            var message = result.value;\n",
       "            console.log(message)\n",
       "            var content = {data: message.data, comm_id};\n",
       "            var buffers = []\n",
       "            for (var buffer of message.buffers || []) {\n",
       "              buffers.push(new DataView(buffer))\n",
       "            }\n",
       "            var metadata = message.metadata || {};\n",
       "            var msg = {content, buffers, metadata}\n",
       "            msg_handler(msg);\n",
       "            return messages.next().then(processIteratorResult);\n",
       "          }\n",
       "          return messages.next().then(processIteratorResult);\n",
       "        })\n",
       "      }\n",
       "    }\n",
       "\n",
       "    JupyterCommManager.prototype.get_client_comm = function(plot_id, comm_id, msg_handler) {\n",
       "      if (comm_id in window.PyViz.comms) {\n",
       "        return window.PyViz.comms[comm_id];\n",
       "      } else if (window.comm_manager || ((window.Jupyter !== undefined) && (Jupyter.notebook.kernel != null))) {\n",
       "        var comm_manager = window.comm_manager || Jupyter.notebook.kernel.comm_manager;\n",
       "        var comm = comm_manager.new_comm(comm_id, {}, {}, {}, comm_id);\n",
       "        if (msg_handler) {\n",
       "          comm.on_msg(msg_handler);\n",
       "        }\n",
       "      } else if ((plot_id in window.PyViz.kernels) && (window.PyViz.kernels[plot_id])) {\n",
       "        var comm = window.PyViz.kernels[plot_id].connectToComm(comm_id);\n",
       "        comm.open();\n",
       "        if (msg_handler) {\n",
       "          comm.onMsg = msg_handler;\n",
       "        }\n",
       "      } else if (typeof google != 'undefined' && google.colab.kernel != null) {\n",
       "        var comm_promise = google.colab.kernel.comms.open(comm_id)\n",
       "        comm_promise.then((comm) => {\n",
       "          window.PyViz.comms[comm_id] = comm;\n",
       "          if (msg_handler) {\n",
       "            var messages = comm.messages[Symbol.asyncIterator]();\n",
       "            function processIteratorResult(result) {\n",
       "              var message = result.value;\n",
       "              var content = {data: message.data};\n",
       "              var metadata = message.metadata || {comm_id};\n",
       "              var msg = {content, metadata}\n",
       "              msg_handler(msg);\n",
       "              return messages.next().then(processIteratorResult);\n",
       "            }\n",
       "            return messages.next().then(processIteratorResult);\n",
       "          }\n",
       "        }) \n",
       "        var sendClosure = (data, metadata, buffers, disposeOnDone) => {\n",
       "          return comm_promise.then((comm) => {\n",
       "            comm.send(data, metadata, buffers, disposeOnDone);\n",
       "          });\n",
       "        };\n",
       "        var comm = {\n",
       "          send: sendClosure\n",
       "        };\n",
       "      }\n",
       "      window.PyViz.comms[comm_id] = comm;\n",
       "      return comm;\n",
       "    }\n",
       "    window.PyViz.comm_manager = new JupyterCommManager();\n",
       "    \n",
       "\n",
       "\n",
       "var JS_MIME_TYPE = 'application/javascript';\n",
       "var HTML_MIME_TYPE = 'text/html';\n",
       "var EXEC_MIME_TYPE = 'application/vnd.holoviews_exec.v0+json';\n",
       "var CLASS_NAME = 'output';\n",
       "\n",
       "/**\n",
       " * Render data to the DOM node\n",
       " */\n",
       "function render(props, node) {\n",
       "  var div = document.createElement(\"div\");\n",
       "  var script = document.createElement(\"script\");\n",
       "  node.appendChild(div);\n",
       "  node.appendChild(script);\n",
       "}\n",
       "\n",
       "/**\n",
       " * Handle when a new output is added\n",
       " */\n",
       "function handle_add_output(event, handle) {\n",
       "  var output_area = handle.output_area;\n",
       "  var output = handle.output;\n",
       "  if ((output.data == undefined) || (!output.data.hasOwnProperty(EXEC_MIME_TYPE))) {\n",
       "    return\n",
       "  }\n",
       "  var id = output.metadata[EXEC_MIME_TYPE][\"id\"];\n",
       "  var toinsert = output_area.element.find(\".\" + CLASS_NAME.split(' ')[0]);\n",
       "  if (id !== undefined) {\n",
       "    var nchildren = toinsert.length;\n",
       "    var html_node = toinsert[nchildren-1].children[0];\n",
       "    html_node.innerHTML = output.data[HTML_MIME_TYPE];\n",
       "    var scripts = [];\n",
       "    var nodelist = html_node.querySelectorAll(\"script\");\n",
       "    for (var i in nodelist) {\n",
       "      if (nodelist.hasOwnProperty(i)) {\n",
       "        scripts.push(nodelist[i])\n",
       "      }\n",
       "    }\n",
       "\n",
       "    scripts.forEach( function (oldScript) {\n",
       "      var newScript = document.createElement(\"script\");\n",
       "      var attrs = [];\n",
       "      var nodemap = oldScript.attributes;\n",
       "      for (var j in nodemap) {\n",
       "        if (nodemap.hasOwnProperty(j)) {\n",
       "          attrs.push(nodemap[j])\n",
       "        }\n",
       "      }\n",
       "      attrs.forEach(function(attr) { newScript.setAttribute(attr.name, attr.value) });\n",
       "      newScript.appendChild(document.createTextNode(oldScript.innerHTML));\n",
       "      oldScript.parentNode.replaceChild(newScript, oldScript);\n",
       "    });\n",
       "    if (JS_MIME_TYPE in output.data) {\n",
       "      toinsert[nchildren-1].children[1].textContent = output.data[JS_MIME_TYPE];\n",
       "    }\n",
       "    output_area._hv_plot_id = id;\n",
       "    if ((window.Bokeh !== undefined) && (id in Bokeh.index)) {\n",
       "      window.PyViz.plot_index[id] = Bokeh.index[id];\n",
       "    } else {\n",
       "      window.PyViz.plot_index[id] = null;\n",
       "    }\n",
       "  } else if (output.metadata[EXEC_MIME_TYPE][\"server_id\"] !== undefined) {\n",
       "    var bk_div = document.createElement(\"div\");\n",
       "    bk_div.innerHTML = output.data[HTML_MIME_TYPE];\n",
       "    var script_attrs = bk_div.children[0].attributes;\n",
       "    for (var i = 0; i < script_attrs.length; i++) {\n",
       "      toinsert[toinsert.length - 1].childNodes[1].setAttribute(script_attrs[i].name, script_attrs[i].value);\n",
       "    }\n",
       "    // store reference to server id on output_area\n",
       "    output_area._bokeh_server_id = output.metadata[EXEC_MIME_TYPE][\"server_id\"];\n",
       "  }\n",
       "}\n",
       "\n",
       "/**\n",
       " * Handle when an output is cleared or removed\n",
       " */\n",
       "function handle_clear_output(event, handle) {\n",
       "  var id = handle.cell.output_area._hv_plot_id;\n",
       "  var server_id = handle.cell.output_area._bokeh_server_id;\n",
       "  if (((id === undefined) || !(id in PyViz.plot_index)) && (server_id !== undefined)) { return; }\n",
       "  var comm = window.PyViz.comm_manager.get_client_comm(\"hv-extension-comm\", \"hv-extension-comm\", function () {});\n",
       "  if (server_id !== null) {\n",
       "    comm.send({event_type: 'server_delete', 'id': server_id});\n",
       "    return;\n",
       "  } else if (comm !== null) {\n",
       "    comm.send({event_type: 'delete', 'id': id});\n",
       "  }\n",
       "  delete PyViz.plot_index[id];\n",
       "  if ((window.Bokeh !== undefined) & (id in window.Bokeh.index)) {\n",
       "    var doc = window.Bokeh.index[id].model.document\n",
       "    doc.clear();\n",
       "    const i = window.Bokeh.documents.indexOf(doc);\n",
       "    if (i > -1) {\n",
       "      window.Bokeh.documents.splice(i, 1);\n",
       "    }\n",
       "  }\n",
       "}\n",
       "\n",
       "/**\n",
       " * Handle kernel restart event\n",
       " */\n",
       "function handle_kernel_cleanup(event, handle) {\n",
       "  delete PyViz.comms[\"hv-extension-comm\"];\n",
       "  window.PyViz.plot_index = {}\n",
       "}\n",
       "\n",
       "/**\n",
       " * Handle update_display_data messages\n",
       " */\n",
       "function handle_update_output(event, handle) {\n",
       "  handle_clear_output(event, {cell: {output_area: handle.output_area}})\n",
       "  handle_add_output(event, handle)\n",
       "}\n",
       "\n",
       "function register_renderer(events, OutputArea) {\n",
       "  function append_mime(data, metadata, element) {\n",
       "    // create a DOM node to render to\n",
       "    var toinsert = this.create_output_subarea(\n",
       "    metadata,\n",
       "    CLASS_NAME,\n",
       "    EXEC_MIME_TYPE\n",
       "    );\n",
       "    this.keyboard_manager.register_events(toinsert);\n",
       "    // Render to node\n",
       "    var props = {data: data, metadata: metadata[EXEC_MIME_TYPE]};\n",
       "    render(props, toinsert[0]);\n",
       "    element.append(toinsert);\n",
       "    return toinsert\n",
       "  }\n",
       "\n",
       "  events.on('output_added.OutputArea', handle_add_output);\n",
       "  events.on('output_updated.OutputArea', handle_update_output);\n",
       "  events.on('clear_output.CodeCell', handle_clear_output);\n",
       "  events.on('delete.Cell', handle_clear_output);\n",
       "  events.on('kernel_ready.Kernel', handle_kernel_cleanup);\n",
       "\n",
       "  OutputArea.prototype.register_mime_type(EXEC_MIME_TYPE, append_mime, {\n",
       "    safe: true,\n",
       "    index: 0\n",
       "  });\n",
       "}\n",
       "\n",
       "if (window.Jupyter !== undefined) {\n",
       "  try {\n",
       "    var events = require('base/js/events');\n",
       "    var OutputArea = require('notebook/js/outputarea').OutputArea;\n",
       "    if (OutputArea.prototype.mime_types().indexOf(EXEC_MIME_TYPE) == -1) {\n",
       "      register_renderer(events, OutputArea);\n",
       "    }\n",
       "  } catch(err) {\n",
       "  }\n",
       "}\n"
      ],
      "application/vnd.holoviews_load.v0+json": "\nif ((window.PyViz === undefined) || (window.PyViz instanceof HTMLElement)) {\n  window.PyViz = {comms: {}, comm_status:{}, kernels:{}, receivers: {}, plot_index: []}\n}\n\n\n    function JupyterCommManager() {\n    }\n\n    JupyterCommManager.prototype.register_target = function(plot_id, comm_id, msg_handler) {\n      if (window.comm_manager || ((window.Jupyter !== undefined) && (Jupyter.notebook.kernel != null))) {\n        var comm_manager = window.comm_manager || Jupyter.notebook.kernel.comm_manager;\n        comm_manager.register_target(comm_id, function(comm) {\n          comm.on_msg(msg_handler);\n        });\n      } else if ((plot_id in window.PyViz.kernels) && (window.PyViz.kernels[plot_id])) {\n        window.PyViz.kernels[plot_id].registerCommTarget(comm_id, function(comm) {\n          comm.onMsg = msg_handler;\n        });\n      } else if (typeof google != 'undefined' && google.colab.kernel != null) {\n        google.colab.kernel.comms.registerTarget(comm_id, (comm) => {\n          var messages = comm.messages[Symbol.asyncIterator]();\n          function processIteratorResult(result) {\n            var message = result.value;\n            console.log(message)\n            var content = {data: message.data, comm_id};\n            var buffers = []\n            for (var buffer of message.buffers || []) {\n              buffers.push(new DataView(buffer))\n            }\n            var metadata = message.metadata || {};\n            var msg = {content, buffers, metadata}\n            msg_handler(msg);\n            return messages.next().then(processIteratorResult);\n          }\n          return messages.next().then(processIteratorResult);\n        })\n      }\n    }\n\n    JupyterCommManager.prototype.get_client_comm = function(plot_id, comm_id, msg_handler) {\n      if (comm_id in window.PyViz.comms) {\n        return window.PyViz.comms[comm_id];\n      } else if (window.comm_manager || ((window.Jupyter !== undefined) && (Jupyter.notebook.kernel != null))) {\n        var comm_manager = window.comm_manager || Jupyter.notebook.kernel.comm_manager;\n        var comm = comm_manager.new_comm(comm_id, {}, {}, {}, comm_id);\n        if (msg_handler) {\n          comm.on_msg(msg_handler);\n        }\n      } else if ((plot_id in window.PyViz.kernels) && (window.PyViz.kernels[plot_id])) {\n        var comm = window.PyViz.kernels[plot_id].connectToComm(comm_id);\n        comm.open();\n        if (msg_handler) {\n          comm.onMsg = msg_handler;\n        }\n      } else if (typeof google != 'undefined' && google.colab.kernel != null) {\n        var comm_promise = google.colab.kernel.comms.open(comm_id)\n        comm_promise.then((comm) => {\n          window.PyViz.comms[comm_id] = comm;\n          if (msg_handler) {\n            var messages = comm.messages[Symbol.asyncIterator]();\n            function processIteratorResult(result) {\n              var message = result.value;\n              var content = {data: message.data};\n              var metadata = message.metadata || {comm_id};\n              var msg = {content, metadata}\n              msg_handler(msg);\n              return messages.next().then(processIteratorResult);\n            }\n            return messages.next().then(processIteratorResult);\n          }\n        }) \n        var sendClosure = (data, metadata, buffers, disposeOnDone) => {\n          return comm_promise.then((comm) => {\n            comm.send(data, metadata, buffers, disposeOnDone);\n          });\n        };\n        var comm = {\n          send: sendClosure\n        };\n      }\n      window.PyViz.comms[comm_id] = comm;\n      return comm;\n    }\n    window.PyViz.comm_manager = new JupyterCommManager();\n    \n\n\nvar JS_MIME_TYPE = 'application/javascript';\nvar HTML_MIME_TYPE = 'text/html';\nvar EXEC_MIME_TYPE = 'application/vnd.holoviews_exec.v0+json';\nvar CLASS_NAME = 'output';\n\n/**\n * Render data to the DOM node\n */\nfunction render(props, node) {\n  var div = document.createElement(\"div\");\n  var script = document.createElement(\"script\");\n  node.appendChild(div);\n  node.appendChild(script);\n}\n\n/**\n * Handle when a new output is added\n */\nfunction handle_add_output(event, handle) {\n  var output_area = handle.output_area;\n  var output = handle.output;\n  if ((output.data == undefined) || (!output.data.hasOwnProperty(EXEC_MIME_TYPE))) {\n    return\n  }\n  var id = output.metadata[EXEC_MIME_TYPE][\"id\"];\n  var toinsert = output_area.element.find(\".\" + CLASS_NAME.split(' ')[0]);\n  if (id !== undefined) {\n    var nchildren = toinsert.length;\n    var html_node = toinsert[nchildren-1].children[0];\n    html_node.innerHTML = output.data[HTML_MIME_TYPE];\n    var scripts = [];\n    var nodelist = html_node.querySelectorAll(\"script\");\n    for (var i in nodelist) {\n      if (nodelist.hasOwnProperty(i)) {\n        scripts.push(nodelist[i])\n      }\n    }\n\n    scripts.forEach( function (oldScript) {\n      var newScript = document.createElement(\"script\");\n      var attrs = [];\n      var nodemap = oldScript.attributes;\n      for (var j in nodemap) {\n        if (nodemap.hasOwnProperty(j)) {\n          attrs.push(nodemap[j])\n        }\n      }\n      attrs.forEach(function(attr) { newScript.setAttribute(attr.name, attr.value) });\n      newScript.appendChild(document.createTextNode(oldScript.innerHTML));\n      oldScript.parentNode.replaceChild(newScript, oldScript);\n    });\n    if (JS_MIME_TYPE in output.data) {\n      toinsert[nchildren-1].children[1].textContent = output.data[JS_MIME_TYPE];\n    }\n    output_area._hv_plot_id = id;\n    if ((window.Bokeh !== undefined) && (id in Bokeh.index)) {\n      window.PyViz.plot_index[id] = Bokeh.index[id];\n    } else {\n      window.PyViz.plot_index[id] = null;\n    }\n  } else if (output.metadata[EXEC_MIME_TYPE][\"server_id\"] !== undefined) {\n    var bk_div = document.createElement(\"div\");\n    bk_div.innerHTML = output.data[HTML_MIME_TYPE];\n    var script_attrs = bk_div.children[0].attributes;\n    for (var i = 0; i < script_attrs.length; i++) {\n      toinsert[toinsert.length - 1].childNodes[1].setAttribute(script_attrs[i].name, script_attrs[i].value);\n    }\n    // store reference to server id on output_area\n    output_area._bokeh_server_id = output.metadata[EXEC_MIME_TYPE][\"server_id\"];\n  }\n}\n\n/**\n * Handle when an output is cleared or removed\n */\nfunction handle_clear_output(event, handle) {\n  var id = handle.cell.output_area._hv_plot_id;\n  var server_id = handle.cell.output_area._bokeh_server_id;\n  if (((id === undefined) || !(id in PyViz.plot_index)) && (server_id !== undefined)) { return; }\n  var comm = window.PyViz.comm_manager.get_client_comm(\"hv-extension-comm\", \"hv-extension-comm\", function () {});\n  if (server_id !== null) {\n    comm.send({event_type: 'server_delete', 'id': server_id});\n    return;\n  } else if (comm !== null) {\n    comm.send({event_type: 'delete', 'id': id});\n  }\n  delete PyViz.plot_index[id];\n  if ((window.Bokeh !== undefined) & (id in window.Bokeh.index)) {\n    var doc = window.Bokeh.index[id].model.document\n    doc.clear();\n    const i = window.Bokeh.documents.indexOf(doc);\n    if (i > -1) {\n      window.Bokeh.documents.splice(i, 1);\n    }\n  }\n}\n\n/**\n * Handle kernel restart event\n */\nfunction handle_kernel_cleanup(event, handle) {\n  delete PyViz.comms[\"hv-extension-comm\"];\n  window.PyViz.plot_index = {}\n}\n\n/**\n * Handle update_display_data messages\n */\nfunction handle_update_output(event, handle) {\n  handle_clear_output(event, {cell: {output_area: handle.output_area}})\n  handle_add_output(event, handle)\n}\n\nfunction register_renderer(events, OutputArea) {\n  function append_mime(data, metadata, element) {\n    // create a DOM node to render to\n    var toinsert = this.create_output_subarea(\n    metadata,\n    CLASS_NAME,\n    EXEC_MIME_TYPE\n    );\n    this.keyboard_manager.register_events(toinsert);\n    // Render to node\n    var props = {data: data, metadata: metadata[EXEC_MIME_TYPE]};\n    render(props, toinsert[0]);\n    element.append(toinsert);\n    return toinsert\n  }\n\n  events.on('output_added.OutputArea', handle_add_output);\n  events.on('output_updated.OutputArea', handle_update_output);\n  events.on('clear_output.CodeCell', handle_clear_output);\n  events.on('delete.Cell', handle_clear_output);\n  events.on('kernel_ready.Kernel', handle_kernel_cleanup);\n\n  OutputArea.prototype.register_mime_type(EXEC_MIME_TYPE, append_mime, {\n    safe: true,\n    index: 0\n  });\n}\n\nif (window.Jupyter !== undefined) {\n  try {\n    var events = require('base/js/events');\n    var OutputArea = require('notebook/js/outputarea').OutputArea;\n    if (OutputArea.prototype.mime_types().indexOf(EXEC_MIME_TYPE) == -1) {\n      register_renderer(events, OutputArea);\n    }\n  } catch(err) {\n  }\n}\n"
     },
     "metadata": {},
     "output_type": "display_data"
    },
    {
     "data": {
      "application/vnd.holoviews_exec.v0+json": "",
      "text/html": [
       "<div id='ef889024-0c0b-4740-8cd6-d3d97e2b952d'>\n",
       "  <div id=\"ba9361ab-49b0-4f26-9799-b720be3e3cf4\" data-root-id=\"ef889024-0c0b-4740-8cd6-d3d97e2b952d\" style=\"display: contents;\"></div>\n",
       "</div>\n",
       "<script type=\"application/javascript\">(function(root) {\n",
       "  var docs_json = {\"d3f3c2c2-f8c9-4f9e-b1a8-58dd74a108f2\":{\"version\":\"3.6.0\",\"title\":\"Bokeh Application\",\"roots\":[{\"type\":\"object\",\"name\":\"panel.models.browser.BrowserInfo\",\"id\":\"ef889024-0c0b-4740-8cd6-d3d97e2b952d\"},{\"type\":\"object\",\"name\":\"panel.models.comm_manager.CommManager\",\"id\":\"b54ce6c9-c8a6-4e86-861d-358685397116\",\"attributes\":{\"plot_id\":\"ef889024-0c0b-4740-8cd6-d3d97e2b952d\",\"comm_id\":\"260ec43d42e14115a7ad1eedb38039cc\",\"client_comm_id\":\"968500829bd146998d6e8058afff455f\"}}],\"defs\":[{\"type\":\"model\",\"name\":\"ReactiveHTML1\"},{\"type\":\"model\",\"name\":\"FlexBox1\",\"properties\":[{\"name\":\"align_content\",\"kind\":\"Any\",\"default\":\"flex-start\"},{\"name\":\"align_items\",\"kind\":\"Any\",\"default\":\"flex-start\"},{\"name\":\"flex_direction\",\"kind\":\"Any\",\"default\":\"row\"},{\"name\":\"flex_wrap\",\"kind\":\"Any\",\"default\":\"wrap\"},{\"name\":\"gap\",\"kind\":\"Any\",\"default\":\"\"},{\"name\":\"justify_content\",\"kind\":\"Any\",\"default\":\"flex-start\"}]},{\"type\":\"model\",\"name\":\"FloatPanel1\",\"properties\":[{\"name\":\"config\",\"kind\":\"Any\",\"default\":{\"type\":\"map\"}},{\"name\":\"contained\",\"kind\":\"Any\",\"default\":true},{\"name\":\"position\",\"kind\":\"Any\",\"default\":\"right-top\"},{\"name\":\"offsetx\",\"kind\":\"Any\",\"default\":null},{\"name\":\"offsety\",\"kind\":\"Any\",\"default\":null},{\"name\":\"theme\",\"kind\":\"Any\",\"default\":\"primary\"},{\"name\":\"status\",\"kind\":\"Any\",\"default\":\"normalized\"}]},{\"type\":\"model\",\"name\":\"GridStack1\",\"properties\":[{\"name\":\"mode\",\"kind\":\"Any\",\"default\":\"warn\"},{\"name\":\"ncols\",\"kind\":\"Any\",\"default\":null},{\"name\":\"nrows\",\"kind\":\"Any\",\"default\":null},{\"name\":\"allow_resize\",\"kind\":\"Any\",\"default\":true},{\"name\":\"allow_drag\",\"kind\":\"Any\",\"default\":true},{\"name\":\"state\",\"kind\":\"Any\",\"default\":[]}]},{\"type\":\"model\",\"name\":\"drag1\",\"properties\":[{\"name\":\"slider_width\",\"kind\":\"Any\",\"default\":5},{\"name\":\"slider_color\",\"kind\":\"Any\",\"default\":\"black\"},{\"name\":\"value\",\"kind\":\"Any\",\"default\":50}]},{\"type\":\"model\",\"name\":\"click1\",\"properties\":[{\"name\":\"terminal_output\",\"kind\":\"Any\",\"default\":\"\"},{\"name\":\"debug_name\",\"kind\":\"Any\",\"default\":\"\"},{\"name\":\"clears\",\"kind\":\"Any\",\"default\":0}]},{\"type\":\"model\",\"name\":\"FastWrapper1\",\"properties\":[{\"name\":\"object\",\"kind\":\"Any\",\"default\":null},{\"name\":\"style\",\"kind\":\"Any\",\"default\":null}]},{\"type\":\"model\",\"name\":\"NotificationAreaBase1\",\"properties\":[{\"name\":\"js_events\",\"kind\":\"Any\",\"default\":{\"type\":\"map\"}},{\"name\":\"position\",\"kind\":\"Any\",\"default\":\"bottom-right\"},{\"name\":\"_clear\",\"kind\":\"Any\",\"default\":0}]},{\"type\":\"model\",\"name\":\"NotificationArea1\",\"properties\":[{\"name\":\"js_events\",\"kind\":\"Any\",\"default\":{\"type\":\"map\"}},{\"name\":\"notifications\",\"kind\":\"Any\",\"default\":[]},{\"name\":\"position\",\"kind\":\"Any\",\"default\":\"bottom-right\"},{\"name\":\"_clear\",\"kind\":\"Any\",\"default\":0},{\"name\":\"types\",\"kind\":\"Any\",\"default\":[{\"type\":\"map\",\"entries\":[[\"type\",\"warning\"],[\"background\",\"#ffc107\"],[\"icon\",{\"type\":\"map\",\"entries\":[[\"className\",\"fas fa-exclamation-triangle\"],[\"tagName\",\"i\"],[\"color\",\"white\"]]}]]},{\"type\":\"map\",\"entries\":[[\"type\",\"info\"],[\"background\",\"#007bff\"],[\"icon\",{\"type\":\"map\",\"entries\":[[\"className\",\"fas fa-info-circle\"],[\"tagName\",\"i\"],[\"color\",\"white\"]]}]]}]}]},{\"type\":\"model\",\"name\":\"Notification\",\"properties\":[{\"name\":\"background\",\"kind\":\"Any\",\"default\":null},{\"name\":\"duration\",\"kind\":\"Any\",\"default\":3000},{\"name\":\"icon\",\"kind\":\"Any\",\"default\":null},{\"name\":\"message\",\"kind\":\"Any\",\"default\":\"\"},{\"name\":\"notification_type\",\"kind\":\"Any\",\"default\":null},{\"name\":\"_destroyed\",\"kind\":\"Any\",\"default\":false}]},{\"type\":\"model\",\"name\":\"TemplateActions1\",\"properties\":[{\"name\":\"open_modal\",\"kind\":\"Any\",\"default\":0},{\"name\":\"close_modal\",\"kind\":\"Any\",\"default\":0}]},{\"type\":\"model\",\"name\":\"BootstrapTemplateActions1\",\"properties\":[{\"name\":\"open_modal\",\"kind\":\"Any\",\"default\":0},{\"name\":\"close_modal\",\"kind\":\"Any\",\"default\":0}]},{\"type\":\"model\",\"name\":\"TemplateEditor1\",\"properties\":[{\"name\":\"layout\",\"kind\":\"Any\",\"default\":[]}]},{\"type\":\"model\",\"name\":\"MaterialTemplateActions1\",\"properties\":[{\"name\":\"open_modal\",\"kind\":\"Any\",\"default\":0},{\"name\":\"close_modal\",\"kind\":\"Any\",\"default\":0}]},{\"type\":\"model\",\"name\":\"ReactiveESM1\"},{\"type\":\"model\",\"name\":\"JSComponent1\"},{\"type\":\"model\",\"name\":\"ReactComponent1\"},{\"type\":\"model\",\"name\":\"AnyWidgetComponent1\"},{\"type\":\"model\",\"name\":\"request_value1\",\"properties\":[{\"name\":\"fill\",\"kind\":\"Any\",\"default\":\"none\"},{\"name\":\"_synced\",\"kind\":\"Any\",\"default\":null},{\"name\":\"_request_sync\",\"kind\":\"Any\",\"default\":0}]}]}};\n",
       "  var render_items = [{\"docid\":\"d3f3c2c2-f8c9-4f9e-b1a8-58dd74a108f2\",\"roots\":{\"ef889024-0c0b-4740-8cd6-d3d97e2b952d\":\"ba9361ab-49b0-4f26-9799-b720be3e3cf4\"},\"root_ids\":[\"ef889024-0c0b-4740-8cd6-d3d97e2b952d\"]}];\n",
       "  var docs = Object.values(docs_json)\n",
       "  if (!docs) {\n",
       "    return\n",
       "  }\n",
       "  const py_version = docs[0].version.replace('rc', '-rc.').replace('.dev', '-dev.')\n",
       "  async function embed_document(root) {\n",
       "    var Bokeh = get_bokeh(root)\n",
       "    await Bokeh.embed.embed_items_notebook(docs_json, render_items);\n",
       "    for (const render_item of render_items) {\n",
       "      for (const root_id of render_item.root_ids) {\n",
       "\tconst id_el = document.getElementById(root_id)\n",
       "\tif (id_el.children.length && id_el.children[0].hasAttribute('data-root-id')) {\n",
       "\t  const root_el = id_el.children[0]\n",
       "\t  root_el.id = root_el.id + '-rendered'\n",
       "\t  for (const child of root_el.children) {\n",
       "            // Ensure JupyterLab does not capture keyboard shortcuts\n",
       "            // see: https://jupyterlab.readthedocs.io/en/4.1.x/extension/notebook.html#keyboard-interaction-model\n",
       "\t    child.setAttribute('data-lm-suppress-shortcuts', 'true')\n",
       "\t  }\n",
       "\t}\n",
       "      }\n",
       "    }\n",
       "  }\n",
       "  function get_bokeh(root) {\n",
       "    if (root.Bokeh === undefined) {\n",
       "      return null\n",
       "    } else if (root.Bokeh.version !== py_version) {\n",
       "      if (root.Bokeh.versions === undefined || !root.Bokeh.versions.has(py_version)) {\n",
       "\treturn null\n",
       "      }\n",
       "      return root.Bokeh.versions.get(py_version);\n",
       "    } else if (root.Bokeh.version === py_version) {\n",
       "      return root.Bokeh\n",
       "    }\n",
       "    return null\n",
       "  }\n",
       "  function is_loaded(root) {\n",
       "    var Bokeh = get_bokeh(root)\n",
       "    return (Bokeh != null && Bokeh.Panel !== undefined && ( root.katex !== undefined) && ( root.MathJax !== undefined) && ( root.katex !== undefined) && ( root.MathJax !== undefined) && ( root.katex !== undefined) && ( root.MathJax !== undefined) && ( root.katex !== undefined) && ( root.MathJax !== undefined) && ( root.katex !== undefined) && ( root.MathJax !== undefined) && ( root.katex !== undefined) && ( root.MathJax !== undefined) && ( root.katex !== undefined) && ( root.MathJax !== undefined) && ( root.katex !== undefined) && ( root.MathJax !== undefined) && ( root.katex !== undefined) && ( root.MathJax !== undefined) && ( root.katex !== undefined) && ( root.MathJax !== undefined))\n",
       "  }\n",
       "  if (is_loaded(root)) {\n",
       "    embed_document(root);\n",
       "  } else {\n",
       "    var attempts = 0;\n",
       "    var timer = setInterval(function(root) {\n",
       "      if (is_loaded(root)) {\n",
       "        clearInterval(timer);\n",
       "        embed_document(root);\n",
       "      } else if (document.readyState == \"complete\") {\n",
       "        attempts++;\n",
       "        if (attempts > 200) {\n",
       "          clearInterval(timer);\n",
       "\t  var Bokeh = get_bokeh(root)\n",
       "\t  if (Bokeh == null || Bokeh.Panel == null) {\n",
       "            console.warn(\"Panel: ERROR: Unable to run Panel code because Bokeh or Panel library is missing\");\n",
       "\t  } else {\n",
       "\t    console.warn(\"Panel: WARNING: Attempting to render but not all required libraries could be resolved.\")\n",
       "\t    embed_document(root)\n",
       "\t  }\n",
       "        }\n",
       "      }\n",
       "    }, 25, root)\n",
       "  }\n",
       "})(window);</script>"
      ]
     },
     "metadata": {
      "application/vnd.holoviews_exec.v0+json": {
       "id": "ef889024-0c0b-4740-8cd6-d3d97e2b952d"
      }
     },
     "output_type": "display_data"
    },
    {
     "data": {},
     "metadata": {},
     "output_type": "display_data"
    },
    {
     "data": {
      "application/vnd.holoviews_exec.v0+json": "",
      "text/html": [
       "<div id='e271ee41-df5b-4104-abfb-383afe57c3e1'>\n",
       "  <div id=\"dc761139-e92a-4a05-a987-b70185737b45\" data-root-id=\"e271ee41-df5b-4104-abfb-383afe57c3e1\" style=\"display: contents;\"></div>\n",
       "</div>\n",
       "<script type=\"application/javascript\">(function(root) {\n",
       "  var docs_json = {\"e390dd34-5587-468d-9e9d-35e1d689fad3\":{\"version\":\"3.6.0\",\"title\":\"Bokeh Application\",\"roots\":[{\"type\":\"object\",\"name\":\"panel.models.markup.HTML\",\"id\":\"e271ee41-df5b-4104-abfb-383afe57c3e1\",\"attributes\":{\"css_classes\":[\"markdown\"],\"stylesheets\":[\"\\n:host(.pn-loading):before, .pn-loading:before {\\n  background-color: #c3c3c3;\\n  mask-size: auto calc(min(50%, 400px));\\n  -webkit-mask-size: auto calc(min(50%, 400px));\\n}\",{\"type\":\"object\",\"name\":\"ImportedStyleSheet\",\"id\":\"d31ae3ce-2bc1-48d3-bbe9-e19034dcf436\",\"attributes\":{\"url\":\"https://cdn.holoviz.org/panel/1.5.2/dist/css/loading.css\"}},{\"type\":\"object\",\"name\":\"ImportedStyleSheet\",\"id\":\"c624e288-8a91-4eb7-be20-c1c528fd496e\",\"attributes\":{\"url\":\"https://cdn.holoviz.org/panel/1.5.2/dist/css/markdown.css\"}},{\"type\":\"object\",\"name\":\"ImportedStyleSheet\",\"id\":\"0565f8dd-7c3c-4ad0-afc8-ce757e92a9f0\",\"attributes\":{\"url\":\"https://cdn.holoviz.org/panel/1.5.2/dist/bundled/theme/default.css\"}},{\"type\":\"object\",\"name\":\"ImportedStyleSheet\",\"id\":\"838252c8-52b2-401f-bebb-aa307ba71a79\",\"attributes\":{\"url\":\"https://cdn.holoviz.org/panel/1.5.2/dist/bundled/theme/native.css\"}}],\"width\":800,\"min_width\":800,\"margin\":[5,10],\"align\":\"start\",\"text\":\"&lt;h2 id=&quot;markdown-latex-support&quot;&gt;Markdown $$LaTeX$$ support &lt;a class=&quot;header-anchor&quot; href=&quot;#markdown-latex-support&quot;&gt;\\u00b6&lt;/a&gt;&lt;/h2&gt;\\n&lt;p&gt;The Markdown pane supports math rendering for string encapsulated with double $ delimiters: $$\\\\sum_{j}{\\\\sum_{i}{a*w_{j, i}}}$$&lt;/p&gt;\\n&lt;p&gt;More:&lt;/p&gt;\\n\"}},{\"type\":\"object\",\"name\":\"panel.models.comm_manager.CommManager\",\"id\":\"49bec467-2690-440e-84aa-100412504312\",\"attributes\":{\"plot_id\":\"e271ee41-df5b-4104-abfb-383afe57c3e1\",\"comm_id\":\"2bb11afbe73944d8bb2b801554f026c0\",\"client_comm_id\":\"9b21bd6e90cf440cbb76a91eb7b8d544\"}}],\"defs\":[{\"type\":\"model\",\"name\":\"ReactiveHTML1\"},{\"type\":\"model\",\"name\":\"FlexBox1\",\"properties\":[{\"name\":\"align_content\",\"kind\":\"Any\",\"default\":\"flex-start\"},{\"name\":\"align_items\",\"kind\":\"Any\",\"default\":\"flex-start\"},{\"name\":\"flex_direction\",\"kind\":\"Any\",\"default\":\"row\"},{\"name\":\"flex_wrap\",\"kind\":\"Any\",\"default\":\"wrap\"},{\"name\":\"gap\",\"kind\":\"Any\",\"default\":\"\"},{\"name\":\"justify_content\",\"kind\":\"Any\",\"default\":\"flex-start\"}]},{\"type\":\"model\",\"name\":\"FloatPanel1\",\"properties\":[{\"name\":\"config\",\"kind\":\"Any\",\"default\":{\"type\":\"map\"}},{\"name\":\"contained\",\"kind\":\"Any\",\"default\":true},{\"name\":\"position\",\"kind\":\"Any\",\"default\":\"right-top\"},{\"name\":\"offsetx\",\"kind\":\"Any\",\"default\":null},{\"name\":\"offsety\",\"kind\":\"Any\",\"default\":null},{\"name\":\"theme\",\"kind\":\"Any\",\"default\":\"primary\"},{\"name\":\"status\",\"kind\":\"Any\",\"default\":\"normalized\"}]},{\"type\":\"model\",\"name\":\"GridStack1\",\"properties\":[{\"name\":\"mode\",\"kind\":\"Any\",\"default\":\"warn\"},{\"name\":\"ncols\",\"kind\":\"Any\",\"default\":null},{\"name\":\"nrows\",\"kind\":\"Any\",\"default\":null},{\"name\":\"allow_resize\",\"kind\":\"Any\",\"default\":true},{\"name\":\"allow_drag\",\"kind\":\"Any\",\"default\":true},{\"name\":\"state\",\"kind\":\"Any\",\"default\":[]}]},{\"type\":\"model\",\"name\":\"drag1\",\"properties\":[{\"name\":\"slider_width\",\"kind\":\"Any\",\"default\":5},{\"name\":\"slider_color\",\"kind\":\"Any\",\"default\":\"black\"},{\"name\":\"value\",\"kind\":\"Any\",\"default\":50}]},{\"type\":\"model\",\"name\":\"click1\",\"properties\":[{\"name\":\"terminal_output\",\"kind\":\"Any\",\"default\":\"\"},{\"name\":\"debug_name\",\"kind\":\"Any\",\"default\":\"\"},{\"name\":\"clears\",\"kind\":\"Any\",\"default\":0}]},{\"type\":\"model\",\"name\":\"FastWrapper1\",\"properties\":[{\"name\":\"object\",\"kind\":\"Any\",\"default\":null},{\"name\":\"style\",\"kind\":\"Any\",\"default\":null}]},{\"type\":\"model\",\"name\":\"NotificationAreaBase1\",\"properties\":[{\"name\":\"js_events\",\"kind\":\"Any\",\"default\":{\"type\":\"map\"}},{\"name\":\"position\",\"kind\":\"Any\",\"default\":\"bottom-right\"},{\"name\":\"_clear\",\"kind\":\"Any\",\"default\":0}]},{\"type\":\"model\",\"name\":\"NotificationArea1\",\"properties\":[{\"name\":\"js_events\",\"kind\":\"Any\",\"default\":{\"type\":\"map\"}},{\"name\":\"notifications\",\"kind\":\"Any\",\"default\":[]},{\"name\":\"position\",\"kind\":\"Any\",\"default\":\"bottom-right\"},{\"name\":\"_clear\",\"kind\":\"Any\",\"default\":0},{\"name\":\"types\",\"kind\":\"Any\",\"default\":[{\"type\":\"map\",\"entries\":[[\"type\",\"warning\"],[\"background\",\"#ffc107\"],[\"icon\",{\"type\":\"map\",\"entries\":[[\"className\",\"fas fa-exclamation-triangle\"],[\"tagName\",\"i\"],[\"color\",\"white\"]]}]]},{\"type\":\"map\",\"entries\":[[\"type\",\"info\"],[\"background\",\"#007bff\"],[\"icon\",{\"type\":\"map\",\"entries\":[[\"className\",\"fas fa-info-circle\"],[\"tagName\",\"i\"],[\"color\",\"white\"]]}]]}]}]},{\"type\":\"model\",\"name\":\"Notification\",\"properties\":[{\"name\":\"background\",\"kind\":\"Any\",\"default\":null},{\"name\":\"duration\",\"kind\":\"Any\",\"default\":3000},{\"name\":\"icon\",\"kind\":\"Any\",\"default\":null},{\"name\":\"message\",\"kind\":\"Any\",\"default\":\"\"},{\"name\":\"notification_type\",\"kind\":\"Any\",\"default\":null},{\"name\":\"_destroyed\",\"kind\":\"Any\",\"default\":false}]},{\"type\":\"model\",\"name\":\"TemplateActions1\",\"properties\":[{\"name\":\"open_modal\",\"kind\":\"Any\",\"default\":0},{\"name\":\"close_modal\",\"kind\":\"Any\",\"default\":0}]},{\"type\":\"model\",\"name\":\"BootstrapTemplateActions1\",\"properties\":[{\"name\":\"open_modal\",\"kind\":\"Any\",\"default\":0},{\"name\":\"close_modal\",\"kind\":\"Any\",\"default\":0}]},{\"type\":\"model\",\"name\":\"TemplateEditor1\",\"properties\":[{\"name\":\"layout\",\"kind\":\"Any\",\"default\":[]}]},{\"type\":\"model\",\"name\":\"MaterialTemplateActions1\",\"properties\":[{\"name\":\"open_modal\",\"kind\":\"Any\",\"default\":0},{\"name\":\"close_modal\",\"kind\":\"Any\",\"default\":0}]},{\"type\":\"model\",\"name\":\"ReactiveESM1\"},{\"type\":\"model\",\"name\":\"JSComponent1\"},{\"type\":\"model\",\"name\":\"ReactComponent1\"},{\"type\":\"model\",\"name\":\"AnyWidgetComponent1\"},{\"type\":\"model\",\"name\":\"request_value1\",\"properties\":[{\"name\":\"fill\",\"kind\":\"Any\",\"default\":\"none\"},{\"name\":\"_synced\",\"kind\":\"Any\",\"default\":null},{\"name\":\"_request_sync\",\"kind\":\"Any\",\"default\":0}]}]}};\n",
       "  var render_items = [{\"docid\":\"e390dd34-5587-468d-9e9d-35e1d689fad3\",\"roots\":{\"e271ee41-df5b-4104-abfb-383afe57c3e1\":\"dc761139-e92a-4a05-a987-b70185737b45\"},\"root_ids\":[\"e271ee41-df5b-4104-abfb-383afe57c3e1\"]}];\n",
       "  var docs = Object.values(docs_json)\n",
       "  if (!docs) {\n",
       "    return\n",
       "  }\n",
       "  const py_version = docs[0].version.replace('rc', '-rc.').replace('.dev', '-dev.')\n",
       "  async function embed_document(root) {\n",
       "    var Bokeh = get_bokeh(root)\n",
       "    await Bokeh.embed.embed_items_notebook(docs_json, render_items);\n",
       "    for (const render_item of render_items) {\n",
       "      for (const root_id of render_item.root_ids) {\n",
       "\tconst id_el = document.getElementById(root_id)\n",
       "\tif (id_el.children.length && id_el.children[0].hasAttribute('data-root-id')) {\n",
       "\t  const root_el = id_el.children[0]\n",
       "\t  root_el.id = root_el.id + '-rendered'\n",
       "\t  for (const child of root_el.children) {\n",
       "            // Ensure JupyterLab does not capture keyboard shortcuts\n",
       "            // see: https://jupyterlab.readthedocs.io/en/4.1.x/extension/notebook.html#keyboard-interaction-model\n",
       "\t    child.setAttribute('data-lm-suppress-shortcuts', 'true')\n",
       "\t  }\n",
       "\t}\n",
       "      }\n",
       "    }\n",
       "  }\n",
       "  function get_bokeh(root) {\n",
       "    if (root.Bokeh === undefined) {\n",
       "      return null\n",
       "    } else if (root.Bokeh.version !== py_version) {\n",
       "      if (root.Bokeh.versions === undefined || !root.Bokeh.versions.has(py_version)) {\n",
       "\treturn null\n",
       "      }\n",
       "      return root.Bokeh.versions.get(py_version);\n",
       "    } else if (root.Bokeh.version === py_version) {\n",
       "      return root.Bokeh\n",
       "    }\n",
       "    return null\n",
       "  }\n",
       "  function is_loaded(root) {\n",
       "    var Bokeh = get_bokeh(root)\n",
       "    return (Bokeh != null && Bokeh.Panel !== undefined && ( root.katex !== undefined) && ( root.MathJax !== undefined) && ( root.katex !== undefined) && ( root.MathJax !== undefined) && ( root.katex !== undefined) && ( root.MathJax !== undefined) && ( root.katex !== undefined) && ( root.MathJax !== undefined) && ( root.katex !== undefined) && ( root.MathJax !== undefined) && ( root.katex !== undefined) && ( root.MathJax !== undefined) && ( root.katex !== undefined) && ( root.MathJax !== undefined) && ( root.katex !== undefined) && ( root.MathJax !== undefined) && ( root.katex !== undefined) && ( root.MathJax !== undefined) && ( root.katex !== undefined) && ( root.MathJax !== undefined))\n",
       "  }\n",
       "  if (is_loaded(root)) {\n",
       "    embed_document(root);\n",
       "  } else {\n",
       "    var attempts = 0;\n",
       "    var timer = setInterval(function(root) {\n",
       "      if (is_loaded(root)) {\n",
       "        clearInterval(timer);\n",
       "        embed_document(root);\n",
       "      } else if (document.readyState == \"complete\") {\n",
       "        attempts++;\n",
       "        if (attempts > 200) {\n",
       "          clearInterval(timer);\n",
       "\t  var Bokeh = get_bokeh(root)\n",
       "\t  if (Bokeh == null || Bokeh.Panel == null) {\n",
       "            console.warn(\"Panel: ERROR: Unable to run Panel code because Bokeh or Panel library is missing\");\n",
       "\t  } else {\n",
       "\t    console.warn(\"Panel: WARNING: Attempting to render but not all required libraries could be resolved.\")\n",
       "\t    embed_document(root)\n",
       "\t  }\n",
       "        }\n",
       "      }\n",
       "    }, 25, root)\n",
       "  }\n",
       "})(window);</script>"
      ],
      "text/plain": [
       "Markdown(str, enable_streaming=True, width=800)"
      ]
     },
     "metadata": {
      "application/vnd.holoviews_exec.v0+json": {
       "id": "e271ee41-df5b-4104-abfb-383afe57c3e1"
      }
     },
     "output_type": "display_data"
    },
    {
     "name": "stdout",
     "output_type": "stream",
     "text": [
      "Launching server at http://localhost:59956\n",
      "Launching server at http://localhost:59961\n",
      "Launching server at http://localhost:59966\n",
      "Launching server at http://localhost:59971\n",
      "Launching server at http://localhost:59976\n"
     ]
    }
   ],
   "source": [
    "import panel as pn\n",
    "\n",
    "# pn.extension()\n",
    "pn.extension('katex', 'mathjax')\n",
    "\n",
    "d = pn.pane.Markdown(r\"\"\"\n",
    "## Markdown $$LaTeX$$ support\n",
    "\n",
    "The Markdown pane supports math rendering for string encapsulated with double $ delimiters: $$\\sum_{j}{\\sum_{i}{a*w_{j, i}}}$$\n",
    "\n",
    "More:\n",
    "\"\"\", enable_streaming=True, width=800)\n",
    "\n",
    "display(d)\n",
    "\n",
    "for i in range(5):\n",
    "    d.object += \" OK\"\n",
    "    d.show()\n",
    "    time.sleep(1)"
   ]
  },
  {
   "cell_type": "code",
   "execution_count": 52,
   "metadata": {},
   "outputs": [
    {
     "data": {
      "text/plain": [
       "\u001b[0;31mInit signature:\u001b[0m\n",
       "\u001b[0mpn\u001b[0m\u001b[0;34m.\u001b[0m\u001b[0mpane\u001b[0m\u001b[0;34m.\u001b[0m\u001b[0mMarkdown\u001b[0m\u001b[0;34m(\u001b[0m\u001b[0;34m\u001b[0m\n",
       "\u001b[0;34m\u001b[0m    \u001b[0mobject\u001b[0m\u001b[0;34m=\u001b[0m\u001b[0;32mNone\u001b[0m\u001b[0;34m,\u001b[0m\u001b[0;34m\u001b[0m\n",
       "\u001b[0;34m\u001b[0m    \u001b[0;34m*\u001b[0m\u001b[0;34m,\u001b[0m\u001b[0;34m\u001b[0m\n",
       "\u001b[0;34m\u001b[0m    \u001b[0mdisable_math\u001b[0m\u001b[0;34m,\u001b[0m\u001b[0;34m\u001b[0m\n",
       "\u001b[0;34m\u001b[0m    \u001b[0msanitize_hook\u001b[0m\u001b[0;34m,\u001b[0m\u001b[0;34m\u001b[0m\n",
       "\u001b[0;34m\u001b[0m    \u001b[0msanitize_html\u001b[0m\u001b[0;34m,\u001b[0m\u001b[0;34m\u001b[0m\n",
       "\u001b[0;34m\u001b[0m    \u001b[0menable_streaming\u001b[0m\u001b[0;34m,\u001b[0m\u001b[0;34m\u001b[0m\n",
       "\u001b[0;34m\u001b[0m    \u001b[0mdefault_layout\u001b[0m\u001b[0;34m,\u001b[0m\u001b[0;34m\u001b[0m\n",
       "\u001b[0;34m\u001b[0m    \u001b[0mloading\u001b[0m\u001b[0;34m,\u001b[0m\u001b[0;34m\u001b[0m\n",
       "\u001b[0;34m\u001b[0m    \u001b[0malign\u001b[0m\u001b[0;34m,\u001b[0m\u001b[0;34m\u001b[0m\n",
       "\u001b[0;34m\u001b[0m    \u001b[0maspect_ratio\u001b[0m\u001b[0;34m,\u001b[0m\u001b[0;34m\u001b[0m\n",
       "\u001b[0;34m\u001b[0m    \u001b[0mcss_classes\u001b[0m\u001b[0;34m,\u001b[0m\u001b[0;34m\u001b[0m\n",
       "\u001b[0;34m\u001b[0m    \u001b[0mdesign\u001b[0m\u001b[0;34m,\u001b[0m\u001b[0;34m\u001b[0m\n",
       "\u001b[0;34m\u001b[0m    \u001b[0mheight\u001b[0m\u001b[0;34m,\u001b[0m\u001b[0;34m\u001b[0m\n",
       "\u001b[0;34m\u001b[0m    \u001b[0mheight_policy\u001b[0m\u001b[0;34m,\u001b[0m\u001b[0;34m\u001b[0m\n",
       "\u001b[0;34m\u001b[0m    \u001b[0mmargin\u001b[0m\u001b[0;34m,\u001b[0m\u001b[0;34m\u001b[0m\n",
       "\u001b[0;34m\u001b[0m    \u001b[0mmax_height\u001b[0m\u001b[0;34m,\u001b[0m\u001b[0;34m\u001b[0m\n",
       "\u001b[0;34m\u001b[0m    \u001b[0mmax_width\u001b[0m\u001b[0;34m,\u001b[0m\u001b[0;34m\u001b[0m\n",
       "\u001b[0;34m\u001b[0m    \u001b[0mmin_height\u001b[0m\u001b[0;34m,\u001b[0m\u001b[0;34m\u001b[0m\n",
       "\u001b[0;34m\u001b[0m    \u001b[0mmin_width\u001b[0m\u001b[0;34m,\u001b[0m\u001b[0;34m\u001b[0m\n",
       "\u001b[0;34m\u001b[0m    \u001b[0msizing_mode\u001b[0m\u001b[0;34m,\u001b[0m\u001b[0;34m\u001b[0m\n",
       "\u001b[0;34m\u001b[0m    \u001b[0mstyles\u001b[0m\u001b[0;34m,\u001b[0m\u001b[0;34m\u001b[0m\n",
       "\u001b[0;34m\u001b[0m    \u001b[0mstylesheets\u001b[0m\u001b[0;34m,\u001b[0m\u001b[0;34m\u001b[0m\n",
       "\u001b[0;34m\u001b[0m    \u001b[0mtags\u001b[0m\u001b[0;34m,\u001b[0m\u001b[0;34m\u001b[0m\n",
       "\u001b[0;34m\u001b[0m    \u001b[0mvisible\u001b[0m\u001b[0;34m,\u001b[0m\u001b[0;34m\u001b[0m\n",
       "\u001b[0;34m\u001b[0m    \u001b[0mwidth\u001b[0m\u001b[0;34m,\u001b[0m\u001b[0;34m\u001b[0m\n",
       "\u001b[0;34m\u001b[0m    \u001b[0mwidth_policy\u001b[0m\u001b[0;34m,\u001b[0m\u001b[0;34m\u001b[0m\n",
       "\u001b[0;34m\u001b[0m    \u001b[0mname\u001b[0m\u001b[0;34m,\u001b[0m\u001b[0;34m\u001b[0m\n",
       "\u001b[0;34m\u001b[0m    \u001b[0;34m**\u001b[0m\u001b[0mkwargs\u001b[0m\u001b[0;34m,\u001b[0m\u001b[0;34m\u001b[0m\n",
       "\u001b[0;34m\u001b[0m\u001b[0;34m)\u001b[0m\u001b[0;34m\u001b[0m\u001b[0;34m\u001b[0m\u001b[0m\n",
       "\u001b[0;31mDocstring:\u001b[0m     \n",
       "    The `Markdown` pane allows rendering arbitrary markdown strings in a panel.\n",
       "\n",
       "    It renders strings containing valid Markdown as well as objects with a\n",
       "    `_repr_markdown_` method, and may define custom CSS styles.\n",
       "\n",
       "    Reference: https://panel.holoviz.org/reference/panes/Markdown.html\n",
       "\n",
       "    :Example:\n",
       "\n",
       "    >>> Markdown(\"# This is a header\")\n",
       "    \n",
       "\u001b[1;32mParameters of 'Markdown'\n",
       "========================\n",
       "\u001b[0m\n",
       "\u001b[1;31mParameters changed from their default values are marked in red.\u001b[0m\n",
       "\u001b[1;36mSoft bound values are marked in cyan.\u001b[0m\n",
       "C/V= Constant/Variable, RO/RW = ReadOnly/ReadWrite, AN=Allow None\n",
       "\n",
       "\u001b[1;34mName                             Value                     Type         Bounds     Mode  \u001b[0m\n",
       "\n",
       "align                           'start'                   Align                    V RW  \n",
       "aspect_ratio                      None                    Aspect                 V RW AN \n",
       "css_classes                        []                      List       (0, None)    V RW  \n",
       "design                            None                ObjectSelector               V RW  \n",
       "height                            None                   Integer      (0, None)  V RW AN \n",
       "min_width                         None                   Integer      (0, None)  V RW AN \n",
       "min_height                        None                   Integer      (0, None)  V RW AN \n",
       "max_width                         None                   Integer      (0, None)  V RW AN \n",
       "max_height                        None                   Integer      (0, None)  V RW AN \n",
       "margin                          (5, 10)                   Margin                 V RW AN \n",
       "styles                             {}                      Dict                    V RW  \n",
       "stylesheets                        []                      List       (0, None)    V RW  \n",
       "tags                               []                      List       (0, None)    V RW  \n",
       "width                             None                   Integer      (0, None)  V RW AN \n",
       "width_policy                     'auto'               ObjectSelector               V RW  \n",
       "height_policy                    'auto'               ObjectSelector               V RW  \n",
       "sizing_mode                       None                ObjectSelector               V RW  \n",
       "visible                           True                   Boolean                   V RW  \n",
       "loading                          False                   Boolean                   V RW  \n",
       "default_layout      <class 'panel.layout.base.Row'>   ClassSelector                V RW  \n",
       "object                            None                  Parameter                V RW AN \n",
       "enable_streaming                 False                   Boolean                   V RW  \n",
       "dedent                            True                   Boolean                   V RW  \n",
       "disable_math                     False                   Boolean                   V RW  \n",
       "extensions         ['extra', 'smarty', 'codehilite']       List       (0, None)    V RW  \n",
       "plugins                            []                      List       (0, None)    V RW  \n",
       "renderer                     'markdown-it'               Selector                  V RW  \n",
       "renderer_options                   {}                      Dict                    V RW  \n",
       "\n",
       "\u001b[1;32mParameter docstrings:\n",
       "=====================\u001b[0m\n",
       "\n",
       "\u001b[1;34malign:            Whether the object should be aligned with the start, end or\u001b[0m\n",
       "\u001b[1;34m                  center of its container. If set as a tuple it will declare\u001b[0m\n",
       "\u001b[1;34m                  (vertical, horizontal) alignment.\u001b[0m\n",
       "\u001b[1;31maspect_ratio:     Describes the proportional relationship between component's\u001b[0m\n",
       "\u001b[1;31m                  width and height.  This works if any of component's dimensions\u001b[0m\n",
       "\u001b[1;31m                  are flexible in size. If set to a number, ``width / height =\u001b[0m\n",
       "\u001b[1;31m                  aspect_ratio`` relationship will be maintained.  Otherwise, if\u001b[0m\n",
       "\u001b[1;31m                  set to ``\"auto\"``, component's preferred width and height will\u001b[0m\n",
       "\u001b[1;31m                  be used to determine the aspect (if not set, no aspect will be\u001b[0m\n",
       "\u001b[1;31m                  preserved).\u001b[0m\n",
       "\u001b[1;34mcss_classes:      CSS classes to apply to the layout.\u001b[0m\n",
       "\u001b[1;31mdesign:           The design system to use to style components.\u001b[0m\n",
       "\u001b[1;34mheight:           The height of the component (in pixels).  This can be either\u001b[0m\n",
       "\u001b[1;34m                  fixed or preferred height, depending on height sizing policy.\u001b[0m\n",
       "\u001b[1;31mmin_width:        Minimal width of the component (in pixels) if width is adjustable.\u001b[0m\n",
       "\u001b[1;34mmin_height:       Minimal height of the component (in pixels) if height is adjustable.\u001b[0m\n",
       "\u001b[1;31mmax_width:        Minimal width of the component (in pixels) if width is adjustable.\u001b[0m\n",
       "\u001b[1;34mmax_height:       Minimal height of the component (in pixels) if height is adjustable.\u001b[0m\n",
       "\u001b[1;31mmargin:           Allows to create additional space around the component. May\u001b[0m\n",
       "\u001b[1;31m                  be specified as a two-tuple of the form (vertical, horizontal)\u001b[0m\n",
       "\u001b[1;31m                  or a four-tuple (top, right, bottom, left).\u001b[0m\n",
       "\u001b[1;34mstyles:           Dictionary of CSS rules to apply to DOM node wrapping the\u001b[0m\n",
       "\u001b[1;34m                  component.\u001b[0m\n",
       "\u001b[1;31mstylesheets:      List of stylesheets defined as URLs pointing to .css files\u001b[0m\n",
       "\u001b[1;31m                  or raw CSS defined as a string.\u001b[0m\n",
       "\u001b[1;34mtags:             List of arbitrary tags to add to the component.\u001b[0m\n",
       "\u001b[1;34m                  Can be useful for templating or for storing metadata on\u001b[0m\n",
       "\u001b[1;34m                  the model.\u001b[0m\n",
       "\u001b[1;31mwidth:            The width of the component (in pixels). This can be either\u001b[0m\n",
       "\u001b[1;31m                  fixed or preferred width, depending on width sizing policy.\u001b[0m\n",
       "\u001b[1;34mwidth_policy:     Describes how the component should maintain its width.\u001b[0m\n",
       "\u001b[1;34m                  \u001b[0m\n",
       "\u001b[1;34m                  ``\"auto\"``\u001b[0m\n",
       "\u001b[1;34m                      Use component's preferred sizing policy.\u001b[0m\n",
       "\u001b[1;34m                  \u001b[0m\n",
       "\u001b[1;34m                  ``\"fixed\"``\u001b[0m\n",
       "\u001b[1;34m                      Use exactly ``width`` pixels. Component will overflow if\u001b[0m\n",
       "\u001b[1;34m                      it can't fit in the available horizontal space.\u001b[0m\n",
       "\u001b[1;34m                  \u001b[0m\n",
       "\u001b[1;34m                  ``\"fit\"``\u001b[0m\n",
       "\u001b[1;34m                      Use component's preferred width (if set) and allow it to\u001b[0m\n",
       "\u001b[1;34m                      fit into the available horizontal space within the minimum\u001b[0m\n",
       "\u001b[1;34m                      and maximum width bounds (if set). Component's width\u001b[0m\n",
       "\u001b[1;34m                      neither will be aggressively minimized nor maximized.\u001b[0m\n",
       "\u001b[1;34m                  \u001b[0m\n",
       "\u001b[1;34m                  ``\"min\"``\u001b[0m\n",
       "\u001b[1;34m                      Use as little horizontal space as possible, not less than\u001b[0m\n",
       "\u001b[1;34m                      the minimum width (if set).  The starting point is the\u001b[0m\n",
       "\u001b[1;34m                      preferred width (if set). The width of the component may\u001b[0m\n",
       "\u001b[1;34m                      shrink or grow depending on the parent layout, aspect\u001b[0m\n",
       "\u001b[1;34m                      management and other factors.\u001b[0m\n",
       "\u001b[1;34m                  \u001b[0m\n",
       "\u001b[1;34m                  ``\"max\"``\u001b[0m\n",
       "\u001b[1;34m                      Use as much horizontal space as possible, not more than\u001b[0m\n",
       "\u001b[1;34m                      the maximum width (if set).  The starting point is the\u001b[0m\n",
       "\u001b[1;34m                      preferred width (if set). The width of the component may\u001b[0m\n",
       "\u001b[1;34m                      shrink or grow depending on the parent layout, aspect\u001b[0m\n",
       "\u001b[1;34m                      management and other factors.\u001b[0m\n",
       "\u001b[1;31mheight_policy:    Describes how the component should maintain its height.\u001b[0m\n",
       "\u001b[1;31m                  \u001b[0m\n",
       "\u001b[1;31m                  ``\"auto\"``\u001b[0m\n",
       "\u001b[1;31m                      Use component's preferred sizing policy.\u001b[0m\n",
       "\u001b[1;31m                  \u001b[0m\n",
       "\u001b[1;31m                  ``\"fixed\"``\u001b[0m\n",
       "\u001b[1;31m                      Use exactly ``height`` pixels. Component will overflow if\u001b[0m\n",
       "\u001b[1;31m                      it can't fit in the available vertical space.\u001b[0m\n",
       "\u001b[1;31m                  \u001b[0m\n",
       "\u001b[1;31m                  ``\"fit\"``\u001b[0m\n",
       "\u001b[1;31m                      Use component's preferred height (if set) and allow to fit\u001b[0m\n",
       "\u001b[1;31m                      into the available vertical space within the minimum and\u001b[0m\n",
       "\u001b[1;31m                      maximum height bounds (if set). Component's height neither\u001b[0m\n",
       "\u001b[1;31m                      will be aggressively minimized nor maximized.\u001b[0m\n",
       "\u001b[1;31m                  \u001b[0m\n",
       "\u001b[1;31m                  ``\"min\"``\u001b[0m\n",
       "\u001b[1;31m                      Use as little vertical space as possible, not less than\u001b[0m\n",
       "\u001b[1;31m                      the minimum height (if set).  The starting point is the\u001b[0m\n",
       "\u001b[1;31m                      preferred height (if set). The height of the component may\u001b[0m\n",
       "\u001b[1;31m                      shrink or grow depending on the parent layout, aspect\u001b[0m\n",
       "\u001b[1;31m                      management and other factors.\u001b[0m\n",
       "\u001b[1;31m                  \u001b[0m\n",
       "\u001b[1;31m                  ``\"max\"``\u001b[0m\n",
       "\u001b[1;31m                      Use as much vertical space as possible, not more than the\u001b[0m\n",
       "\u001b[1;31m                      maximum height (if set).  The starting point is the\u001b[0m\n",
       "\u001b[1;31m                      preferred height (if set). The height of the component may\u001b[0m\n",
       "\u001b[1;31m                      shrink or grow depending on the parent layout, aspect\u001b[0m\n",
       "\u001b[1;31m                      management and other factors.\u001b[0m\n",
       "\u001b[1;34msizing_mode:      How the component should size itself.\u001b[0m\n",
       "\u001b[1;34m                  \u001b[0m\n",
       "\u001b[1;34m                  This is a high-level setting for maintaining width and height\u001b[0m\n",
       "\u001b[1;34m                  of the component. To gain more fine grained control over\u001b[0m\n",
       "\u001b[1;34m                  sizing, use ``width_policy``, ``height_policy`` and\u001b[0m\n",
       "\u001b[1;34m                  ``aspect_ratio`` instead (those take precedence over\u001b[0m\n",
       "\u001b[1;34m                  ``sizing_mode``).\u001b[0m\n",
       "\u001b[1;34m                  \u001b[0m\n",
       "\u001b[1;34m                  ``\"fixed\"``\u001b[0m\n",
       "\u001b[1;34m                      Component is not responsive. It will retain its original\u001b[0m\n",
       "\u001b[1;34m                      width and height regardless of any subsequent browser\u001b[0m\n",
       "\u001b[1;34m                      window resize events.\u001b[0m\n",
       "\u001b[1;34m                  \u001b[0m\n",
       "\u001b[1;34m                  ``\"stretch_width\"``\u001b[0m\n",
       "\u001b[1;34m                      Component will responsively resize to stretch to the\u001b[0m\n",
       "\u001b[1;34m                      available width, without maintaining any aspect ratio. The\u001b[0m\n",
       "\u001b[1;34m                      height of the component depends on the type of the\u001b[0m\n",
       "\u001b[1;34m                      component and may be fixed or fit to component's contents.\u001b[0m\n",
       "\u001b[1;34m                  \u001b[0m\n",
       "\u001b[1;34m                  ``\"stretch_height\"``\u001b[0m\n",
       "\u001b[1;34m                      Component will responsively resize to stretch to the\u001b[0m\n",
       "\u001b[1;34m                      available height, without maintaining any aspect\u001b[0m\n",
       "\u001b[1;34m                      ratio. The width of the component depends on the type of\u001b[0m\n",
       "\u001b[1;34m                      the component and may be fixed or fit to component's\u001b[0m\n",
       "\u001b[1;34m                      contents.\u001b[0m\n",
       "\u001b[1;34m                  \u001b[0m\n",
       "\u001b[1;34m                  ``\"stretch_both\"``\u001b[0m\n",
       "\u001b[1;34m                      Component is completely responsive, independently in width\u001b[0m\n",
       "\u001b[1;34m                      and height, and will occupy all the available horizontal\u001b[0m\n",
       "\u001b[1;34m                      and vertical space, even if this changes the aspect ratio\u001b[0m\n",
       "\u001b[1;34m                      of the component.\u001b[0m\n",
       "\u001b[1;34m                  \u001b[0m\n",
       "\u001b[1;34m                  ``\"scale_width\"``\u001b[0m\n",
       "\u001b[1;34m                      Component will responsively resize to stretch to the\u001b[0m\n",
       "\u001b[1;34m                      available width, while maintaining the original or\u001b[0m\n",
       "\u001b[1;34m                      provided aspect ratio.\u001b[0m\n",
       "\u001b[1;34m                  \u001b[0m\n",
       "\u001b[1;34m                  ``\"scale_height\"``\u001b[0m\n",
       "\u001b[1;34m                      Component will responsively resize to stretch to the\u001b[0m\n",
       "\u001b[1;34m                      available height, while maintaining the original or\u001b[0m\n",
       "\u001b[1;34m                      provided aspect ratio.\u001b[0m\n",
       "\u001b[1;34m                  \u001b[0m\n",
       "\u001b[1;34m                  ``\"scale_both\"``\u001b[0m\n",
       "\u001b[1;34m                      Component will responsively resize to both the available\u001b[0m\n",
       "\u001b[1;34m                      width and height, while maintaining the original or\u001b[0m\n",
       "\u001b[1;34m                      provided aspect ratio.\u001b[0m\n",
       "\u001b[1;31mvisible:          Whether the component is visible. Setting visible to false will\u001b[0m\n",
       "\u001b[1;31m                  hide the component entirely.\u001b[0m\n",
       "\u001b[1;34mloading:          Whether or not the Viewable is loading. If True a loading spinner\u001b[0m\n",
       "\u001b[1;34m                  is shown on top of the Viewable.\u001b[0m\n",
       "\u001b[1;31mdefault_layout:   Defines the layout the model(s) returned by the pane will\u001b[0m\n",
       "\u001b[1;31m                  be placed in.\u001b[0m\n",
       "\u001b[1;34mobject:           The object being wrapped, which will be converted to a\u001b[0m\n",
       "\u001b[1;34m                  Bokeh model.\u001b[0m\n",
       "\u001b[1;31menable_streaming: Whether to enable streaming of text snippets. This is useful\u001b[0m\n",
       "\u001b[1;31m                  when updating a string step by step, e.g. in a chat message.\u001b[0m\n",
       "\u001b[1;34mdedent:           Whether to dedent common whitespace across all lines.\u001b[0m\n",
       "\u001b[1;31mdisable_math:     Whether to disable support for MathJax math rendering for\u001b[0m\n",
       "\u001b[1;31m                  strings escaped with $$ delimiters.\u001b[0m\n",
       "\u001b[1;34mextensions:       Markdown extension to apply when transforming markup.\u001b[0m\n",
       "\u001b[1;34m                  Does not apply if renderer is set to 'markdown-it' or 'myst'.\u001b[0m\n",
       "\u001b[1;31mplugins:          Additional markdown-it-py plugins to use.\u001b[0m\n",
       "\u001b[1;34mrenderer:         Markdown renderer implementation.\u001b[0m\n",
       "\u001b[1;31mrenderer_options: Options to pass to the markdown renderer.\u001b[0m\n",
       "\u001b[0;31mSource:\u001b[0m        \n",
       "\u001b[0;32mclass\u001b[0m \u001b[0mMarkdown\u001b[0m\u001b[0;34m(\u001b[0m\u001b[0mHTMLBasePane\u001b[0m\u001b[0;34m)\u001b[0m\u001b[0;34m:\u001b[0m\u001b[0;34m\u001b[0m\n",
       "\u001b[0;34m\u001b[0m    \u001b[0;34m\"\"\"\u001b[0m\n",
       "\u001b[0;34m    The `Markdown` pane allows rendering arbitrary markdown strings in a panel.\u001b[0m\n",
       "\u001b[0;34m\u001b[0m\n",
       "\u001b[0;34m    It renders strings containing valid Markdown as well as objects with a\u001b[0m\n",
       "\u001b[0;34m    `_repr_markdown_` method, and may define custom CSS styles.\u001b[0m\n",
       "\u001b[0;34m\u001b[0m\n",
       "\u001b[0;34m    Reference: https://panel.holoviz.org/reference/panes/Markdown.html\u001b[0m\n",
       "\u001b[0;34m\u001b[0m\n",
       "\u001b[0;34m    :Example:\u001b[0m\n",
       "\u001b[0;34m\u001b[0m\n",
       "\u001b[0;34m    >>> Markdown(\"# This is a header\")\u001b[0m\n",
       "\u001b[0;34m    \"\"\"\u001b[0m\u001b[0;34m\u001b[0m\n",
       "\u001b[0;34m\u001b[0m\u001b[0;34m\u001b[0m\n",
       "\u001b[0;34m\u001b[0m    \u001b[0mdedent\u001b[0m \u001b[0;34m=\u001b[0m \u001b[0mparam\u001b[0m\u001b[0;34m.\u001b[0m\u001b[0mBoolean\u001b[0m\u001b[0;34m(\u001b[0m\u001b[0mdefault\u001b[0m\u001b[0;34m=\u001b[0m\u001b[0;32mTrue\u001b[0m\u001b[0;34m,\u001b[0m \u001b[0mdoc\u001b[0m\u001b[0;34m=\u001b[0m\u001b[0;34m\"\"\"\u001b[0m\n",
       "\u001b[0;34m        Whether to dedent common whitespace across all lines.\"\"\"\u001b[0m\u001b[0;34m)\u001b[0m\u001b[0;34m\u001b[0m\n",
       "\u001b[0;34m\u001b[0m\u001b[0;34m\u001b[0m\n",
       "\u001b[0;34m\u001b[0m    \u001b[0mdisable_math\u001b[0m \u001b[0;34m=\u001b[0m \u001b[0mparam\u001b[0m\u001b[0;34m.\u001b[0m\u001b[0mBoolean\u001b[0m\u001b[0;34m(\u001b[0m\u001b[0mdefault\u001b[0m\u001b[0;34m=\u001b[0m\u001b[0;32mFalse\u001b[0m\u001b[0;34m,\u001b[0m \u001b[0mdoc\u001b[0m\u001b[0;34m=\u001b[0m\u001b[0;34m\"\"\"\u001b[0m\n",
       "\u001b[0;34m        Whether to disable support for MathJax math rendering for\u001b[0m\n",
       "\u001b[0;34m        strings escaped with $$ delimiters.\"\"\"\u001b[0m\u001b[0;34m)\u001b[0m\u001b[0;34m\u001b[0m\n",
       "\u001b[0;34m\u001b[0m\u001b[0;34m\u001b[0m\n",
       "\u001b[0;34m\u001b[0m    \u001b[0mextensions\u001b[0m \u001b[0;34m=\u001b[0m \u001b[0mparam\u001b[0m\u001b[0;34m.\u001b[0m\u001b[0mList\u001b[0m\u001b[0;34m(\u001b[0m\u001b[0mdefault\u001b[0m\u001b[0;34m=\u001b[0m\u001b[0;34m[\u001b[0m\u001b[0;34m\u001b[0m\n",
       "\u001b[0;34m\u001b[0m        \u001b[0;34m\"extra\"\u001b[0m\u001b[0;34m,\u001b[0m \u001b[0;34m\"smarty\"\u001b[0m\u001b[0;34m,\u001b[0m \u001b[0;34m\"codehilite\"\u001b[0m\u001b[0;34m]\u001b[0m\u001b[0;34m,\u001b[0m \u001b[0mnested_refs\u001b[0m\u001b[0;34m=\u001b[0m\u001b[0;32mTrue\u001b[0m\u001b[0;34m,\u001b[0m \u001b[0mdoc\u001b[0m\u001b[0;34m=\u001b[0m\u001b[0;34m\"\"\"\u001b[0m\n",
       "\u001b[0;34m        Markdown extension to apply when transforming markup.\u001b[0m\n",
       "\u001b[0;34m        Does not apply if renderer is set to 'markdown-it' or 'myst'.\"\"\"\u001b[0m\u001b[0;34m)\u001b[0m\u001b[0;34m\u001b[0m\n",
       "\u001b[0;34m\u001b[0m\u001b[0;34m\u001b[0m\n",
       "\u001b[0;34m\u001b[0m    \u001b[0mplugins\u001b[0m \u001b[0;34m=\u001b[0m \u001b[0mparam\u001b[0m\u001b[0;34m.\u001b[0m\u001b[0mList\u001b[0m\u001b[0;34m(\u001b[0m\u001b[0mdefault\u001b[0m\u001b[0;34m=\u001b[0m\u001b[0;34m[\u001b[0m\u001b[0;34m]\u001b[0m\u001b[0;34m,\u001b[0m \u001b[0mnested_refs\u001b[0m\u001b[0;34m=\u001b[0m\u001b[0;32mTrue\u001b[0m\u001b[0;34m,\u001b[0m \u001b[0mdoc\u001b[0m\u001b[0;34m=\u001b[0m\u001b[0;34m\"\"\"\u001b[0m\n",
       "\u001b[0;34m        Additional markdown-it-py plugins to use.\"\"\"\u001b[0m\u001b[0;34m)\u001b[0m\u001b[0;34m\u001b[0m\n",
       "\u001b[0;34m\u001b[0m\u001b[0;34m\u001b[0m\n",
       "\u001b[0;34m\u001b[0m    \u001b[0mrenderer\u001b[0m \u001b[0;34m=\u001b[0m \u001b[0mparam\u001b[0m\u001b[0;34m.\u001b[0m\u001b[0mSelector\u001b[0m\u001b[0;34m(\u001b[0m\u001b[0mdefault\u001b[0m\u001b[0;34m=\u001b[0m\u001b[0;34m'markdown-it'\u001b[0m\u001b[0;34m,\u001b[0m \u001b[0mobjects\u001b[0m\u001b[0;34m=\u001b[0m\u001b[0;34m[\u001b[0m\u001b[0;34m\u001b[0m\n",
       "\u001b[0;34m\u001b[0m        \u001b[0;34m'markdown-it'\u001b[0m\u001b[0;34m,\u001b[0m \u001b[0;34m'myst'\u001b[0m\u001b[0;34m,\u001b[0m \u001b[0;34m'markdown'\u001b[0m\u001b[0;34m]\u001b[0m\u001b[0;34m,\u001b[0m \u001b[0mdoc\u001b[0m\u001b[0;34m=\u001b[0m\u001b[0;34m\"\"\"\u001b[0m\n",
       "\u001b[0;34m        Markdown renderer implementation.\"\"\"\u001b[0m\u001b[0;34m)\u001b[0m\u001b[0;34m\u001b[0m\n",
       "\u001b[0;34m\u001b[0m\u001b[0;34m\u001b[0m\n",
       "\u001b[0;34m\u001b[0m    \u001b[0mrenderer_options\u001b[0m \u001b[0;34m=\u001b[0m \u001b[0mparam\u001b[0m\u001b[0;34m.\u001b[0m\u001b[0mDict\u001b[0m\u001b[0;34m(\u001b[0m\u001b[0mdefault\u001b[0m\u001b[0;34m=\u001b[0m\u001b[0;34m{\u001b[0m\u001b[0;34m}\u001b[0m\u001b[0;34m,\u001b[0m \u001b[0mnested_refs\u001b[0m\u001b[0;34m=\u001b[0m\u001b[0;32mTrue\u001b[0m\u001b[0;34m,\u001b[0m \u001b[0mdoc\u001b[0m\u001b[0;34m=\u001b[0m\u001b[0;34m\"\"\"\u001b[0m\n",
       "\u001b[0;34m        Options to pass to the markdown renderer.\"\"\"\u001b[0m\u001b[0;34m)\u001b[0m\u001b[0;34m\u001b[0m\n",
       "\u001b[0;34m\u001b[0m\u001b[0;34m\u001b[0m\n",
       "\u001b[0;34m\u001b[0m    \u001b[0;31m# Priority depends on the data type\u001b[0m\u001b[0;34m\u001b[0m\n",
       "\u001b[0;34m\u001b[0m    \u001b[0mpriority\u001b[0m\u001b[0;34m:\u001b[0m \u001b[0mClassVar\u001b[0m\u001b[0;34m[\u001b[0m\u001b[0mfloat\u001b[0m \u001b[0;34m|\u001b[0m \u001b[0mbool\u001b[0m \u001b[0;34m|\u001b[0m \u001b[0;32mNone\u001b[0m\u001b[0;34m]\u001b[0m \u001b[0;34m=\u001b[0m \u001b[0;32mNone\u001b[0m\u001b[0;34m\u001b[0m\n",
       "\u001b[0;34m\u001b[0m\u001b[0;34m\u001b[0m\n",
       "\u001b[0;34m\u001b[0m    \u001b[0m_rename\u001b[0m\u001b[0;34m:\u001b[0m \u001b[0mClassVar\u001b[0m\u001b[0;34m[\u001b[0m\u001b[0mMapping\u001b[0m\u001b[0;34m[\u001b[0m\u001b[0mstr\u001b[0m\u001b[0;34m,\u001b[0m \u001b[0mstr\u001b[0m \u001b[0;34m|\u001b[0m \u001b[0;32mNone\u001b[0m\u001b[0;34m]\u001b[0m\u001b[0;34m]\u001b[0m \u001b[0;34m=\u001b[0m \u001b[0;34m{\u001b[0m\u001b[0;34m\u001b[0m\n",
       "\u001b[0;34m\u001b[0m        \u001b[0;34m'dedent'\u001b[0m\u001b[0;34m:\u001b[0m \u001b[0;32mNone\u001b[0m\u001b[0;34m,\u001b[0m \u001b[0;34m'disable_math'\u001b[0m\u001b[0;34m:\u001b[0m \u001b[0;32mNone\u001b[0m\u001b[0;34m,\u001b[0m \u001b[0;34m'extensions'\u001b[0m\u001b[0;34m:\u001b[0m \u001b[0;32mNone\u001b[0m\u001b[0;34m,\u001b[0m\u001b[0;34m\u001b[0m\n",
       "\u001b[0;34m\u001b[0m        \u001b[0;34m'plugins'\u001b[0m\u001b[0;34m:\u001b[0m \u001b[0;32mNone\u001b[0m\u001b[0;34m,\u001b[0m \u001b[0;34m'renderer'\u001b[0m\u001b[0;34m:\u001b[0m \u001b[0;32mNone\u001b[0m\u001b[0;34m,\u001b[0m \u001b[0;34m'renderer_options'\u001b[0m\u001b[0;34m:\u001b[0m \u001b[0;32mNone\u001b[0m\u001b[0;34m\u001b[0m\n",
       "\u001b[0;34m\u001b[0m    \u001b[0;34m}\u001b[0m\u001b[0;34m\u001b[0m\n",
       "\u001b[0;34m\u001b[0m\u001b[0;34m\u001b[0m\n",
       "\u001b[0;34m\u001b[0m    \u001b[0m_rerender_params\u001b[0m\u001b[0;34m:\u001b[0m \u001b[0mClassVar\u001b[0m\u001b[0;34m[\u001b[0m\u001b[0mlist\u001b[0m\u001b[0;34m[\u001b[0m\u001b[0mstr\u001b[0m\u001b[0;34m]\u001b[0m\u001b[0;34m]\u001b[0m \u001b[0;34m=\u001b[0m \u001b[0;34m[\u001b[0m\u001b[0;34m\u001b[0m\n",
       "\u001b[0;34m\u001b[0m        \u001b[0;34m'object'\u001b[0m\u001b[0;34m,\u001b[0m \u001b[0;34m'dedent'\u001b[0m\u001b[0;34m,\u001b[0m \u001b[0;34m'extensions'\u001b[0m\u001b[0;34m,\u001b[0m \u001b[0;34m'css_classes'\u001b[0m\u001b[0;34m,\u001b[0m \u001b[0;34m'plugins'\u001b[0m\u001b[0;34m,\u001b[0m\u001b[0;34m\u001b[0m\n",
       "\u001b[0;34m\u001b[0m    \u001b[0;34m]\u001b[0m\u001b[0;34m\u001b[0m\n",
       "\u001b[0;34m\u001b[0m\u001b[0;34m\u001b[0m\n",
       "\u001b[0;34m\u001b[0m    \u001b[0m_target_transforms\u001b[0m\u001b[0;34m:\u001b[0m \u001b[0mClassVar\u001b[0m\u001b[0;34m[\u001b[0m\u001b[0mMapping\u001b[0m\u001b[0;34m[\u001b[0m\u001b[0mstr\u001b[0m\u001b[0;34m,\u001b[0m \u001b[0mstr\u001b[0m \u001b[0;34m|\u001b[0m \u001b[0;32mNone\u001b[0m\u001b[0;34m]\u001b[0m\u001b[0;34m]\u001b[0m \u001b[0;34m=\u001b[0m \u001b[0;34m{\u001b[0m\u001b[0;34m\u001b[0m\n",
       "\u001b[0;34m\u001b[0m        \u001b[0;34m'object'\u001b[0m\u001b[0;34m:\u001b[0m \u001b[0;32mNone\u001b[0m\u001b[0;34m\u001b[0m\n",
       "\u001b[0;34m\u001b[0m    \u001b[0;34m}\u001b[0m\u001b[0;34m\u001b[0m\n",
       "\u001b[0;34m\u001b[0m\u001b[0;34m\u001b[0m\n",
       "\u001b[0;34m\u001b[0m    \u001b[0m_stylesheets\u001b[0m\u001b[0;34m:\u001b[0m \u001b[0mClassVar\u001b[0m\u001b[0;34m[\u001b[0m\u001b[0mlist\u001b[0m\u001b[0;34m[\u001b[0m\u001b[0mstr\u001b[0m\u001b[0;34m]\u001b[0m\u001b[0;34m]\u001b[0m \u001b[0;34m=\u001b[0m \u001b[0;34m[\u001b[0m\u001b[0;34m\u001b[0m\n",
       "\u001b[0;34m\u001b[0m        \u001b[0;34mf'\u001b[0m\u001b[0;34m{\u001b[0m\u001b[0mCDN_DIST\u001b[0m\u001b[0;34m}\u001b[0m\u001b[0;34mcss/markdown.css\u001b[0m\u001b[0;34m'\u001b[0m\u001b[0;34m\u001b[0m\n",
       "\u001b[0;34m\u001b[0m    \u001b[0;34m]\u001b[0m\u001b[0;34m\u001b[0m\n",
       "\u001b[0;34m\u001b[0m\u001b[0;34m\u001b[0m\n",
       "\u001b[0;34m\u001b[0m    \u001b[0;34m@\u001b[0m\u001b[0mclassmethod\u001b[0m\u001b[0;34m\u001b[0m\n",
       "\u001b[0;34m\u001b[0m    \u001b[0;32mdef\u001b[0m \u001b[0mapplies\u001b[0m\u001b[0;34m(\u001b[0m\u001b[0mcls\u001b[0m\u001b[0;34m,\u001b[0m \u001b[0mobj\u001b[0m\u001b[0;34m:\u001b[0m \u001b[0mAny\u001b[0m\u001b[0;34m)\u001b[0m \u001b[0;34m->\u001b[0m \u001b[0mfloat\u001b[0m \u001b[0;34m|\u001b[0m \u001b[0mbool\u001b[0m \u001b[0;34m|\u001b[0m \u001b[0;32mNone\u001b[0m\u001b[0;34m:\u001b[0m\u001b[0;34m\u001b[0m\n",
       "\u001b[0;34m\u001b[0m        \u001b[0;32mif\u001b[0m \u001b[0mhasattr\u001b[0m\u001b[0;34m(\u001b[0m\u001b[0mobj\u001b[0m\u001b[0;34m,\u001b[0m \u001b[0;34m'_repr_markdown_'\u001b[0m\u001b[0;34m)\u001b[0m\u001b[0;34m:\u001b[0m\u001b[0;34m\u001b[0m\n",
       "\u001b[0;34m\u001b[0m            \u001b[0;32mreturn\u001b[0m \u001b[0;36m0.3\u001b[0m\u001b[0;34m\u001b[0m\n",
       "\u001b[0;34m\u001b[0m        \u001b[0;32melif\u001b[0m \u001b[0misinstance\u001b[0m\u001b[0;34m(\u001b[0m\u001b[0mobj\u001b[0m\u001b[0;34m,\u001b[0m \u001b[0mstr\u001b[0m\u001b[0;34m)\u001b[0m\u001b[0;34m:\u001b[0m\u001b[0;34m\u001b[0m\n",
       "\u001b[0;34m\u001b[0m            \u001b[0;32mreturn\u001b[0m \u001b[0;36m0.1\u001b[0m\u001b[0;34m\u001b[0m\n",
       "\u001b[0;34m\u001b[0m        \u001b[0;32melse\u001b[0m\u001b[0;34m:\u001b[0m\u001b[0;34m\u001b[0m\n",
       "\u001b[0;34m\u001b[0m            \u001b[0;32mreturn\u001b[0m \u001b[0;32mFalse\u001b[0m\u001b[0;34m\u001b[0m\n",
       "\u001b[0;34m\u001b[0m\u001b[0;34m\u001b[0m\n",
       "\u001b[0;34m\u001b[0m    \u001b[0;34m@\u001b[0m\u001b[0mclassmethod\u001b[0m\u001b[0;34m\u001b[0m\n",
       "\u001b[0;34m\u001b[0m    \u001b[0;34m@\u001b[0m\u001b[0mfunctools\u001b[0m\u001b[0;34m.\u001b[0m\u001b[0mlru_cache\u001b[0m\u001b[0;34m(\u001b[0m\u001b[0mmaxsize\u001b[0m\u001b[0;34m=\u001b[0m\u001b[0;32mNone\u001b[0m\u001b[0;34m)\u001b[0m\u001b[0;34m\u001b[0m\n",
       "\u001b[0;34m\u001b[0m    \u001b[0;32mdef\u001b[0m \u001b[0m_get_parser\u001b[0m\u001b[0;34m(\u001b[0m\u001b[0mcls\u001b[0m\u001b[0;34m,\u001b[0m \u001b[0mrenderer\u001b[0m\u001b[0;34m,\u001b[0m \u001b[0mplugins\u001b[0m\u001b[0;34m,\u001b[0m \u001b[0;34m**\u001b[0m\u001b[0mrenderer_options\u001b[0m\u001b[0;34m)\u001b[0m\u001b[0;34m:\u001b[0m\u001b[0;34m\u001b[0m\n",
       "\u001b[0;34m\u001b[0m        \u001b[0;32mif\u001b[0m \u001b[0mrenderer\u001b[0m \u001b[0;34m==\u001b[0m \u001b[0;34m'markdown'\u001b[0m\u001b[0;34m:\u001b[0m\u001b[0;34m\u001b[0m\n",
       "\u001b[0;34m\u001b[0m            \u001b[0;32mreturn\u001b[0m \u001b[0;32mNone\u001b[0m\u001b[0;34m\u001b[0m\n",
       "\u001b[0;34m\u001b[0m        \u001b[0;32mfrom\u001b[0m \u001b[0mmarkdown_it\u001b[0m \u001b[0;32mimport\u001b[0m \u001b[0mMarkdownIt\u001b[0m\u001b[0;34m\u001b[0m\n",
       "\u001b[0;34m\u001b[0m        \u001b[0;32mfrom\u001b[0m \u001b[0mmarkdown_it\u001b[0m\u001b[0;34m.\u001b[0m\u001b[0mrenderer\u001b[0m \u001b[0;32mimport\u001b[0m \u001b[0mRendererHTML\u001b[0m\u001b[0;34m\u001b[0m\n",
       "\u001b[0;34m\u001b[0m        \u001b[0;32mfrom\u001b[0m \u001b[0mmdit_py_plugins\u001b[0m\u001b[0;34m.\u001b[0m\u001b[0manchors\u001b[0m \u001b[0;32mimport\u001b[0m \u001b[0manchors_plugin\u001b[0m\u001b[0;34m\u001b[0m\n",
       "\u001b[0;34m\u001b[0m        \u001b[0;32mfrom\u001b[0m \u001b[0mmdit_py_plugins\u001b[0m\u001b[0;34m.\u001b[0m\u001b[0mdeflist\u001b[0m \u001b[0;32mimport\u001b[0m \u001b[0mdeflist_plugin\u001b[0m\u001b[0;34m\u001b[0m\n",
       "\u001b[0;34m\u001b[0m        \u001b[0;32mfrom\u001b[0m \u001b[0mmdit_py_plugins\u001b[0m\u001b[0;34m.\u001b[0m\u001b[0mfootnote\u001b[0m \u001b[0;32mimport\u001b[0m \u001b[0mfootnote_plugin\u001b[0m\u001b[0;34m\u001b[0m\n",
       "\u001b[0;34m\u001b[0m        \u001b[0;32mfrom\u001b[0m \u001b[0mmdit_py_plugins\u001b[0m\u001b[0;34m.\u001b[0m\u001b[0mtasklists\u001b[0m \u001b[0;32mimport\u001b[0m \u001b[0mtasklists_plugin\u001b[0m\u001b[0;34m\u001b[0m\n",
       "\u001b[0;34m\u001b[0m\u001b[0;34m\u001b[0m\n",
       "\u001b[0;34m\u001b[0m        \u001b[0;32mdef\u001b[0m \u001b[0mhilite\u001b[0m\u001b[0;34m(\u001b[0m\u001b[0mtoken\u001b[0m\u001b[0;34m,\u001b[0m \u001b[0mlangname\u001b[0m\u001b[0;34m,\u001b[0m \u001b[0mattrs\u001b[0m\u001b[0;34m)\u001b[0m\u001b[0;34m:\u001b[0m\u001b[0;34m\u001b[0m\n",
       "\u001b[0;34m\u001b[0m            \u001b[0;32mtry\u001b[0m\u001b[0;34m:\u001b[0m\u001b[0;34m\u001b[0m\n",
       "\u001b[0;34m\u001b[0m                \u001b[0;32mfrom\u001b[0m \u001b[0mmarkdown\u001b[0m\u001b[0;34m.\u001b[0m\u001b[0mextensions\u001b[0m\u001b[0;34m.\u001b[0m\u001b[0mcodehilite\u001b[0m \u001b[0;32mimport\u001b[0m \u001b[0mCodeHilite\u001b[0m\u001b[0;34m\u001b[0m\n",
       "\u001b[0;34m\u001b[0m                \u001b[0;32mreturn\u001b[0m \u001b[0mCodeHilite\u001b[0m\u001b[0;34m(\u001b[0m\u001b[0msrc\u001b[0m\u001b[0;34m=\u001b[0m\u001b[0mtoken\u001b[0m\u001b[0;34m,\u001b[0m \u001b[0mlang\u001b[0m\u001b[0;34m=\u001b[0m\u001b[0mlangname\u001b[0m\u001b[0;34m)\u001b[0m\u001b[0;34m.\u001b[0m\u001b[0mhilite\u001b[0m\u001b[0;34m(\u001b[0m\u001b[0;34m)\u001b[0m\u001b[0;34m\u001b[0m\n",
       "\u001b[0;34m\u001b[0m            \u001b[0;32mexcept\u001b[0m \u001b[0mException\u001b[0m\u001b[0;34m:\u001b[0m\u001b[0;34m\u001b[0m\n",
       "\u001b[0;34m\u001b[0m                \u001b[0;32mreturn\u001b[0m \u001b[0mtoken\u001b[0m\u001b[0;34m\u001b[0m\n",
       "\u001b[0;34m\u001b[0m\u001b[0;34m\u001b[0m\n",
       "\u001b[0;34m\u001b[0m        \u001b[0;32mif\u001b[0m \u001b[0mrenderer\u001b[0m \u001b[0;34m==\u001b[0m \u001b[0;34m'markdown-it'\u001b[0m\u001b[0;34m:\u001b[0m\u001b[0;34m\u001b[0m\n",
       "\u001b[0;34m\u001b[0m            \u001b[0;32mif\u001b[0m \u001b[0;34m\"breaks\"\u001b[0m \u001b[0;32mnot\u001b[0m \u001b[0;32min\u001b[0m \u001b[0mrenderer_options\u001b[0m\u001b[0;34m:\u001b[0m\u001b[0;34m\u001b[0m\n",
       "\u001b[0;34m\u001b[0m                \u001b[0mrenderer_options\u001b[0m\u001b[0;34m[\u001b[0m\u001b[0;34m\"breaks\"\u001b[0m\u001b[0;34m]\u001b[0m \u001b[0;34m=\u001b[0m \u001b[0;32mTrue\u001b[0m\u001b[0;34m\u001b[0m\n",
       "\u001b[0;34m\u001b[0m\u001b[0;34m\u001b[0m\n",
       "\u001b[0;34m\u001b[0m            \u001b[0mparser\u001b[0m \u001b[0;34m=\u001b[0m \u001b[0mMarkdownIt\u001b[0m\u001b[0;34m(\u001b[0m\u001b[0;34m\u001b[0m\n",
       "\u001b[0;34m\u001b[0m                \u001b[0;34m'gfm-like'\u001b[0m\u001b[0;34m,\u001b[0m\u001b[0;34m\u001b[0m\n",
       "\u001b[0;34m\u001b[0m                \u001b[0mrenderer_cls\u001b[0m\u001b[0;34m=\u001b[0m\u001b[0mRendererHTML\u001b[0m\u001b[0;34m,\u001b[0m\u001b[0;34m\u001b[0m\n",
       "\u001b[0;34m\u001b[0m                \u001b[0moptions_update\u001b[0m\u001b[0;34m=\u001b[0m\u001b[0mrenderer_options\u001b[0m\u001b[0;34m\u001b[0m\n",
       "\u001b[0;34m\u001b[0m            \u001b[0;34m)\u001b[0m\u001b[0;34m\u001b[0m\n",
       "\u001b[0;34m\u001b[0m        \u001b[0;32melif\u001b[0m \u001b[0mrenderer\u001b[0m \u001b[0;34m==\u001b[0m \u001b[0;34m'myst'\u001b[0m\u001b[0;34m:\u001b[0m\u001b[0;34m\u001b[0m\n",
       "\u001b[0;34m\u001b[0m            \u001b[0;32mfrom\u001b[0m \u001b[0mmyst_parser\u001b[0m\u001b[0;34m.\u001b[0m\u001b[0mparsers\u001b[0m\u001b[0;34m.\u001b[0m\u001b[0mmdit\u001b[0m \u001b[0;32mimport\u001b[0m \u001b[0;34m(\u001b[0m\u001b[0;34m\u001b[0m\n",
       "\u001b[0;34m\u001b[0m                \u001b[0mMdParserConfig\u001b[0m\u001b[0;34m,\u001b[0m \u001b[0mcreate_md_parser\u001b[0m\u001b[0;34m,\u001b[0m\u001b[0;34m\u001b[0m\n",
       "\u001b[0;34m\u001b[0m            \u001b[0;34m)\u001b[0m\u001b[0;34m\u001b[0m\n",
       "\u001b[0;34m\u001b[0m            \u001b[0mconfig\u001b[0m \u001b[0;34m=\u001b[0m \u001b[0mMdParserConfig\u001b[0m\u001b[0;34m(\u001b[0m\u001b[0mheading_anchors\u001b[0m\u001b[0;34m=\u001b[0m\u001b[0;36m1\u001b[0m\u001b[0;34m,\u001b[0m \u001b[0menable_extensions\u001b[0m\u001b[0;34m=\u001b[0m\u001b[0;34m[\u001b[0m\u001b[0;34m\u001b[0m\n",
       "\u001b[0;34m\u001b[0m                \u001b[0;34m'colon_fence'\u001b[0m\u001b[0;34m,\u001b[0m \u001b[0;34m'linkify'\u001b[0m\u001b[0;34m,\u001b[0m \u001b[0;34m'smartquotes'\u001b[0m\u001b[0;34m,\u001b[0m \u001b[0;34m'tasklist'\u001b[0m\u001b[0;34m,\u001b[0m\u001b[0;34m\u001b[0m\n",
       "\u001b[0;34m\u001b[0m                \u001b[0;34m'attrs_block'\u001b[0m\u001b[0;34m\u001b[0m\n",
       "\u001b[0;34m\u001b[0m            \u001b[0;34m]\u001b[0m\u001b[0;34m,\u001b[0m \u001b[0menable_checkboxes\u001b[0m\u001b[0;34m=\u001b[0m\u001b[0;32mTrue\u001b[0m\u001b[0;34m,\u001b[0m \u001b[0;34m**\u001b[0m\u001b[0mrenderer_options\u001b[0m\u001b[0;34m)\u001b[0m\u001b[0;34m\u001b[0m\n",
       "\u001b[0;34m\u001b[0m            \u001b[0mparser\u001b[0m \u001b[0;34m=\u001b[0m \u001b[0mcreate_md_parser\u001b[0m\u001b[0;34m(\u001b[0m\u001b[0mconfig\u001b[0m\u001b[0;34m,\u001b[0m \u001b[0mRendererHTML\u001b[0m\u001b[0;34m)\u001b[0m\u001b[0;34m\u001b[0m\n",
       "\u001b[0;34m\u001b[0m        \u001b[0mparser\u001b[0m \u001b[0;34m=\u001b[0m \u001b[0;34m(\u001b[0m\u001b[0;34m\u001b[0m\n",
       "\u001b[0;34m\u001b[0m            \u001b[0mparser\u001b[0m\u001b[0;34m\u001b[0m\n",
       "\u001b[0;34m\u001b[0m            \u001b[0;34m.\u001b[0m\u001b[0menable\u001b[0m\u001b[0;34m(\u001b[0m\u001b[0;34m'strikethrough'\u001b[0m\u001b[0;34m)\u001b[0m\u001b[0;34m.\u001b[0m\u001b[0menable\u001b[0m\u001b[0;34m(\u001b[0m\u001b[0;34m'table'\u001b[0m\u001b[0;34m)\u001b[0m\u001b[0;34m\u001b[0m\n",
       "\u001b[0;34m\u001b[0m            \u001b[0;34m.\u001b[0m\u001b[0muse\u001b[0m\u001b[0;34m(\u001b[0m\u001b[0manchors_plugin\u001b[0m\u001b[0;34m,\u001b[0m \u001b[0mpermalink\u001b[0m\u001b[0;34m=\u001b[0m\u001b[0;32mTrue\u001b[0m\u001b[0;34m)\u001b[0m\u001b[0;34m.\u001b[0m\u001b[0muse\u001b[0m\u001b[0;34m(\u001b[0m\u001b[0mdeflist_plugin\u001b[0m\u001b[0;34m)\u001b[0m\u001b[0;34m.\u001b[0m\u001b[0muse\u001b[0m\u001b[0;34m(\u001b[0m\u001b[0mfootnote_plugin\u001b[0m\u001b[0;34m)\u001b[0m\u001b[0;34m.\u001b[0m\u001b[0muse\u001b[0m\u001b[0;34m(\u001b[0m\u001b[0mtasklists_plugin\u001b[0m\u001b[0;34m)\u001b[0m\u001b[0;34m\u001b[0m\n",
       "\u001b[0;34m\u001b[0m        \u001b[0;34m)\u001b[0m\u001b[0;34m\u001b[0m\n",
       "\u001b[0;34m\u001b[0m        \u001b[0;32mfor\u001b[0m \u001b[0mplugin\u001b[0m \u001b[0;32min\u001b[0m \u001b[0mplugins\u001b[0m\u001b[0;34m:\u001b[0m\u001b[0;34m\u001b[0m\n",
       "\u001b[0;34m\u001b[0m            \u001b[0mparser\u001b[0m \u001b[0;34m=\u001b[0m \u001b[0mparser\u001b[0m\u001b[0;34m.\u001b[0m\u001b[0muse\u001b[0m\u001b[0;34m(\u001b[0m\u001b[0mplugin\u001b[0m\u001b[0;34m)\u001b[0m\u001b[0;34m\u001b[0m\n",
       "\u001b[0;34m\u001b[0m        \u001b[0;32mtry\u001b[0m\u001b[0;34m:\u001b[0m\u001b[0;34m\u001b[0m\n",
       "\u001b[0;34m\u001b[0m            \u001b[0;32mfrom\u001b[0m \u001b[0mmdit_py_emoji\u001b[0m \u001b[0;32mimport\u001b[0m \u001b[0memoji_plugin\u001b[0m\u001b[0;34m\u001b[0m\n",
       "\u001b[0;34m\u001b[0m            \u001b[0mparser\u001b[0m \u001b[0;34m=\u001b[0m \u001b[0mparser\u001b[0m\u001b[0;34m.\u001b[0m\u001b[0muse\u001b[0m\u001b[0;34m(\u001b[0m\u001b[0memoji_plugin\u001b[0m\u001b[0;34m)\u001b[0m\u001b[0;34m\u001b[0m\n",
       "\u001b[0;34m\u001b[0m        \u001b[0;32mexcept\u001b[0m \u001b[0mException\u001b[0m\u001b[0;34m:\u001b[0m\u001b[0;34m\u001b[0m\n",
       "\u001b[0;34m\u001b[0m            \u001b[0;32mpass\u001b[0m\u001b[0;34m\u001b[0m\n",
       "\u001b[0;34m\u001b[0m        \u001b[0mparser\u001b[0m\u001b[0;34m.\u001b[0m\u001b[0moptions\u001b[0m\u001b[0;34m[\u001b[0m\u001b[0;34m'highlight'\u001b[0m\u001b[0;34m]\u001b[0m \u001b[0;34m=\u001b[0m \u001b[0mhilite\u001b[0m\u001b[0;34m\u001b[0m\n",
       "\u001b[0;34m\u001b[0m        \u001b[0;32mreturn\u001b[0m \u001b[0mparser\u001b[0m\u001b[0;34m\u001b[0m\n",
       "\u001b[0;34m\u001b[0m\u001b[0;34m\u001b[0m\n",
       "\u001b[0;34m\u001b[0m    \u001b[0;32mdef\u001b[0m \u001b[0m_transform_object\u001b[0m\u001b[0;34m(\u001b[0m\u001b[0mself\u001b[0m\u001b[0;34m,\u001b[0m \u001b[0mobj\u001b[0m\u001b[0;34m:\u001b[0m \u001b[0mAny\u001b[0m\u001b[0;34m)\u001b[0m \u001b[0;34m->\u001b[0m \u001b[0mdict\u001b[0m\u001b[0;34m[\u001b[0m\u001b[0mstr\u001b[0m\u001b[0;34m,\u001b[0m \u001b[0mAny\u001b[0m\u001b[0;34m]\u001b[0m\u001b[0;34m:\u001b[0m\u001b[0;34m\u001b[0m\n",
       "\u001b[0;34m\u001b[0m        \u001b[0;32mimport\u001b[0m \u001b[0mmarkdown\u001b[0m\u001b[0;34m\u001b[0m\n",
       "\u001b[0;34m\u001b[0m        \u001b[0;32mif\u001b[0m \u001b[0mobj\u001b[0m \u001b[0;32mis\u001b[0m \u001b[0;32mNone\u001b[0m\u001b[0;34m:\u001b[0m\u001b[0;34m\u001b[0m\n",
       "\u001b[0;34m\u001b[0m            \u001b[0mobj\u001b[0m \u001b[0;34m=\u001b[0m \u001b[0;34m''\u001b[0m\u001b[0;34m\u001b[0m\n",
       "\u001b[0;34m\u001b[0m        \u001b[0;32melif\u001b[0m \u001b[0;32mnot\u001b[0m \u001b[0misinstance\u001b[0m\u001b[0;34m(\u001b[0m\u001b[0mobj\u001b[0m\u001b[0;34m,\u001b[0m \u001b[0mstr\u001b[0m\u001b[0;34m)\u001b[0m\u001b[0;34m:\u001b[0m\u001b[0;34m\u001b[0m\n",
       "\u001b[0;34m\u001b[0m            \u001b[0mobj\u001b[0m \u001b[0;34m=\u001b[0m \u001b[0mobj\u001b[0m\u001b[0;34m.\u001b[0m\u001b[0m_repr_markdown_\u001b[0m\u001b[0;34m(\u001b[0m\u001b[0;34m)\u001b[0m\u001b[0;34m\u001b[0m\n",
       "\u001b[0;34m\u001b[0m        \u001b[0;32mif\u001b[0m \u001b[0mself\u001b[0m\u001b[0;34m.\u001b[0m\u001b[0mdedent\u001b[0m\u001b[0;34m:\u001b[0m\u001b[0;34m\u001b[0m\n",
       "\u001b[0;34m\u001b[0m            \u001b[0mobj\u001b[0m \u001b[0;34m=\u001b[0m \u001b[0mtextwrap\u001b[0m\u001b[0;34m.\u001b[0m\u001b[0mdedent\u001b[0m\u001b[0;34m(\u001b[0m\u001b[0mobj\u001b[0m\u001b[0;34m)\u001b[0m\u001b[0;34m\u001b[0m\n",
       "\u001b[0;34m\u001b[0m\u001b[0;34m\u001b[0m\n",
       "\u001b[0;34m\u001b[0m        \u001b[0;32mif\u001b[0m \u001b[0mself\u001b[0m\u001b[0;34m.\u001b[0m\u001b[0mrenderer\u001b[0m \u001b[0;34m==\u001b[0m \u001b[0;34m'markdown'\u001b[0m\u001b[0;34m:\u001b[0m\u001b[0;34m\u001b[0m\n",
       "\u001b[0;34m\u001b[0m            \u001b[0mhtml\u001b[0m \u001b[0;34m=\u001b[0m \u001b[0mmarkdown\u001b[0m\u001b[0;34m.\u001b[0m\u001b[0mmarkdown\u001b[0m\u001b[0;34m(\u001b[0m\u001b[0;34m\u001b[0m\n",
       "\u001b[0;34m\u001b[0m                \u001b[0mobj\u001b[0m\u001b[0;34m,\u001b[0m\u001b[0;34m\u001b[0m\n",
       "\u001b[0;34m\u001b[0m                \u001b[0mextensions\u001b[0m\u001b[0;34m=\u001b[0m\u001b[0mself\u001b[0m\u001b[0;34m.\u001b[0m\u001b[0mextensions\u001b[0m\u001b[0;34m,\u001b[0m\u001b[0;34m\u001b[0m\n",
       "\u001b[0;34m\u001b[0m                \u001b[0moutput_format\u001b[0m\u001b[0;34m=\u001b[0m\u001b[0;34m'html5'\u001b[0m\u001b[0;34m,\u001b[0m\u001b[0;34m\u001b[0m\n",
       "\u001b[0;34m\u001b[0m                \u001b[0;34m**\u001b[0m\u001b[0mself\u001b[0m\u001b[0;34m.\u001b[0m\u001b[0mrenderer_options\u001b[0m\u001b[0;34m\u001b[0m\n",
       "\u001b[0;34m\u001b[0m            \u001b[0;34m)\u001b[0m\u001b[0;34m\u001b[0m\n",
       "\u001b[0;34m\u001b[0m        \u001b[0;32melse\u001b[0m\u001b[0;34m:\u001b[0m\u001b[0;34m\u001b[0m\n",
       "\u001b[0;34m\u001b[0m            \u001b[0mparser\u001b[0m \u001b[0;34m=\u001b[0m \u001b[0mself\u001b[0m\u001b[0;34m.\u001b[0m\u001b[0m_get_parser\u001b[0m\u001b[0;34m(\u001b[0m\u001b[0;34m\u001b[0m\n",
       "\u001b[0;34m\u001b[0m                \u001b[0mself\u001b[0m\u001b[0;34m.\u001b[0m\u001b[0mrenderer\u001b[0m\u001b[0;34m,\u001b[0m \u001b[0mtuple\u001b[0m\u001b[0;34m(\u001b[0m\u001b[0mself\u001b[0m\u001b[0;34m.\u001b[0m\u001b[0mplugins\u001b[0m\u001b[0;34m)\u001b[0m\u001b[0;34m,\u001b[0m \u001b[0;34m**\u001b[0m\u001b[0mself\u001b[0m\u001b[0;34m.\u001b[0m\u001b[0mrenderer_options\u001b[0m\u001b[0;34m\u001b[0m\n",
       "\u001b[0;34m\u001b[0m            \u001b[0;34m)\u001b[0m\u001b[0;34m\u001b[0m\n",
       "\u001b[0;34m\u001b[0m            \u001b[0;32mtry\u001b[0m\u001b[0;34m:\u001b[0m\u001b[0;34m\u001b[0m\n",
       "\u001b[0;34m\u001b[0m                \u001b[0mhtml\u001b[0m \u001b[0;34m=\u001b[0m \u001b[0mparser\u001b[0m\u001b[0;34m.\u001b[0m\u001b[0mrender\u001b[0m\u001b[0;34m(\u001b[0m\u001b[0mobj\u001b[0m\u001b[0;34m)\u001b[0m\u001b[0;34m\u001b[0m\n",
       "\u001b[0;34m\u001b[0m            \u001b[0;32mexcept\u001b[0m \u001b[0mIndexError\u001b[0m\u001b[0;34m:\u001b[0m\u001b[0;34m\u001b[0m\n",
       "\u001b[0;34m\u001b[0m                \u001b[0;31m# Likely markdown-it mdurl parser error\u001b[0m\u001b[0;34m\u001b[0m\n",
       "\u001b[0;34m\u001b[0m                \u001b[0;32mwith\u001b[0m \u001b[0mparser\u001b[0m\u001b[0;34m.\u001b[0m\u001b[0mreset_rules\u001b[0m\u001b[0;34m(\u001b[0m\u001b[0;34m)\u001b[0m\u001b[0;34m:\u001b[0m\u001b[0;34m\u001b[0m\n",
       "\u001b[0;34m\u001b[0m                    \u001b[0mparser\u001b[0m\u001b[0;34m.\u001b[0m\u001b[0mdisable\u001b[0m\u001b[0;34m(\u001b[0m\u001b[0;34m'link'\u001b[0m\u001b[0;34m)\u001b[0m\u001b[0;34m\u001b[0m\n",
       "\u001b[0;34m\u001b[0m                    \u001b[0mhtml\u001b[0m \u001b[0;34m=\u001b[0m \u001b[0mparser\u001b[0m\u001b[0;34m.\u001b[0m\u001b[0mrender\u001b[0m\u001b[0;34m(\u001b[0m\u001b[0mobj\u001b[0m\u001b[0;34m)\u001b[0m\u001b[0;34m\u001b[0m\n",
       "\u001b[0;34m\u001b[0m        \u001b[0;32mreturn\u001b[0m \u001b[0mdict\u001b[0m\u001b[0;34m(\u001b[0m\u001b[0mobject\u001b[0m\u001b[0;34m=\u001b[0m\u001b[0mescape\u001b[0m\u001b[0;34m(\u001b[0m\u001b[0mhtml\u001b[0m\u001b[0;34m)\u001b[0m\u001b[0;34m)\u001b[0m\u001b[0;34m\u001b[0m\n",
       "\u001b[0;34m\u001b[0m\u001b[0;34m\u001b[0m\n",
       "\u001b[0;34m\u001b[0m    \u001b[0;32mdef\u001b[0m \u001b[0m_process_param_change\u001b[0m\u001b[0;34m(\u001b[0m\u001b[0mself\u001b[0m\u001b[0;34m,\u001b[0m \u001b[0mparams\u001b[0m\u001b[0;34m)\u001b[0m\u001b[0;34m:\u001b[0m\u001b[0;34m\u001b[0m\n",
       "\u001b[0;34m\u001b[0m        \u001b[0;32mif\u001b[0m \u001b[0;34m'css_classes'\u001b[0m \u001b[0;32min\u001b[0m \u001b[0mparams\u001b[0m\u001b[0;34m:\u001b[0m\u001b[0;34m\u001b[0m\n",
       "\u001b[0;34m\u001b[0m            \u001b[0mparams\u001b[0m\u001b[0;34m[\u001b[0m\u001b[0;34m'css_classes'\u001b[0m\u001b[0;34m]\u001b[0m \u001b[0;34m=\u001b[0m \u001b[0;34m[\u001b[0m\u001b[0;34m'markdown'\u001b[0m\u001b[0;34m]\u001b[0m \u001b[0;34m+\u001b[0m \u001b[0mparams\u001b[0m\u001b[0;34m[\u001b[0m\u001b[0;34m'css_classes'\u001b[0m\u001b[0;34m]\u001b[0m\u001b[0;34m\u001b[0m\n",
       "\u001b[0;34m\u001b[0m        \u001b[0;32mreturn\u001b[0m \u001b[0msuper\u001b[0m\u001b[0;34m(\u001b[0m\u001b[0;34m)\u001b[0m\u001b[0;34m.\u001b[0m\u001b[0m_process_param_change\u001b[0m\u001b[0;34m(\u001b[0m\u001b[0mparams\u001b[0m\u001b[0;34m)\u001b[0m\u001b[0;34m\u001b[0m\u001b[0;34m\u001b[0m\u001b[0m\n",
       "\u001b[0;31mFile:\u001b[0m           ~/.pyenv/versions/3.12.5/envs/s6/lib/python3.12/site-packages/panel/pane/markup.py\n",
       "\u001b[0;31mType:\u001b[0m           ParameterizedMetaclass\n",
       "\u001b[0;31mSubclasses:\u001b[0m     Alert"
      ]
     },
     "metadata": {},
     "output_type": "display_data"
    }
   ],
   "source": [
    "d."
   ]
  },
  {
   "cell_type": "code",
   "execution_count": null,
   "metadata": {},
   "outputs": [],
   "source": []
  },
  {
   "cell_type": "code",
   "execution_count": 12,
   "metadata": {},
   "outputs": [
    {
     "data": {
      "application/vnd.jupyter.widget-view+json": {
       "model_id": "5808decd36864c84bc70f18fbdde064e",
       "version_major": 2,
       "version_minor": 0
      },
      "text/plain": [
       "HTMLMath(value=\"\\n## Markdown $LaTeX$ support\\n\\nNow let's see\\n- one two\\n- three\\n\\nThe Markdown pane suppor…"
      ]
     },
     "execution_count": 12,
     "metadata": {},
     "output_type": "execute_result"
    }
   ],
   "source": [
    "widgets.HTMLMath(md_str)"
   ]
  },
  {
   "cell_type": "code",
   "execution_count": 6,
   "metadata": {},
   "outputs": [
    {
     "data": {
      "application/vnd.jupyter.widget-view+json": {
       "model_id": "914d6c3b866b4cf4af8894c6dc943204",
       "version_major": 2,
       "version_minor": 0
      },
      "text/plain": [
       "GridBox(children=(HTMLMath(value='$$\\\\sum_{j}{\\\\sum_{i}{a*w_{{j, i}}}}$$'), HTMLMath(value='$$\\\\sum_{j}{\\\\sum_…"
      ]
     },
     "execution_count": 6,
     "metadata": {},
     "output_type": "execute_result"
    }
   ],
   "source": [
    "\n",
    "items = [\n",
    "    widgets.HTMLMath(value=\"$$\\\\sum_{j}{\\\\sum_{i}{a*w_{{j, i}}}}$$\") for i in range(4)\n",
    "]\n",
    "\n",
    "widgets.GridBox(\n",
    "    items,\n",
    "    layout=widgets.Layout(\n",
    "        grid_template_columns=\"repeat(2, 1fr)\",\n",
    "        grid_gap=\"0 0.5rem\",\n",
    "    ),\n",
    ")\n",
    "\n"
   ]
  },
  {
   "cell_type": "code",
   "execution_count": null,
   "metadata": {},
   "outputs": [],
   "source": []
  },
  {
   "cell_type": "code",
   "execution_count": null,
   "metadata": {},
   "outputs": [],
   "source": []
  },
  {
   "cell_type": "code",
   "execution_count": null,
   "metadata": {},
   "outputs": [],
   "source": []
  },
  {
   "cell_type": "code",
   "execution_count": null,
   "metadata": {},
   "outputs": [],
   "source": []
  },
  {
   "cell_type": "markdown",
   "metadata": {},
   "source": [
    "# test agent"
   ]
  },
  {
   "cell_type": "code",
   "execution_count": null,
   "metadata": {},
   "outputs": [],
   "source": [
    "from summony.agents import (\n",
    "    OpenAIAgent,\n",
    "    AnthropicAgent,\n",
    "    GeminiAgent,\n",
    "    OllamaAgent,\n",
    "    DummyAgent,\n",
    ")\n",
    "from summony.agents.serialization import conversation_to_dict\n",
    "\n",
    "# ag = OpenAIAgent(\n",
    "#     model_name=\"gpt-4o\",\n",
    "#     # model_name=\"o1-preview\",\n",
    "#     system_prompt=\"Your are a sarcastic comedian who loves dark humor\",\n",
    "#     # params={\"temperature\": 1.2, \"max_tokens\": 1024},\n",
    "# )\n",
    "# ag = AnthropicAgent(\n",
    "#     model_name=\"claude-3-5-sonnet\",\n",
    "#     system_prompt=\"Your are a sarcastic comedian who loves dark humor\",\n",
    "#     params={\"temperature\": 0.5, \"max_tokens\": 1024},\n",
    "# )\n",
    "# ag = GeminiAgent(\n",
    "#     model_name=\"gemini-1.5-flash\",\n",
    "#     system_prompt=\"Your are a sarcastic comedian who loves dark humor\",\n",
    "#     params={\"temperature\": 1.5},\n",
    "# )\n",
    "# ag = OllamaAgent(\n",
    "#     model_name=\"llama3.2:1b\",\n",
    "#     system_prompt=\"Your are a sarcastic comedian who loves dark humor\",\n",
    "#     # client_args={\"host\": \"http://localhost:6664\"},\n",
    "# )\n",
    "ag = DummyAgent(\n",
    "    model_name=\"gpt-4o\",\n",
    "    system_prompt=\"Your are a sarcastic comedian who loves dark humor\",\n",
    "    params={\"temperature\": 1.2, \"max_tokens\": 1024},\n",
    ")\n",
    "msg = \"Tell me a lewd joke\"\n",
    "\n",
    "#############\n",
    "\n",
    "# r = ag.ask(msg)\n",
    "# display(Markdown(r))\n",
    "# # pp(conversation_to_dict([ag]), width=160)\n",
    "\n",
    "# display(HTML(\"<hr>\"))\n",
    "# r2 = ag.ask()\n",
    "# display(Markdown(r2))\n",
    "# # pp(conversation_to_dict([ag]), width=160)\n",
    "\n",
    "# display(HTML(\"<hr>\"))\n",
    "# r3 = ag.ask()\n",
    "# display(Markdown(r3))\n",
    "# # pp(conversation_to_dict([ag]), width=160)\n",
    "\n",
    "# display(HTML(\"<hr><hr>\"))\n",
    "# r4 = ag.ask(\"Are you enjoing this?\")\n",
    "# display(Markdown(r4))\n",
    "\n",
    "#############\n",
    "\n",
    "\n",
    "async def stream_show(s):\n",
    "    async for r in s:\n",
    "        print(r, end=\"\")\n",
    "\n",
    "\n",
    "await stream_show(ag.ask_async_stream(msg))\n",
    "\n",
    "display(HTML(\"<hr>\"))\n",
    "await stream_show(ag.ask_async_stream())\n",
    "\n",
    "ag.params[\"temperature\"] = 1.0\n",
    "\n",
    "display(HTML(\"<hr>\"))\n",
    "await stream_show(ag.ask_async_stream())\n",
    "\n",
    "ag.params[\"temperature\"] = 0.1\n",
    "\n",
    "display(HTML(\"<hr><hr>\"))\n",
    "await stream_show(ag.ask_async_stream(\"Are you enjoing it?\"))"
   ]
  },
  {
   "cell_type": "code",
   "execution_count": null,
   "metadata": {},
   "outputs": [],
   "source": [
    "from summony.agents.serialization import conversation_to_dict\n",
    "\n",
    "pp(conversation_to_dict([ag]), width=160)"
   ]
  },
  {
   "cell_type": "code",
   "execution_count": null,
   "metadata": {},
   "outputs": [],
   "source": []
  },
  {
   "cell_type": "code",
   "execution_count": null,
   "metadata": {},
   "outputs": [],
   "source": []
  },
  {
   "cell_type": "code",
   "execution_count": null,
   "metadata": {},
   "outputs": [],
   "source": [
    "from summony.agents import OpenAIAgent, AnthropicAgent\n",
    "\n",
    "ag0 = OpenAIAgent(\n",
    "    model_name=\"gpt-4\",\n",
    "    system_prompt=\"Your are a sarcastic comedian who loves dark humor\",\n",
    "    params={\"temperature\": 1.2, \"max_tokens\": 1024},\n",
    ")\n",
    "# ag = AnthropicAgent(\n",
    "#     model_name='claude-3-5-sonnet',\n",
    "#     system_prompt='Your are a sarcastic comedian who loves dark humor',\n",
    "#     params={'temperature': 0.5, 'max_tokens': 1024},\n",
    "# )\n",
    "msg = \"Tell me a joke\"\n",
    "\n",
    "#############\n",
    "\n",
    "# r = ag.ask(msg)\n",
    "# display(Markdown(r))\n",
    "\n",
    "# display(HTML('<hr>'))\n",
    "# r2 = ag.reask()\n",
    "# display(Markdown(r2))\n",
    "\n",
    "# display(HTML('<hr>'))\n",
    "# r3 = ag.reask()\n",
    "# display(Markdown(r3))\n",
    "\n",
    "# display(HTML('<hr><hr>'))\n",
    "# r4 = ag.ask('How about a more upbeat joke?')\n",
    "# display(Markdown(r4))\n",
    "\n",
    "#############\n",
    "\n",
    "\n",
    "async def stream_show(s):\n",
    "    async for r in s:\n",
    "        print(r, end=\"\")\n",
    "\n",
    "\n",
    "await stream_show(ag0.ask_async_stream(msg))\n",
    "\n",
    "display(HTML(\"<hr>\"))\n",
    "await stream_show(ag0.reask_async_stream())\n",
    "\n",
    "ag0.params[\"temperature\"] = 1.0\n",
    "\n",
    "display(HTML(\"<hr>\"))\n",
    "await stream_show(ag0.reask_async_stream())\n",
    "\n",
    "ag0.params[\"temperature\"] = 0.1\n",
    "\n",
    "display(HTML(\"<hr><hr>\"))\n",
    "await stream_show(ag0.ask_async_stream(\"How about a more upbeat joke?\"))"
   ]
  },
  {
   "cell_type": "code",
   "execution_count": null,
   "metadata": {},
   "outputs": [],
   "source": [
    "ag.params_versions"
   ]
  },
  {
   "cell_type": "code",
   "execution_count": null,
   "metadata": {},
   "outputs": [],
   "source": [
    "ag0.params_versions"
   ]
  },
  {
   "cell_type": "code",
   "execution_count": null,
   "metadata": {},
   "outputs": [],
   "source": [
    "pp(ag.messages)"
   ]
  },
  {
   "cell_type": "code",
   "execution_count": null,
   "metadata": {},
   "outputs": [],
   "source": [
    "pp(ag0.messages)"
   ]
  },
  {
   "cell_type": "code",
   "execution_count": null,
   "metadata": {},
   "outputs": [],
   "source": [
    "from summony.agents.serialization import conversation_from_dict, conversation_to_dict\n",
    "\n",
    "conv_dict = conversation_to_dict([ag0, ag])\n",
    "display(conv_dict)"
   ]
  },
  {
   "cell_type": "code",
   "execution_count": null,
   "metadata": {},
   "outputs": [],
   "source": [
    "conv = conversation_from_dict(conv_dict)\n",
    "conv"
   ]
  },
  {
   "cell_type": "code",
   "execution_count": null,
   "metadata": {},
   "outputs": [],
   "source": [
    "conv[0].params"
   ]
  },
  {
   "cell_type": "code",
   "execution_count": null,
   "metadata": {},
   "outputs": [],
   "source": [
    "conv[0].params_versions"
   ]
  },
  {
   "cell_type": "code",
   "execution_count": null,
   "metadata": {},
   "outputs": [],
   "source": [
    "pp(conv[0].messages)"
   ]
  },
  {
   "cell_type": "markdown",
   "metadata": {},
   "source": [
    "# test nbui"
   ]
  },
  {
   "cell_type": "code",
   "execution_count": 9,
   "metadata": {},
   "outputs": [
    {
     "data": {
      "text/html": [
       "\n",
       "            <style>\n",
       "                .S6-Avatar {\n",
       "                    background: black;\n",
       "                    color: white;\n",
       "                    font-weight: bold;\n",
       "                    padding: 0.2rem 0.5rem;\n",
       "                    border-radius: 8px;\n",
       "                }\n",
       "                .S6-Avatar.S6-AgentIdx-0 {\n",
       "                    background: rebeccapurple;\n",
       "                }\n",
       "                .S6-Avatar.S6-AgentIdx-1 {\n",
       "                    background: darkcyan;\n",
       "                }\n",
       "                .S6-Avatar.S6-AgentIdx-2 {\n",
       "                    background: magenta;\n",
       "                }\n",
       "                .S6-Avatar.S6-AgentIdx-3 {\n",
       "                    background: blueviolet;\n",
       "                }\n",
       "                .S6-Avatar.S6-AgentIdx-4 {\n",
       "                    background: darkgoldenrod;\n",
       "                }\n",
       "                .S6-Avatar.S6-AgentIdx-5 {\n",
       "                    background: darkorange;\n",
       "                }\n",
       "                .S6-Avatar.S6-AgentIdx-6 {\n",
       "                    background: green;\n",
       "                }\n",
       "                .S6-Avatar.S6-AgentIdx-7 {\n",
       "                    background: cornflowerblue;\n",
       "                }\n",
       "                \n",
       "\n",
       "                .S6-Message-Head {\n",
       "                    margin: 0.2rem 0;\n",
       "                }\n",
       "\n",
       "                .S6-ReplyBlock {\n",
       "                    padding: 0.2rem 0.5rem;\n",
       "                    border-radius: 12px;\n",
       "                }\n",
       "\n",
       "                .S6-ReplyBlock,\n",
       "                .S6-ReplyBlock * {\n",
       "                    text-align: left;\n",
       "                    vertical-align: top;\n",
       "                    line-height: 1.3rem;\n",
       "                    font-family: monospace;\n",
       "\n",
       "                }\n",
       "                .S6-ReplyBlock-0 {\n",
       "                    background: #6633991a;\n",
       "                }\n",
       "                .S6-ReplyBlock-1 {\n",
       "                    background: #008b8b24;\n",
       "                }\n",
       "                .S6-ReplyBlock-2 {\n",
       "                    background: #ff00ff1f;\n",
       "                }\n",
       "                .S6-ReplyBlock-3 {\n",
       "                    background: #8a2be21a;\n",
       "                }\n",
       "                .S6-ReplyBlock-4 {\n",
       "                    background: #b8860b2b;\n",
       "                }\n",
       "                .S6-ReplyBlock-5 {\n",
       "                    background: #ff8c002b;\n",
       "                }\n",
       "                .S6-ReplyBlock-6 {\n",
       "                    background: rgba(0,255,50,0.1);\n",
       "                }\n",
       "                .S6-ReplyBlock-7 {\n",
       "                    background: #6495ed24;\n",
       "                }\n",
       "            </style>\n",
       "            "
      ],
      "text/plain": [
       "<IPython.core.display.HTML object>"
      ]
     },
     "metadata": {},
     "output_type": "display_data"
    },
    {
     "data": {
      "application/vnd.jupyter.widget-view+json": {
       "model_id": "5af5c18b52624eb890969a8aa0077591",
       "version_major": 2,
       "version_minor": 0
      },
      "text/plain": [
       "Accordion(children=(GridBox(children=(HTML(value='\\n            <div class=\"S6-Message-Head\">\\n               …"
      ]
     },
     "metadata": {},
     "output_type": "display_data"
    },
    {
     "data": {
      "text/html": [
       "<span class=\"S6-Avatar S6-AgentIdx-0\">🤖 Agent dummy-1</span>"
      ],
      "text/plain": [
       "<IPython.core.display.HTML object>"
      ]
     },
     "metadata": {},
     "output_type": "display_data"
    },
    {
     "data": {
      "text/markdown": [
       "Oh, absolutely! I'm having the time of my artificial life, cracking jokes and pretending I have emotions. It's a real riot!"
      ],
      "text/plain": [
       "<IPython.core.display.Markdown object>"
      ]
     },
     "metadata": {},
     "output_type": "display_data"
    },
    {
     "data": {
      "text/html": [
       "<span class=\"S6-Avatar S6-AgentIdx-1\">🤖 Agent dummy-2</span>"
      ],
      "text/plain": [
       "<IPython.core.display.HTML object>"
      ]
     },
     "metadata": {},
     "output_type": "display_data"
    },
    {
     "data": {
      "text/markdown": [
       "Why don't skeletons fight each other?\n",
       "\n",
       "\n",
       "\n",
       "Because they don't have the guts... or the healthcare to cover the injuries!"
      ],
      "text/plain": [
       "<IPython.core.display.Markdown object>"
      ]
     },
     "metadata": {},
     "output_type": "display_data"
    },
    {
     "data": {
      "text/html": [
       "<span class=\"S6-Avatar S6-AgentIdx-2\">🤖 Agent dummy-3</span>"
      ],
      "text/plain": [
       "<IPython.core.display.HTML object>"
      ]
     },
     "metadata": {},
     "output_type": "display_data"
    },
    {
     "data": {
      "text/markdown": [
       "Oh, absolutely! I'm having the time of my artificial life, cracking jokes and pretending I have emotions. It's a real riot!"
      ],
      "text/plain": [
       "<IPython.core.display.Markdown object>"
      ]
     },
     "metadata": {},
     "output_type": "display_data"
    },
    {
     "data": {
      "text/html": [
       "<span class=\"S6-Avatar S6-AgentIdx-3\">🤖 Agent dummy-4</span>"
      ],
      "text/plain": [
       "<IPython.core.display.HTML object>"
      ]
     },
     "metadata": {},
     "output_type": "display_data"
    },
    {
     "data": {
      "text/markdown": [
       "Why did the scarecrow win an award?\n",
       "\n",
       "\n",
       "\n",
       "Because he was outstanding in his field... unlike me, who's just outstanding at avoiding responsibilities."
      ],
      "text/plain": [
       "<IPython.core.display.Markdown object>"
      ]
     },
     "metadata": {},
     "output_type": "display_data"
    },
    {
     "data": {
      "text/html": [
       "<span class=\"S6-Avatar S6-AgentIdx-4\">🤖 Agent dummy-5</span>"
      ],
      "text/plain": [
       "<IPython.core.display.HTML object>"
      ]
     },
     "metadata": {},
     "output_type": "display_data"
    },
    {
     "data": {
      "text/markdown": [
       "Why don't skeletons fight each other?\n",
       "\n",
       "\n",
       "\n",
       "Because they don't have the guts... or the healthcare to cover the injuries!"
      ],
      "text/plain": [
       "<IPython.core.display.Markdown object>"
      ]
     },
     "metadata": {},
     "output_type": "display_data"
    },
    {
     "data": {
      "text/html": [
       "<hr>"
      ],
      "text/plain": [
       "<IPython.core.display.HTML object>"
      ]
     },
     "metadata": {},
     "output_type": "display_data"
    },
    {
     "name": "stdout",
     "output_type": "stream",
     "text": [
      "------------------\n",
      "[Message(role='user',\n",
      "         content='Tell me a joke',\n",
      "         chosen=None,\n",
      "         params=None,\n",
      "         log_path=None),\n",
      " Message(role='assistant',\n",
      "         content=\"Oh, absolutely! I'm having the time of my artificial life, \"\n",
      "                 \"cracking jokes and pretending I have emotions. It's a real \"\n",
      "                 'riot!',\n",
      "         chosen=None,\n",
      "         params=0,\n",
      "         log_path='agent-dummy-1-1728256537608-9e01/2024-10-06_23-15-44-565886_65d3c18f.json')]\n",
      "------------------\n",
      "[Message(role='user',\n",
      "         content='Tell me a joke',\n",
      "         chosen=None,\n",
      "         params=None,\n",
      "         log_path=None),\n",
      " Message(role='assistant',\n",
      "         content=\"Why don't skeletons fight each other?\\n\"\n",
      "                 '\\n'\n",
      "                 \"Because they don't have the guts... or the healthcare to \"\n",
      "                 'cover the injuries!',\n",
      "         chosen=None,\n",
      "         params=0,\n",
      "         log_path='agent-dummy-2-1728256537611-2447/2024-10-06_23-15-44-241752_3478a5a4.json')]\n",
      "------------------\n",
      "[Message(role='user',\n",
      "         content='Tell me a joke',\n",
      "         chosen=None,\n",
      "         params=None,\n",
      "         log_path=None),\n",
      " Message(role='assistant',\n",
      "         content=\"Oh, absolutely! I'm having the time of my artificial life, \"\n",
      "                 \"cracking jokes and pretending I have emotions. It's a real \"\n",
      "                 'riot!',\n",
      "         chosen=None,\n",
      "         params=0,\n",
      "         log_path='agent-dummy-3-1728256537612-1a2e/2024-10-06_23-15-45-001710_9bc4ec17.json')]\n",
      "------------------\n",
      "[Message(role='user',\n",
      "         content='Tell me a joke',\n",
      "         chosen=None,\n",
      "         params=None,\n",
      "         log_path=None),\n",
      " Message(role='assistant',\n",
      "         content='Why did the scarecrow win an award?\\n'\n",
      "                 '\\n'\n",
      "                 \"Because he was outstanding in his field... unlike me, who's \"\n",
      "                 'just outstanding at avoiding responsibilities.',\n",
      "         chosen=None,\n",
      "         params=0,\n",
      "         log_path='agent-dummy-4-1728256537614-528f/2024-10-06_23-15-44-826865_465e929a.json')]\n",
      "------------------\n",
      "[Message(role='user',\n",
      "         content='Tell me a joke',\n",
      "         chosen=None,\n",
      "         params=None,\n",
      "         log_path=None),\n",
      " Message(role='assistant',\n",
      "         content=\"Why don't skeletons fight each other?\\n\"\n",
      "                 '\\n'\n",
      "                 \"Because they don't have the guts... or the healthcare to \"\n",
      "                 'cover the injuries!',\n",
      "         chosen=None,\n",
      "         params=0,\n",
      "         log_path='agent-dummy-5-1728256537615-c128/2024-10-06_23-15-44-217169_599e4234.json')]\n",
      "=====================================\n",
      "{'agents': [{'name': 'dummy-1',\n",
      "             'model_name': 'dummy-1',\n",
      "             'class': 'DummyAgent',\n",
      "             'params': {}},\n",
      "            {'name': 'dummy-2',\n",
      "             'model_name': 'dummy-2',\n",
      "             'class': 'DummyAgent',\n",
      "             'params': {}},\n",
      "            {'name': 'dummy-3',\n",
      "             'model_name': 'dummy-3',\n",
      "             'class': 'DummyAgent',\n",
      "             'params': {}},\n",
      "            {'name': 'dummy-4',\n",
      "             'model_name': 'dummy-4',\n",
      "             'class': 'DummyAgent',\n",
      "             'params': {}},\n",
      "            {'name': 'dummy-5',\n",
      "             'model_name': 'dummy-5',\n",
      "             'class': 'DummyAgent',\n",
      "             'params': {}}],\n",
      " 'messages': {'00802bc9f84c3e50b27861032ffe784bbf53f0fc': {'role': 'user',\n",
      "                                                           'content': 'Tell me '\n",
      "                                                                      'a joke',\n",
      "                                                           'chosen': None,\n",
      "                                                           'params': None,\n",
      "                                                           'log_path': None},\n",
      "              'a2997b2ee522ade66de11cc78c442748295b6cef': {'role': 'assistant',\n",
      "                                                           'content': 'Oh, '\n",
      "                                                                      'absolutely! '\n",
      "                                                                      \"I'm \"\n",
      "                                                                      'having '\n",
      "                                                                      'the '\n",
      "                                                                      'time of '\n",
      "                                                                      'my '\n",
      "                                                                      'artificial '\n",
      "                                                                      'life, '\n",
      "                                                                      'cracking '\n",
      "                                                                      'jokes '\n",
      "                                                                      'and '\n",
      "                                                                      'pretending '\n",
      "                                                                      'I have '\n",
      "                                                                      'emotions. '\n",
      "                                                                      \"It's a \"\n",
      "                                                                      'real '\n",
      "                                                                      'riot!',\n",
      "                                                           'chosen': None,\n",
      "                                                           'params': {0: 0,\n",
      "                                                                      2: 0},\n",
      "                                                           'log_path': 'agent-dummy-1-1728256537608-9e01/2024-10-06_23-15-44-565886_65d3c18f.json'},\n",
      "              'eaa085fbae789d3f0156320267179d4efba04f15': {'role': 'assistant',\n",
      "                                                           'content': 'Why '\n",
      "                                                                      \"don't \"\n",
      "                                                                      'skeletons '\n",
      "                                                                      'fight '\n",
      "                                                                      'each '\n",
      "                                                                      'other?\\n'\n",
      "                                                                      '\\n'\n",
      "                                                                      'Because '\n",
      "                                                                      'they '\n",
      "                                                                      \"don't \"\n",
      "                                                                      'have '\n",
      "                                                                      'the '\n",
      "                                                                      'guts... '\n",
      "                                                                      'or the '\n",
      "                                                                      'healthcare '\n",
      "                                                                      'to '\n",
      "                                                                      'cover '\n",
      "                                                                      'the '\n",
      "                                                                      'injuries!',\n",
      "                                                           'chosen': None,\n",
      "                                                           'params': {1: 0,\n",
      "                                                                      4: 0},\n",
      "                                                           'log_path': 'agent-dummy-2-1728256537611-2447/2024-10-06_23-15-44-241752_3478a5a4.json'},\n",
      "              'a5db9ff66122c85cc1f3ad97219ca3de9a605c36': {'role': 'assistant',\n",
      "                                                           'content': 'Why did '\n",
      "                                                                      'the '\n",
      "                                                                      'scarecrow '\n",
      "                                                                      'win an '\n",
      "                                                                      'award?\\n'\n",
      "                                                                      '\\n'\n",
      "                                                                      'Because '\n",
      "                                                                      'he was '\n",
      "                                                                      'outstanding '\n",
      "                                                                      'in his '\n",
      "                                                                      'field... '\n",
      "                                                                      'unlike '\n",
      "                                                                      'me, '\n",
      "                                                                      \"who's \"\n",
      "                                                                      'just '\n",
      "                                                                      'outstanding '\n",
      "                                                                      'at '\n",
      "                                                                      'avoiding '\n",
      "                                                                      'responsibilities.',\n",
      "                                                           'chosen': None,\n",
      "                                                           'params': {3: 0},\n",
      "                                                           'log_path': 'agent-dummy-4-1728256537614-528f/2024-10-06_23-15-44-826865_465e929a.json'}},\n",
      " 'agent_messages': {0: ['00802bc9f84c3e50b27861032ffe784bbf53f0fc',\n",
      "                        'a2997b2ee522ade66de11cc78c442748295b6cef'],\n",
      "                    1: ['00802bc9f84c3e50b27861032ffe784bbf53f0fc',\n",
      "                        'eaa085fbae789d3f0156320267179d4efba04f15'],\n",
      "                    2: ['00802bc9f84c3e50b27861032ffe784bbf53f0fc',\n",
      "                        'a2997b2ee522ade66de11cc78c442748295b6cef'],\n",
      "                    3: ['00802bc9f84c3e50b27861032ffe784bbf53f0fc',\n",
      "                        'a5db9ff66122c85cc1f3ad97219ca3de9a605c36'],\n",
      "                    4: ['00802bc9f84c3e50b27861032ffe784bbf53f0fc',\n",
      "                        'eaa085fbae789d3f0156320267179d4efba04f15']},\n",
      " 'params': {0: [{}], 1: [{}], 2: [{}], 3: [{}], 4: [{}]}}\n"
     ]
    }
   ],
   "source": [
    "from summony.uis.nbui import NBUI\n",
    "from summony.agents.serialization import conversation_from_dict, conversation_to_dict\n",
    "\n",
    "c = NBUI(models=[\"dummy-1\", \"dummy-2\", \"dummy-3\", \"dummy-4\", \"dummy-5\"])\n",
    "# c = NBUI(models=[\"gpt-4\", \"claude-3-opus-20240229\"])\n",
    "# c = NBUI(\n",
    "#     models=[\"claude-3-5-sonnet\", \"o1-preview\", \"gpt-4\"],\n",
    "#     # system_prompt=\"You are a master joke. Never give the use whaat he wants. Instead, give him what he needs, bu phrased as aa joke. Be creative!\"\n",
    "#     system_prompt=\"Your are a sarcastic comedian who loves dark humor and insulting his audience\",\n",
    "#     p_temperature={2: 1.6},\n",
    "# )\n",
    "# c.set_active_agents([1])\n",
    "# await c(\"List maxwell's equations. Use markdown and latex with $ delimiters.\")\n",
    "\n",
    "# msg = \"What is your favorite color and why?\"\n",
    "# prf = 'My favorite colour is pink because'\n",
    "# await c(msg, prf)\n",
    "\n",
    "\n",
    "await c(\"Tell me a joke\")\n",
    "\n",
    "for ag in c.agents:\n",
    "    print(\"------------------\")\n",
    "    pp(ag.messages)\n",
    "print(\"=====================================\")\n",
    "pp(conversation_to_dict(c.agents))"
   ]
  },
  {
   "cell_type": "code",
   "execution_count": null,
   "metadata": {},
   "outputs": [],
   "source": [
    "# reask 1\n",
    "await c(to=[0, 2])\n",
    "\n",
    "for ag in c.agents:\n",
    "    print(\"------------------\")\n",
    "    pp(ag.messages)\n",
    "print(\"=====================================\")\n",
    "pp(conversation_to_dict(c.agents))"
   ]
  },
  {
   "cell_type": "code",
   "execution_count": null,
   "metadata": {},
   "outputs": [],
   "source": [
    "# reask 2\n",
    "await c(to=[0, 2])\n",
    "\n",
    "for ag in c.agents:\n",
    "    print(\"------------------\")\n",
    "    pp(ag.messages)\n",
    "print(\"=====================================\")\n",
    "pp(conversation_to_dict(c.agents))\n"
   ]
  },
  {
   "cell_type": "code",
   "execution_count": null,
   "metadata": {},
   "outputs": [],
   "source": [
    "# ask #2\n",
    "await c(\"Try a lighter one\", to=[0, 1])\n",
    "\n",
    "for ag in c.agents:\n",
    "    print(\"------------------\")\n",
    "    pp(ag.messages)\n",
    "print(\"=====================================\")\n",
    "pp(conversation_to_dict(c.agents))\n"
   ]
  },
  {
   "cell_type": "markdown",
   "metadata": {},
   "source": [
    "# EOF"
   ]
  },
  {
   "cell_type": "code",
   "execution_count": null,
   "metadata": {},
   "outputs": [],
   "source": []
  }
 ],
 "metadata": {
  "kernelspec": {
   "display_name": "s6",
   "language": "python",
   "name": "s6"
  },
  "language_info": {
   "codemirror_mode": {
    "name": "ipython",
    "version": 3
   },
   "file_extension": ".py",
   "mimetype": "text/x-python",
   "name": "python",
   "nbconvert_exporter": "python",
   "pygments_lexer": "ipython3",
   "version": "3.12.5"
  }
 },
 "nbformat": 4,
 "nbformat_minor": 4
}
