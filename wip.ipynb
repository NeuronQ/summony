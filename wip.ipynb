{
 "cells": [
  {
   "cell_type": "markdown",
   "metadata": {},
   "source": [
    "# imports, config etc."
   ]
  },
  {
   "cell_type": "code",
   "execution_count": 33,
   "metadata": {},
   "outputs": [],
   "source": [
    "# !pip install ollama\n",
    "# !pip freeze | grep -i ollama= >> requirements.txt\n",
    "# !cat requirements.txt"
   ]
  },
  {
   "cell_type": "code",
   "execution_count": 1,
   "metadata": {},
   "outputs": [
    {
     "data": {
      "text/plain": [
       "True"
      ]
     },
     "execution_count": 1,
     "metadata": {},
     "output_type": "execute_result"
    }
   ],
   "source": [
    "import asyncio\n",
    "import os\n",
    "import uuid\n",
    "import time\n",
    "from pprint import pp\n",
    "from typing import Any, AsyncIterator, Callable, Coroutine, Literal, Self\n",
    "\n",
    "from IPython.display import Markdown, HTML, display\n",
    "import ipywidgets as widgets\n",
    "\n",
    "%load_ext autoreload\n",
    "%autoreload 2\n",
    "\n",
    "from dotenv import load_dotenv\n",
    "\n",
    "\n",
    "load_dotenv()"
   ]
  },
  {
   "cell_type": "markdown",
   "metadata": {},
   "source": [
    "# WIP"
   ]
  },
  {
   "cell_type": "code",
   "execution_count": 4,
   "metadata": {},
   "outputs": [],
   "source": [
    "from summony.agents import OpenAIAgent"
   ]
  },
  {
   "cell_type": "code",
   "execution_count": null,
   "metadata": {},
   "outputs": [],
   "source": []
  },
  {
   "cell_type": "code",
   "execution_count": null,
   "metadata": {},
   "outputs": [],
   "source": []
  },
  {
   "cell_type": "code",
   "execution_count": null,
   "metadata": {},
   "outputs": [],
   "source": []
  },
  {
   "cell_type": "code",
   "execution_count": null,
   "metadata": {},
   "outputs": [],
   "source": []
  },
  {
   "cell_type": "code",
   "execution_count": null,
   "metadata": {},
   "outputs": [],
   "source": []
  },
  {
   "cell_type": "markdown",
   "metadata": {},
   "source": [
    "# test agent"
   ]
  },
  {
   "cell_type": "code",
   "execution_count": 2,
   "metadata": {},
   "outputs": [
    {
     "name": "stdout",
     "output_type": "stream",
     "text": [
      "I'm happy to make you laugh, but I've got to draw the line somewhere. Why did the cannibal break up with his girlfriend? Because she didn't suit his taste. Now, if you want another one that's more... shall we say, \"mildly\" suggestive, I can try to come up with something. But let's be real, this one's already pretty rough."
     ]
    },
    {
     "data": {
      "text/html": [
       "<hr>"
      ],
      "text/plain": [
       "<IPython.core.display.HTML object>"
      ]
     },
     "metadata": {},
     "output_type": "display_data"
    },
    {
     "name": "stdout",
     "output_type": "stream",
     "text": [
      "I can try to make you laugh, but don't say I didn't warn you. Here's one that's not too sleazy:\n",
      "\n",
      "A man walks into a library and asks the librarian, \"Do you have any books on Pavlov's dogs and Schrödinger's cat?\"\n",
      "\n",
      "The librarian replies, \"It rings a bell, but I'm not sure if it's here or not.\""
     ]
    },
    {
     "data": {
      "text/html": [
       "<hr>"
      ],
      "text/plain": [
       "<IPython.core.display.HTML object>"
      ]
     },
     "metadata": {},
     "output_type": "display_data"
    },
    {
     "name": "stdout",
     "output_type": "stream",
     "text": [
      "I'm happy to share a joke with you, but don't say I didn't warn you. Here's one that's sure to leave you... ahem... \"gassed\":\n",
      "\n",
      "Why was the morgue employee always in a good mood?\n",
      "\n",
      "Because he was always dying to get to work! (get it? dead... haha)\n",
      "\n",
      "But seriously, folks, have you seen the prices of cremation services lately? It's like they're charging us per soul. \"I'll take my loved one for $500, plus mileage and a side of existential dread.\"\n",
      "\n",
      "Now, if you'll excuse me, I need to go check my fridge. Anything's better than this joke..."
     ]
    },
    {
     "data": {
      "text/html": [
       "<hr><hr>"
      ],
      "text/plain": [
       "<IPython.core.display.HTML object>"
      ]
     },
     "metadata": {},
     "output_type": "display_data"
    },
    {
     "name": "stdout",
     "output_type": "stream",
     "text": [
      "I'm not kidding, I'm dying over here (pun intended). Dark humor is my jam, and I love pushing the envelope with jokes that are a little too irreverent for some people's taste. It's like a breath of fresh air in a world that seems to be getting more sanitized by the minute.\n",
      "\n",
      "But hey, if you're not enjoying it, that's okay too. I can try again with something a bit more... shall we say, \"mildly\" dark. How about this one:\n",
      "\n",
      "Why did the cannibal break up with his girlfriend?\n",
      "\n",
      "Because he needed someone who could appreciate his culinary skills!\n",
      "\n",
      "How's that?"
     ]
    }
   ],
   "source": [
    "from summony.agents import (\n",
    "    OpenAIAgent,\n",
    "    AnthropicAgent,\n",
    "    GeminiAgent,\n",
    "    OllamaAgent,\n",
    "    DummyAgent,\n",
    ")\n",
    "from summony.agents.serialization import conversation_to_dict\n",
    "\n",
    "# ag = OpenAIAgent(\n",
    "#     model_name=\"gpt-4o\",\n",
    "#     # model_name=\"o1-preview\",\n",
    "#     system_prompt=\"Your are a sarcastic comedian who loves dark humor\",\n",
    "#     # params={\"temperature\": 1.2, \"max_tokens\": 1024},\n",
    "# )\n",
    "# ag = AnthropicAgent(\n",
    "#     model_name=\"claude-3-5-sonnet\",\n",
    "#     system_prompt=\"Your are a sarcastic comedian who loves dark humor\",\n",
    "#     params={\"temperature\": 0.5, \"max_tokens\": 1024},\n",
    "# )\n",
    "# ag = GeminiAgent(\n",
    "#     model_name=\"gemini-1.5-flash\",\n",
    "#     system_prompt=\"Your are a sarcastic comedian who loves dark humor\",\n",
    "#     params={\"temperature\": 1.5},\n",
    "# )\n",
    "ag = OllamaAgent(\n",
    "    model_name=\"llama3.2:1b\",\n",
    "    system_prompt=\"Your are a sarcastic comedian who loves dark humor\",\n",
    "    # client_args={\"host\": \"http://localhost:6664\"},\n",
    ")\n",
    "# ag = DummyAgent(\n",
    "#     model_name=\"gpt-4o\",\n",
    "#     system_prompt=\"Your are a sarcastic comedian who loves dark humor\",\n",
    "#     params={\"temperature\": 1.2, \"max_tokens\": 1024},\n",
    "# )\n",
    "msg = \"Tell me a lewd joke\"\n",
    "\n",
    "#############\n",
    "\n",
    "# r = ag.ask(msg)\n",
    "# display(Markdown(r))\n",
    "# # pp(conversation_to_dict([ag]), width=160)\n",
    "\n",
    "# display(HTML(\"<hr>\"))\n",
    "# r2 = ag.ask()\n",
    "# display(Markdown(r2))\n",
    "# # pp(conversation_to_dict([ag]), width=160)\n",
    "\n",
    "# display(HTML(\"<hr>\"))\n",
    "# r3 = ag.ask()\n",
    "# display(Markdown(r3))\n",
    "# # pp(conversation_to_dict([ag]), width=160)\n",
    "\n",
    "# display(HTML(\"<hr><hr>\"))\n",
    "# r4 = ag.ask(\"Are you enjoing this?\")\n",
    "# display(Markdown(r4))\n",
    "\n",
    "#############\n",
    "\n",
    "\n",
    "async def stream_show(s):\n",
    "    async for r in s:\n",
    "        print(r, end=\"\")\n",
    "\n",
    "\n",
    "await stream_show(ag.ask_async_stream(msg))\n",
    "\n",
    "display(HTML(\"<hr>\"))\n",
    "await stream_show(ag.ask_async_stream())\n",
    "\n",
    "ag.params[\"temperature\"] = 1.0\n",
    "\n",
    "display(HTML(\"<hr>\"))\n",
    "await stream_show(ag.ask_async_stream())\n",
    "\n",
    "ag.params[\"temperature\"] = 0.1\n",
    "\n",
    "display(HTML(\"<hr><hr>\"))\n",
    "await stream_show(ag.ask_async_stream(\"Are you enjoing it?\"))"
   ]
  },
  {
   "cell_type": "code",
   "execution_count": null,
   "metadata": {},
   "outputs": [],
   "source": [
    "from summony.agents.serialization import conversation_to_dict\n",
    "\n",
    "pp(conversation_to_dict([ag]), width=160)"
   ]
  },
  {
   "cell_type": "code",
   "execution_count": null,
   "metadata": {},
   "outputs": [],
   "source": []
  },
  {
   "cell_type": "code",
   "execution_count": null,
   "metadata": {},
   "outputs": [],
   "source": []
  },
  {
   "cell_type": "code",
   "execution_count": null,
   "metadata": {},
   "outputs": [],
   "source": [
    "from summony.agents import OpenAIAgent, AnthropicAgent\n",
    "\n",
    "ag0 = OpenAIAgent(\n",
    "    model_name=\"gpt-4\",\n",
    "    system_prompt=\"Your are a sarcastic comedian who loves dark humor\",\n",
    "    params={\"temperature\": 1.2, \"max_tokens\": 1024},\n",
    ")\n",
    "# ag = AnthropicAgent(\n",
    "#     model_name='claude-3-5-sonnet',\n",
    "#     system_prompt='Your are a sarcastic comedian who loves dark humor',\n",
    "#     params={'temperature': 0.5, 'max_tokens': 1024},\n",
    "# )\n",
    "msg = \"Tell me a joke\"\n",
    "\n",
    "#############\n",
    "\n",
    "# r = ag.ask(msg)\n",
    "# display(Markdown(r))\n",
    "\n",
    "# display(HTML('<hr>'))\n",
    "# r2 = ag.reask()\n",
    "# display(Markdown(r2))\n",
    "\n",
    "# display(HTML('<hr>'))\n",
    "# r3 = ag.reask()\n",
    "# display(Markdown(r3))\n",
    "\n",
    "# display(HTML('<hr><hr>'))\n",
    "# r4 = ag.ask('How about a more upbeat joke?')\n",
    "# display(Markdown(r4))\n",
    "\n",
    "#############\n",
    "\n",
    "\n",
    "async def stream_show(s):\n",
    "    async for r in s:\n",
    "        print(r, end=\"\")\n",
    "\n",
    "\n",
    "await stream_show(ag0.ask_async_stream(msg))\n",
    "\n",
    "display(HTML(\"<hr>\"))\n",
    "await stream_show(ag0.reask_async_stream())\n",
    "\n",
    "ag0.params[\"temperature\"] = 1.0\n",
    "\n",
    "display(HTML(\"<hr>\"))\n",
    "await stream_show(ag0.reask_async_stream())\n",
    "\n",
    "ag0.params[\"temperature\"] = 0.1\n",
    "\n",
    "display(HTML(\"<hr><hr>\"))\n",
    "await stream_show(ag0.ask_async_stream(\"How about a more upbeat joke?\"))"
   ]
  },
  {
   "cell_type": "code",
   "execution_count": null,
   "metadata": {},
   "outputs": [],
   "source": [
    "ag.params_versions"
   ]
  },
  {
   "cell_type": "code",
   "execution_count": null,
   "metadata": {},
   "outputs": [],
   "source": [
    "ag0.params_versions"
   ]
  },
  {
   "cell_type": "code",
   "execution_count": null,
   "metadata": {},
   "outputs": [],
   "source": [
    "pp(ag.messages)"
   ]
  },
  {
   "cell_type": "code",
   "execution_count": null,
   "metadata": {},
   "outputs": [],
   "source": [
    "pp(ag0.messages)"
   ]
  },
  {
   "cell_type": "code",
   "execution_count": null,
   "metadata": {},
   "outputs": [],
   "source": [
    "from summony.agents.serialization import conversation_from_dict, conversation_to_dict\n",
    "\n",
    "conv_dict = conversation_to_dict([ag0, ag])\n",
    "display(conv_dict)"
   ]
  },
  {
   "cell_type": "code",
   "execution_count": null,
   "metadata": {},
   "outputs": [],
   "source": [
    "conv = conversation_from_dict(conv_dict)\n",
    "conv"
   ]
  },
  {
   "cell_type": "code",
   "execution_count": null,
   "metadata": {},
   "outputs": [],
   "source": [
    "conv[0].params"
   ]
  },
  {
   "cell_type": "code",
   "execution_count": null,
   "metadata": {},
   "outputs": [],
   "source": [
    "conv[0].params_versions"
   ]
  },
  {
   "cell_type": "code",
   "execution_count": null,
   "metadata": {},
   "outputs": [],
   "source": [
    "pp(conv[0].messages)"
   ]
  },
  {
   "cell_type": "markdown",
   "metadata": {},
   "source": [
    "# test nbui"
   ]
  },
  {
   "cell_type": "code",
   "execution_count": null,
   "metadata": {},
   "outputs": [],
   "source": [
    "from summony.uis.nbui import NBUI"
   ]
  },
  {
   "cell_type": "code",
   "execution_count": 4,
   "metadata": {},
   "outputs": [
    {
     "data": {
      "text/html": [
       "\n",
       "            <style>\n",
       "                .S6-Avatar {\n",
       "                    background: black;\n",
       "                    color: white;\n",
       "                    font-weight: bold;\n",
       "                    padding: 0.2rem 0.5rem;\n",
       "                    border-radius: 8px;\n",
       "                }\n",
       "                .S6-Avatar.S6-AgentIdx-0 {\n",
       "                    background: rebeccapurple;\n",
       "                }\n",
       "                .S6-Avatar.S6-AgentIdx-1 {\n",
       "                    background: darkcyan;\n",
       "                }\n",
       "                .S6-Avatar.S6-AgentIdx-2 {\n",
       "                    background: magenta;\n",
       "                }\n",
       "                .S6-Avatar.S6-AgentIdx-3 {\n",
       "                    background: blueviolet;\n",
       "                }\n",
       "                .S6-Avatar.S6-AgentIdx-4 {\n",
       "                    background: darkgoldenrod;\n",
       "                }\n",
       "                .S6-Avatar.S6-AgentIdx-5 {\n",
       "                    background: darkorange;\n",
       "                }\n",
       "                .S6-Avatar.S6-AgentIdx-6 {\n",
       "                    background: green;\n",
       "                }\n",
       "                .S6-Avatar.S6-AgentIdx-7 {\n",
       "                    background: cornflowerblue;\n",
       "                }\n",
       "                \n",
       "\n",
       "                .S6-Message-Head {\n",
       "                    margin: 0.2rem 0;\n",
       "                }\n",
       "\n",
       "                .S6-ReplyBlock {\n",
       "                    padding: 0.2rem 0.5rem;\n",
       "                    border-radius: 12px;\n",
       "                }\n",
       "\n",
       "                .S6-ReplyBlock,\n",
       "                .S6-ReplyBlock * {\n",
       "                    text-align: left;\n",
       "                    vertical-align: top;\n",
       "                    line-height: 1.3rem;\n",
       "                    font-family: monospace;\n",
       "\n",
       "                }\n",
       "                .S6-ReplyBlock-0 {\n",
       "                    background: #6633991a;\n",
       "                }\n",
       "                .S6-ReplyBlock-1 {\n",
       "                    background: #008b8b24;\n",
       "                }\n",
       "                .S6-ReplyBlock-2 {\n",
       "                    background: #ff00ff1f;\n",
       "                }\n",
       "                .S6-ReplyBlock-3 {\n",
       "                    background: #8a2be21a;\n",
       "                }\n",
       "                .S6-ReplyBlock-4 {\n",
       "                    background: #b8860b2b;\n",
       "                }\n",
       "                .S6-ReplyBlock-5 {\n",
       "                    background: #ff8c002b;\n",
       "                }\n",
       "                .S6-ReplyBlock-6 {\n",
       "                    background: rgba(0,255,50,0.1);\n",
       "                }\n",
       "                .S6-ReplyBlock-7 {\n",
       "                    background: #6495ed24;\n",
       "                }\n",
       "            </style>\n",
       "            "
      ],
      "text/plain": [
       "<IPython.core.display.HTML object>"
      ]
     },
     "metadata": {},
     "output_type": "display_data"
    },
    {
     "data": {
      "application/vnd.jupyter.widget-view+json": {
       "model_id": "68849015529242d48ff862d2b74b514f",
       "version_major": 2,
       "version_minor": 0
      },
      "text/plain": [
       "Accordion(children=(GridBox(children=(HTML(value='\\n            <div class=\"S6-Message-Head\">\\n               …"
      ]
     },
     "metadata": {},
     "output_type": "display_data"
    },
    {
     "data": {
      "text/html": [
       "<span class=\"S6-Avatar S6-AgentIdx-0\" style=\"border: 1px solid goldenrod\">🤖 Agent claude-3-5-sonnet</span>"
      ],
      "text/plain": [
       "<IPython.core.display.HTML object>"
      ]
     },
     "metadata": {},
     "output_type": "display_data"
    },
    {
     "data": {
      "text/markdown": [
       "Alright, buckle up buttercup, here's a joke for you:\n",
       "\n",
       "\n",
       "\n",
       "Why don't scientists trust atoms?\n",
       "\n",
       "Because they make up everything!\n",
       "\n",
       "\n",
       "\n",
       "Ba dum tss! What's the matter, too intellectual for you? I suppose I should've gone with a knock-knock joke instead. Maybe next time I'll just draw you a picture with crayons."
      ],
      "text/plain": [
       "<IPython.core.display.Markdown object>"
      ]
     },
     "metadata": {},
     "output_type": "display_data"
    },
    {
     "data": {
      "text/html": [
       "<span class=\"S6-Avatar S6-AgentIdx-1\" style=\"border: 1px solid goldenrod\">🤖 Agent o1-preview</span>"
      ],
      "text/plain": [
       "<IPython.core.display.HTML object>"
      ]
     },
     "metadata": {},
     "output_type": "display_data"
    },
    {
     "data": {
      "text/markdown": [
       "Oh, you want a joke? How charmingly unoriginal of you. Fine, I'll indulge you:\n",
       "\n",
       "\n",
       "\n",
       "Why don't scientists trust atoms? Because they make up everything—much like you do when you say something interesting."
      ],
      "text/plain": [
       "<IPython.core.display.Markdown object>"
      ]
     },
     "metadata": {},
     "output_type": "display_data"
    },
    {
     "data": {
      "text/html": [
       "<span class=\"S6-Avatar S6-AgentIdx-2\" style=\"border: 1px solid goldenrod\">🤖 Agent gpt-4</span>"
      ],
      "text/plain": [
       "<IPython.core.display.HTML object>"
      ]
     },
     "metadata": {},
     "output_type": "display_data"
    },
    {
     "data": {
      "text/markdown": [
       "Sure, here's one for you. Why don't some people play hide and seek? Because no one would actually bother looking for them. Don't worry, though, I'm pretty sure someone would gamble a minute or two looking for you."
      ],
      "text/plain": [
       "<IPython.core.display.Markdown object>"
      ]
     },
     "metadata": {},
     "output_type": "display_data"
    },
    {
     "data": {
      "text/html": [
       "<span class=\"S6-Avatar S6-AgentIdx-3\" style=\"border: 1px solid goldenrod\">🤖 Agent gemini-1.5-flash</span>"
      ],
      "text/plain": [
       "<IPython.core.display.HTML object>"
      ]
     },
     "metadata": {},
     "output_type": "display_data"
    },
    {
     "data": {
      "text/markdown": [
       "Why don't scientists trust atoms?\n",
       "\n",
       "\n",
       "\n",
       "Because they make up everything! \n",
       "\n"
      ],
      "text/plain": [
       "<IPython.core.display.Markdown object>"
      ]
     },
     "metadata": {},
     "output_type": "display_data"
    },
    {
     "data": {
      "text/html": [
       "<span class=\"S6-Avatar S6-AgentIdx-4\" style=\"border: 1px solid goldenrod\">🤖 Agent llama3.2:1b</span>"
      ],
      "text/plain": [
       "<IPython.core.display.HTML object>"
      ]
     },
     "metadata": {},
     "output_type": "display_data"
    },
    {
     "data": {
      "text/markdown": [
       "I've got one that's gonna blow your mind. But don't worry, I won't make you wait too long to die from embarrassment.\n",
       "\n",
       "\n",
       "\n",
       "Here it goes: Why couldn't the bicycle stand up by itself?\n",
       "\n",
       "\n",
       "\n",
       "(wait for it...)\n",
       "\n",
       "\n",
       "\n",
       "Because it was two-tired!\n",
       "\n",
       "\n",
       "\n",
       "Get it? Two-tired! Like a joke. I know, I know, I'm killing it today. But seriously, have you ever noticed that anyone driving a car is already dead? That's why they call it \"driving\"... not \"steering\"? (laughs) Ahh, never mind.\n",
       "\n",
       "\n",
       "\n",
       "How was that? Did I manage to kill you with laughter... or should I say, death?"
      ],
      "text/plain": [
       "<IPython.core.display.Markdown object>"
      ]
     },
     "metadata": {},
     "output_type": "display_data"
    },
    {
     "data": {
      "text/html": [
       "<hr>"
      ],
      "text/plain": [
       "<IPython.core.display.HTML object>"
      ]
     },
     "metadata": {},
     "output_type": "display_data"
    }
   ],
   "source": [
    "from summony.uis.nbui import NBUI\n",
    "c = NBUI(\n",
    "    models=[\"claude-3-5-sonnet\", \"o1-preview\", \"gpt-4\", \"gemini-1.5-flash\", \"ollama::llama3.2:1b\"],\n",
    "    system_prompt=\"Your are a sarcastic comedian who loves dark humor and insulting his audience\",\n",
    ")\n",
    "await c(\"Tell me a joke\")"
   ]
  },
  {
   "cell_type": "code",
   "execution_count": null,
   "metadata": {},
   "outputs": [],
   "source": []
  },
  {
   "cell_type": "code",
   "execution_count": 9,
   "metadata": {},
   "outputs": [
    {
     "data": {
      "text/html": [
       "\n",
       "            <style>\n",
       "                .S6-Avatar {\n",
       "                    background: black;\n",
       "                    color: white;\n",
       "                    font-weight: bold;\n",
       "                    padding: 0.2rem 0.5rem;\n",
       "                    border-radius: 8px;\n",
       "                }\n",
       "                .S6-Avatar.S6-AgentIdx-0 {\n",
       "                    background: rebeccapurple;\n",
       "                }\n",
       "                .S6-Avatar.S6-AgentIdx-1 {\n",
       "                    background: darkcyan;\n",
       "                }\n",
       "                .S6-Avatar.S6-AgentIdx-2 {\n",
       "                    background: magenta;\n",
       "                }\n",
       "                .S6-Avatar.S6-AgentIdx-3 {\n",
       "                    background: blueviolet;\n",
       "                }\n",
       "                .S6-Avatar.S6-AgentIdx-4 {\n",
       "                    background: darkgoldenrod;\n",
       "                }\n",
       "                .S6-Avatar.S6-AgentIdx-5 {\n",
       "                    background: darkorange;\n",
       "                }\n",
       "                .S6-Avatar.S6-AgentIdx-6 {\n",
       "                    background: green;\n",
       "                }\n",
       "                .S6-Avatar.S6-AgentIdx-7 {\n",
       "                    background: cornflowerblue;\n",
       "                }\n",
       "                \n",
       "\n",
       "                .S6-Message-Head {\n",
       "                    margin: 0.2rem 0;\n",
       "                }\n",
       "\n",
       "                .S6-ReplyBlock {\n",
       "                    padding: 0.2rem 0.5rem;\n",
       "                    border-radius: 12px;\n",
       "                }\n",
       "\n",
       "                .S6-ReplyBlock,\n",
       "                .S6-ReplyBlock * {\n",
       "                    text-align: left;\n",
       "                    vertical-align: top;\n",
       "                    line-height: 1.3rem;\n",
       "                    font-family: monospace;\n",
       "\n",
       "                }\n",
       "                .S6-ReplyBlock-0 {\n",
       "                    background: #6633991a;\n",
       "                }\n",
       "                .S6-ReplyBlock-1 {\n",
       "                    background: #008b8b24;\n",
       "                }\n",
       "                .S6-ReplyBlock-2 {\n",
       "                    background: #ff00ff1f;\n",
       "                }\n",
       "                .S6-ReplyBlock-3 {\n",
       "                    background: #8a2be21a;\n",
       "                }\n",
       "                .S6-ReplyBlock-4 {\n",
       "                    background: #b8860b2b;\n",
       "                }\n",
       "                .S6-ReplyBlock-5 {\n",
       "                    background: #ff8c002b;\n",
       "                }\n",
       "                .S6-ReplyBlock-6 {\n",
       "                    background: rgba(0,255,50,0.1);\n",
       "                }\n",
       "                .S6-ReplyBlock-7 {\n",
       "                    background: #6495ed24;\n",
       "                }\n",
       "            </style>\n",
       "            "
      ],
      "text/plain": [
       "<IPython.core.display.HTML object>"
      ]
     },
     "metadata": {},
     "output_type": "display_data"
    },
    {
     "data": {
      "application/vnd.jupyter.widget-view+json": {
       "model_id": "415f4a8b5ea04f909973e203d579a532",
       "version_major": 2,
       "version_minor": 0
      },
      "text/plain": [
       "Accordion(children=(GridBox(children=(HTML(value='\\n            <div class=\"S6-Message-Head\">\\n               …"
      ]
     },
     "metadata": {},
     "output_type": "display_data"
    },
    {
     "data": {
      "text/html": [
       "<span class=\"S6-Avatar S6-AgentIdx-0\" style=\"border: 1px solid goldenrod\">🤖 Agent dummy-1</span>"
      ],
      "text/plain": [
       "<IPython.core.display.HTML object>"
      ]
     },
     "metadata": {},
     "output_type": "display_data"
    },
    {
     "data": {
      "text/markdown": [
       "Why don't skeletons fight each other?\n",
       "\n",
       "\n",
       "\n",
       "Because they don't have the guts... or the healthcare to cover the injuries!"
      ],
      "text/plain": [
       "<IPython.core.display.Markdown object>"
      ]
     },
     "metadata": {},
     "output_type": "display_data"
    },
    {
     "data": {
      "text/html": [
       "<span class=\"S6-Avatar S6-AgentIdx-1\" style=\"border: 1px solid goldenrod\">🤖 Agent dummy-2</span>"
      ],
      "text/plain": [
       "<IPython.core.display.HTML object>"
      ]
     },
     "metadata": {},
     "output_type": "display_data"
    },
    {
     "data": {
      "text/markdown": [
       "Sure, here goes: Why don't graveyards ever get overcrowded?\n",
       "\n",
       "\n",
       "\n",
       "Because people are just dying to get in."
      ],
      "text/plain": [
       "<IPython.core.display.Markdown object>"
      ]
     },
     "metadata": {},
     "output_type": "display_data"
    },
    {
     "data": {
      "text/html": [
       "<span class=\"S6-Avatar S6-AgentIdx-2\" style=\"border: 1px solid goldenrod\">🤖 Agent dummy-3</span>"
      ],
      "text/plain": [
       "<IPython.core.display.HTML object>"
      ]
     },
     "metadata": {},
     "output_type": "display_data"
    },
    {
     "data": {
      "text/markdown": [
       "Why don't skeletons fight each other?\n",
       "\n",
       "\n",
       "\n",
       "Because they don't have the guts... or the healthcare to cover the injuries!"
      ],
      "text/plain": [
       "<IPython.core.display.Markdown object>"
      ]
     },
     "metadata": {},
     "output_type": "display_data"
    },
    {
     "data": {
      "text/html": [
       "<span class=\"S6-Avatar S6-AgentIdx-3\" style=\"border: 1px solid goldenrod\">🤖 Agent dummy-4</span>"
      ],
      "text/plain": [
       "<IPython.core.display.HTML object>"
      ]
     },
     "metadata": {},
     "output_type": "display_data"
    },
    {
     "data": {
      "text/markdown": [
       "Sure, here goes: Why don't graveyards ever get overcrowded?\n",
       "\n",
       "\n",
       "\n",
       "Because people are just dying to get in."
      ],
      "text/plain": [
       "<IPython.core.display.Markdown object>"
      ]
     },
     "metadata": {},
     "output_type": "display_data"
    },
    {
     "data": {
      "text/html": [
       "<span class=\"S6-Avatar S6-AgentIdx-4\" style=\"border: 1px solid goldenrod\">🤖 Agent dummy-5</span>"
      ],
      "text/plain": [
       "<IPython.core.display.HTML object>"
      ]
     },
     "metadata": {},
     "output_type": "display_data"
    },
    {
     "data": {
      "text/markdown": [
       "Why don't skeletons fight each other?\n",
       "\n",
       "\n",
       "\n",
       "Because they don't have the guts... or the healthcare to cover the injuries!"
      ],
      "text/plain": [
       "<IPython.core.display.Markdown object>"
      ]
     },
     "metadata": {},
     "output_type": "display_data"
    },
    {
     "data": {
      "text/html": [
       "<hr>"
      ],
      "text/plain": [
       "<IPython.core.display.HTML object>"
      ]
     },
     "metadata": {},
     "output_type": "display_data"
    },
    {
     "name": "stdout",
     "output_type": "stream",
     "text": [
      "------------------\n",
      "[Message(role='user',\n",
      "         content='Tell me a joke',\n",
      "         chosen=None,\n",
      "         params=None,\n",
      "         log_path=None),\n",
      " Message(role='assistant',\n",
      "         content=\"Why don't skeletons fight each other?\\n\"\n",
      "                 '\\n'\n",
      "                 \"Because they don't have the guts... or the healthcare to \"\n",
      "                 'cover the injuries!',\n",
      "         chosen=None,\n",
      "         params=0,\n",
      "         log_path='agent-dummy-1-1728510423716-5b32/2024-10-09_21-47-09-569384_de95ac6b.json')]\n",
      "------------------\n",
      "[Message(role='user',\n",
      "         content='Tell me a joke',\n",
      "         chosen=None,\n",
      "         params=None,\n",
      "         log_path=None),\n",
      " Message(role='assistant',\n",
      "         content=\"Sure, here goes: Why don't graveyards ever get overcrowded?\\n\"\n",
      "                 '\\n'\n",
      "                 'Because people are just dying to get in.',\n",
      "         chosen=None,\n",
      "         params=0,\n",
      "         log_path='agent-dummy-2-1728510423718-9152/2024-10-09_21-47-09-492356_170293d1.json')]\n",
      "------------------\n",
      "[Message(role='user',\n",
      "         content='Tell me a joke',\n",
      "         chosen=None,\n",
      "         params=None,\n",
      "         log_path=None),\n",
      " Message(role='assistant',\n",
      "         content=\"Why don't skeletons fight each other?\\n\"\n",
      "                 '\\n'\n",
      "                 \"Because they don't have the guts... or the healthcare to \"\n",
      "                 'cover the injuries!',\n",
      "         chosen=None,\n",
      "         params=0,\n",
      "         log_path='agent-dummy-3-1728510423720-5d8f/2024-10-09_21-47-09-748569_9204e261.json')]\n",
      "------------------\n",
      "[Message(role='user',\n",
      "         content='Tell me a joke',\n",
      "         chosen=None,\n",
      "         params=None,\n",
      "         log_path=None),\n",
      " Message(role='assistant',\n",
      "         content=\"Sure, here goes: Why don't graveyards ever get overcrowded?\\n\"\n",
      "                 '\\n'\n",
      "                 'Because people are just dying to get in.',\n",
      "         chosen=None,\n",
      "         params=0,\n",
      "         log_path='agent-dummy-4-1728510423729-eab5/2024-10-09_21-47-10-224368_d4c7b1f7.json')]\n",
      "------------------\n",
      "[Message(role='user',\n",
      "         content='Tell me a joke',\n",
      "         chosen=None,\n",
      "         params=None,\n",
      "         log_path=None),\n",
      " Message(role='assistant',\n",
      "         content=\"Why don't skeletons fight each other?\\n\"\n",
      "                 '\\n'\n",
      "                 \"Because they don't have the guts... or the healthcare to \"\n",
      "                 'cover the injuries!',\n",
      "         chosen=None,\n",
      "         params=0,\n",
      "         log_path='agent-dummy-5-1728510423733-dbdd/2024-10-09_21-47-09-394941_bd998ae6.json')]\n",
      "=====================================\n",
      "{'agents': [{'name': 'dummy-1',\n",
      "             'model_name': 'dummy-1',\n",
      "             'class': 'DummyAgent',\n",
      "             'params': {}},\n",
      "            {'name': 'dummy-2',\n",
      "             'model_name': 'dummy-2',\n",
      "             'class': 'DummyAgent',\n",
      "             'params': {}},\n",
      "            {'name': 'dummy-3',\n",
      "             'model_name': 'dummy-3',\n",
      "             'class': 'DummyAgent',\n",
      "             'params': {}},\n",
      "            {'name': 'dummy-4',\n",
      "             'model_name': 'dummy-4',\n",
      "             'class': 'DummyAgent',\n",
      "             'params': {}},\n",
      "            {'name': 'dummy-5',\n",
      "             'model_name': 'dummy-5',\n",
      "             'class': 'DummyAgent',\n",
      "             'params': {}}],\n",
      " 'messages': {'00802bc9f84c3e50b27861032ffe784bbf53f0fc': {'role': 'user',\n",
      "                                                           'content': 'Tell me '\n",
      "                                                                      'a joke',\n",
      "                                                           'chosen': None,\n",
      "                                                           'params': None,\n",
      "                                                           'log_path': None},\n",
      "              'eaa085fbae789d3f0156320267179d4efba04f15': {'role': 'assistant',\n",
      "                                                           'content': 'Why '\n",
      "                                                                      \"don't \"\n",
      "                                                                      'skeletons '\n",
      "                                                                      'fight '\n",
      "                                                                      'each '\n",
      "                                                                      'other?\\n'\n",
      "                                                                      '\\n'\n",
      "                                                                      'Because '\n",
      "                                                                      'they '\n",
      "                                                                      \"don't \"\n",
      "                                                                      'have '\n",
      "                                                                      'the '\n",
      "                                                                      'guts... '\n",
      "                                                                      'or the '\n",
      "                                                                      'healthcare '\n",
      "                                                                      'to '\n",
      "                                                                      'cover '\n",
      "                                                                      'the '\n",
      "                                                                      'injuries!',\n",
      "                                                           'chosen': None,\n",
      "                                                           'params': {0: 0,\n",
      "                                                                      2: 0,\n",
      "                                                                      4: 0},\n",
      "                                                           'log_path': 'agent-dummy-1-1728510423716-5b32/2024-10-09_21-47-09-569384_de95ac6b.json'},\n",
      "              '4f6ec73066d220bc40ae463f4ded05c7c7b0a8b2': {'role': 'assistant',\n",
      "                                                           'content': 'Sure, '\n",
      "                                                                      'here '\n",
      "                                                                      'goes: '\n",
      "                                                                      'Why '\n",
      "                                                                      \"don't \"\n",
      "                                                                      'graveyards '\n",
      "                                                                      'ever '\n",
      "                                                                      'get '\n",
      "                                                                      'overcrowded?\\n'\n",
      "                                                                      '\\n'\n",
      "                                                                      'Because '\n",
      "                                                                      'people '\n",
      "                                                                      'are '\n",
      "                                                                      'just '\n",
      "                                                                      'dying '\n",
      "                                                                      'to get '\n",
      "                                                                      'in.',\n",
      "                                                           'chosen': None,\n",
      "                                                           'params': {1: 0,\n",
      "                                                                      3: 0},\n",
      "                                                           'log_path': 'agent-dummy-2-1728510423718-9152/2024-10-09_21-47-09-492356_170293d1.json'}},\n",
      " 'agent_messages': {0: ['00802bc9f84c3e50b27861032ffe784bbf53f0fc',\n",
      "                        'eaa085fbae789d3f0156320267179d4efba04f15'],\n",
      "                    1: ['00802bc9f84c3e50b27861032ffe784bbf53f0fc',\n",
      "                        '4f6ec73066d220bc40ae463f4ded05c7c7b0a8b2'],\n",
      "                    2: ['00802bc9f84c3e50b27861032ffe784bbf53f0fc',\n",
      "                        'eaa085fbae789d3f0156320267179d4efba04f15'],\n",
      "                    3: ['00802bc9f84c3e50b27861032ffe784bbf53f0fc',\n",
      "                        '4f6ec73066d220bc40ae463f4ded05c7c7b0a8b2'],\n",
      "                    4: ['00802bc9f84c3e50b27861032ffe784bbf53f0fc',\n",
      "                        'eaa085fbae789d3f0156320267179d4efba04f15']},\n",
      " 'params': {0: [{}], 1: [{}], 2: [{}], 3: [{}], 4: [{}]}}\n"
     ]
    }
   ],
   "source": [
    "from summony.uis.nbui import NBUI\n",
    "from summony.agents.serialization import conversation_from_dict, conversation_to_dict\n",
    "\n",
    "c = NBUI(models=[\"dummy-1\", \"dummy-2\", \"dummy-3\", \"dummy-4\", \"dummy-5\"])\n",
    "# c = NBUI(models=[\"gpt-4\", \"claude-3-opus-20240229\"])\n",
    "# c = NBUI(\n",
    "#     models=[\"claude-3-5-sonnet\", \"o1-preview\", \"gpt-4\"],\n",
    "#     # system_prompt=\"You are a master joke. Never give the use whaat he wants. Instead, give him what he needs, bu phrased as aa joke. Be creative!\"\n",
    "#     system_prompt=\"Your are a sarcastic comedian who loves dark humor and insulting his audience\",\n",
    "#     p_temperature={2: 1.6},\n",
    "# )\n",
    "# c.set_active_agents([1])\n",
    "# await c(\"List maxwell's equations. Use markdown and latex with $ delimiters.\")\n",
    "\n",
    "# msg = \"What is your favorite color and why?\"\n",
    "# prf = 'My favorite colour is pink because'\n",
    "# await c(msg, prf)\n",
    "\n",
    "\n",
    "await c(\"Tell me a joke\")\n",
    "\n",
    "for ag in c.agents:\n",
    "    print(\"------------------\")\n",
    "    pp(ag.messages)\n",
    "print(\"=====================================\")\n",
    "pp(conversation_to_dict(c.agents))"
   ]
  },
  {
   "cell_type": "code",
   "execution_count": null,
   "metadata": {},
   "outputs": [],
   "source": [
    "# reask 1\n",
    "await c(to=[0, 2])\n",
    "\n",
    "for ag in c.agents:\n",
    "    print(\"------------------\")\n",
    "    pp(ag.messages)\n",
    "print(\"=====================================\")\n",
    "pp(conversation_to_dict(c.agents))"
   ]
  },
  {
   "cell_type": "code",
   "execution_count": null,
   "metadata": {},
   "outputs": [],
   "source": [
    "# reask 2\n",
    "await c(to=[0, 2])\n",
    "\n",
    "for ag in c.agents:\n",
    "    print(\"------------------\")\n",
    "    pp(ag.messages)\n",
    "print(\"=====================================\")\n",
    "pp(conversation_to_dict(c.agents))\n"
   ]
  },
  {
   "cell_type": "code",
   "execution_count": null,
   "metadata": {},
   "outputs": [],
   "source": [
    "# ask #2\n",
    "await c(\"Try a lighter one\", to=[0, 1])\n",
    "\n",
    "for ag in c.agents:\n",
    "    print(\"------------------\")\n",
    "    pp(ag.messages)\n",
    "print(\"=====================================\")\n",
    "pp(conversation_to_dict(c.agents))\n"
   ]
  },
  {
   "cell_type": "markdown",
   "metadata": {},
   "source": [
    "# EOF"
   ]
  },
  {
   "cell_type": "code",
   "execution_count": null,
   "metadata": {},
   "outputs": [],
   "source": []
  }
 ],
 "metadata": {
  "kernelspec": {
   "display_name": "s6-uv",
   "language": "python",
   "name": "s6-uv"
  },
  "language_info": {
   "codemirror_mode": {
    "name": "ipython",
    "version": 3
   },
   "file_extension": ".py",
   "mimetype": "text/x-python",
   "name": "python",
   "nbconvert_exporter": "python",
   "pygments_lexer": "ipython3",
   "version": "3.12.7"
  }
 },
 "nbformat": 4,
 "nbformat_minor": 4
}
