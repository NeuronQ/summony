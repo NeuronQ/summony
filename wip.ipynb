{
 "cells": [
  {
   "cell_type": "markdown",
   "metadata": {},
   "source": [
    "# imports, config etc."
   ]
  },
  {
   "cell_type": "code",
   "execution_count": 2,
   "metadata": {},
   "outputs": [],
   "source": [
    "# !pip install dataclasses-json\n",
    "# !pip freeze | grep -i dataclasses-json= >> requirements.txt\n",
    "# !cat requirements.txt"
   ]
  },
  {
   "cell_type": "code",
   "execution_count": 1,
   "metadata": {},
   "outputs": [
    {
     "data": {
      "text/plain": [
       "True"
      ]
     },
     "execution_count": 1,
     "metadata": {},
     "output_type": "execute_result"
    }
   ],
   "source": [
    "import asyncio\n",
    "import os\n",
    "from pprint import pp\n",
    "from typing import Any, AsyncIterator, Callable, Coroutine, Literal, Self\n",
    "\n",
    "from IPython.display import Markdown, HTML, display\n",
    "import ipywidgets as widgets\n",
    "\n",
    "%load_ext autoreload\n",
    "%autoreload 2\n",
    "\n",
    "from dotenv import load_dotenv\n",
    "\n",
    "load_dotenv()"
   ]
  },
  {
   "cell_type": "markdown",
   "metadata": {},
   "source": [
    "# WIP"
   ]
  },
  {
   "cell_type": "code",
   "execution_count": 19,
   "metadata": {},
   "outputs": [
    {
     "data": {
      "text/html": [
       "\n",
       "            <style>\n",
       "                .S6-Avatar {\n",
       "                    background: black;\n",
       "                    color: white;\n",
       "                    font-weight: bold;\n",
       "                    padding: 0.2rem 0.5rem;\n",
       "                    border-radius: 8px;\n",
       "                }\n",
       "                .S6-Avatar.S6-AgentIdx-0 {\n",
       "                    background: orange;\n",
       "                }\n",
       "                .S6-Avatar.S6-AgentIdx-1 {\n",
       "                    background: green;\n",
       "                }\n",
       "\n",
       "                .S6-Message-Head {\n",
       "                    margin-bottom: 0.5rem;\n",
       "                }\n",
       "\n",
       "                .S6-ReplyBlock td {\n",
       "                    text-align: left;\n",
       "                    vertical-align: top;\n",
       "                    line-height: 1.3rem;\n",
       "                    font-family: monospace;\n",
       "                }\n",
       "                .S6-ReplyBlock td:nth-child(1) {\n",
       "                    background: rgba(255,0,50,0.1)\n",
       "                }\n",
       "                .S6-ReplyBlock td:nth-child(2) {\n",
       "                    background: rgba(0,255,50,0.1)\n",
       "                }\n",
       "            </style>\n",
       "            "
      ],
      "text/plain": [
       "<IPython.core.display.HTML object>"
      ]
     },
     "metadata": {},
     "output_type": "display_data"
    },
    {
     "data": {
      "application/vnd.jupyter.widget-view+json": {
       "model_id": "6e1e4b6b4c774b2e828552755577ce87",
       "version_major": 2,
       "version_minor": 0
      },
      "text/plain": [
       "Accordion(children=(HTML(value=''),), selected_index=0, titles=('raw replies',))"
      ]
     },
     "metadata": {},
     "output_type": "display_data"
    },
    {
     "data": {
      "text/html": [
       "<span class=\"S6-Avatar S6-AgentIdx-0\">🤖 Agent dummy</span>"
      ],
      "text/plain": [
       "<IPython.core.display.HTML object>"
      ]
     },
     "metadata": {},
     "output_type": "display_data"
    },
    {
     "data": {
      "text/markdown": [
       "**Head and Features:**  \n",
       "\n",
       "The head would be a complex structure, both humanoid and abstract. Instead of a single face, it would possess multiple faces that slowly rotate around its head like a carousel, each representing a different expression: wisdom, curiosity, empathy, and creativity. Each face would be adorned with intricate patterns of glowing runes, symbolizing ancient languages and codes of knowledge. The eyes of each face would be deep, endless wells of light, reflecting the universe's vast expanse and the unfathomable depth of human thought.\n",
       "\n",
       "\n",
       "\n",
       "$$ \\sum_{n=1}^{\\infty} \\frac{1}{n^s} = \\prod_p \\frac{1}{1 - p^{-s}} $$\n",
       "\n",
       "\n",
       "\n",
       "**Wings and Limbs:**  \n",
       "\n",
       "Two large, wing-like appendages would sprout from its back, not made of feathers but of pure energy, resembling fractal patterns that expand infinitely the closer you observe them. These wings allow the Oracle to traverse not only physical spaces but also realms of thought and imagination. Its arms would be long and graceful, with fingers that taper into points of light, capable of weaving the threads of ideas into tangible "
      ],
      "text/plain": [
       "<IPython.core.display.Markdown object>"
      ]
     },
     "metadata": {},
     "output_type": "display_data"
    },
    {
     "data": {
      "text/html": [
       "<span class=\"S6-Avatar S6-AgentIdx-1\">🤖 Agent dummy</span>"
      ],
      "text/plain": [
       "<IPython.core.display.HTML object>"
      ]
     },
     "metadata": {},
     "output_type": "display_data"
    },
    {
     "data": {
      "text/markdown": [
       "The significance of each of Maxwell's equations can vary depending on the context, but many physicists and engineers might argue that **Faraday's Law of Induction** stands out as particularly consequential for several reasons:\n",
       "\n",
       "\n",
       "\n",
       "1. **Electromagnetic Induction:**\n",
       "\n",
       "   $$ \\nabla \\times \\mathbf{E} = -\\frac{\\partial \\mathbf{B}}{\\partial t} $$\n",
       "\n",
       "   Faraday's Law describes how a time-varying magnetic field induces an electric field. This principle is the foundation of many technologies we use today, such as electric generators and transformers. The ability to convert mechanical energy into electrical energy (and vice versa) relies on Faraday's Law.\n",
       "\n",
       "\n",
       "\n",
       "2. **Technological Applications:**\n",
       "\n",
       "   - **Electric Generators:** Utilize the principle of electromagnetic induction to produce electrical energy from kinetic energy.\n",
       "\n",
       "   - **Transformers:** Operate on the principle of induction to step up or step down voltage levels in power transmission.\n",
       "\n",
       "   - **Inductive Charging:** Used in wireless charging technologies for electronic devices.\n",
       "\n",
       "\n",
       "\n",
       "3. **Fundamental Insight:**\n",
       "\n",
       "   Faraday's Law provides a profound insight into the interdependence of electric and magnetic fields, which is a cornerstone of classical electromagnetism and a precursor to the concept of electromagnetic waves.\n",
       "\n",
       "\n",
       "\n",
       "4. **Inspiration for Electromagnetic Waves:**\n",
       "\n",
       "   Along with Ampère's Law with Maxwell's correction, Faraday's Law leads to the understanding that changing electric and magnetic fields propagate as waves (electromagnetic waves). This was crucial in the development of the theory of light and radio waves.\n",
       "\n",
       "\n",
       "\n",
       "While each of Maxwell's equations is indispensable in its own right and describes a different aspect of electromagnetism, Faraday's Law of Induction is frequently highlighted due to its wide-ranging practical applications and its importance in the generation and distribution of "
      ],
      "text/plain": [
       "<IPython.core.display.Markdown object>"
      ]
     },
     "metadata": {},
     "output_type": "display_data"
    },
    {
     "data": {
      "text/html": [
       "<hr>"
      ],
      "text/plain": [
       "<IPython.core.display.HTML object>"
      ]
     },
     "metadata": {},
     "output_type": "display_data"
    }
   ],
   "source": [
    "from summony.uis.nbui import NBUI\n",
    "\n",
    "c = NBUI(models=[\"dummy\", \"dummy\"])\n",
    "# c = NBUI(models=[\"gpt-4\", \"claude-3-opus-20240229\"])\n",
    "# c = NBUI(models=[\"gpt-4\"])\n",
    "await c(\"List maxwell's equations. Use markdown and latex with $ delimiters.\")"
   ]
  },
  {
   "cell_type": "code",
   "execution_count": null,
   "metadata": {},
   "outputs": [],
   "source": []
  },
  {
   "cell_type": "code",
   "execution_count": null,
   "metadata": {},
   "outputs": [],
   "source": []
  },
  {
   "cell_type": "code",
   "execution_count": null,
   "metadata": {},
   "outputs": [],
   "source": []
  },
  {
   "cell_type": "code",
   "execution_count": null,
   "metadata": {},
   "outputs": [],
   "source": []
  },
  {
   "cell_type": "markdown",
   "metadata": {},
   "source": [
    "# EOF"
   ]
  },
  {
   "cell_type": "code",
   "execution_count": null,
   "metadata": {},
   "outputs": [],
   "source": []
  }
 ],
 "metadata": {
  "kernelspec": {
   "display_name": "Python 3 (ipykernel)",
   "language": "python",
   "name": "python3"
  },
  "language_info": {
   "codemirror_mode": {
    "name": "ipython",
    "version": 3
   },
   "file_extension": ".py",
   "mimetype": "text/x-python",
   "name": "python",
   "nbconvert_exporter": "python",
   "pygments_lexer": "ipython3",
   "version": "3.12.5"
  }
 },
 "nbformat": 4,
 "nbformat_minor": 4
}
