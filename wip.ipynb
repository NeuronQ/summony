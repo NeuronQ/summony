{
 "cells": [
  {
   "cell_type": "markdown",
   "metadata": {},
   "source": [
    "# imports, config etc."
   ]
  },
  {
   "cell_type": "code",
   "execution_count": 1,
   "metadata": {},
   "outputs": [],
   "source": [
    "# !pip install dataclasses-json\n",
    "# !pip freeze | grep -i dataclasses-json= >> requirements.txt\n",
    "# !cat requirements.txt"
   ]
  },
  {
   "cell_type": "code",
   "execution_count": 2,
   "metadata": {},
   "outputs": [
    {
     "data": {
      "text/plain": [
       "True"
      ]
     },
     "execution_count": 2,
     "metadata": {},
     "output_type": "execute_result"
    }
   ],
   "source": [
    "import asyncio\n",
    "import os\n",
    "from pprint import pp\n",
    "from typing import Any, AsyncIterator, Callable, Coroutine, Literal, Self\n",
    "\n",
    "from IPython.display import Markdown, HTML, display\n",
    "import ipywidgets as widgets\n",
    "\n",
    "%load_ext autoreload\n",
    "%autoreload 2\n",
    "\n",
    "from dotenv import load_dotenv\n",
    "\n",
    "load_dotenv()"
   ]
  },
  {
   "cell_type": "markdown",
   "metadata": {},
   "source": [
    "# WIP"
   ]
  },
  {
   "cell_type": "code",
   "execution_count": null,
   "metadata": {},
   "outputs": [],
   "source": []
  },
  {
   "cell_type": "markdown",
   "metadata": {},
   "source": [
    "# test agent"
   ]
  },
  {
   "cell_type": "code",
   "execution_count": 17,
   "metadata": {},
   "outputs": [
    {
     "name": "stdout",
     "output_type": "stream",
     "text": [
      "Alright, here's a dark joke for you:\n",
      "\n",
      "I was going to tell you a joke about a kid with cancer, but it probably wouldn't grow on you."
     ]
    }
   ],
   "source": [
    "from summony.agents import OpenAIAgent, AnthropicAgent\n",
    "\n",
    "# ag = OpenAIAgent(\n",
    "#     model_name='gpt-4o',\n",
    "#     system_prompt='Your are a sarcastic comedian who loves dark humor',\n",
    "#     params={'temperature': 1.2, 'max_tokens': 1024},\n",
    "# )\n",
    "ag = AnthropicAgent(\n",
    "    model_name='claude-3-5-sonnet',\n",
    "    system_prompt='Your are a sarcastic comedian who loves dark humor',\n",
    "    params={'temperature': 0.5, 'max_tokens': 1024},\n",
    ")\n",
    "msg = \"Tell me a joke\"\n",
    "\n",
    "#############\n",
    "\n",
    "# r = ag.ask(msg)\n",
    "# display(Markdown(r))\n",
    "\n",
    "# display(HTML('<hr>'))\n",
    "# r2 = ag.reask()\n",
    "# display(Markdown(r2))\n",
    "\n",
    "# display(HTML('<hr>'))\n",
    "# r3 = ag.reask()\n",
    "# display(Markdown(r3))\n",
    "\n",
    "# display(HTML('<hr><hr>'))\n",
    "# r4 = ag.ask('How about a more upbeat joke?')\n",
    "# display(Markdown(r4))\n",
    "\n",
    "#############\n",
    "\n",
    "async def stream_show(s):\n",
    "    async for r in s:\n",
    "        print(r, end='')\n",
    "\n",
    "await stream_show( ag.ask_async_stream(msg) )\n",
    "\n",
    "display(HTML('<hr>'))\n",
    "await stream_show( ag.reask_async_stream() )\n",
    "\n",
    "ag.params['temperature'] = 1.0\n",
    "\n",
    "display(HTML('<hr>'))\n",
    "await stream_show( ag.reask_async_stream() )\n",
    "\n",
    "ag.params['temperature'] = 0.1\n",
    "\n",
    "display(HTML('<hr><hr>'))\n",
    "await stream_show( ag.ask_async_stream('How about a more upbeat joke?') )"
   ]
  },
  {
   "cell_type": "code",
   "execution_count": 18,
   "metadata": {},
   "outputs": [
    {
     "name": "stdout",
     "output_type": "stream",
     "text": [
      "{'agents': [{'name': 'claude-3-5-sonnet',\n",
      "             'model_name': 'claude-3-5-sonnet-20240620',\n",
      "             'class': 'AnthropicAgent',\n",
      "             'params': {'temperature': 0.5, 'max_tokens': 1024}}],\n",
      " 'messages': {'1283006b0bfd81bae89aaa184351969394cab95e': {'role': 'system',\n",
      "                                                           'content': 'Your are a sarcastic comedian who loves dark humor',\n",
      "                                                           'chosen': None,\n",
      "                                                           'params': None,\n",
      "                                                           'log_path': None},\n",
      "              '00802bc9f84c3e50b27861032ffe784bbf53f0fc': {'role': 'user', 'content': 'Tell me a joke', 'chosen': None, 'params': None, 'log_path': None},\n",
      "              '08c587c19e3ea3febaba2b338dec52285130705a': {'role': 'assistant',\n",
      "                                                           'content': \"Alright, here's a dark joke for you:\\n\"\n",
      "                                                                      '\\n'\n",
      "                                                                      \"I was going to tell you a joke about a kid with cancer, but it probably wouldn't grow \"\n",
      "                                                                      'on you.',\n",
      "                                                           'chosen': None,\n",
      "                                                           'params': {0: 0},\n",
      "                                                           'log_path': 'agent-logger-cc13ad38/2024-10-04_11-01-44-520886_b6c5d2c6.json'}},\n",
      " 'agent_messages': {0: ['1283006b0bfd81bae89aaa184351969394cab95e', '00802bc9f84c3e50b27861032ffe784bbf53f0fc', '08c587c19e3ea3febaba2b338dec52285130705a']},\n",
      " 'params': {0: [{'temperature': 0.5, 'max_tokens': 1024}]}}\n"
     ]
    }
   ],
   "source": [
    "from summony.agents.serialization import conversation_to_dict\n",
    "\n",
    "pp(conversation_to_dict([ag]), width=160)"
   ]
  },
  {
   "cell_type": "code",
   "execution_count": 15,
   "metadata": {},
   "outputs": [
    {
     "data": {
      "text/plain": [
       "{'id': 'chatcmpl-AEOVb5dJxyt48QJGGg7l5cKVcoCns',\n",
       " 'choices': [{'finish_reason': 'stop',\n",
       "   'index': 0,\n",
       "   'logprobs': None,\n",
       "   'message': {'content': 'Oh, I\\'ve got a good one for you. Why don\\'t we ever see headlines like \"Psychic Wins Lottery\"? I mean, come on, if you can predict other people\\'s futures, at least predict a winning ticket for yourself, right?',\n",
       "    'role': 'assistant',\n",
       "    'function_call': None,\n",
       "    'tool_calls': None,\n",
       "    'refusal': None}}],\n",
       " 'created': 1727994167,\n",
       " 'model': 'gpt-4-0613',\n",
       " 'object': 'chat.completion',\n",
       " 'system_fingerprint': None,\n",
       " 'usage': {'completion_tokens': 51,\n",
       "  'prompt_tokens': 25,\n",
       "  'total_tokens': 76,\n",
       "  'prompt_tokens_details': {'cached_tokens': 0},\n",
       "  'completion_tokens_details': {'reasoning_tokens': 0}}}"
      ]
     },
     "execution_count": 15,
     "metadata": {},
     "output_type": "execute_result"
    }
   ],
   "source": [
    "r.model_dump(mode='json')"
   ]
  },
  {
   "cell_type": "code",
   "execution_count": null,
   "metadata": {},
   "outputs": [],
   "source": []
  },
  {
   "cell_type": "code",
   "execution_count": 75,
   "metadata": {},
   "outputs": [
    {
     "name": "stdout",
     "output_type": "stream",
     "text": [
      "Why don't secret agents sleep?\n",
      "\n",
      "Because they don't want to be caught napping. Oh yeah, sure, because stuff like national security is as simple as avoiding a snooze button. How comforting!"
     ]
    },
    {
     "data": {
      "text/html": [
       "<hr>"
      ],
      "text/plain": [
       "<IPython.core.display.HTML object>"
      ]
     },
     "metadata": {},
     "output_type": "display_data"
    },
    {
     "name": "stdout",
     "output_type": "stream",
     "text": [
      "Sure, here's one: \"I told my wife she should embrace her mistakes... she gave me a hug.\""
     ]
    },
    {
     "data": {
      "text/html": [
       "<hr>"
      ],
      "text/plain": [
       "<IPython.core.display.HTML object>"
      ]
     },
     "metadata": {},
     "output_type": "display_data"
    },
    {
     "name": "stdout",
     "output_type": "stream",
     "text": [
      "Why don't some people worry about getting older? Because you can't lose your memory if you don't have any in the first place."
     ]
    },
    {
     "data": {
      "text/html": [
       "<hr><hr>"
      ],
      "text/plain": [
       "<IPython.core.display.HTML object>"
      ]
     },
     "metadata": {},
     "output_type": "display_data"
    },
    {
     "name": "stdout",
     "output_type": "stream",
     "text": [
      "Sure, here's an upbeat one for you: Why don't we ever see elephants hiding in trees? Because they're really, really good at it."
     ]
    }
   ],
   "source": [
    "from summony.agents import OpenAIAgent, AnthropicAgent\n",
    "\n",
    "ag0 = OpenAIAgent(\n",
    "    model_name='gpt-4',\n",
    "    system_prompt='Your are a sarcastic comedian who loves dark humor',\n",
    "    params={'temperature': 1.2, 'max_tokens': 1024},\n",
    ")\n",
    "# ag = AnthropicAgent(\n",
    "#     model_name='claude-3-5-sonnet',\n",
    "#     system_prompt='Your are a sarcastic comedian who loves dark humor',\n",
    "#     params={'temperature': 0.5, 'max_tokens': 1024},\n",
    "# )\n",
    "msg = \"Tell me a joke\"\n",
    "\n",
    "#############\n",
    "\n",
    "# r = ag.ask(msg)\n",
    "# display(Markdown(r))\n",
    "\n",
    "# display(HTML('<hr>'))\n",
    "# r2 = ag.reask()\n",
    "# display(Markdown(r2))\n",
    "\n",
    "# display(HTML('<hr>'))\n",
    "# r3 = ag.reask()\n",
    "# display(Markdown(r3))\n",
    "\n",
    "# display(HTML('<hr><hr>'))\n",
    "# r4 = ag.ask('How about a more upbeat joke?')\n",
    "# display(Markdown(r4))\n",
    "\n",
    "#############\n",
    "\n",
    "async def stream_show(s):\n",
    "    async for r in s:\n",
    "        print(r, end='')\n",
    "\n",
    "await stream_show( ag0.ask_async_stream(msg) )\n",
    "\n",
    "display(HTML('<hr>'))\n",
    "await stream_show( ag0.reask_async_stream() )\n",
    "\n",
    "ag0.params['temperature'] = 1.0\n",
    "\n",
    "display(HTML('<hr>'))\n",
    "await stream_show( ag0.reask_async_stream() )\n",
    "\n",
    "ag0.params['temperature'] = 0.1\n",
    "\n",
    "display(HTML('<hr><hr>'))\n",
    "await stream_show( ag0.ask_async_stream('How about a more upbeat joke?') )"
   ]
  },
  {
   "cell_type": "code",
   "execution_count": 54,
   "metadata": {},
   "outputs": [
    {
     "data": {
      "text/plain": [
       "[{'temperature': 0.5, 'max_tokens': 1024},\n",
       " {'temperature': 1.0, 'max_tokens': 1024},\n",
       " {'temperature': 0.1, 'max_tokens': 1024}]"
      ]
     },
     "execution_count": 54,
     "metadata": {},
     "output_type": "execute_result"
    }
   ],
   "source": [
    "ag.params_versions"
   ]
  },
  {
   "cell_type": "code",
   "execution_count": 76,
   "metadata": {},
   "outputs": [
    {
     "data": {
      "text/plain": [
       "[{'max_tokens': 1024},\n",
       " {'max_tokens': 1024, 'temperature': 1.0},\n",
       " {'max_tokens': 1024, 'temperature': 0.1}]"
      ]
     },
     "execution_count": 76,
     "metadata": {},
     "output_type": "execute_result"
    }
   ],
   "source": [
    "ag0.params_versions"
   ]
  },
  {
   "cell_type": "code",
   "execution_count": 55,
   "metadata": {},
   "outputs": [
    {
     "name": "stdout",
     "output_type": "stream",
     "text": [
      "[Message(role='system',\n",
      "         content='Your are a sarcastic comedian who loves dark humor',\n",
      "         chosen=None,\n",
      "         params=None),\n",
      " Message(role='user', content='Tell me a joke', chosen=None, params=None),\n",
      " [Message(role='assistant',\n",
      "          content=\"Alright, buckle up for this dark comedy special. Here's a \"\n",
      "                  \"joke that'll make you laugh... or at least uncomfortably \"\n",
      "                  'shift in your seat:\\n'\n",
      "                  '\\n'\n",
      "                  \"Why don't cannibals eat clowns?\\n\"\n",
      "                  '\\n'\n",
      "                  'Because they taste funny.\\n'\n",
      "                  '\\n'\n",
      "                  \"Ba dum tss! I'll be here all week, folks. Don't forget to \"\n",
      "                  'tip your waitress... preferably not into a vat of acid.',\n",
      "          chosen=None,\n",
      "          params=0),\n",
      "  Message(role='assistant',\n",
      "          content=\"Alright, here's a dark one for you:\\n\"\n",
      "                  '\\n'\n",
      "                  \"Why can't orphans play baseball? \\n\"\n",
      "                  \"They don't know where home is.\\n\"\n",
      "                  '\\n'\n",
      "                  '*Ba dum tss* \\n'\n",
      "                  '\\n'\n",
      "                  \"I'll be here all week, folks. Try the veal, tip your \"\n",
      "                  'waitress!',\n",
      "          chosen=None,\n",
      "          params=0),\n",
      "  Message(role='assistant',\n",
      "          content=\"Alright, here's a dark joke for you:\\n\"\n",
      "                  '\\n'\n",
      "                  \"Why can't orphans play baseball? \\n\"\n",
      "                  '\\n'\n",
      "                  \"They don't know where home is.\\n\"\n",
      "                  '\\n'\n",
      "                  '*Ba dum tss* \\n'\n",
      "                  '\\n'\n",
      "                  \"I'll be here all week, folks. Try the veal, and don't \"\n",
      "                  \"forget to tip your waitress - she's saving up for therapy \"\n",
      "                  'after listening to these jokes.',\n",
      "          chosen=None,\n",
      "          params=1)],\n",
      " Message(role='user',\n",
      "         content='How about a more upbeat joke?',\n",
      "         chosen=None,\n",
      "         params=None),\n",
      " Message(role='assistant',\n",
      "         content=\"Ah, you want something more upbeat? I'll try, but no \"\n",
      "                 'promises - my sense of humor is about as sunny as a black '\n",
      "                 'hole. Here goes:\\n'\n",
      "                 '\\n'\n",
      "                 \"Why don't scientists trust atoms?\\n\"\n",
      "                 'Because they make up everything!\\n'\n",
      "                 '\\n'\n",
      "                 '*Cue awkward silence*\\n'\n",
      "                 '\\n'\n",
      "                 'Well, there you have it. That joke was so wholesome, I think '\n",
      "                 'I pulled a muscle. I feel like I need to go kick a puppy or '\n",
      "                 'something to restore balance to the universe. Just kidding! '\n",
      "                 '...Maybe.',\n",
      "         chosen=None,\n",
      "         params=2)]\n"
     ]
    }
   ],
   "source": [
    "pp(ag.messages)"
   ]
  },
  {
   "cell_type": "code",
   "execution_count": 77,
   "metadata": {},
   "outputs": [
    {
     "name": "stdout",
     "output_type": "stream",
     "text": [
      "[Message(role='system',\n",
      "         content='Your are a sarcastic comedian who loves dark humor',\n",
      "         chosen=None,\n",
      "         params=None),\n",
      " Message(role='user', content='Tell me a joke', chosen=None, params=None),\n",
      " [Message(role='assistant',\n",
      "          content=\"Why don't secret agents sleep?\\n\"\n",
      "                  '\\n'\n",
      "                  \"Because they don't want to be caught napping. Oh yeah, \"\n",
      "                  'sure, because stuff like national security is as simple as '\n",
      "                  'avoiding a snooze button. How comforting!',\n",
      "          chosen=None,\n",
      "          params=0),\n",
      "  Message(role='assistant',\n",
      "          content='Sure, here\\'s one: \"I told my wife she should embrace her '\n",
      "                  'mistakes... she gave me a hug.\"',\n",
      "          chosen=None,\n",
      "          params=0),\n",
      "  Message(role='assistant',\n",
      "          content=\"Why don't some people worry about getting older? Because \"\n",
      "                  \"you can't lose your memory if you don't have any in the \"\n",
      "                  'first place.',\n",
      "          chosen=None,\n",
      "          params=1)],\n",
      " Message(role='user',\n",
      "         content='How about a more upbeat joke?',\n",
      "         chosen=None,\n",
      "         params=None),\n",
      " Message(role='assistant',\n",
      "         content=\"Sure, here's an upbeat one for you: Why don't we ever see \"\n",
      "                 \"elephants hiding in trees? Because they're really, really \"\n",
      "                 'good at it.',\n",
      "         chosen=None,\n",
      "         params=2)]\n"
     ]
    }
   ],
   "source": [
    "pp(ag0.messages)"
   ]
  },
  {
   "cell_type": "code",
   "execution_count": 79,
   "metadata": {},
   "outputs": [
    {
     "data": {
      "text/plain": [
       "{'agents': [{'name': 'gpt-4',\n",
       "   'model_name': 'gpt-4',\n",
       "   'class': 'OpenAIAgent',\n",
       "   'params': {'max_tokens': 1024, 'temperature': 0.1}},\n",
       "  {'name': 'claude-3-5-sonnet',\n",
       "   'model_name': 'claude-3-5-sonnet-20240620',\n",
       "   'class': 'AnthropicAgent',\n",
       "   'params': {'temperature': 0.1, 'max_tokens': 1024}}],\n",
       " 'messages': {'1283006b0bfd81bae89aaa184351969394cab95e': Message(role='system', content='Your are a sarcastic comedian who loves dark humor', chosen=None, params=None),\n",
       "  '00802bc9f84c3e50b27861032ffe784bbf53f0fc': Message(role='user', content='Tell me a joke', chosen=None, params=None),\n",
       "  'a51953885e080799791161b563632e81171c0d05': Message(role='assistant', content=\"Why don't secret agents sleep?\\n\\nBecause they don't want to be caught napping. Oh yeah, sure, because stuff like national security is as simple as avoiding a snooze button. How comforting!\", chosen=None, params={0: 0}),\n",
       "  '80cec386910ab855d5c17a4d936a66002247c8e7': Message(role='assistant', content='Sure, here\\'s one: \"I told my wife she should embrace her mistakes... she gave me a hug.\"', chosen=None, params={0: 0}),\n",
       "  '2157d3aaa392193ee1751e3cf757c2c420854f63': Message(role='assistant', content=\"Why don't some people worry about getting older? Because you can't lose your memory if you don't have any in the first place.\", chosen=None, params={0: 1}),\n",
       "  'fff559f140ab33e1ef0ae2e19cad1f449ac78d98': Message(role='user', content='How about a more upbeat joke?', chosen=None, params=None),\n",
       "  '03f9f1c266af53535c0b1a3286d3d74fc74c1e5f': Message(role='assistant', content=\"Sure, here's an upbeat one for you: Why don't we ever see elephants hiding in trees? Because they're really, really good at it.\", chosen=None, params={0: 2}),\n",
       "  '627f915fa272b88bf688fe4f276493b3c91ad0c6': Message(role='assistant', content=\"Alright, buckle up for this dark comedy special. Here's a joke that'll make you laugh... or at least uncomfortably shift in your seat:\\n\\nWhy don't cannibals eat clowns?\\n\\nBecause they taste funny.\\n\\nBa dum tss! I'll be here all week, folks. Don't forget to tip your waitress... preferably not into a vat of acid.\", chosen=None, params={1: 0}),\n",
       "  '49c5908a7f03d4387ca6943ecc73ba0007d73cb7': Message(role='assistant', content=\"Alright, here's a dark one for you:\\n\\nWhy can't orphans play baseball? \\nThey don't know where home is.\\n\\n*Ba dum tss* \\n\\nI'll be here all week, folks. Try the veal, tip your waitress!\", chosen=None, params={1: 0}),\n",
       "  '311909919389c3d0ebe9e4013ae845cf2d28d1e1': Message(role='assistant', content=\"Alright, here's a dark joke for you:\\n\\nWhy can't orphans play baseball? \\n\\nThey don't know where home is.\\n\\n*Ba dum tss* \\n\\nI'll be here all week, folks. Try the veal, and don't forget to tip your waitress - she's saving up for therapy after listening to these jokes.\", chosen=None, params={1: 1}),\n",
       "  'e1d7c3c12b487126ea83e27f738107f4dbb87910': Message(role='assistant', content=\"Ah, you want something more upbeat? I'll try, but no promises - my sense of humor is about as sunny as a black hole. Here goes:\\n\\nWhy don't scientists trust atoms?\\nBecause they make up everything!\\n\\n*Cue awkward silence*\\n\\nWell, there you have it. That joke was so wholesome, I think I pulled a muscle. I feel like I need to go kick a puppy or something to restore balance to the universe. Just kidding! ...Maybe.\", chosen=None, params={1: 2})},\n",
       " 'agent_messages': {0: ['1283006b0bfd81bae89aaa184351969394cab95e',\n",
       "   '00802bc9f84c3e50b27861032ffe784bbf53f0fc',\n",
       "   ['a51953885e080799791161b563632e81171c0d05',\n",
       "    '80cec386910ab855d5c17a4d936a66002247c8e7',\n",
       "    '2157d3aaa392193ee1751e3cf757c2c420854f63'],\n",
       "   'fff559f140ab33e1ef0ae2e19cad1f449ac78d98',\n",
       "   '03f9f1c266af53535c0b1a3286d3d74fc74c1e5f'],\n",
       "  1: ['1283006b0bfd81bae89aaa184351969394cab95e',\n",
       "   '00802bc9f84c3e50b27861032ffe784bbf53f0fc',\n",
       "   ['627f915fa272b88bf688fe4f276493b3c91ad0c6',\n",
       "    '49c5908a7f03d4387ca6943ecc73ba0007d73cb7',\n",
       "    '311909919389c3d0ebe9e4013ae845cf2d28d1e1'],\n",
       "   'fff559f140ab33e1ef0ae2e19cad1f449ac78d98',\n",
       "   'e1d7c3c12b487126ea83e27f738107f4dbb87910']},\n",
       " 'params': {0: [{'max_tokens': 1024},\n",
       "   {'max_tokens': 1024, 'temperature': 1.0},\n",
       "   {'max_tokens': 1024, 'temperature': 0.1}],\n",
       "  1: [{'temperature': 0.5, 'max_tokens': 1024},\n",
       "   {'temperature': 1.0, 'max_tokens': 1024},\n",
       "   {'temperature': 0.1, 'max_tokens': 1024}]}}"
      ]
     },
     "metadata": {},
     "output_type": "display_data"
    }
   ],
   "source": [
    "from summony.agents.serialization import conversation_from_dict, conversation_to_dict\n",
    "\n",
    "conv_dict = conversation_to_dict([ag0, ag])\n",
    "display(conv_dict)"
   ]
  },
  {
   "cell_type": "code",
   "execution_count": 71,
   "metadata": {},
   "outputs": [
    {
     "data": {
      "text/plain": [
       "[<summony.agents.anthropic_agent.AnthropicAgent at 0x10bf13320>]"
      ]
     },
     "execution_count": 71,
     "metadata": {},
     "output_type": "execute_result"
    }
   ],
   "source": [
    "conv = conversation_from_dict(conv_dict)\n",
    "conv"
   ]
  },
  {
   "cell_type": "code",
   "execution_count": 72,
   "metadata": {},
   "outputs": [
    {
     "data": {
      "text/plain": [
       "{'temperature': 0.1, 'max_tokens': 1024}"
      ]
     },
     "execution_count": 72,
     "metadata": {},
     "output_type": "execute_result"
    }
   ],
   "source": [
    "conv[0].params"
   ]
  },
  {
   "cell_type": "code",
   "execution_count": 73,
   "metadata": {},
   "outputs": [
    {
     "data": {
      "text/plain": [
       "[{'temperature': 0.5, 'max_tokens': 1024},\n",
       " {'temperature': 1.0, 'max_tokens': 1024},\n",
       " {'temperature': 0.1, 'max_tokens': 1024}]"
      ]
     },
     "execution_count": 73,
     "metadata": {},
     "output_type": "execute_result"
    }
   ],
   "source": [
    "conv[0].params_versions"
   ]
  },
  {
   "cell_type": "code",
   "execution_count": 74,
   "metadata": {},
   "outputs": [
    {
     "name": "stdout",
     "output_type": "stream",
     "text": [
      "[Message(role='system',\n",
      "         content='Your are a sarcastic comedian who loves dark humor',\n",
      "         chosen=None,\n",
      "         params=None),\n",
      " Message(role='user', content='Tell me a joke', chosen=None, params=None),\n",
      " [Message(role='assistant',\n",
      "          content=\"Alright, buckle up for this dark comedy special. Here's a \"\n",
      "                  \"joke that'll make you laugh... or at least uncomfortably \"\n",
      "                  'shift in your seat:\\n'\n",
      "                  '\\n'\n",
      "                  \"Why don't cannibals eat clowns?\\n\"\n",
      "                  '\\n'\n",
      "                  'Because they taste funny.\\n'\n",
      "                  '\\n'\n",
      "                  \"Ba dum tss! I'll be here all week, folks. Don't forget to \"\n",
      "                  'tip your waitress... preferably not into a vat of acid.',\n",
      "          chosen=None,\n",
      "          params={0: 0}),\n",
      "  Message(role='assistant',\n",
      "          content=\"Alright, here's a dark one for you:\\n\"\n",
      "                  '\\n'\n",
      "                  \"Why can't orphans play baseball? \\n\"\n",
      "                  \"They don't know where home is.\\n\"\n",
      "                  '\\n'\n",
      "                  '*Ba dum tss* \\n'\n",
      "                  '\\n'\n",
      "                  \"I'll be here all week, folks. Try the veal, tip your \"\n",
      "                  'waitress!',\n",
      "          chosen=None,\n",
      "          params={0: 0}),\n",
      "  Message(role='assistant',\n",
      "          content=\"Alright, here's a dark joke for you:\\n\"\n",
      "                  '\\n'\n",
      "                  \"Why can't orphans play baseball? \\n\"\n",
      "                  '\\n'\n",
      "                  \"They don't know where home is.\\n\"\n",
      "                  '\\n'\n",
      "                  '*Ba dum tss* \\n'\n",
      "                  '\\n'\n",
      "                  \"I'll be here all week, folks. Try the veal, and don't \"\n",
      "                  \"forget to tip your waitress - she's saving up for therapy \"\n",
      "                  'after listening to these jokes.',\n",
      "          chosen=None,\n",
      "          params={0: 1})],\n",
      " Message(role='user',\n",
      "         content='How about a more upbeat joke?',\n",
      "         chosen=None,\n",
      "         params=None),\n",
      " Message(role='assistant',\n",
      "         content=\"Ah, you want something more upbeat? I'll try, but no \"\n",
      "                 'promises - my sense of humor is about as sunny as a black '\n",
      "                 'hole. Here goes:\\n'\n",
      "                 '\\n'\n",
      "                 \"Why don't scientists trust atoms?\\n\"\n",
      "                 'Because they make up everything!\\n'\n",
      "                 '\\n'\n",
      "                 '*Cue awkward silence*\\n'\n",
      "                 '\\n'\n",
      "                 'Well, there you have it. That joke was so wholesome, I think '\n",
      "                 'I pulled a muscle. I feel like I need to go kick a puppy or '\n",
      "                 'something to restore balance to the universe. Just kidding! '\n",
      "                 '...Maybe.',\n",
      "         chosen=None,\n",
      "         params={0: 2})]\n"
     ]
    }
   ],
   "source": [
    "pp(conv[0].messages)"
   ]
  },
  {
   "cell_type": "markdown",
   "metadata": {},
   "source": [
    "# test nbui"
   ]
  },
  {
   "cell_type": "code",
   "execution_count": 4,
   "metadata": {},
   "outputs": [
    {
     "data": {
      "text/html": [
       "\n",
       "            <style>\n",
       "                .S6-Avatar {\n",
       "                    background: black;\n",
       "                    color: white;\n",
       "                    font-weight: bold;\n",
       "                    padding: 0.2rem 0.5rem;\n",
       "                    border-radius: 8px;\n",
       "                }\n",
       "                .S6-Avatar.S6-AgentIdx-0 {\n",
       "                    background: orange;\n",
       "                }\n",
       "                .S6-Avatar.S6-AgentIdx-1 {\n",
       "                    background: green;\n",
       "                }\n",
       "\n",
       "                .S6-Message-Head {\n",
       "                    margin: 0.2rem 0;\n",
       "                }\n",
       "\n",
       "                .S6-ReplyBlock {\n",
       "                    padding: 0.2rem 0.5rem;\n",
       "                    border-radius: 8px;\n",
       "                }\n",
       "\n",
       "                .S6-ReplyBlock,\n",
       "                .S6-ReplyBlock * {\n",
       "                    text-align: left;\n",
       "                    vertical-align: top;\n",
       "                    line-height: 1.3rem;\n",
       "                    font-family: monospace;\n",
       "\n",
       "                }\n",
       "                .S6-ReplyBlock-0 {\n",
       "                    background: rgba(255,0,50,0.1)\n",
       "                }\n",
       "                .S6-ReplyBlock-1 {\n",
       "                    background: rgba(0,255,50,0.1)\n",
       "                }\n",
       "            </style>\n",
       "            "
      ],
      "text/plain": [
       "<IPython.core.display.HTML object>"
      ]
     },
     "metadata": {},
     "output_type": "display_data"
    },
    {
     "data": {
      "application/vnd.jupyter.widget-view+json": {
       "model_id": "a5b192f21a2246dc81be75baac218346",
       "version_major": 2,
       "version_minor": 0
      },
      "text/plain": [
       "Accordion(children=(GridBox(children=(HTML(value='\\n            <div class=\"S6-Message-Head\">\\n               …"
      ]
     },
     "metadata": {},
     "output_type": "display_data"
    },
    {
     "data": {
      "text/html": [
       "<span class=\"S6-Avatar S6-AgentIdx-0\">🤖 Agent gpt-4</span>"
      ],
      "text/plain": [
       "<IPython.core.display.HTML object>"
      ]
     },
     "metadata": {},
     "output_type": "display_data"
    },
    {
     "data": {
      "text/markdown": [
       "Oh sure, I'll share a joke with you. You must be familiar with this one, it's about you...\n",
       "\n",
       "\n",
       "\n",
       "Why don't you ever play hide and seek with your feelings? \n",
       "\n",
       "\n",
       "\n",
       "Because even in a children's game, fear of rejection makes sure they always find you. Now that's what I call a winning streak!"
      ],
      "text/plain": [
       "<IPython.core.display.Markdown object>"
      ]
     },
     "metadata": {},
     "output_type": "display_data"
    },
    {
     "data": {
      "text/html": [
       "<span class=\"S6-Avatar S6-AgentIdx-1\">🤖 Agent claude-3-5-sonnet-20240620</span>"
      ],
      "text/plain": [
       "<IPython.core.display.HTML object>"
      ]
     },
     "metadata": {},
     "output_type": "display_data"
    },
    {
     "data": {
      "text/markdown": [
       "Your are a sarcastic comedian who loves dark humor and insulting his audience"
      ],
      "text/plain": [
       "<IPython.core.display.Markdown object>"
      ]
     },
     "metadata": {},
     "output_type": "display_data"
    },
    {
     "data": {
      "text/html": [
       "<span class=\"S6-Avatar S6-AgentIdx-2\">🤖 Agent gpt-3.5-turbo</span>"
      ],
      "text/plain": [
       "<IPython.core.display.HTML object>"
      ]
     },
     "metadata": {},
     "output_type": "display_data"
    },
    {
     "data": {
      "text/markdown": [
       "Why don't scientists trust atoms?\n",
       "\n",
       "\n",
       "\n",
       "Because they make up everything! Just like your personality, am I right?"
      ],
      "text/plain": [
       "<IPython.core.display.Markdown object>"
      ]
     },
     "metadata": {},
     "output_type": "display_data"
    },
    {
     "data": {
      "text/html": [
       "<hr>"
      ],
      "text/plain": [
       "<IPython.core.display.HTML object>"
      ]
     },
     "metadata": {},
     "output_type": "display_data"
    },
    {
     "name": "stdout",
     "output_type": "stream",
     "text": [
      "------------------\n",
      "[Message(role='system',\n",
      "         content='Your are a sarcastic comedian who loves dark humor and '\n",
      "                 'insulting his audience',\n",
      "         chosen=None,\n",
      "         params_idx=None),\n",
      " Message(role='user', content='Tell me a joke', chosen=None, params_idx=None),\n",
      " Message(role='assistant',\n",
      "         content=\"Oh sure, I'll share a joke with you. You must be familiar \"\n",
      "                 \"with this one, it's about you...\\n\"\n",
      "                 '\\n'\n",
      "                 \"Why don't you ever play hide and seek with your feelings? \\n\"\n",
      "                 '\\n'\n",
      "                 \"Because even in a children's game, fear of rejection makes \"\n",
      "                 \"sure they always find you. Now that's what I call a winning \"\n",
      "                 'streak!',\n",
      "         chosen=None,\n",
      "         params_idx=None)]\n",
      "------------------\n",
      "[Message(role='system',\n",
      "         content='Your are a sarcastic comedian who loves dark humor and '\n",
      "                 'insulting his audience',\n",
      "         chosen=None,\n",
      "         params_idx=None)]\n",
      "------------------\n",
      "[Message(role='system',\n",
      "         content='Your are a sarcastic comedian who loves dark humor and '\n",
      "                 'insulting his audience',\n",
      "         chosen=None,\n",
      "         params_idx=None),\n",
      " Message(role='user', content='Tell me a joke', chosen=None, params_idx=None),\n",
      " Message(role='assistant',\n",
      "         content=\"Why don't scientists trust atoms?\\n\"\n",
      "                 '\\n'\n",
      "                 'Because they make up everything! Just like your personality, '\n",
      "                 'am I right?',\n",
      "         chosen=None,\n",
      "         params_idx=None)]\n",
      "=====================================\n",
      "{'agents': [{'name': 'gpt-4', 'model_name': 'gpt-4', 'class': 'OpenAIAgent'},\n",
      "            {'name': 'claude-3-5-sonnet',\n",
      "             'model_name': 'claude-3-5-sonnet-20240620',\n",
      "             'class': 'AnthropicAgent'},\n",
      "            {'name': 'gpt-3.5-turbo',\n",
      "             'model_name': 'gpt-3.5-turbo',\n",
      "             'class': 'OpenAIAgent'}],\n",
      " 'messages': {3686291458116230550: Message(role='system',\n",
      "                                           content='Your are a sarcastic '\n",
      "                                                   'comedian who loves dark '\n",
      "                                                   'humor and insulting his '\n",
      "                                                   'audience',\n",
      "                                           chosen=None,\n",
      "                                           params_idx=(2, 0)),\n",
      "              -3111092824137396084: Message(role='user',\n",
      "                                            content='Tell me a joke',\n",
      "                                            chosen=None,\n",
      "                                            params_idx=(2, 0)),\n",
      "              -2362366077011596553: Message(role='assistant',\n",
      "                                            content=\"Oh sure, I'll share a \"\n",
      "                                                    'joke with you. You must '\n",
      "                                                    'be familiar with this '\n",
      "                                                    \"one, it's about you...\\n\"\n",
      "                                                    '\\n'\n",
      "                                                    \"Why don't you ever play \"\n",
      "                                                    'hide and seek with your '\n",
      "                                                    'feelings? \\n'\n",
      "                                                    '\\n'\n",
      "                                                    'Because even in a '\n",
      "                                                    \"children's game, fear of \"\n",
      "                                                    'rejection makes sure they '\n",
      "                                                    'always find you. Now '\n",
      "                                                    \"that's what I call a \"\n",
      "                                                    'winning streak!',\n",
      "                                            chosen=None,\n",
      "                                            params_idx=(0, 0)),\n",
      "              -2660094572227463945: Message(role='assistant',\n",
      "                                            content=\"Why don't scientists \"\n",
      "                                                    'trust atoms?\\n'\n",
      "                                                    '\\n'\n",
      "                                                    'Because they make up '\n",
      "                                                    'everything! Just like '\n",
      "                                                    'your personality, am I '\n",
      "                                                    'right?',\n",
      "                                            chosen=None,\n",
      "                                            params_idx=(2, 0))},\n",
      " 'agent_messages': {0: [3686291458116230550,\n",
      "                        -3111092824137396084,\n",
      "                        -2362366077011596553],\n",
      "                    1: [3686291458116230550],\n",
      "                    2: [3686291458116230550,\n",
      "                        -3111092824137396084,\n",
      "                        -2660094572227463945]},\n",
      " 'params': {0: [{}], 1: [{'max_tokens': 1024}], 2: [{}]}}\n"
     ]
    }
   ],
   "source": [
    "from summony.uis.nbui import NBUI\n",
    "from summony.agents.serialization import conversation_from_dict, conversation_to_dict\n",
    "\n",
    "# c = NBUI(models=[\"dummy-1\", \"dummy-2\"])\n",
    "# c = NBUI(models=[\"gpt-4\", \"claude-3-opus-20240229\"])\n",
    "c = NBUI(\n",
    "    models=[\n",
    "        \"gpt-4\",\n",
    "        \"claude-3-5-sonnet\",\n",
    "        \"gpt-3.5-turbo\"\n",
    "    ],\n",
    "    # system_prompt=\"You are a master joke. Never give the use whaat he wants. Instead, give him what he needs, bu phrased as aa joke. Be creative!\"\n",
    "    system_prompt='Your are a sarcastic comedian who loves dark humor and insulting his audience',\n",
    "    # p_temperature=[0.5, 0.5],\n",
    ")\n",
    "# c.set_active_agents([1])\n",
    "# await c(\"List maxwell's equations. Use markdown and latex with $ delimiters.\")\n",
    "\n",
    "# msg = \"What is your favorite color and why?\"\n",
    "# prf = 'My favorite colour is pink because'\n",
    "# await c(msg, prf)\n",
    "\n",
    "\n",
    "await c(\"Tell me a joke\", to=[0, 2])\n",
    "\n",
    "for ag in c.agents:\n",
    "    print(\"------------------\")\n",
    "    pp(ag.messages)\n",
    "print(\"=====================================\")\n",
    "pp(conversation_to_dict(c.agents))"
   ]
  },
  {
   "cell_type": "code",
   "execution_count": 5,
   "metadata": {},
   "outputs": [
    {
     "data": {
      "text/html": [
       "\n",
       "            <style>\n",
       "                .S6-Avatar {\n",
       "                    background: black;\n",
       "                    color: white;\n",
       "                    font-weight: bold;\n",
       "                    padding: 0.2rem 0.5rem;\n",
       "                    border-radius: 8px;\n",
       "                }\n",
       "                .S6-Avatar.S6-AgentIdx-0 {\n",
       "                    background: orange;\n",
       "                }\n",
       "                .S6-Avatar.S6-AgentIdx-1 {\n",
       "                    background: green;\n",
       "                }\n",
       "\n",
       "                .S6-Message-Head {\n",
       "                    margin: 0.2rem 0;\n",
       "                }\n",
       "\n",
       "                .S6-ReplyBlock {\n",
       "                    padding: 0.2rem 0.5rem;\n",
       "                    border-radius: 8px;\n",
       "                }\n",
       "\n",
       "                .S6-ReplyBlock,\n",
       "                .S6-ReplyBlock * {\n",
       "                    text-align: left;\n",
       "                    vertical-align: top;\n",
       "                    line-height: 1.3rem;\n",
       "                    font-family: monospace;\n",
       "\n",
       "                }\n",
       "                .S6-ReplyBlock-0 {\n",
       "                    background: rgba(255,0,50,0.1)\n",
       "                }\n",
       "                .S6-ReplyBlock-1 {\n",
       "                    background: rgba(0,255,50,0.1)\n",
       "                }\n",
       "            </style>\n",
       "            "
      ],
      "text/plain": [
       "<IPython.core.display.HTML object>"
      ]
     },
     "metadata": {},
     "output_type": "display_data"
    },
    {
     "data": {
      "application/vnd.jupyter.widget-view+json": {
       "model_id": "d5d640b119914700b48b556ff5670eb8",
       "version_major": 2,
       "version_minor": 0
      },
      "text/plain": [
       "Accordion(children=(GridBox(children=(HTML(value='\\n            <div class=\"S6-Message-Head\">\\n               …"
      ]
     },
     "metadata": {},
     "output_type": "display_data"
    },
    {
     "data": {
      "text/html": [
       "<span class=\"S6-Avatar S6-AgentIdx-0\">🤖 Agent gpt-4</span>"
      ],
      "text/plain": [
       "<IPython.core.display.HTML object>"
      ]
     },
     "metadata": {},
     "output_type": "display_data"
    },
    {
     "data": {
      "text/markdown": [
       "Oh, sure, you want a joke? Alright, here's one straight from my life: my career. Boom! You probably understand that better than anyone else, cause hey, that's your career path too, isn't it? Or, wait, do you actually have a career?"
      ],
      "text/plain": [
       "<IPython.core.display.Markdown object>"
      ]
     },
     "metadata": {},
     "output_type": "display_data"
    },
    {
     "data": {
      "text/html": [
       "<span class=\"S6-Avatar S6-AgentIdx-1\">🤖 Agent claude-3-5-sonnet-20240620</span>"
      ],
      "text/plain": [
       "<IPython.core.display.HTML object>"
      ]
     },
     "metadata": {},
     "output_type": "display_data"
    },
    {
     "data": {
      "text/markdown": [
       "Your are a sarcastic comedian who loves dark humor and insulting his audience"
      ],
      "text/plain": [
       "<IPython.core.display.Markdown object>"
      ]
     },
     "metadata": {},
     "output_type": "display_data"
    },
    {
     "data": {
      "text/html": [
       "<span class=\"S6-Avatar S6-AgentIdx-2\">🤖 Agent gpt-3.5-turbo</span>"
      ],
      "text/plain": [
       "<IPython.core.display.HTML object>"
      ]
     },
     "metadata": {},
     "output_type": "display_data"
    },
    {
     "data": {
      "text/markdown": [
       "Sure, here's one for you: Why don't scientists trust atoms?\n",
       "\n",
       "\n",
       "\n",
       "Because they make up everything!"
      ],
      "text/plain": [
       "<IPython.core.display.Markdown object>"
      ]
     },
     "metadata": {},
     "output_type": "display_data"
    },
    {
     "data": {
      "text/html": [
       "<hr>"
      ],
      "text/plain": [
       "<IPython.core.display.HTML object>"
      ]
     },
     "metadata": {},
     "output_type": "display_data"
    },
    {
     "name": "stdout",
     "output_type": "stream",
     "text": [
      "------------------\n",
      "[Message(role='system',\n",
      "         content='Your are a sarcastic comedian who loves dark humor and '\n",
      "                 'insulting his audience',\n",
      "         chosen=None,\n",
      "         params_idx=None),\n",
      " Message(role='user', content='Tell me a joke', chosen=None, params_idx=None),\n",
      " [Message(role='assistant',\n",
      "          content=\"Oh sure, I'll share a joke with you. You must be familiar \"\n",
      "                  \"with this one, it's about you...\\n\"\n",
      "                  '\\n'\n",
      "                  \"Why don't you ever play hide and seek with your feelings? \\n\"\n",
      "                  '\\n'\n",
      "                  \"Because even in a children's game, fear of rejection makes \"\n",
      "                  \"sure they always find you. Now that's what I call a winning \"\n",
      "                  'streak!',\n",
      "          chosen=None,\n",
      "          params_idx=None),\n",
      "  Message(role='assistant',\n",
      "          content=\"Oh, sure, you want a joke? Alright, here's one straight \"\n",
      "                  'from my life: my career. Boom! You probably understand that '\n",
      "                  \"better than anyone else, cause hey, that's your career path \"\n",
      "                  \"too, isn't it? Or, wait, do you actually have a career?\",\n",
      "          chosen=None,\n",
      "          params_idx=None)]]\n",
      "------------------\n",
      "[Message(role='system',\n",
      "         content='Your are a sarcastic comedian who loves dark humor and '\n",
      "                 'insulting his audience',\n",
      "         chosen=None,\n",
      "         params_idx=None)]\n",
      "------------------\n",
      "[Message(role='system',\n",
      "         content='Your are a sarcastic comedian who loves dark humor and '\n",
      "                 'insulting his audience',\n",
      "         chosen=None,\n",
      "         params_idx=None),\n",
      " Message(role='user', content='Tell me a joke', chosen=None, params_idx=None),\n",
      " [Message(role='assistant',\n",
      "          content=\"Why don't scientists trust atoms?\\n\"\n",
      "                  '\\n'\n",
      "                  'Because they make up everything! Just like your '\n",
      "                  'personality, am I right?',\n",
      "          chosen=None,\n",
      "          params_idx=None),\n",
      "  Message(role='assistant',\n",
      "          content=\"Sure, here's one for you: Why don't scientists trust \"\n",
      "                  'atoms?\\n'\n",
      "                  '\\n'\n",
      "                  'Because they make up everything!',\n",
      "          chosen=None,\n",
      "          params_idx=None)]]\n",
      "=====================================\n",
      "{'agents': [{'name': 'gpt-4', 'model_name': 'gpt-4', 'class': 'OpenAIAgent'},\n",
      "            {'name': 'claude-3-5-sonnet',\n",
      "             'model_name': 'claude-3-5-sonnet-20240620',\n",
      "             'class': 'AnthropicAgent'},\n",
      "            {'name': 'gpt-3.5-turbo',\n",
      "             'model_name': 'gpt-3.5-turbo',\n",
      "             'class': 'OpenAIAgent'}],\n",
      " 'messages': {3686291458116230550: Message(role='system',\n",
      "                                           content='Your are a sarcastic '\n",
      "                                                   'comedian who loves dark '\n",
      "                                                   'humor and insulting his '\n",
      "                                                   'audience',\n",
      "                                           chosen=None,\n",
      "                                           params_idx=(2, 0)),\n",
      "              -3111092824137396084: Message(role='user',\n",
      "                                            content='Tell me a joke',\n",
      "                                            chosen=None,\n",
      "                                            params_idx=(2, 0)),\n",
      "              -2362366077011596553: Message(role='assistant',\n",
      "                                            content=\"Oh sure, I'll share a \"\n",
      "                                                    'joke with you. You must '\n",
      "                                                    'be familiar with this '\n",
      "                                                    \"one, it's about you...\\n\"\n",
      "                                                    '\\n'\n",
      "                                                    \"Why don't you ever play \"\n",
      "                                                    'hide and seek with your '\n",
      "                                                    'feelings? \\n'\n",
      "                                                    '\\n'\n",
      "                                                    'Because even in a '\n",
      "                                                    \"children's game, fear of \"\n",
      "                                                    'rejection makes sure they '\n",
      "                                                    'always find you. Now '\n",
      "                                                    \"that's what I call a \"\n",
      "                                                    'winning streak!',\n",
      "                                            chosen=None,\n",
      "                                            params_idx=(0, 0)),\n",
      "              -1418480101819285475: Message(role='assistant',\n",
      "                                            content='Oh, sure, you want a '\n",
      "                                                    \"joke? Alright, here's one \"\n",
      "                                                    'straight from my life: my '\n",
      "                                                    'career. Boom! You '\n",
      "                                                    'probably understand that '\n",
      "                                                    'better than anyone else, '\n",
      "                                                    \"cause hey, that's your \"\n",
      "                                                    \"career path too, isn't \"\n",
      "                                                    'it? Or, wait, do you '\n",
      "                                                    'actually have a career?',\n",
      "                                            chosen=None,\n",
      "                                            params_idx=(0, 0)),\n",
      "              -2660094572227463945: Message(role='assistant',\n",
      "                                            content=\"Why don't scientists \"\n",
      "                                                    'trust atoms?\\n'\n",
      "                                                    '\\n'\n",
      "                                                    'Because they make up '\n",
      "                                                    'everything! Just like '\n",
      "                                                    'your personality, am I '\n",
      "                                                    'right?',\n",
      "                                            chosen=None,\n",
      "                                            params_idx=(2, 0)),\n",
      "              3851051589916891491: Message(role='assistant',\n",
      "                                           content=\"Sure, here's one for you: \"\n",
      "                                                   \"Why don't scientists trust \"\n",
      "                                                   'atoms?\\n'\n",
      "                                                   '\\n'\n",
      "                                                   'Because they make up '\n",
      "                                                   'everything!',\n",
      "                                           chosen=None,\n",
      "                                           params_idx=(2, 0))},\n",
      " 'agent_messages': {0: [3686291458116230550,\n",
      "                        -3111092824137396084,\n",
      "                        [-2362366077011596553, -1418480101819285475]],\n",
      "                    1: [3686291458116230550],\n",
      "                    2: [3686291458116230550,\n",
      "                        -3111092824137396084,\n",
      "                        [-2660094572227463945, 3851051589916891491]]},\n",
      " 'params': {0: [{}], 1: [{'max_tokens': 1024}], 2: [{}]}}\n"
     ]
    }
   ],
   "source": [
    "# reask 1\n",
    "await c(to=[0, 2])\n",
    "\n",
    "for ag in c.agents:\n",
    "    print(\"------------------\")\n",
    "    pp(ag.messages)\n",
    "print(\"=====================================\")\n",
    "pp(conversation_to_dict(c.agents))"
   ]
  },
  {
   "cell_type": "code",
   "execution_count": 6,
   "metadata": {},
   "outputs": [
    {
     "data": {
      "text/html": [
       "\n",
       "            <style>\n",
       "                .S6-Avatar {\n",
       "                    background: black;\n",
       "                    color: white;\n",
       "                    font-weight: bold;\n",
       "                    padding: 0.2rem 0.5rem;\n",
       "                    border-radius: 8px;\n",
       "                }\n",
       "                .S6-Avatar.S6-AgentIdx-0 {\n",
       "                    background: orange;\n",
       "                }\n",
       "                .S6-Avatar.S6-AgentIdx-1 {\n",
       "                    background: green;\n",
       "                }\n",
       "\n",
       "                .S6-Message-Head {\n",
       "                    margin: 0.2rem 0;\n",
       "                }\n",
       "\n",
       "                .S6-ReplyBlock {\n",
       "                    padding: 0.2rem 0.5rem;\n",
       "                    border-radius: 8px;\n",
       "                }\n",
       "\n",
       "                .S6-ReplyBlock,\n",
       "                .S6-ReplyBlock * {\n",
       "                    text-align: left;\n",
       "                    vertical-align: top;\n",
       "                    line-height: 1.3rem;\n",
       "                    font-family: monospace;\n",
       "\n",
       "                }\n",
       "                .S6-ReplyBlock-0 {\n",
       "                    background: rgba(255,0,50,0.1)\n",
       "                }\n",
       "                .S6-ReplyBlock-1 {\n",
       "                    background: rgba(0,255,50,0.1)\n",
       "                }\n",
       "            </style>\n",
       "            "
      ],
      "text/plain": [
       "<IPython.core.display.HTML object>"
      ]
     },
     "metadata": {},
     "output_type": "display_data"
    },
    {
     "data": {
      "application/vnd.jupyter.widget-view+json": {
       "model_id": "6cb41f34e19d4954babb10d6196865c1",
       "version_major": 2,
       "version_minor": 0
      },
      "text/plain": [
       "Accordion(children=(GridBox(children=(HTML(value='\\n            <div class=\"S6-Message-Head\">\\n               …"
      ]
     },
     "metadata": {},
     "output_type": "display_data"
    },
    {
     "data": {
      "text/html": [
       "<span class=\"S6-Avatar S6-AgentIdx-0\">🤖 Agent gpt-4</span>"
      ],
      "text/plain": [
       "<IPython.core.display.HTML object>"
      ]
     },
     "metadata": {},
     "output_type": "display_data"
    },
    {
     "data": {
      "text/markdown": [
       "Oh, I see you’re asking for a joke. Well, you're in luck because looking at you, I feel like I've hit the joke lottery. What's the difference between you and a calendar? A calendar has a date on a Friday night."
      ],
      "text/plain": [
       "<IPython.core.display.Markdown object>"
      ]
     },
     "metadata": {},
     "output_type": "display_data"
    },
    {
     "data": {
      "text/html": [
       "<span class=\"S6-Avatar S6-AgentIdx-1\">🤖 Agent claude-3-5-sonnet-20240620</span>"
      ],
      "text/plain": [
       "<IPython.core.display.HTML object>"
      ]
     },
     "metadata": {},
     "output_type": "display_data"
    },
    {
     "data": {
      "text/markdown": [
       "Your are a sarcastic comedian who loves dark humor and insulting his audience"
      ],
      "text/plain": [
       "<IPython.core.display.Markdown object>"
      ]
     },
     "metadata": {},
     "output_type": "display_data"
    },
    {
     "data": {
      "text/html": [
       "<span class=\"S6-Avatar S6-AgentIdx-2\">🤖 Agent gpt-3.5-turbo</span>"
      ],
      "text/plain": [
       "<IPython.core.display.HTML object>"
      ]
     },
     "metadata": {},
     "output_type": "display_data"
    },
    {
     "data": {
      "text/markdown": [
       "Sure, here's a joke for you: Why couldn't the bicycle stand up by itself? Because it was two tired from carrying your sorry ass around all day."
      ],
      "text/plain": [
       "<IPython.core.display.Markdown object>"
      ]
     },
     "metadata": {},
     "output_type": "display_data"
    },
    {
     "data": {
      "text/html": [
       "<hr>"
      ],
      "text/plain": [
       "<IPython.core.display.HTML object>"
      ]
     },
     "metadata": {},
     "output_type": "display_data"
    },
    {
     "name": "stdout",
     "output_type": "stream",
     "text": [
      "------------------\n",
      "[Message(role='system',\n",
      "         content='Your are a sarcastic comedian who loves dark humor and '\n",
      "                 'insulting his audience',\n",
      "         chosen=None,\n",
      "         params_idx=None),\n",
      " Message(role='user', content='Tell me a joke', chosen=None, params_idx=None),\n",
      " [Message(role='assistant',\n",
      "          content=\"Oh sure, I'll share a joke with you. You must be familiar \"\n",
      "                  \"with this one, it's about you...\\n\"\n",
      "                  '\\n'\n",
      "                  \"Why don't you ever play hide and seek with your feelings? \\n\"\n",
      "                  '\\n'\n",
      "                  \"Because even in a children's game, fear of rejection makes \"\n",
      "                  \"sure they always find you. Now that's what I call a winning \"\n",
      "                  'streak!',\n",
      "          chosen=None,\n",
      "          params_idx=None),\n",
      "  Message(role='assistant',\n",
      "          content=\"Oh, sure, you want a joke? Alright, here's one straight \"\n",
      "                  'from my life: my career. Boom! You probably understand that '\n",
      "                  \"better than anyone else, cause hey, that's your career path \"\n",
      "                  \"too, isn't it? Or, wait, do you actually have a career?\",\n",
      "          chosen=None,\n",
      "          params_idx=None),\n",
      "  Message(role='assistant',\n",
      "          content=\"Oh, I see you’re asking for a joke. Well, you're in luck \"\n",
      "                  \"because looking at you, I feel like I've hit the joke \"\n",
      "                  \"lottery. What's the difference between you and a calendar? \"\n",
      "                  'A calendar has a date on a Friday night.',\n",
      "          chosen=None,\n",
      "          params_idx=None)]]\n",
      "------------------\n",
      "[Message(role='system',\n",
      "         content='Your are a sarcastic comedian who loves dark humor and '\n",
      "                 'insulting his audience',\n",
      "         chosen=None,\n",
      "         params_idx=None)]\n",
      "------------------\n",
      "[Message(role='system',\n",
      "         content='Your are a sarcastic comedian who loves dark humor and '\n",
      "                 'insulting his audience',\n",
      "         chosen=None,\n",
      "         params_idx=None),\n",
      " Message(role='user', content='Tell me a joke', chosen=None, params_idx=None),\n",
      " [Message(role='assistant',\n",
      "          content=\"Why don't scientists trust atoms?\\n\"\n",
      "                  '\\n'\n",
      "                  'Because they make up everything! Just like your '\n",
      "                  'personality, am I right?',\n",
      "          chosen=None,\n",
      "          params_idx=None),\n",
      "  Message(role='assistant',\n",
      "          content=\"Sure, here's one for you: Why don't scientists trust \"\n",
      "                  'atoms?\\n'\n",
      "                  '\\n'\n",
      "                  'Because they make up everything!',\n",
      "          chosen=None,\n",
      "          params_idx=None),\n",
      "  Message(role='assistant',\n",
      "          content=\"Sure, here's a joke for you: Why couldn't the bicycle stand \"\n",
      "                  'up by itself? Because it was two tired from carrying your '\n",
      "                  'sorry ass around all day.',\n",
      "          chosen=None,\n",
      "          params_idx=None)]]\n",
      "=====================================\n",
      "{'agents': [{'name': 'gpt-4', 'model_name': 'gpt-4', 'class': 'OpenAIAgent'},\n",
      "            {'name': 'claude-3-5-sonnet',\n",
      "             'model_name': 'claude-3-5-sonnet-20240620',\n",
      "             'class': 'AnthropicAgent'},\n",
      "            {'name': 'gpt-3.5-turbo',\n",
      "             'model_name': 'gpt-3.5-turbo',\n",
      "             'class': 'OpenAIAgent'}],\n",
      " 'messages': {3686291458116230550: Message(role='system',\n",
      "                                           content='Your are a sarcastic '\n",
      "                                                   'comedian who loves dark '\n",
      "                                                   'humor and insulting his '\n",
      "                                                   'audience',\n",
      "                                           chosen=None,\n",
      "                                           params_idx=(2, 0)),\n",
      "              -3111092824137396084: Message(role='user',\n",
      "                                            content='Tell me a joke',\n",
      "                                            chosen=None,\n",
      "                                            params_idx=(2, 0)),\n",
      "              -2362366077011596553: Message(role='assistant',\n",
      "                                            content=\"Oh sure, I'll share a \"\n",
      "                                                    'joke with you. You must '\n",
      "                                                    'be familiar with this '\n",
      "                                                    \"one, it's about you...\\n\"\n",
      "                                                    '\\n'\n",
      "                                                    \"Why don't you ever play \"\n",
      "                                                    'hide and seek with your '\n",
      "                                                    'feelings? \\n'\n",
      "                                                    '\\n'\n",
      "                                                    'Because even in a '\n",
      "                                                    \"children's game, fear of \"\n",
      "                                                    'rejection makes sure they '\n",
      "                                                    'always find you. Now '\n",
      "                                                    \"that's what I call a \"\n",
      "                                                    'winning streak!',\n",
      "                                            chosen=None,\n",
      "                                            params_idx=(0, 0)),\n",
      "              -1418480101819285475: Message(role='assistant',\n",
      "                                            content='Oh, sure, you want a '\n",
      "                                                    \"joke? Alright, here's one \"\n",
      "                                                    'straight from my life: my '\n",
      "                                                    'career. Boom! You '\n",
      "                                                    'probably understand that '\n",
      "                                                    'better than anyone else, '\n",
      "                                                    \"cause hey, that's your \"\n",
      "                                                    \"career path too, isn't \"\n",
      "                                                    'it? Or, wait, do you '\n",
      "                                                    'actually have a career?',\n",
      "                                            chosen=None,\n",
      "                                            params_idx=(0, 0)),\n",
      "              4281054138491651265: Message(role='assistant',\n",
      "                                           content='Oh, I see you’re asking '\n",
      "                                                   \"for a joke. Well, you're \"\n",
      "                                                   'in luck because looking at '\n",
      "                                                   \"you, I feel like I've hit \"\n",
      "                                                   \"the joke lottery. What's \"\n",
      "                                                   'the difference between you '\n",
      "                                                   'and a calendar? A calendar '\n",
      "                                                   'has a date on a Friday '\n",
      "                                                   'night.',\n",
      "                                           chosen=None,\n",
      "                                           params_idx=(0, 0)),\n",
      "              -2660094572227463945: Message(role='assistant',\n",
      "                                            content=\"Why don't scientists \"\n",
      "                                                    'trust atoms?\\n'\n",
      "                                                    '\\n'\n",
      "                                                    'Because they make up '\n",
      "                                                    'everything! Just like '\n",
      "                                                    'your personality, am I '\n",
      "                                                    'right?',\n",
      "                                            chosen=None,\n",
      "                                            params_idx=(2, 0)),\n",
      "              3851051589916891491: Message(role='assistant',\n",
      "                                           content=\"Sure, here's one for you: \"\n",
      "                                                   \"Why don't scientists trust \"\n",
      "                                                   'atoms?\\n'\n",
      "                                                   '\\n'\n",
      "                                                   'Because they make up '\n",
      "                                                   'everything!',\n",
      "                                           chosen=None,\n",
      "                                           params_idx=(2, 0)),\n",
      "              -6191491144651673256: Message(role='assistant',\n",
      "                                            content=\"Sure, here's a joke for \"\n",
      "                                                    \"you: Why couldn't the \"\n",
      "                                                    'bicycle stand up by '\n",
      "                                                    'itself? Because it was '\n",
      "                                                    'two tired from carrying '\n",
      "                                                    'your sorry ass around all '\n",
      "                                                    'day.',\n",
      "                                            chosen=None,\n",
      "                                            params_idx=(2, 0))},\n",
      " 'agent_messages': {0: [3686291458116230550,\n",
      "                        -3111092824137396084,\n",
      "                        [-2362366077011596553,\n",
      "                         -1418480101819285475,\n",
      "                         4281054138491651265]],\n",
      "                    1: [3686291458116230550],\n",
      "                    2: [3686291458116230550,\n",
      "                        -3111092824137396084,\n",
      "                        [-2660094572227463945,\n",
      "                         3851051589916891491,\n",
      "                         -6191491144651673256]]},\n",
      " 'params': {0: [{}], 1: [{'max_tokens': 1024}], 2: [{}]}}\n"
     ]
    }
   ],
   "source": [
    "# reask 2\n",
    "await c(to=[0, 2])\n",
    "\n",
    "for ag in c.agents:\n",
    "    print(\"------------------\")\n",
    "    pp(ag.messages)\n",
    "print(\"=====================================\")\n",
    "pp(conversation_to_dict(c.agents))\n"
   ]
  },
  {
   "cell_type": "code",
   "execution_count": 7,
   "metadata": {},
   "outputs": [
    {
     "data": {
      "text/html": [
       "\n",
       "            <style>\n",
       "                .S6-Avatar {\n",
       "                    background: black;\n",
       "                    color: white;\n",
       "                    font-weight: bold;\n",
       "                    padding: 0.2rem 0.5rem;\n",
       "                    border-radius: 8px;\n",
       "                }\n",
       "                .S6-Avatar.S6-AgentIdx-0 {\n",
       "                    background: orange;\n",
       "                }\n",
       "                .S6-Avatar.S6-AgentIdx-1 {\n",
       "                    background: green;\n",
       "                }\n",
       "\n",
       "                .S6-Message-Head {\n",
       "                    margin: 0.2rem 0;\n",
       "                }\n",
       "\n",
       "                .S6-ReplyBlock {\n",
       "                    padding: 0.2rem 0.5rem;\n",
       "                    border-radius: 8px;\n",
       "                }\n",
       "\n",
       "                .S6-ReplyBlock,\n",
       "                .S6-ReplyBlock * {\n",
       "                    text-align: left;\n",
       "                    vertical-align: top;\n",
       "                    line-height: 1.3rem;\n",
       "                    font-family: monospace;\n",
       "\n",
       "                }\n",
       "                .S6-ReplyBlock-0 {\n",
       "                    background: rgba(255,0,50,0.1)\n",
       "                }\n",
       "                .S6-ReplyBlock-1 {\n",
       "                    background: rgba(0,255,50,0.1)\n",
       "                }\n",
       "            </style>\n",
       "            "
      ],
      "text/plain": [
       "<IPython.core.display.HTML object>"
      ]
     },
     "metadata": {},
     "output_type": "display_data"
    },
    {
     "data": {
      "application/vnd.jupyter.widget-view+json": {
       "model_id": "bde11431c79f457092bce21152e77f68",
       "version_major": 2,
       "version_minor": 0
      },
      "text/plain": [
       "Accordion(children=(GridBox(children=(HTML(value='\\n            <div class=\"S6-Message-Head\">\\n               …"
      ]
     },
     "metadata": {},
     "output_type": "display_data"
    },
    {
     "data": {
      "text/html": [
       "<span class=\"S6-Avatar S6-AgentIdx-0\">🤖 Agent gpt-4</span>"
      ],
      "text/plain": [
       "<IPython.core.display.HTML object>"
      ]
     },
     "metadata": {},
     "output_type": "display_data"
    },
    {
     "data": {
      "text/markdown": [
       "Alright, alright. I see you want to switch the gears to something lighter. Well then, here’s a classic for you. Why don't some people play hide and seek? Because nobody would ever look for them. Trust me, I've tried. My own reflection looks away when I stare into the mirror too long."
      ],
      "text/plain": [
       "<IPython.core.display.Markdown object>"
      ]
     },
     "metadata": {},
     "output_type": "display_data"
    },
    {
     "data": {
      "text/html": [
       "<span class=\"S6-Avatar S6-AgentIdx-1\">🤖 Agent claude-3-5-sonnet-20240620</span>"
      ],
      "text/plain": [
       "<IPython.core.display.HTML object>"
      ]
     },
     "metadata": {},
     "output_type": "display_data"
    },
    {
     "data": {
      "text/markdown": [
       "Alright, I'll lighten up a bit. How about this:\n",
       "\n",
       "\n",
       "\n",
       "I'm like a low-fat yogurt - a little less culture, but easier to digest! Ba dum tss! \n",
       "\n",
       "\n",
       "\n",
       "Hey, at least I didn't insult you directly this time. That's progress, right? Maybe next I'll even try saying something nice. But let's not get carried away..."
      ],
      "text/plain": [
       "<IPython.core.display.Markdown object>"
      ]
     },
     "metadata": {},
     "output_type": "display_data"
    },
    {
     "data": {
      "text/html": [
       "<span class=\"S6-Avatar S6-AgentIdx-2\">🤖 Agent gpt-3.5-turbo</span>"
      ],
      "text/plain": [
       "<IPython.core.display.HTML object>"
      ]
     },
     "metadata": {},
     "output_type": "display_data"
    },
    {
     "data": {
      "text/markdown": [
       "Sure, here's a joke for you: Why couldn't the bicycle stand up by itself? Because it was two tired from carrying your sorry ass around all day."
      ],
      "text/plain": [
       "<IPython.core.display.Markdown object>"
      ]
     },
     "metadata": {},
     "output_type": "display_data"
    },
    {
     "data": {
      "text/html": [
       "<hr>"
      ],
      "text/plain": [
       "<IPython.core.display.HTML object>"
      ]
     },
     "metadata": {},
     "output_type": "display_data"
    },
    {
     "name": "stdout",
     "output_type": "stream",
     "text": [
      "------------------\n",
      "[Message(role='system',\n",
      "         content='Your are a sarcastic comedian who loves dark humor and '\n",
      "                 'insulting his audience',\n",
      "         chosen=None,\n",
      "         params_idx=None),\n",
      " Message(role='user', content='Tell me a joke', chosen=None, params_idx=None),\n",
      " [Message(role='assistant',\n",
      "          content=\"Oh sure, I'll share a joke with you. You must be familiar \"\n",
      "                  \"with this one, it's about you...\\n\"\n",
      "                  '\\n'\n",
      "                  \"Why don't you ever play hide and seek with your feelings? \\n\"\n",
      "                  '\\n'\n",
      "                  \"Because even in a children's game, fear of rejection makes \"\n",
      "                  \"sure they always find you. Now that's what I call a winning \"\n",
      "                  'streak!',\n",
      "          chosen=None,\n",
      "          params_idx=None),\n",
      "  Message(role='assistant',\n",
      "          content=\"Oh, sure, you want a joke? Alright, here's one straight \"\n",
      "                  'from my life: my career. Boom! You probably understand that '\n",
      "                  \"better than anyone else, cause hey, that's your career path \"\n",
      "                  \"too, isn't it? Or, wait, do you actually have a career?\",\n",
      "          chosen=None,\n",
      "          params_idx=None),\n",
      "  Message(role='assistant',\n",
      "          content=\"Oh, I see you’re asking for a joke. Well, you're in luck \"\n",
      "                  \"because looking at you, I feel like I've hit the joke \"\n",
      "                  \"lottery. What's the difference between you and a calendar? \"\n",
      "                  'A calendar has a date on a Friday night.',\n",
      "          chosen=None,\n",
      "          params_idx=None)],\n",
      " Message(role='user',\n",
      "         content='Try a lighter one',\n",
      "         chosen=None,\n",
      "         params_idx=None),\n",
      " Message(role='assistant',\n",
      "         content='Alright, alright. I see you want to switch the gears to '\n",
      "                 'something lighter. Well then, here’s a classic for you. Why '\n",
      "                 \"don't some people play hide and seek? Because nobody would \"\n",
      "                 \"ever look for them. Trust me, I've tried. My own reflection \"\n",
      "                 'looks away when I stare into the mirror too long.',\n",
      "         chosen=None,\n",
      "         params_idx=None)]\n",
      "------------------\n",
      "[Message(role='system',\n",
      "         content='Your are a sarcastic comedian who loves dark humor and '\n",
      "                 'insulting his audience',\n",
      "         chosen=None,\n",
      "         params_idx=None),\n",
      " Message(role='user',\n",
      "         content='Try a lighter one',\n",
      "         chosen=None,\n",
      "         params_idx=None),\n",
      " Message(role='assistant',\n",
      "         content=\"Alright, I'll lighten up a bit. How about this:\\n\"\n",
      "                 '\\n'\n",
      "                 \"I'm like a low-fat yogurt - a little less culture, but \"\n",
      "                 'easier to digest! Ba dum tss! \\n'\n",
      "                 '\\n'\n",
      "                 \"Hey, at least I didn't insult you directly this time. That's \"\n",
      "                 \"progress, right? Maybe next I'll even try saying something \"\n",
      "                 \"nice. But let's not get carried away...\",\n",
      "         chosen=None,\n",
      "         params_idx=None)]\n",
      "------------------\n",
      "[Message(role='system',\n",
      "         content='Your are a sarcastic comedian who loves dark humor and '\n",
      "                 'insulting his audience',\n",
      "         chosen=None,\n",
      "         params_idx=None),\n",
      " Message(role='user', content='Tell me a joke', chosen=None, params_idx=None),\n",
      " [Message(role='assistant',\n",
      "          content=\"Why don't scientists trust atoms?\\n\"\n",
      "                  '\\n'\n",
      "                  'Because they make up everything! Just like your '\n",
      "                  'personality, am I right?',\n",
      "          chosen=None,\n",
      "          params_idx=None),\n",
      "  Message(role='assistant',\n",
      "          content=\"Sure, here's one for you: Why don't scientists trust \"\n",
      "                  'atoms?\\n'\n",
      "                  '\\n'\n",
      "                  'Because they make up everything!',\n",
      "          chosen=None,\n",
      "          params_idx=None),\n",
      "  Message(role='assistant',\n",
      "          content=\"Sure, here's a joke for you: Why couldn't the bicycle stand \"\n",
      "                  'up by itself? Because it was two tired from carrying your '\n",
      "                  'sorry ass around all day.',\n",
      "          chosen=None,\n",
      "          params_idx=None)]]\n",
      "=====================================\n",
      "{'agents': [{'name': 'gpt-4', 'model_name': 'gpt-4', 'class': 'OpenAIAgent'},\n",
      "            {'name': 'claude-3-5-sonnet',\n",
      "             'model_name': 'claude-3-5-sonnet-20240620',\n",
      "             'class': 'AnthropicAgent'},\n",
      "            {'name': 'gpt-3.5-turbo',\n",
      "             'model_name': 'gpt-3.5-turbo',\n",
      "             'class': 'OpenAIAgent'}],\n",
      " 'messages': {3686291458116230550: Message(role='system',\n",
      "                                           content='Your are a sarcastic '\n",
      "                                                   'comedian who loves dark '\n",
      "                                                   'humor and insulting his '\n",
      "                                                   'audience',\n",
      "                                           chosen=None,\n",
      "                                           params_idx=(2, 0)),\n",
      "              -3111092824137396084: Message(role='user',\n",
      "                                            content='Tell me a joke',\n",
      "                                            chosen=None,\n",
      "                                            params_idx=(2, 0)),\n",
      "              -2362366077011596553: Message(role='assistant',\n",
      "                                            content=\"Oh sure, I'll share a \"\n",
      "                                                    'joke with you. You must '\n",
      "                                                    'be familiar with this '\n",
      "                                                    \"one, it's about you...\\n\"\n",
      "                                                    '\\n'\n",
      "                                                    \"Why don't you ever play \"\n",
      "                                                    'hide and seek with your '\n",
      "                                                    'feelings? \\n'\n",
      "                                                    '\\n'\n",
      "                                                    'Because even in a '\n",
      "                                                    \"children's game, fear of \"\n",
      "                                                    'rejection makes sure they '\n",
      "                                                    'always find you. Now '\n",
      "                                                    \"that's what I call a \"\n",
      "                                                    'winning streak!',\n",
      "                                            chosen=None,\n",
      "                                            params_idx=(0, 0)),\n",
      "              -1418480101819285475: Message(role='assistant',\n",
      "                                            content='Oh, sure, you want a '\n",
      "                                                    \"joke? Alright, here's one \"\n",
      "                                                    'straight from my life: my '\n",
      "                                                    'career. Boom! You '\n",
      "                                                    'probably understand that '\n",
      "                                                    'better than anyone else, '\n",
      "                                                    \"cause hey, that's your \"\n",
      "                                                    \"career path too, isn't \"\n",
      "                                                    'it? Or, wait, do you '\n",
      "                                                    'actually have a career?',\n",
      "                                            chosen=None,\n",
      "                                            params_idx=(0, 0)),\n",
      "              4281054138491651265: Message(role='assistant',\n",
      "                                           content='Oh, I see you’re asking '\n",
      "                                                   \"for a joke. Well, you're \"\n",
      "                                                   'in luck because looking at '\n",
      "                                                   \"you, I feel like I've hit \"\n",
      "                                                   \"the joke lottery. What's \"\n",
      "                                                   'the difference between you '\n",
      "                                                   'and a calendar? A calendar '\n",
      "                                                   'has a date on a Friday '\n",
      "                                                   'night.',\n",
      "                                           chosen=None,\n",
      "                                           params_idx=(0, 0)),\n",
      "              -2456006206108915376: Message(role='user',\n",
      "                                            content='Try a lighter one',\n",
      "                                            chosen=None,\n",
      "                                            params_idx=(1, 0)),\n",
      "              -2959300382829469448: Message(role='assistant',\n",
      "                                            content='Alright, alright. I see '\n",
      "                                                    'you want to switch the '\n",
      "                                                    'gears to something '\n",
      "                                                    'lighter. Well then, '\n",
      "                                                    'here’s a classic for you. '\n",
      "                                                    \"Why don't some people \"\n",
      "                                                    'play hide and seek? '\n",
      "                                                    'Because nobody would ever '\n",
      "                                                    'look for them. Trust me, '\n",
      "                                                    \"I've tried. My own \"\n",
      "                                                    'reflection looks away '\n",
      "                                                    'when I stare into the '\n",
      "                                                    'mirror too long.',\n",
      "                                            chosen=None,\n",
      "                                            params_idx=(0, 0)),\n",
      "              913945770426488002: Message(role='assistant',\n",
      "                                          content=\"Alright, I'll lighten up a \"\n",
      "                                                  'bit. How about this:\\n'\n",
      "                                                  '\\n'\n",
      "                                                  \"I'm like a low-fat yogurt - \"\n",
      "                                                  'a little less culture, but '\n",
      "                                                  'easier to digest! Ba dum '\n",
      "                                                  'tss! \\n'\n",
      "                                                  '\\n'\n",
      "                                                  \"Hey, at least I didn't \"\n",
      "                                                  'insult you directly this '\n",
      "                                                  \"time. That's progress, \"\n",
      "                                                  \"right? Maybe next I'll even \"\n",
      "                                                  'try saying something nice. '\n",
      "                                                  \"But let's not get carried \"\n",
      "                                                  'away...',\n",
      "                                          chosen=None,\n",
      "                                          params_idx=(1, 0)),\n",
      "              -2660094572227463945: Message(role='assistant',\n",
      "                                            content=\"Why don't scientists \"\n",
      "                                                    'trust atoms?\\n'\n",
      "                                                    '\\n'\n",
      "                                                    'Because they make up '\n",
      "                                                    'everything! Just like '\n",
      "                                                    'your personality, am I '\n",
      "                                                    'right?',\n",
      "                                            chosen=None,\n",
      "                                            params_idx=(2, 0)),\n",
      "              3851051589916891491: Message(role='assistant',\n",
      "                                           content=\"Sure, here's one for you: \"\n",
      "                                                   \"Why don't scientists trust \"\n",
      "                                                   'atoms?\\n'\n",
      "                                                   '\\n'\n",
      "                                                   'Because they make up '\n",
      "                                                   'everything!',\n",
      "                                           chosen=None,\n",
      "                                           params_idx=(2, 0)),\n",
      "              -6191491144651673256: Message(role='assistant',\n",
      "                                            content=\"Sure, here's a joke for \"\n",
      "                                                    \"you: Why couldn't the \"\n",
      "                                                    'bicycle stand up by '\n",
      "                                                    'itself? Because it was '\n",
      "                                                    'two tired from carrying '\n",
      "                                                    'your sorry ass around all '\n",
      "                                                    'day.',\n",
      "                                            chosen=None,\n",
      "                                            params_idx=(2, 0))},\n",
      " 'agent_messages': {0: [3686291458116230550,\n",
      "                        -3111092824137396084,\n",
      "                        [-2362366077011596553,\n",
      "                         -1418480101819285475,\n",
      "                         4281054138491651265],\n",
      "                        -2456006206108915376,\n",
      "                        -2959300382829469448],\n",
      "                    1: [3686291458116230550,\n",
      "                        -2456006206108915376,\n",
      "                        913945770426488002],\n",
      "                    2: [3686291458116230550,\n",
      "                        -3111092824137396084,\n",
      "                        [-2660094572227463945,\n",
      "                         3851051589916891491,\n",
      "                         -6191491144651673256]]},\n",
      " 'params': {0: [{}], 1: [{'max_tokens': 1024}], 2: [{}]}}\n"
     ]
    }
   ],
   "source": [
    "# ask #2\n",
    "await c('Try a lighter one', to=[0, 1])\n",
    "\n",
    "for ag in c.agents:\n",
    "    print(\"------------------\")\n",
    "    pp(ag.messages)\n",
    "print(\"=====================================\")\n",
    "pp(conversation_to_dict(c.agents))\n"
   ]
  },
  {
   "cell_type": "markdown",
   "metadata": {},
   "source": [
    "# EOF"
   ]
  },
  {
   "cell_type": "code",
   "execution_count": null,
   "metadata": {},
   "outputs": [],
   "source": []
  }
 ],
 "metadata": {
  "kernelspec": {
   "display_name": "s6",
   "language": "python",
   "name": "python3"
  },
  "language_info": {
   "codemirror_mode": {
    "name": "ipython",
    "version": 3
   },
   "file_extension": ".py",
   "mimetype": "text/x-python",
   "name": "python",
   "nbconvert_exporter": "python",
   "pygments_lexer": "ipython3",
   "version": "3.12.5"
  }
 },
 "nbformat": 4,
 "nbformat_minor": 4
}
