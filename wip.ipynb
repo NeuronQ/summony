{
 "cells": [
  {
   "cell_type": "markdown",
   "metadata": {},
   "source": [
    "# imports, config etc."
   ]
  },
  {
   "cell_type": "code",
   "execution_count": 2,
   "metadata": {},
   "outputs": [],
   "source": [
    "# !pip install dataclasses-json\n",
    "# !pip freeze | grep -i dataclasses-json= >> requirements.txt\n",
    "# !cat requirements.txt"
   ]
  },
  {
   "cell_type": "code",
   "execution_count": 1,
   "metadata": {},
   "outputs": [
    {
     "data": {
      "text/plain": [
       "True"
      ]
     },
     "execution_count": 1,
     "metadata": {},
     "output_type": "execute_result"
    }
   ],
   "source": [
    "import asyncio\n",
    "import os\n",
    "from pprint import pp\n",
    "from typing import Any, AsyncIterator, Callable, Coroutine, Literal, Self\n",
    "\n",
    "from IPython.display import Markdown, HTML, display\n",
    "import ipywidgets as widgets\n",
    "\n",
    "from dotenv import load_dotenv\n",
    "\n",
    "load_dotenv()"
   ]
  },
  {
   "cell_type": "markdown",
   "metadata": {},
   "source": [
    "# WIP"
   ]
  },
  {
   "cell_type": "code",
   "execution_count": 2,
   "metadata": {},
   "outputs": [
    {
     "name": "stdout",
     "output_type": "stream",
     "text": [
      "Certainly! Here are Maxwell's equations written in Markdown format with LaTeX using dollar-sign delimiters:\n",
      "\n",
      "1. **Gauss's Law for Electricity:**\n",
      "   $$ \\nabla \\cdot \\mathbf{E} = \\frac{\\rho}{\\epsilon_0} $$\n",
      "\n",
      "2. **Gauss's Law for Magnetism:**\n",
      "   $$ \\nabla \\cdot \\mathbf{B} = 0 $$\n",
      "\n",
      "3. **Faraday's Law of Induction:**\n",
      "   $$ \\nabla \\times \\mathbf{E} = -\\frac{\\partial \\mathbf{B}}{\\partial t} $$\n",
      "\n",
      "4. **Ampère's Law (with Maxwell's correction):**\n",
      "   $$ \\nabla \\times \\mathbf{B} = \\mu_0 \\mathbf{J} + \\mu_0 \\epsilon_0 \\frac{\\partial \\mathbf{E}}{\\partial t} $$\n",
      "\n",
      "These are the fundamental equations governing electromagnetism.\n"
     ]
    },
    {
     "data": {
      "text/html": [
       "<hr>"
      ],
      "text/plain": [
       "<IPython.core.display.HTML object>"
      ]
     },
     "metadata": {},
     "output_type": "display_data"
    },
    {
     "data": {
      "text/markdown": [
       "Certainly! Here are Maxwell's equations written in Markdown format with LaTeX using dollar-sign delimiters:\n",
       "\n",
       "\n",
       "\n",
       "1. **Gauss's Law for Electricity:**\n",
       "\n",
       "   $$ \\nabla \\cdot \\mathbf{E} = \\frac{\\rho}{\\epsilon_0} $$\n",
       "\n",
       "\n",
       "\n",
       "2. **Gauss's Law for Magnetism:**\n",
       "\n",
       "   $$ \\nabla \\cdot \\mathbf{B} = 0 $$\n",
       "\n",
       "\n",
       "\n",
       "3. **Faraday's Law of Induction:**\n",
       "\n",
       "   $$ \\nabla \\times \\mathbf{E} = -\\frac{\\partial \\mathbf{B}}{\\partial t} $$\n",
       "\n",
       "\n",
       "\n",
       "4. **Ampère's Law (with Maxwell's correction):**\n",
       "\n",
       "   $$ \\nabla \\times \\mathbf{B} = \\mu_0 \\mathbf{J} + \\mu_0 \\epsilon_0 \\frac{\\partial \\mathbf{E}}{\\partial t} $$\n",
       "\n",
       "\n",
       "\n",
       "These are the fundamental equations governing electromagnetism."
      ],
      "text/plain": [
       "<IPython.core.display.Markdown object>"
      ]
     },
     "metadata": {},
     "output_type": "display_data"
    },
    {
     "name": "stdout",
     "output_type": "stream",
     "text": [
      "([Message(role='user',\n",
      "          content=\"List maxwell's equations. Use markdown, and latex with only \"\n",
      "                  '$ (dollar-sign) delimiters (eg. $x_i$).'),\n",
      "  Message(role='assistant',\n",
      "          content=\"Certainly! Here are Maxwell's equations written in Markdown \"\n",
      "                  'format with LaTeX using dollar-sign delimiters:\\n'\n",
      "                  '\\n'\n",
      "                  \"1. **Gauss's Law for Electricity:**\\n\"\n",
      "                  '   $$ \\\\nabla \\\\cdot \\\\mathbf{E} = '\n",
      "                  '\\\\frac{\\\\rho}{\\\\epsilon_0} $$\\n'\n",
      "                  '\\n'\n",
      "                  \"2. **Gauss's Law for Magnetism:**\\n\"\n",
      "                  '   $$ \\\\nabla \\\\cdot \\\\mathbf{B} = 0 $$\\n'\n",
      "                  '\\n'\n",
      "                  \"3. **Faraday's Law of Induction:**\\n\"\n",
      "                  '   $$ \\\\nabla \\\\times \\\\mathbf{E} = -\\\\frac{\\\\partial '\n",
      "                  '\\\\mathbf{B}}{\\\\partial t} $$\\n'\n",
      "                  '\\n'\n",
      "                  \"4. **Ampère's Law (with Maxwell's correction):**\\n\"\n",
      "                  '   $$ \\\\nabla \\\\times \\\\mathbf{B} = \\\\mu_0 \\\\mathbf{J} + '\n",
      "                  '\\\\mu_0 \\\\epsilon_0 \\\\frac{\\\\partial \\\\mathbf{E}}{\\\\partial '\n",
      "                  't} $$\\n'\n",
      "                  '\\n'\n",
      "                  'These are the fundamental equations governing '\n",
      "                  'electromagnetism.')],\n",
      " defaultdict(<class 'list'>,\n",
      "             {1: [ChatCompletion(id='chatcmpl-AANZzMIs29O6qHYyHA2OiVcix8pZc', choices=[Choice(finish_reason='stop', index=0, logprobs=None, message=ChatCompletionMessage(content=\"Certainly! Here are Maxwell's equations written in Markdown format with LaTeX using dollar-sign delimiters:\\n\\n1. **Gauss's Law for Electricity:**\\n   $$ \\\\nabla \\\\cdot \\\\mathbf{E} = \\\\frac{\\\\rho}{\\\\epsilon_0} $$\\n\\n2. **Gauss's Law for Magnetism:**\\n   $$ \\\\nabla \\\\cdot \\\\mathbf{B} = 0 $$\\n\\n3. **Faraday's Law of Induction:**\\n   $$ \\\\nabla \\\\times \\\\mathbf{E} = -\\\\frac{\\\\partial \\\\mathbf{B}}{\\\\partial t} $$\\n\\n4. **Ampère's Law (with Maxwell's correction):**\\n   $$ \\\\nabla \\\\times \\\\mathbf{B} = \\\\mu_0 \\\\mathbf{J} + \\\\mu_0 \\\\epsilon_0 \\\\frac{\\\\partial \\\\mathbf{E}}{\\\\partial t} $$\\n\\nThese are the fundamental equations governing electromagnetism.\", refusal=None, role='assistant', function_call=None, tool_calls=None))], created=1727037283, model='gpt-4o-2024-05-13', object='chat.completion', service_tier=None, system_fingerprint='fp_a5d11b2ef2', usage=CompletionUsage(completion_tokens=199, prompt_tokens=36, total_tokens=235, completion_tokens_details=CompletionTokensDetails(reasoning_tokens=0)))]}))\n",
      "The significance of each of Maxwell's equations can vary depending on the context, but many physicists and engineers might argue that **Faraday's Law of Induction** stands out as particularly consequential for several reasons:\n",
      "\n",
      "1. **Electromagnetic Induction:**\n",
      "   $$ \\nabla \\times \\mathbf{E} = -\\frac{\\partial \\mathbf{B}}{\\partial t} $$\n",
      "   Faraday's Law describes how a time-varying magnetic field induces an electric field. This principle is the foundation of many technologies we use today, such as electric generators and transformers. The ability to convert mechanical energy into electrical energy (and vice versa) relies on Faraday's Law.\n",
      "\n",
      "2. **Technological Applications:**\n",
      "   - **Electric Generators:** Utilize the principle of electromagnetic induction to produce electrical energy from kinetic energy.\n",
      "   - **Transformers:** Operate on the principle of induction to step up or step down voltage levels in power transmission.\n",
      "   - **Inductive Charging:** Used in wireless charging technologies for electronic devices.\n",
      "\n",
      "3. **Fundamental Insight:**\n",
      "   Faraday's Law provides a profound insight into the interdependence of electric and magnetic fields, which is a cornerstone of classical electromagnetism and a precursor to the concept of electromagnetic waves.\n",
      "\n",
      "4. **Inspiration for Electromagnetic Waves:**\n",
      "   Along with Ampère's Law with Maxwell's correction, Faraday's Law leads to the understanding that changing electric and magnetic fields propagate as waves (electromagnetic waves). This was crucial in the development of the theory of light and radio waves.\n",
      "\n",
      "While each of Maxwell's equations is indispensable in its own right and describes a different aspect of electromagnetism, Faraday's Law of Induction is frequently highlighted due to its wide-ranging practical applications and its importance in the generation and distribution of electrical energy.\n"
     ]
    },
    {
     "data": {
      "text/html": [
       "<hr>"
      ],
      "text/plain": [
       "<IPython.core.display.HTML object>"
      ]
     },
     "metadata": {},
     "output_type": "display_data"
    },
    {
     "data": {
      "text/markdown": [
       "The significance of each of Maxwell's equations can vary depending on the context, but many physicists and engineers might argue that **Faraday's Law of Induction** stands out as particularly consequential for several reasons:\n",
       "\n",
       "\n",
       "\n",
       "1. **Electromagnetic Induction:**\n",
       "\n",
       "   $$ \\nabla \\times \\mathbf{E} = -\\frac{\\partial \\mathbf{B}}{\\partial t} $$\n",
       "\n",
       "   Faraday's Law describes how a time-varying magnetic field induces an electric field. This principle is the foundation of many technologies we use today, such as electric generators and transformers. The ability to convert mechanical energy into electrical energy (and vice versa) relies on Faraday's Law.\n",
       "\n",
       "\n",
       "\n",
       "2. **Technological Applications:**\n",
       "\n",
       "   - **Electric Generators:** Utilize the principle of electromagnetic induction to produce electrical energy from kinetic energy.\n",
       "\n",
       "   - **Transformers:** Operate on the principle of induction to step up or step down voltage levels in power transmission.\n",
       "\n",
       "   - **Inductive Charging:** Used in wireless charging technologies for electronic devices.\n",
       "\n",
       "\n",
       "\n",
       "3. **Fundamental Insight:**\n",
       "\n",
       "   Faraday's Law provides a profound insight into the interdependence of electric and magnetic fields, which is a cornerstone of classical electromagnetism and a precursor to the concept of electromagnetic waves.\n",
       "\n",
       "\n",
       "\n",
       "4. **Inspiration for Electromagnetic Waves:**\n",
       "\n",
       "   Along with Ampère's Law with Maxwell's correction, Faraday's Law leads to the understanding that changing electric and magnetic fields propagate as waves (electromagnetic waves). This was crucial in the development of the theory of light and radio waves.\n",
       "\n",
       "\n",
       "\n",
       "While each of Maxwell's equations is indispensable in its own right and describes a different aspect of electromagnetism, Faraday's Law of Induction is frequently highlighted due to its wide-ranging practical applications and its importance in the generation and distribution of electrical energy."
      ],
      "text/plain": [
       "<IPython.core.display.Markdown object>"
      ]
     },
     "metadata": {},
     "output_type": "display_data"
    },
    {
     "name": "stdout",
     "output_type": "stream",
     "text": [
      "([Message(role='user',\n",
      "          content=\"List maxwell's equations. Use markdown, and latex with only \"\n",
      "                  '$ (dollar-sign) delimiters (eg. $x_i$).'),\n",
      "  Message(role='assistant',\n",
      "          content=\"Certainly! Here are Maxwell's equations written in Markdown \"\n",
      "                  'format with LaTeX using dollar-sign delimiters:\\n'\n",
      "                  '\\n'\n",
      "                  \"1. **Gauss's Law for Electricity:**\\n\"\n",
      "                  '   $$ \\\\nabla \\\\cdot \\\\mathbf{E} = '\n",
      "                  '\\\\frac{\\\\rho}{\\\\epsilon_0} $$\\n'\n",
      "                  '\\n'\n",
      "                  \"2. **Gauss's Law for Magnetism:**\\n\"\n",
      "                  '   $$ \\\\nabla \\\\cdot \\\\mathbf{B} = 0 $$\\n'\n",
      "                  '\\n'\n",
      "                  \"3. **Faraday's Law of Induction:**\\n\"\n",
      "                  '   $$ \\\\nabla \\\\times \\\\mathbf{E} = -\\\\frac{\\\\partial '\n",
      "                  '\\\\mathbf{B}}{\\\\partial t} $$\\n'\n",
      "                  '\\n'\n",
      "                  \"4. **Ampère's Law (with Maxwell's correction):**\\n\"\n",
      "                  '   $$ \\\\nabla \\\\times \\\\mathbf{B} = \\\\mu_0 \\\\mathbf{J} + '\n",
      "                  '\\\\mu_0 \\\\epsilon_0 \\\\frac{\\\\partial \\\\mathbf{E}}{\\\\partial '\n",
      "                  't} $$\\n'\n",
      "                  '\\n'\n",
      "                  'These are the fundamental equations governing '\n",
      "                  'electromagnetism.'),\n",
      "  Message(role='user',\n",
      "          content='Which of them do you thin is the most consequential and '\n",
      "                  'why?'),\n",
      "  Message(role='assistant',\n",
      "          content=\"The significance of each of Maxwell's equations can vary \"\n",
      "                  'depending on the context, but many physicists and engineers '\n",
      "                  \"might argue that **Faraday's Law of Induction** stands out \"\n",
      "                  'as particularly consequential for several reasons:\\n'\n",
      "                  '\\n'\n",
      "                  '1. **Electromagnetic Induction:**\\n'\n",
      "                  '   $$ \\\\nabla \\\\times \\\\mathbf{E} = -\\\\frac{\\\\partial '\n",
      "                  '\\\\mathbf{B}}{\\\\partial t} $$\\n'\n",
      "                  \"   Faraday's Law describes how a time-varying magnetic \"\n",
      "                  'field induces an electric field. This principle is the '\n",
      "                  'foundation of many technologies we use today, such as '\n",
      "                  'electric generators and transformers. The ability to '\n",
      "                  'convert mechanical energy into electrical energy (and vice '\n",
      "                  \"versa) relies on Faraday's Law.\\n\"\n",
      "                  '\\n'\n",
      "                  '2. **Technological Applications:**\\n'\n",
      "                  '   - **Electric Generators:** Utilize the principle of '\n",
      "                  'electromagnetic induction to produce electrical energy from '\n",
      "                  'kinetic energy.\\n'\n",
      "                  '   - **Transformers:** Operate on the principle of '\n",
      "                  'induction to step up or step down voltage levels in power '\n",
      "                  'transmission.\\n'\n",
      "                  '   - **Inductive Charging:** Used in wireless charging '\n",
      "                  'technologies for electronic devices.\\n'\n",
      "                  '\\n'\n",
      "                  '3. **Fundamental Insight:**\\n'\n",
      "                  \"   Faraday's Law provides a profound insight into the \"\n",
      "                  'interdependence of electric and magnetic fields, which is a '\n",
      "                  'cornerstone of classical electromagnetism and a precursor '\n",
      "                  'to the concept of electromagnetic waves.\\n'\n",
      "                  '\\n'\n",
      "                  '4. **Inspiration for Electromagnetic Waves:**\\n'\n",
      "                  \"   Along with Ampère's Law with Maxwell's correction, \"\n",
      "                  \"Faraday's Law leads to the understanding that changing \"\n",
      "                  'electric and magnetic fields propagate as waves '\n",
      "                  '(electromagnetic waves). This was crucial in the '\n",
      "                  'development of the theory of light and radio waves.\\n'\n",
      "                  '\\n'\n",
      "                  \"While each of Maxwell's equations is indispensable in its \"\n",
      "                  'own right and describes a different aspect of '\n",
      "                  \"electromagnetism, Faraday's Law of Induction is frequently \"\n",
      "                  'highlighted due to its wide-ranging practical applications '\n",
      "                  'and its importance in the generation and distribution of '\n",
      "                  'electrical energy.')],\n",
      " defaultdict(<class 'list'>,\n",
      "             {1: [ChatCompletion(id='chatcmpl-AANZzMIs29O6qHYyHA2OiVcix8pZc', choices=[Choice(finish_reason='stop', index=0, logprobs=None, message=ChatCompletionMessage(content=\"Certainly! Here are Maxwell's equations written in Markdown format with LaTeX using dollar-sign delimiters:\\n\\n1. **Gauss's Law for Electricity:**\\n   $$ \\\\nabla \\\\cdot \\\\mathbf{E} = \\\\frac{\\\\rho}{\\\\epsilon_0} $$\\n\\n2. **Gauss's Law for Magnetism:**\\n   $$ \\\\nabla \\\\cdot \\\\mathbf{B} = 0 $$\\n\\n3. **Faraday's Law of Induction:**\\n   $$ \\\\nabla \\\\times \\\\mathbf{E} = -\\\\frac{\\\\partial \\\\mathbf{B}}{\\\\partial t} $$\\n\\n4. **Ampère's Law (with Maxwell's correction):**\\n   $$ \\\\nabla \\\\times \\\\mathbf{B} = \\\\mu_0 \\\\mathbf{J} + \\\\mu_0 \\\\epsilon_0 \\\\frac{\\\\partial \\\\mathbf{E}}{\\\\partial t} $$\\n\\nThese are the fundamental equations governing electromagnetism.\", refusal=None, role='assistant', function_call=None, tool_calls=None))], created=1727037283, model='gpt-4o-2024-05-13', object='chat.completion', service_tier=None, system_fingerprint='fp_a5d11b2ef2', usage=CompletionUsage(completion_tokens=199, prompt_tokens=36, total_tokens=235, completion_tokens_details=CompletionTokensDetails(reasoning_tokens=0)))],\n",
      "              3: [ChatCompletion(id='chatcmpl-AANa1Kwi8ZNulqJwhfJ1qQe0D3KTi', choices=[Choice(finish_reason='stop', index=0, logprobs=None, message=ChatCompletionMessage(content=\"The significance of each of Maxwell's equations can vary depending on the context, but many physicists and engineers might argue that **Faraday's Law of Induction** stands out as particularly consequential for several reasons:\\n\\n1. **Electromagnetic Induction:**\\n   $$ \\\\nabla \\\\times \\\\mathbf{E} = -\\\\frac{\\\\partial \\\\mathbf{B}}{\\\\partial t} $$\\n   Faraday's Law describes how a time-varying magnetic field induces an electric field. This principle is the foundation of many technologies we use today, such as electric generators and transformers. The ability to convert mechanical energy into electrical energy (and vice versa) relies on Faraday's Law.\\n\\n2. **Technological Applications:**\\n   - **Electric Generators:** Utilize the principle of electromagnetic induction to produce electrical energy from kinetic energy.\\n   - **Transformers:** Operate on the principle of induction to step up or step down voltage levels in power transmission.\\n   - **Inductive Charging:** Used in wireless charging technologies for electronic devices.\\n\\n3. **Fundamental Insight:**\\n   Faraday's Law provides a profound insight into the interdependence of electric and magnetic fields, which is a cornerstone of classical electromagnetism and a precursor to the concept of electromagnetic waves.\\n\\n4. **Inspiration for Electromagnetic Waves:**\\n   Along with Ampère's Law with Maxwell's correction, Faraday's Law leads to the understanding that changing electric and magnetic fields propagate as waves (electromagnetic waves). This was crucial in the development of the theory of light and radio waves.\\n\\nWhile each of Maxwell's equations is indispensable in its own right and describes a different aspect of electromagnetism, Faraday's Law of Induction is frequently highlighted due to its wide-ranging practical applications and its importance in the generation and distribution of electrical energy.\", refusal=None, role='assistant', function_call=None, tool_calls=None))], created=1727037285, model='gpt-4o-2024-05-13', object='chat.completion', service_tier=None, system_fingerprint='fp_3537616b13', usage=CompletionUsage(completion_tokens=370, prompt_tokens=256, total_tokens=626, completion_tokens_details=CompletionTokensDetails(reasoning_tokens=0)))]}))\n"
     ]
    }
   ],
   "source": [
    "from summony.agents import OpenAIAgent\n",
    "        \n",
    "\n",
    "ag = OpenAIAgent('gpt-4o')\n",
    "\n",
    "########## SYNC\n",
    "r = ag.ask(\"List maxwell's equations. Use markdown, and latex with only $ (dollar-sign) delimiters (eg. $x_i$).\")\n",
    "print(r)\n",
    "display(HTML('<hr>'))\n",
    "display(Markdown(r.replace('\\n', '\\n\\n')))\n",
    "\n",
    "pp((ag.messages, ag.raw_responses))\n",
    "\n",
    "r = ag.ask(\"Which of them do you thin is the most consequential and why?\")\n",
    "print(r)\n",
    "display(HTML('<hr>'))\n",
    "display(Markdown(r.replace('\\n', '\\n\\n')))\n",
    "\n",
    "pp((ag.messages, ag.raw_responses))\n",
    "\n",
    "# ########## ASYNC STREAM\n",
    "# r = ag.ask_async_stream(\"List maxwell's equations. Use markdown, and latex with only $ (dollar-sign) delimiters (eg. $x_i$). Please NEVER use `\\\\[` delimiters for math!\")\n",
    "# async for c in r:\n",
    "#     print(c, end='')\n",
    "# display(HTML('<hr>'))\n",
    "# display(Markdown(ag.messages[-1].content.replace('\\n', '\\n\\n')))\n",
    "\n",
    "# pp((ag.messages, ag.raw_responses.keys()))\n",
    "\n",
    "# r = ag.ask_async_stream(\"Which of them do you thin is the most consequential and why?\")\n",
    "# async for c in r:\n",
    "#     print(c, end='')\n",
    "# display(HTML('<hr>'))\n",
    "# display(Markdown(ag.messages[-1].content.replace('\\n', '\\n\\n')))\n",
    "\n",
    "# pp((ag.messages, ag.raw_responses.keys()))"
   ]
  },
  {
   "cell_type": "code",
   "execution_count": 1,
   "metadata": {},
   "outputs": [],
   "source": []
  },
  {
   "cell_type": "code",
   "execution_count": 3,
   "metadata": {},
   "outputs": [],
   "source": [
    "from summony.agents import get_default_agent_for_model\n",
    "        \n",
    "ag = get_default_agent_for_model('claude-3-5-sonnet')\n",
    "\n",
    "# ########## SYNC\n",
    "# r = ag.ask(\"List maxwell's equations. Use markdown, and latex with only $ (dollar-sign) delimiters (eg. $x_i$).\")\n",
    "# print(r)\n",
    "# display(HTML('<hr>'))\n",
    "# display(Markdown(r.replace('\\n', '\\n\\n')))\n",
    "\n",
    "# pp((ag.messages, ag.raw_responses))\n",
    "\n",
    "# r = ag.ask(\"Which of them do you thin is the most consequential and why?\")\n",
    "# print(r)\n",
    "# display(HTML('<hr>'))\n",
    "# display(Markdown(r.replace('\\n', '\\n\\n')))\n",
    "\n",
    "# pp((ag.messages, ag.raw_responses))\n",
    "\n",
    "# ########## ASYNC STREAM\n",
    "# r = ag.ask_async_stream(\"List maxwell's equations. Use markdown, and latex with only $ (dollar-sign) delimiters (eg. $x_i$). Please NEVER use `\\\\[` delimiters for math!\")\n",
    "# async for c in r:\n",
    "#     print(c, end='')\n",
    "# display(HTML('<hr>'))\n",
    "# display(Markdown(ag.messages[-1].content.replace('\\n', '\\n\\n')))\n",
    "\n",
    "# pp((ag.messages, ag.raw_responses.keys()))\n",
    "\n",
    "# r = ag.ask_async_stream(\"Which of them do you thin is the most consequential and why?\")\n",
    "# async for c in r:\n",
    "#     print(c, end='')\n",
    "# display(HTML('<hr>'))\n",
    "# display(Markdown(ag.messages[-1].content.replace('\\n', '\\n\\n')))\n",
    "\n",
    "# pp((ag.messages, ag.raw_responses.keys()))"
   ]
  },
  {
   "cell_type": "code",
   "execution_count": 4,
   "metadata": {},
   "outputs": [
    {
     "data": {
      "text/html": [
       "\n",
       "            <style>\n",
       "                .S6-Avatar {\n",
       "                    background: black;\n",
       "                    color: white;\n",
       "                    font-weight: bold;\n",
       "                    padding: 0.2rem 0.5rem;\n",
       "                    border-radius: 8px;\n",
       "                }\n",
       "                .S6-Avatar.S6-AgentIdx-0 {\n",
       "                    background: orange;\n",
       "                }\n",
       "                .S6-Avatar.S6-AgentIdx-1 {\n",
       "                    background: green;\n",
       "                }\n",
       "\n",
       "                .S6-Message-Head {\n",
       "                    margin-bottom: 0.5rem;\n",
       "                }\n",
       "\n",
       "                .S6-ReplyBlock td {\n",
       "                    text-align: left;\n",
       "                    vertical-align: top;\n",
       "                    line-height: 1.3rem;\n",
       "                    font-family: monospace;\n",
       "                }\n",
       "                .S6-ReplyBlock td:nth-child(1) {\n",
       "                    background: rgba(255,0,50,0.1)\n",
       "                }\n",
       "                .S6-ReplyBlock td:nth-child(2) {\n",
       "                    background: rgba(0,255,50,0.1)\n",
       "                }\n",
       "            </style>\n",
       "            "
      ],
      "text/plain": [
       "<IPython.core.display.HTML object>"
      ]
     },
     "metadata": {},
     "output_type": "display_data"
    },
    {
     "data": {
      "application/vnd.jupyter.widget-view+json": {
       "model_id": "b43b23109e4b49b88c48bec165265896",
       "version_major": 2,
       "version_minor": 0
      },
      "text/plain": [
       "Accordion(children=(HTML(value=''),), selected_index=0, titles=('raw replies',))"
      ]
     },
     "metadata": {},
     "output_type": "display_data"
    },
    {
     "data": {
      "text/html": [
       "<span class=\"S6-Avatar S6-AgentIdx-0\">🤖 Agent gpt-4</span>"
      ],
      "text/plain": [
       "<IPython.core.display.HTML object>"
      ]
     },
     "metadata": {},
     "output_type": "display_data"
    },
    {
     "data": {
      "text/markdown": [
       "1. Gauss's Law of Electricity: \n",
       "\n",
       "\n",
       "\n",
       "$$\\nabla \\cdot \\vec{E} = \\frac{\\rho}{\\varepsilon_0}$$\n",
       "\n",
       "\n",
       "\n",
       "2. Gauss's Law of Magnetism:\n",
       "\n",
       "\n",
       "\n",
       "$$\\nabla \\cdot \\vec{B} = 0$$\n",
       "\n",
       "\n",
       "\n",
       "3. Faraday's Law of Induction:\n",
       "\n",
       "\n",
       "\n",
       "$$\\nabla \\times \\vec{E} = -\\frac{\\partial \\vec{B}}{\\partial t}$$\n",
       "\n",
       "\n",
       "\n",
       "4. Ampère's Circuital Law (with Maxwell's addition):\n",
       "\n",
       "\n",
       "\n",
       "$$\\nabla \\times \\vec{B} = \\mu_0 \\vec{J} + \\mu_0 \\varepsilon_0 \\frac{\\partial \\vec{E}}{\\partial t}$$\n",
       "\n",
       "\n",
       "\n",
       "- $\\vec{E}$ is the electric field vector\n",
       "\n",
       "- $\\vec{B}$ is the magnetic field vector\n",
       "\n",
       "- $\\vec{J}$ is the current density vector\n",
       "\n",
       "- $\\rho$ is the electric charge density\n",
       "\n",
       "- $\\mu_0$ is the permeability in vacuum\n",
       "\n",
       "- $\\varepsilon_0$ is the permittivity in vacuum\n",
       "\n",
       "- $\\nabla \\cdot$ and $\\nabla \\times$ are divergence and curl operators respectively\n",
       "\n",
       "- Time $t$"
      ],
      "text/plain": [
       "<IPython.core.display.Markdown object>"
      ]
     },
     "metadata": {},
     "output_type": "display_data"
    },
    {
     "data": {
      "text/html": [
       "<span class=\"S6-Avatar S6-AgentIdx-1\">🤖 Agent claude-3-opus-20240229</span>"
      ],
      "text/plain": [
       "<IPython.core.display.HTML object>"
      ]
     },
     "metadata": {},
     "output_type": "display_data"
    },
    {
     "data": {
      "text/markdown": [
       "Here are Maxwell's equations using markdown and LaTeX with $ delimiters:\n",
       "\n",
       "\n",
       "\n",
       "1. Gauss's law for electric fields:\n",
       "\n",
       "   \n",
       "\n",
       "   $\\nabla \\cdot \\mathbf{E} = \\frac{\\rho}{\\varepsilon_0}$\n",
       "\n",
       "\n",
       "\n",
       "2. Gauss's law for magnetic fields:\n",
       "\n",
       "   \n",
       "\n",
       "   $\\nabla \\cdot \\mathbf{B} = 0$\n",
       "\n",
       "\n",
       "\n",
       "3. Faraday's law of induction:\n",
       "\n",
       "   \n",
       "\n",
       "   $\\nabla \\times \\mathbf{E} = -\\frac{\\partial \\mathbf{B}}{\\partial t}$\n",
       "\n",
       "\n",
       "\n",
       "4. Ampère's circuital law (with Maxwell's correction):\n",
       "\n",
       "   \n",
       "\n",
       "   $\\nabla \\times \\mathbf{B} = \\mu_0 \\left(\\mathbf{J} + \\varepsilon_0 \\frac{\\partial \\mathbf{E}}{\\partial t}\\right)$\n",
       "\n",
       "\n",
       "\n",
       "Where:\n",
       "\n",
       "- $\\mathbf{E}$ is the electric field vector\n",
       "\n",
       "- $\\mathbf{B}$ is the magnetic field vector\n",
       "\n",
       "- $\\rho$ is the electric charge density\n",
       "\n",
       "- $\\mathbf{J}$ is the electric current density\n",
       "\n",
       "- $\\varepsilon_0$ is the permittivity of free space\n",
       "\n",
       "- $\\mu_0$ is the permeability of free space\n",
       "\n",
       "- $\\nabla \\cdot$ is the divergence operator\n",
       "\n",
       "- $\\nabla \\times$ is the curl operator\n",
       "\n",
       "- $\\frac{\\partial}{\\partial t}$ is the partial derivative with respect to time"
      ],
      "text/plain": [
       "<IPython.core.display.Markdown object>"
      ]
     },
     "metadata": {},
     "output_type": "display_data"
    },
    {
     "data": {
      "text/html": [
       "<hr>"
      ],
      "text/plain": [
       "<IPython.core.display.HTML object>"
      ]
     },
     "metadata": {},
     "output_type": "display_data"
    }
   ],
   "source": [
    "from summony.uis.nbui import NBUI\n",
    "\n",
    "c = NBUI(models=[\"gpt-4\", \"claude-3-opus-20240229\"])\n",
    "# c = NBUI(models=[\"gpt-4\"])\n",
    "await c(\"List maxwell's equations. Use markdown and latex with $ delimiters.\")"
   ]
  },
  {
   "cell_type": "code",
   "execution_count": null,
   "metadata": {},
   "outputs": [],
   "source": []
  },
  {
   "cell_type": "code",
   "execution_count": null,
   "metadata": {},
   "outputs": [],
   "source": []
  },
  {
   "cell_type": "code",
   "execution_count": null,
   "metadata": {},
   "outputs": [],
   "source": []
  },
  {
   "cell_type": "code",
   "execution_count": null,
   "metadata": {},
   "outputs": [],
   "source": []
  },
  {
   "cell_type": "code",
   "execution_count": null,
   "metadata": {},
   "outputs": [],
   "source": []
  },
  {
   "cell_type": "markdown",
   "metadata": {},
   "source": [
    "# EOF"
   ]
  },
  {
   "cell_type": "code",
   "execution_count": null,
   "metadata": {},
   "outputs": [],
   "source": []
  }
 ],
 "metadata": {
  "kernelspec": {
   "display_name": "Python 3 (ipykernel)",
   "language": "python",
   "name": "python3"
  },
  "language_info": {
   "codemirror_mode": {
    "name": "ipython",
    "version": 3
   },
   "file_extension": ".py",
   "mimetype": "text/x-python",
   "name": "python",
   "nbconvert_exporter": "python",
   "pygments_lexer": "ipython3",
   "version": "3.12.5"
  }
 },
 "nbformat": 4,
 "nbformat_minor": 4
}
